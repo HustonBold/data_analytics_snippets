{
 "cells": [
  {
   "cell_type": "markdown",
   "metadata": {},
   "source": [
    "### Description:\n",
    "\n",
    "This is a solution to a take-home assignment.\n",
    "\n",
    "A copany has an app where you can choose between free and premium subscription. \n",
    "They decided to increase prices for premium subscription and ran an A/B test: for some users in different countries the price for a subscription was increased. Note, that price for a demo period (for premium subscription) didn't change.\n",
    "Question: Should the company increase price for the premium subscription\n",
    "\n",
    "Data description:\n",
    "Premium subscription fee is incured monthly until user cancels it\n",
    "\n",
    "There are 3 groups: test, control_1, control_2. For each of them:\n",
    "\n",
    "files user_*.csv - user info:\n",
    "\n",
    "uid – user id\n",
    "age – user age\n",
    "attraction_coeff – attraction coefficient (from 0 to 1000, \\frac{likes}{views}*1000 \n",
    "views\n",
    "likes\n",
    "coins – quantity of coins (in-app currency)\n",
    "country  \n",
    "visit_days – visits in days after registration (ex. in 1-st day after registration, then in 7th day after registration)\n",
    "gender\n",
    "age_filter_start  – user age search filter min (what is the minimum age he/she is searching for)\n",
    "age_filter_end  – user age search filter max\n",
    "views_count – how many views user received\n",
    "was_premium – did user ever use premium (demo or purchased)\n",
    "is_premium –  is user premium now\n",
    "total_revenue – revenue\n",
    " \n",
    "transactions_*.csv – user transaction info:\n",
    "uid – user id\n",
    "country\n",
    "joined_at – registration date\n",
    "paid_at – purchase date\n",
    "revenue\n",
    "payment_id \n",
    "from_page – from what page user came to payment page\n",
    "product_type – product type (trial_premium, premium_no_trial, coins – premium for in-app currency, other_type – other)"
   ]
  },
  {
   "cell_type": "code",
   "execution_count": null,
   "metadata": {},
   "outputs": [],
   "source": []
  },
  {
   "cell_type": "markdown",
   "metadata": {},
   "source": [
    "## Executive summary (final answer)\n",
    "\n",
    "Final answer: Results are inconclusive - additional information needed.\n",
    "\n",
    "Generally, we see that:\n",
    "- price increase has no statistically significant effect on ARPU or conversion (share of paid subscriptions)\n",
    "- at the same time, we see a statistically significant increase in ARPPU\n",
    "\n",
    "That means that after price increase users neither switch to a free subscription, nor buy more premium.\n",
    "But people who are using it now - agree to pay more for it: which increases ARPPU\n",
    "\n",
    "\n",
    "But when we try to identify groups, for whom that result was statistically significant in terms of ARPU - we found several issues:\n",
    "- There is statistically significant decrease in ARPU for groups of 25 and 27 year olds (when comparing test and control 1)\n",
    "- At the same time there is a significant difference between control groups - that indicates that whether our splitting system doesn't work or there was another business activity going on, that affected the outcome\n",
    "\n",
    "\n",
    "\n",
    "\n"
   ]
  },
  {
   "cell_type": "code",
   "execution_count": null,
   "metadata": {},
   "outputs": [],
   "source": []
  },
  {
   "cell_type": "markdown",
   "metadata": {},
   "source": [
    "### Detailed answer: with code "
   ]
  },
  {
   "cell_type": "code",
   "execution_count": 103,
   "metadata": {},
   "outputs": [],
   "source": [
    "# importing libraries\n",
    "import pandas as pd\n",
    "import numpy as np\n",
    "from scipy.stats import mannwhitneyu, kruskal, levene, ttest_ind, norm, f_oneway, shapiro\n",
    "import seaborn as sns\n",
    "import matplotlib.pyplot as plt\n"
   ]
  },
  {
   "cell_type": "markdown",
   "metadata": {},
   "source": [
    "### Uploading the data"
   ]
  },
  {
   "cell_type": "code",
   "execution_count": 2,
   "metadata": {},
   "outputs": [],
   "source": [
    "# User info\n",
    "users_control_1 = pd.read_csv('users_control_1.csv',sep=';')\n",
    "users_control_2 = pd.read_csv('users_control_2.csv',sep=';')\n",
    "users_test =      pd.read_csv('users_test.csv',sep=';')\n",
    "\n",
    "# Transactions info\n",
    "transactions_control_1 = pd.read_csv('transactions_control_1.csv',sep=';')\n",
    "transactions_control_2 = pd.read_csv('transactions_control_2.csv',sep=';')\n",
    "transactions_test =      pd.read_csv('transactions_test.csv',sep=';')\n",
    "\n",
    "\n",
    "transactions_control_1.paid_at = pd.to_datetime(transactions_control_1.paid_at)\n",
    "transactions_control_1.joined_at = pd.to_datetime(transactions_control_1.joined_at)\n",
    "\n",
    "transactions_control_2.paid_at = pd.to_datetime(transactions_control_2.paid_at)\n",
    "transactions_control_2.joined_at = pd.to_datetime(transactions_control_2.joined_at)\n",
    "\n",
    "transactions_test.paid_at = pd.to_datetime(transactions_test.paid_at)\n",
    "transactions_test.joined_at = pd.to_datetime(transactions_test.joined_at)\n",
    "\n",
    "\n"
   ]
  },
  {
   "cell_type": "markdown",
   "metadata": {},
   "source": [
    "### Exploring datasets"
   ]
  },
  {
   "cell_type": "code",
   "execution_count": 3,
   "metadata": {},
   "outputs": [
    {
     "data": {
      "text/html": [
       "<div>\n",
       "<style scoped>\n",
       "    .dataframe tbody tr th:only-of-type {\n",
       "        vertical-align: middle;\n",
       "    }\n",
       "\n",
       "    .dataframe tbody tr th {\n",
       "        vertical-align: top;\n",
       "    }\n",
       "\n",
       "    .dataframe thead th {\n",
       "        text-align: right;\n",
       "    }\n",
       "</style>\n",
       "<table border=\"1\" class=\"dataframe\">\n",
       "  <thead>\n",
       "    <tr style=\"text-align: right;\">\n",
       "      <th></th>\n",
       "      <th>uid</th>\n",
       "      <th>age</th>\n",
       "      <th>attraction_coeff</th>\n",
       "      <th>coins</th>\n",
       "      <th>country</th>\n",
       "      <th>visit_days</th>\n",
       "      <th>gender</th>\n",
       "      <th>age_filter_start</th>\n",
       "      <th>age_filter_end</th>\n",
       "      <th>views_count</th>\n",
       "      <th>was_premium</th>\n",
       "      <th>is_premium</th>\n",
       "      <th>total_revenue</th>\n",
       "    </tr>\n",
       "  </thead>\n",
       "  <tbody>\n",
       "    <tr>\n",
       "      <th>0</th>\n",
       "      <td>892035504</td>\n",
       "      <td>37</td>\n",
       "      <td>137</td>\n",
       "      <td>NaN</td>\n",
       "      <td>Israel</td>\n",
       "      <td>1,2,3,4,5,6,7,8,9,11,13</td>\n",
       "      <td>1</td>\n",
       "      <td>30</td>\n",
       "      <td>40</td>\n",
       "      <td>51</td>\n",
       "      <td>NaN</td>\n",
       "      <td>NaN</td>\n",
       "      <td>0</td>\n",
       "    </tr>\n",
       "    <tr>\n",
       "      <th>1</th>\n",
       "      <td>891782112</td>\n",
       "      <td>57</td>\n",
       "      <td>0</td>\n",
       "      <td>NaN</td>\n",
       "      <td>Italy</td>\n",
       "      <td>1</td>\n",
       "      <td>1</td>\n",
       "      <td>54</td>\n",
       "      <td>60</td>\n",
       "      <td>0</td>\n",
       "      <td>NaN</td>\n",
       "      <td>NaN</td>\n",
       "      <td>0</td>\n",
       "    </tr>\n",
       "    <tr>\n",
       "      <th>2</th>\n",
       "      <td>891110337</td>\n",
       "      <td>30</td>\n",
       "      <td>769</td>\n",
       "      <td>NaN</td>\n",
       "      <td>France</td>\n",
       "      <td>1,2,3,4,5</td>\n",
       "      <td>1</td>\n",
       "      <td>27</td>\n",
       "      <td>33</td>\n",
       "      <td>13</td>\n",
       "      <td>NaN</td>\n",
       "      <td>NaN</td>\n",
       "      <td>0</td>\n",
       "    </tr>\n",
       "    <tr>\n",
       "      <th>3</th>\n",
       "      <td>891796320</td>\n",
       "      <td>48</td>\n",
       "      <td>750</td>\n",
       "      <td>NaN</td>\n",
       "      <td>France</td>\n",
       "      <td>1,4,6,8,10,11,12,14,15,16,18</td>\n",
       "      <td>1</td>\n",
       "      <td>45</td>\n",
       "      <td>51</td>\n",
       "      <td>12</td>\n",
       "      <td>NaN</td>\n",
       "      <td>NaN</td>\n",
       "      <td>0</td>\n",
       "    </tr>\n",
       "    <tr>\n",
       "      <th>4</th>\n",
       "      <td>891880212</td>\n",
       "      <td>54</td>\n",
       "      <td>638</td>\n",
       "      <td>NaN</td>\n",
       "      <td>United States of America</td>\n",
       "      <td>1</td>\n",
       "      <td>1</td>\n",
       "      <td>35</td>\n",
       "      <td>53</td>\n",
       "      <td>94</td>\n",
       "      <td>NaN</td>\n",
       "      <td>NaN</td>\n",
       "      <td>0</td>\n",
       "    </tr>\n",
       "  </tbody>\n",
       "</table>\n",
       "</div>"
      ],
      "text/plain": [
       "         uid  age  attraction_coeff  coins                   country  \\\n",
       "0  892035504   37               137    NaN                    Israel   \n",
       "1  891782112   57                 0    NaN                     Italy   \n",
       "2  891110337   30               769    NaN                    France   \n",
       "3  891796320   48               750    NaN                    France   \n",
       "4  891880212   54               638    NaN  United States of America   \n",
       "\n",
       "                     visit_days  gender  age_filter_start  age_filter_end  \\\n",
       "0       1,2,3,4,5,6,7,8,9,11,13       1                30              40   \n",
       "1                             1       1                54              60   \n",
       "2                     1,2,3,4,5       1                27              33   \n",
       "3  1,4,6,8,10,11,12,14,15,16,18       1                45              51   \n",
       "4                             1       1                35              53   \n",
       "\n",
       "   views_count  was_premium  is_premium  total_revenue  \n",
       "0           51          NaN         NaN              0  \n",
       "1            0          NaN         NaN              0  \n",
       "2           13          NaN         NaN              0  \n",
       "3           12          NaN         NaN              0  \n",
       "4           94          NaN         NaN              0  "
      ]
     },
     "execution_count": 3,
     "metadata": {},
     "output_type": "execute_result"
    }
   ],
   "source": [
    "# head overview\n",
    "users_control_2.head() # users_test  transactions_control_1  transactions_test "
   ]
  },
  {
   "cell_type": "code",
   "execution_count": 4,
   "metadata": {},
   "outputs": [
    {
     "name": "stdout",
     "output_type": "stream",
     "text": [
      "<class 'pandas.core.frame.DataFrame'>\n",
      "RangeIndex: 1007 entries, 0 to 1006\n",
      "Data columns (total 8 columns):\n",
      " #   Column        Non-Null Count  Dtype         \n",
      "---  ------        --------------  -----         \n",
      " 0   uid           377 non-null    float64       \n",
      " 1   country       377 non-null    object        \n",
      " 2   joined_at     377 non-null    datetime64[ns]\n",
      " 3   paid_at       377 non-null    datetime64[ns]\n",
      " 4   revenue       377 non-null    float64       \n",
      " 5   payment_id    377 non-null    float64       \n",
      " 6   from_page     377 non-null    object        \n",
      " 7   product_type  377 non-null    object        \n",
      "dtypes: datetime64[ns](2), float64(3), object(3)\n",
      "memory usage: 63.1+ KB\n"
     ]
    }
   ],
   "source": [
    "transactions_control_1.info() # users_test  transactions_control_1  transactions_test "
   ]
  },
  {
   "cell_type": "code",
   "execution_count": null,
   "metadata": {},
   "outputs": [],
   "source": []
  },
  {
   "cell_type": "markdown",
   "metadata": {},
   "source": [
    "### Formulating business task in terms of statistical experiment\n",
    "Question: Should the company increase price for the premium subscription\n",
    "\n",
    "The expected outcome of this: overall increase in revenue. If some users will pay more and many others churn - the revenue per paying user will increase, but overall revenue will fall. So we should track the perfomance of the experiment in terms of ARPU (average revenue per ALL users)."
   ]
  },
  {
   "cell_type": "code",
   "execution_count": 5,
   "metadata": {},
   "outputs": [
    {
     "name": "stdout",
     "output_type": "stream",
     "text": [
      "ARPU in groups\n",
      "Test group     : 534.0803156917364\n",
      "Control_1 group: 594.7619815668203\n",
      "Control_2 group: 450.3841463414634\n"
     ]
    }
   ],
   "source": [
    "# first, lets see the ARPUs for different groups\n",
    "# arpu of a test group\n",
    "\n",
    "print('ARPU in groups')\n",
    "print('Test group     : ' + str(users_test.total_revenue.mean() ) )\n",
    "print('Control_1 group: ' + str(users_control_1.total_revenue.mean() ) )\n",
    "print('Control_2 group: ' + str(users_control_2.total_revenue.mean() ) )\n"
   ]
  },
  {
   "cell_type": "code",
   "execution_count": 6,
   "metadata": {},
   "outputs": [
    {
     "name": "stdout",
     "output_type": "stream",
     "text": [
      "User count in groups\n",
      "Test group     : 4308\n",
      "Control_1 group: 4340\n",
      "Control_2 group: 4264\n",
      "\n",
      "\n",
      "Users who PAYed for a premium\n",
      "Test group     : 146\n",
      "Control_1 group: 192\n",
      "Control_2 group: 187\n"
     ]
    }
   ],
   "source": [
    "print('User count in groups')\n",
    "print('Test group     : ' + str(users_test.uid.nunique() ) )\n",
    "print('Control_1 group: ' + str(users_control_1.uid.nunique() ) )\n",
    "print('Control_2 group: ' + str(users_control_2.uid.nunique() ) )\n",
    "\n",
    "print('')\n",
    "print('')\n",
    "\n",
    "print('Users who PAYed for a premium')\n",
    "print('Test group     : ' + str(users_test[(users_test.total_revenue > 0)].uid.nunique() ) )\n",
    "print('Control_1 group: ' + str(users_control_1[(users_control_1.total_revenue > 0)].uid.nunique() ) )\n",
    "print('Control_2 group: ' + str(users_control_2[(users_control_2.total_revenue > 0)].uid.nunique() ) )\n"
   ]
  },
  {
   "cell_type": "markdown",
   "metadata": {},
   "source": [
    "we see that:\n",
    "- control_1 has higher ARPU than test\n",
    "- at the same time control_2's ARPU is less that tests'\n",
    "- control_1 shows higher ARPU than test\n",
    "\n",
    "Let's also look at the distributions of datasets"
   ]
  },
  {
   "cell_type": "code",
   "execution_count": 7,
   "metadata": {},
   "outputs": [
    {
     "data": {
      "text/plain": [
       "<AxesSubplot:xlabel='total_revenue', ylabel='Count'>"
      ]
     },
     "execution_count": 7,
     "metadata": {},
     "output_type": "execute_result"
    },
    {
     "data": {
      "image/png": "[encoded data removed]",
      "text/plain": [
       "<Figure size 864x216 with 1 Axes>"
      ]
     },
     "metadata": {},
     "output_type": "display_data"
    }
   ],
   "source": [
    "# test data\n",
    "sns.set(rc={'figure.figsize':(12, 3)})\n",
    "sns.histplot(users_test.total_revenue)    # users_control_1"
   ]
  },
  {
   "cell_type": "markdown",
   "metadata": {},
   "source": [
    "Both distributions have lots of users that use free subscription or pay nothing.\n",
    "For such distributions we can't use t-test and mannwhitney tests\n",
    "I am going to use bootstrap to find distributions of ARPU for eacch of the groups\n",
    "then I will find confidence intervals for the differences in distributions "
   ]
  },
  {
   "cell_type": "code",
   "execution_count": 205,
   "metadata": {},
   "outputs": [],
   "source": [
    "# def function that would generate many samples, take averages, find differences, and calculate CI with visualisation\n",
    "def get_bootstrap(\n",
    "    data_column_1, # first group\n",
    "    data_column_2, # second group\n",
    "    boot_it = 1000, # count of bootstrap samples\n",
    "    statistic = np.mean,\n",
    "    bootstrap_conf_level = 0.95\n",
    "):\n",
    "    boot_data = []\n",
    "    sample_len = max(len(data_column_1), len(data_column_2))\n",
    "\n",
    "    for i in range(boot_it): # sampling\n",
    "        samples_1 = data_column_1.sample(sample_len, replace = True).values\n",
    "        samples_2 = data_column_2.sample(sample_len, replace = True).values\n",
    "        boot_data.append(statistic(samples_1-samples_2)) # finding differences\n",
    "        \n",
    "    pd_boot_data = pd.DataFrame(boot_data)\n",
    "\n",
    "    left_quant = (1 - bootstrap_conf_level)/2\n",
    "    right_quant = 1 - (1 - bootstrap_conf_level) / 2\n",
    "    ci = pd_boot_data.quantile([left_quant, right_quant]) # finding conf intervals for differences\n",
    "        \n",
    "        # norning - transforming data into normal distribution\n",
    "    p_1 = norm.cdf(x = 0, loc = np.mean(boot_data), scale = np.std(boot_data))\n",
    "    p_2 = norm.cdf(x = 0, loc = -np.mean(boot_data), scale = np.std(boot_data))\n",
    "    \n",
    "    plt.hist(pd_boot_data, bins=50)\n",
    "    \n",
    "    plt.style.use('seaborn-deep')\n",
    "    plt.vlines(ci, ymin=0, ymax=50, linestyle='--')\n",
    "    plt.xlabel('boot_data')\n",
    "    plt.ylabel('frequency')\n",
    "    plt.title('Histogram of boot data')\n",
    "    plt.show()\n",
    "    return {'p_value' : min(p_1, p_2) * 2, 'boot_data':boot_data, 'ci':ci}\n",
    "\n",
    "# reference: thanks to expfy for providing the base of this script (in one of their webinars)"
   ]
  },
  {
   "cell_type": "code",
   "execution_count": 9,
   "metadata": {},
   "outputs": [
    {
     "data": {
      "image/png": "[encoded data removed]",
      "text/plain": [
       "<Figure size 864x216 with 1 Axes>"
      ]
     },
     "metadata": {},
     "output_type": "display_data"
    }
   ],
   "source": [
    "# Test group VS control 1\n",
    "test_vs_c1 = get_bootstrap(users_test.total_revenue, users_control_1.total_revenue)"
   ]
  },
  {
   "cell_type": "code",
   "execution_count": 10,
   "metadata": {},
   "outputs": [
    {
     "data": {
      "text/plain": [
       "0.6705978306232971"
      ]
     },
     "execution_count": 10,
     "metadata": {},
     "output_type": "execute_result"
    }
   ],
   "source": [
    "test_vs_c1['p_value']"
   ]
  },
  {
   "cell_type": "code",
   "execution_count": 11,
   "metadata": {},
   "outputs": [
    {
     "ename": "SyntaxError",
     "evalue": "invalid syntax (<ipython-input-11-2558c4c27a6c>, line 1)",
     "output_type": "error",
     "traceback": [
      "\u001b[0;36m  File \u001b[0;32m\"<ipython-input-11-2558c4c27a6c>\"\u001b[0;36m, line \u001b[0;32m1\u001b[0m\n\u001b[0;31m    no significant differences between groups observed (no uplift)\u001b[0m\n\u001b[0m       ^\u001b[0m\n\u001b[0;31mSyntaxError\u001b[0m\u001b[0;31m:\u001b[0m invalid syntax\n"
     ]
    }
   ],
   "source": [
    "no significant differences between groups observed (no uplift)"
   ]
  },
  {
   "cell_type": "code",
   "execution_count": null,
   "metadata": {},
   "outputs": [],
   "source": []
  },
  {
   "cell_type": "code",
   "execution_count": 12,
   "metadata": {},
   "outputs": [
    {
     "data": {
      "image/png": "[encoded data removed]",
      "text/plain": [
       "<Figure size 864x216 with 1 Axes>"
      ]
     },
     "metadata": {},
     "output_type": "display_data"
    }
   ],
   "source": [
    "# Test group VS control 2\n",
    "test_vs_c2 = get_bootstrap(users_test.total_revenue, users_control_2.total_revenue)"
   ]
  },
  {
   "cell_type": "code",
   "execution_count": 13,
   "metadata": {},
   "outputs": [
    {
     "data": {
      "text/plain": [
       "0.29698822327050656"
      ]
     },
     "execution_count": 13,
     "metadata": {},
     "output_type": "execute_result"
    }
   ],
   "source": [
    "test_vs_c2['p_value']"
   ]
  },
  {
   "cell_type": "code",
   "execution_count": 14,
   "metadata": {},
   "outputs": [
    {
     "ename": "SyntaxError",
     "evalue": "invalid syntax (<ipython-input-14-2558c4c27a6c>, line 1)",
     "output_type": "error",
     "traceback": [
      "\u001b[0;36m  File \u001b[0;32m\"<ipython-input-14-2558c4c27a6c>\"\u001b[0;36m, line \u001b[0;32m1\u001b[0m\n\u001b[0;31m    no significant differences between groups observed (no uplift)\u001b[0m\n\u001b[0m       ^\u001b[0m\n\u001b[0;31mSyntaxError\u001b[0m\u001b[0;31m:\u001b[0m invalid syntax\n"
     ]
    }
   ],
   "source": [
    "no significant differences between groups observed (no uplift)"
   ]
  },
  {
   "cell_type": "code",
   "execution_count": null,
   "metadata": {},
   "outputs": [],
   "source": []
  },
  {
   "cell_type": "code",
   "execution_count": 15,
   "metadata": {},
   "outputs": [
    {
     "data": {
      "image/png": "[encoded data removed]",
      "text/plain": [
       "<Figure size 864x216 with 1 Axes>"
      ]
     },
     "metadata": {},
     "output_type": "display_data"
    }
   ],
   "source": [
    "# control 1 VS control 2 --- AA test (if there is a difference - then control groups are spoiled and experiment is compromised)\n",
    "c1_vs_c2 = get_bootstrap(users_control_1.total_revenue, users_control_2.total_revenue)"
   ]
  },
  {
   "cell_type": "markdown",
   "metadata": {},
   "source": [
    "On all variations we see that confidence intervals incude 0 - therefore there is no evidence to support the hypothesis\n",
    "that there is any effect/difference between groups.\n",
    "Interesting thing is: we increase prices - and there is no statistically significant effect on that :)\n",
    "\n",
    "\n",
    "It might be due to the large amount of users that use free subscription. They are the majority in both groups.\n",
    "And t-test find it difficult to recognize the changes.\n",
    "\n",
    "Or, the price increase might have affected one specific group (exm. particular country); but since\n",
    "the that group is only a fraction of total dataset - we don't see any change.\n",
    "\n",
    "So, we need to: \n",
    "\n",
    "1 ) Look whether there was any effect on users that paid. We need to check whether:\n",
    "    a ) the conversion into paid subscription has changed\n",
    "    b ) the ARPPU has changed\n",
    "\n",
    "2 ) If there is - and it is positive - we need to find a group which was affected by it (there should by effect on ARPU)\n",
    "If there is a negative effect on ARPPU - then the price increase decreases our revenue and we should rollback\n",
    "Next, we might want to evaluate whether there was a decrease in share of users that buy subscription"
   ]
  },
  {
   "cell_type": "markdown",
   "metadata": {},
   "source": [
    "#### Testing for paying users"
   ]
  },
  {
   "cell_type": "markdown",
   "metadata": {},
   "source": [
    "##### Conversion"
   ]
  },
  {
   "cell_type": "code",
   "execution_count": 16,
   "metadata": {},
   "outputs": [],
   "source": [
    "# how many users in each group\n",
    "test_paid = users_test[(users_test.total_revenue > 0)].uid.nunique()\n",
    "c1_paid = users_control_1[(users_control_1.total_revenue > 0)].uid.nunique()\n",
    "c2_paid = users_control_2[(users_control_2.total_revenue > 0)].uid.nunique()\n"
   ]
  },
  {
   "cell_type": "code",
   "execution_count": 17,
   "metadata": {},
   "outputs": [],
   "source": [
    "# slightly changing the function:\n",
    "# sample from only users who paid\n",
    "def get_bootstrap_2(\n",
    "    data_1, # first group\n",
    "    data_2, # second group\n",
    "    boot_it = 1000, # count of bootstrap samples\n",
    "    statistic = np.mean,\n",
    "    bootstrap_conf_level = 0.95\n",
    "):\n",
    "    boot_data = []\n",
    "    sample_len = 1000\n",
    "    \n",
    "    for i in range(2000):\n",
    "        # paying users \n",
    "        a = data_1.sample(1000, replace=True)\n",
    "        samples_1 = a[(a.total_revenue > 0)].uid.nunique() / a.uid.nunique()\n",
    "        \n",
    "        b = data_2.sample(1000, replace=True)\n",
    "        samples_2 = b[(b.total_revenue > 0)].uid.nunique() / b.uid.nunique()\n",
    "\n",
    "        boot_data.append(statistic(samples_1-samples_2))\n",
    "        \n",
    "    pd_boot_data = pd.DataFrame(boot_data)\n",
    "\n",
    "    left_quant = (1 - bootstrap_conf_level)/2\n",
    "    right_quant = 1 - (1 - bootstrap_conf_level) / 2\n",
    "    ci = pd_boot_data.quantile([left_quant, right_quant])\n",
    "        \n",
    "    p_1 = norm.cdf(x = 0, loc = np.mean(boot_data), scale = np.std(boot_data))\n",
    "    p_2 = norm.cdf(x = 0, loc = -np.mean(boot_data), scale = np.std(boot_data))\n",
    "    \n",
    "    plt.hist(pd_boot_data, bins=50)\n",
    "    \n",
    "    plt.style.use('seaborn-deep')\n",
    "    plt.vlines(ci, ymin=0, ymax=50, linestyle='--')\n",
    "    plt.xlabel('boot_data')\n",
    "    plt.ylabel('frequency')\n",
    "    plt.title('Histogram of boot data')\n",
    "    plt.show()\n",
    "    return {'p_value' : min(p_1, p_2) * 2, 'boot_data':boot_data, 'ci':ci}"
   ]
  },
  {
   "cell_type": "code",
   "execution_count": 18,
   "metadata": {},
   "outputs": [
    {
     "data": {
      "image/png": "[encoded data removed]",
      "text/plain": [
       "<Figure size 864x216 with 1 Axes>"
      ]
     },
     "metadata": {},
     "output_type": "display_data"
    }
   ],
   "source": [
    "test_vs_c1 = get_bootstrap_2(users_test, users_control_1)"
   ]
  },
  {
   "cell_type": "code",
   "execution_count": 19,
   "metadata": {},
   "outputs": [
    {
     "data": {
      "image/png": "[encoded data removed]",
      "text/plain": [
       "<Figure size 864x216 with 1 Axes>"
      ]
     },
     "metadata": {},
     "output_type": "display_data"
    }
   ],
   "source": [
    "test_vs_c2 = get_bootstrap_2(users_test, users_control_2)"
   ]
  },
  {
   "cell_type": "markdown",
   "metadata": {},
   "source": [
    "Increase in prices didn't affect the ARPU and the conversion (in total).\n",
    "There might be differences in different countries though\n",
    "\n",
    "But, anyway, we should now check the differences in ARPPU - "
   ]
  },
  {
   "cell_type": "markdown",
   "metadata": {},
   "source": [
    "##### ARPPU"
   ]
  },
  {
   "cell_type": "code",
   "execution_count": 20,
   "metadata": {},
   "outputs": [],
   "source": [
    "test_paid_rev = users_test[(users_test.total_revenue > 0)].total_revenue\n",
    "c1_paid_rev = users_control_1[(users_control_1.total_revenue > 0)].total_revenue\n",
    "c2_paid_rev = users_control_2[(users_control_2.total_revenue > 0)].total_revenue\n"
   ]
  },
  {
   "cell_type": "code",
   "execution_count": 21,
   "metadata": {},
   "outputs": [
    {
     "data": {
      "text/plain": [
       "<AxesSubplot:xlabel='total_revenue', ylabel='Count'>"
      ]
     },
     "execution_count": 21,
     "metadata": {},
     "output_type": "execute_result"
    },
    {
     "data": {
      "image/png": "[encoded data removed]",
      "text/plain": [
       "<Figure size 864x216 with 1 Axes>"
      ]
     },
     "metadata": {},
     "output_type": "display_data"
    }
   ],
   "source": [
    "# explore distributions\n",
    "sns.set(rc={'figure.figsize':(12,3)})\n",
    "sns.histplot(np.log(test_paid_rev))    # c1_paid_rev  c2_paid_rev"
   ]
  },
  {
   "cell_type": "markdown",
   "metadata": {},
   "source": [
    "At least they resemble normal distribution (with log, at least). So we can use t_test, and mannwhitneyu"
   ]
  },
  {
   "cell_type": "code",
   "execution_count": 22,
   "metadata": {},
   "outputs": [
    {
     "name": "stdout",
     "output_type": "stream",
     "text": [
      "Test VS C1 - t_test        : 0.007529984156821657\n",
      "Test VS C1 - mannwhitneyu  : 0.00012113807988903144\n",
      "\n",
      "Test VS C2 - t_test        : 0.0005719331300349473\n",
      "Test VS C2 - mannwhitneyu  : 6.334145523115543e-06\n",
      "\n",
      "C1 VS C2 - t_test          : 0.5189184186270371\n",
      "C1 VS C2 - mannwhitneyu    : 0.16699073389953722\n"
     ]
    }
   ],
   "source": [
    "# t-tests\n",
    "print('Test VS C1 - t_test        : ' + str(ttest_ind(np.log(test_paid_rev), np.log(c1_paid_rev), equal_var=False ).pvalue ) )\n",
    "print('Test VS C1 - mannwhitneyu  : ' + str(mannwhitneyu(np.log(test_paid_rev), np.log(c1_paid_rev) ).pvalue ) )\n",
    "print('')\n",
    "print('Test VS C2 - t_test        : ' + str(ttest_ind(np.log(test_paid_rev), np.log(c2_paid_rev), equal_var=False ).pvalue ) )\n",
    "print('Test VS C2 - mannwhitneyu  : ' + str(mannwhitneyu(np.log(test_paid_rev), np.log(c2_paid_rev) ).pvalue ) )\n",
    "print('')\n",
    "print('C1 VS C2 - t_test          : ' + str(ttest_ind(np.log(c1_paid_rev), np.log(c2_paid_rev), equal_var=False ).pvalue ) )\n",
    "print('C1 VS C2 - mannwhitneyu    : ' + str(mannwhitneyu(np.log(c1_paid_rev), np.log(c2_paid_rev) ).pvalue ) )\n"
   ]
  },
  {
   "cell_type": "code",
   "execution_count": 23,
   "metadata": {},
   "outputs": [
    {
     "data": {
      "image/png": "[encoded data removed]",
      "text/plain": [
       "<Figure size 864x288 with 1 Axes>"
      ]
     },
     "metadata": {},
     "output_type": "display_data"
    }
   ],
   "source": [
    "sns.set(rc={'figure.figsize':(12,4)})\n",
    "\n",
    "sns.histplot(np.log(test_paid_rev), color='r')\n",
    "sns.histplot(np.log(c1_paid_rev),  )\n",
    "\n",
    "plt.show()"
   ]
  },
  {
   "cell_type": "code",
   "execution_count": null,
   "metadata": {},
   "outputs": [],
   "source": []
  },
  {
   "cell_type": "markdown",
   "metadata": {},
   "source": [
    "Test distribution (red) is slightly further to the right than the blue (almost the same)\n",
    "But, given the t_test and mw tests - there is significant effect. Now let's see the ARPPU values."
   ]
  },
  {
   "cell_type": "code",
   "execution_count": 24,
   "metadata": {},
   "outputs": [
    {
     "name": "stdout",
     "output_type": "stream",
     "text": [
      "ARPPU for each group:\n",
      "Test     : 15759.027397260274\n",
      "Control_1: 13444.098958333334\n",
      "Control_2: 10269.72192513369\n"
     ]
    }
   ],
   "source": [
    "print('ARPPU for each group:')\n",
    "print('Test     : ' + str(test_paid_rev.mean() ))\n",
    "print('Control_1: ' + str(c1_paid_rev.mean() ))\n",
    "print('Control_2: ' + str(c2_paid_rev.mean() ))"
   ]
  },
  {
   "cell_type": "markdown",
   "metadata": {},
   "source": [
    "Test group has higher ARPPU"
   ]
  },
  {
   "cell_type": "markdown",
   "metadata": {},
   "source": [
    "So there is an effect. We need to find a group that causes it.\n",
    "We can group customers by: Country, gender, age"
   ]
  },
  {
   "cell_type": "code",
   "execution_count": 25,
   "metadata": {},
   "outputs": [
    {
     "data": {
      "text/html": [
       "<div>\n",
       "<style scoped>\n",
       "    .dataframe tbody tr th:only-of-type {\n",
       "        vertical-align: middle;\n",
       "    }\n",
       "\n",
       "    .dataframe tbody tr th {\n",
       "        vertical-align: top;\n",
       "    }\n",
       "\n",
       "    .dataframe thead th {\n",
       "        text-align: right;\n",
       "    }\n",
       "</style>\n",
       "<table border=\"1\" class=\"dataframe\">\n",
       "  <thead>\n",
       "    <tr style=\"text-align: right;\">\n",
       "      <th></th>\n",
       "      <th>uid</th>\n",
       "      <th>age</th>\n",
       "      <th>attraction_coeff</th>\n",
       "      <th>coins</th>\n",
       "      <th>country</th>\n",
       "      <th>visit_days</th>\n",
       "      <th>gender</th>\n",
       "      <th>age_filter_start</th>\n",
       "      <th>age_filter_end</th>\n",
       "      <th>views_count</th>\n",
       "      <th>was_premium</th>\n",
       "      <th>is_premium</th>\n",
       "      <th>total_revenue</th>\n",
       "    </tr>\n",
       "  </thead>\n",
       "  <tbody>\n",
       "    <tr>\n",
       "      <th>0</th>\n",
       "      <td>892309896</td>\n",
       "      <td>27</td>\n",
       "      <td>685</td>\n",
       "      <td>NaN</td>\n",
       "      <td>United States of America</td>\n",
       "      <td>1,2,3,4,5,6,7,8,9,10,11,12,16,17</td>\n",
       "      <td>1</td>\n",
       "      <td>24</td>\n",
       "      <td>30</td>\n",
       "      <td>89</td>\n",
       "      <td>NaN</td>\n",
       "      <td>NaN</td>\n",
       "      <td>0</td>\n",
       "    </tr>\n",
       "    <tr>\n",
       "      <th>1</th>\n",
       "      <td>892044516</td>\n",
       "      <td>27</td>\n",
       "      <td>0</td>\n",
       "      <td>NaN</td>\n",
       "      <td>Germany</td>\n",
       "      <td>NaN</td>\n",
       "      <td>1</td>\n",
       "      <td>24</td>\n",
       "      <td>30</td>\n",
       "      <td>0</td>\n",
       "      <td>NaN</td>\n",
       "      <td>NaN</td>\n",
       "      <td>0</td>\n",
       "    </tr>\n",
       "    <tr>\n",
       "      <th>2</th>\n",
       "      <td>892185708</td>\n",
       "      <td>45</td>\n",
       "      <td>44</td>\n",
       "      <td>NaN</td>\n",
       "      <td>Israel</td>\n",
       "      <td>1,3,4,6,7,8,10,11,12,13,14,15,16,17,18,19,20,2...</td>\n",
       "      <td>1</td>\n",
       "      <td>42</td>\n",
       "      <td>48</td>\n",
       "      <td>68</td>\n",
       "      <td>NaN</td>\n",
       "      <td>NaN</td>\n",
       "      <td>0</td>\n",
       "    </tr>\n",
       "    <tr>\n",
       "      <th>3</th>\n",
       "      <td>892130292</td>\n",
       "      <td>32</td>\n",
       "      <td>0</td>\n",
       "      <td>NaN</td>\n",
       "      <td>United States of America</td>\n",
       "      <td>1,2,3,4,5,6,7,8,9,10,11,12</td>\n",
       "      <td>1</td>\n",
       "      <td>29</td>\n",
       "      <td>35</td>\n",
       "      <td>0</td>\n",
       "      <td>NaN</td>\n",
       "      <td>NaN</td>\n",
       "      <td>0</td>\n",
       "    </tr>\n",
       "    <tr>\n",
       "      <th>4</th>\n",
       "      <td>891406035</td>\n",
       "      <td>27</td>\n",
       "      <td>1000</td>\n",
       "      <td>NaN</td>\n",
       "      <td>France</td>\n",
       "      <td>NaN</td>\n",
       "      <td>1</td>\n",
       "      <td>24</td>\n",
       "      <td>30</td>\n",
       "      <td>1</td>\n",
       "      <td>1.0</td>\n",
       "      <td>NaN</td>\n",
       "      <td>0</td>\n",
       "    </tr>\n",
       "  </tbody>\n",
       "</table>\n",
       "</div>"
      ],
      "text/plain": [
       "         uid  age  attraction_coeff  coins                   country  \\\n",
       "0  892309896   27               685    NaN  United States of America   \n",
       "1  892044516   27                 0    NaN                   Germany   \n",
       "2  892185708   45                44    NaN                    Israel   \n",
       "3  892130292   32                 0    NaN  United States of America   \n",
       "4  891406035   27              1000    NaN                    France   \n",
       "\n",
       "                                          visit_days  gender  \\\n",
       "0                   1,2,3,4,5,6,7,8,9,10,11,12,16,17       1   \n",
       "1                                                NaN       1   \n",
       "2  1,3,4,6,7,8,10,11,12,13,14,15,16,17,18,19,20,2...       1   \n",
       "3                         1,2,3,4,5,6,7,8,9,10,11,12       1   \n",
       "4                                                NaN       1   \n",
       "\n",
       "   age_filter_start  age_filter_end  views_count  was_premium  is_premium  \\\n",
       "0                24              30           89          NaN         NaN   \n",
       "1                24              30            0          NaN         NaN   \n",
       "2                42              48           68          NaN         NaN   \n",
       "3                29              35            0          NaN         NaN   \n",
       "4                24              30            1          1.0         NaN   \n",
       "\n",
       "   total_revenue  \n",
       "0              0  \n",
       "1              0  \n",
       "2              0  \n",
       "3              0  \n",
       "4              0  "
      ]
     },
     "execution_count": 25,
     "metadata": {},
     "output_type": "execute_result"
    }
   ],
   "source": [
    "users_test.head()"
   ]
  },
  {
   "cell_type": "code",
   "execution_count": null,
   "metadata": {},
   "outputs": [],
   "source": []
  },
  {
   "cell_type": "markdown",
   "metadata": {},
   "source": [
    "##### Checking effect by country"
   ]
  },
  {
   "cell_type": "code",
   "execution_count": 26,
   "metadata": {},
   "outputs": [
    {
     "data": {
      "text/plain": [
       "array(['United States of America', 'Germany', 'Israel', 'France', 'Spain',\n",
       "       'Australia', 'Italy', 'Argentina', 'Belgium', 'Azerbaijan',\n",
       "       'Chile', 'Portugal', 'United Kingdom (Great Britain)',\n",
       "       'United Arab Emirates', 'Morocco', 'Guatemala', 'Canada',\n",
       "       'Ukraine', 'Nepal', 'Switzerland', 'Indonesia', 'Tunisia',\n",
       "       'Tajikistan', 'Uzbekistan', 'Monaco', 'Mexico', 'Latvia',\n",
       "       'Bolivia', 'Turkey', 'Russian Federation',\n",
       "       'Islamic Republic of Iran', 'Brazil', 'India', 'Puerto Rico',\n",
       "       'Korea, Republic of', 'Hungary', 'Uruguay', 'Singapore', 'Romania',\n",
       "       'Peru', 'Kyrgyzstan', 'Iraq', 'Egypt', 'Algeria', 'Gambia',\n",
       "       'Pakistan', 'Philippines', 'Colombia', 'Georgia',\n",
       "       'Dominican Republic', 'Costa Rica'], dtype=object)"
      ]
     },
     "execution_count": 26,
     "metadata": {},
     "output_type": "execute_result"
    }
   ],
   "source": [
    "# we have lots of countries\n",
    "users_test.country.unique()"
   ]
  },
  {
   "cell_type": "code",
   "execution_count": 28,
   "metadata": {},
   "outputs": [
    {
     "data": {
      "text/html": [
       "<div>\n",
       "<style scoped>\n",
       "    .dataframe tbody tr th:only-of-type {\n",
       "        vertical-align: middle;\n",
       "    }\n",
       "\n",
       "    .dataframe tbody tr th {\n",
       "        vertical-align: top;\n",
       "    }\n",
       "\n",
       "    .dataframe thead th {\n",
       "        text-align: right;\n",
       "    }\n",
       "</style>\n",
       "<table border=\"1\" class=\"dataframe\">\n",
       "  <thead>\n",
       "    <tr style=\"text-align: right;\">\n",
       "      <th></th>\n",
       "      <th>country</th>\n",
       "      <th>total_revenue</th>\n",
       "      <th>share</th>\n",
       "    </tr>\n",
       "  </thead>\n",
       "  <tbody>\n",
       "    <tr>\n",
       "      <th>16</th>\n",
       "      <td>United States of America</td>\n",
       "      <td>721838</td>\n",
       "      <td>31.373103</td>\n",
       "    </tr>\n",
       "    <tr>\n",
       "      <th>11</th>\n",
       "      <td>Spain</td>\n",
       "      <td>285428</td>\n",
       "      <td>12.405501</td>\n",
       "    </tr>\n",
       "    <tr>\n",
       "      <th>5</th>\n",
       "      <td>France</td>\n",
       "      <td>253617</td>\n",
       "      <td>11.022906</td>\n",
       "    </tr>\n",
       "    <tr>\n",
       "      <th>14</th>\n",
       "      <td>United Arab Emirates</td>\n",
       "      <td>213785</td>\n",
       "      <td>9.291695</td>\n",
       "    </tr>\n",
       "    <tr>\n",
       "      <th>0</th>\n",
       "      <td>Argentina</td>\n",
       "      <td>188019</td>\n",
       "      <td>8.171833</td>\n",
       "    </tr>\n",
       "    <tr>\n",
       "      <th>8</th>\n",
       "      <td>Italy</td>\n",
       "      <td>113425</td>\n",
       "      <td>4.929768</td>\n",
       "    </tr>\n",
       "    <tr>\n",
       "      <th>6</th>\n",
       "      <td>Germany</td>\n",
       "      <td>96096</td>\n",
       "      <td>4.176602</td>\n",
       "    </tr>\n",
       "    <tr>\n",
       "      <th>7</th>\n",
       "      <td>Israel</td>\n",
       "      <td>94809</td>\n",
       "      <td>4.120665</td>\n",
       "    </tr>\n",
       "    <tr>\n",
       "      <th>15</th>\n",
       "      <td>United Kingdom (Great Britain)</td>\n",
       "      <td>77376</td>\n",
       "      <td>3.362978</td>\n",
       "    </tr>\n",
       "    <tr>\n",
       "      <th>4</th>\n",
       "      <td>Chile</td>\n",
       "      <td>69940</td>\n",
       "      <td>3.039788</td>\n",
       "    </tr>\n",
       "    <tr>\n",
       "      <th>3</th>\n",
       "      <td>Canada</td>\n",
       "      <td>63466</td>\n",
       "      <td>2.758410</td>\n",
       "    </tr>\n",
       "    <tr>\n",
       "      <th>2</th>\n",
       "      <td>Belgium</td>\n",
       "      <td>62686</td>\n",
       "      <td>2.724509</td>\n",
       "    </tr>\n",
       "    <tr>\n",
       "      <th>12</th>\n",
       "      <td>Switzerland</td>\n",
       "      <td>22256</td>\n",
       "      <td>0.967308</td>\n",
       "    </tr>\n",
       "    <tr>\n",
       "      <th>1</th>\n",
       "      <td>Australia</td>\n",
       "      <td>12597</td>\n",
       "      <td>0.547501</td>\n",
       "    </tr>\n",
       "    <tr>\n",
       "      <th>9</th>\n",
       "      <td>Latvia</td>\n",
       "      <td>10101</td>\n",
       "      <td>0.439018</td>\n",
       "    </tr>\n",
       "    <tr>\n",
       "      <th>13</th>\n",
       "      <td>Turkey</td>\n",
       "      <td>9165</td>\n",
       "      <td>0.398337</td>\n",
       "    </tr>\n",
       "    <tr>\n",
       "      <th>10</th>\n",
       "      <td>Mexico</td>\n",
       "      <td>6214</td>\n",
       "      <td>0.270078</td>\n",
       "    </tr>\n",
       "  </tbody>\n",
       "</table>\n",
       "</div>"
      ],
      "text/plain": [
       "                           country  total_revenue      share\n",
       "16        United States of America         721838  31.373103\n",
       "11                           Spain         285428  12.405501\n",
       "5                           France         253617  11.022906\n",
       "14            United Arab Emirates         213785   9.291695\n",
       "0                        Argentina         188019   8.171833\n",
       "8                            Italy         113425   4.929768\n",
       "6                          Germany          96096   4.176602\n",
       "7                           Israel          94809   4.120665\n",
       "15  United Kingdom (Great Britain)          77376   3.362978\n",
       "4                            Chile          69940   3.039788\n",
       "3                           Canada          63466   2.758410\n",
       "2                          Belgium          62686   2.724509\n",
       "12                     Switzerland          22256   0.967308\n",
       "1                        Australia          12597   0.547501\n",
       "9                           Latvia          10101   0.439018\n",
       "13                          Turkey           9165   0.398337\n",
       "10                          Mexico           6214   0.270078"
      ]
     },
     "execution_count": 28,
     "metadata": {},
     "output_type": "execute_result"
    }
   ],
   "source": [
    "# Lets find top countries that bring us revenue\n",
    "a = users_test.total_revenue.sum()\n",
    "\n",
    "b = users_test[users_test['total_revenue'] > 0]\\\n",
    "                .groupby('country', as_index=False)\\\n",
    "                .agg({'total_revenue':'sum'})\\\n",
    "                .sort_values(by='total_revenue', ascending=False)\n",
    "\n",
    "b['share'] = b.total_revenue/a *100\n",
    "b"
   ]
  },
  {
   "cell_type": "code",
   "execution_count": 33,
   "metadata": {},
   "outputs": [
    {
     "data": {
      "text/html": [
       "<div>\n",
       "<style scoped>\n",
       "    .dataframe tbody tr th:only-of-type {\n",
       "        vertical-align: middle;\n",
       "    }\n",
       "\n",
       "    .dataframe tbody tr th {\n",
       "        vertical-align: top;\n",
       "    }\n",
       "\n",
       "    .dataframe thead th {\n",
       "        text-align: right;\n",
       "    }\n",
       "</style>\n",
       "<table border=\"1\" class=\"dataframe\">\n",
       "  <thead>\n",
       "    <tr style=\"text-align: right;\">\n",
       "      <th></th>\n",
       "      <th>country</th>\n",
       "      <th>total_revenue</th>\n",
       "      <th>share</th>\n",
       "    </tr>\n",
       "  </thead>\n",
       "  <tbody>\n",
       "    <tr>\n",
       "      <th>18</th>\n",
       "      <td>United States of America</td>\n",
       "      <td>584207</td>\n",
       "      <td>30.420508</td>\n",
       "    </tr>\n",
       "    <tr>\n",
       "      <th>12</th>\n",
       "      <td>Spain</td>\n",
       "      <td>193778</td>\n",
       "      <td>10.090302</td>\n",
       "    </tr>\n",
       "    <tr>\n",
       "      <th>6</th>\n",
       "      <td>France</td>\n",
       "      <td>149071</td>\n",
       "      <td>7.762344</td>\n",
       "    </tr>\n",
       "    <tr>\n",
       "      <th>0</th>\n",
       "      <td>Argentina</td>\n",
       "      <td>121017</td>\n",
       "      <td>6.301531</td>\n",
       "    </tr>\n",
       "    <tr>\n",
       "      <th>9</th>\n",
       "      <td>Italy</td>\n",
       "      <td>118989</td>\n",
       "      <td>6.195930</td>\n",
       "    </tr>\n",
       "    <tr>\n",
       "      <th>16</th>\n",
       "      <td>United Arab Emirates</td>\n",
       "      <td>117143</td>\n",
       "      <td>6.099806</td>\n",
       "    </tr>\n",
       "    <tr>\n",
       "      <th>3</th>\n",
       "      <td>Belgium</td>\n",
       "      <td>110214</td>\n",
       "      <td>5.739003</td>\n",
       "    </tr>\n",
       "    <tr>\n",
       "      <th>5</th>\n",
       "      <td>Chile</td>\n",
       "      <td>108615</td>\n",
       "      <td>5.655741</td>\n",
       "    </tr>\n",
       "    <tr>\n",
       "      <th>17</th>\n",
       "      <td>United Kingdom (Great Britain)</td>\n",
       "      <td>96473</td>\n",
       "      <td>5.023489</td>\n",
       "    </tr>\n",
       "    <tr>\n",
       "      <th>7</th>\n",
       "      <td>Germany</td>\n",
       "      <td>71409</td>\n",
       "      <td>3.718370</td>\n",
       "    </tr>\n",
       "    <tr>\n",
       "      <th>8</th>\n",
       "      <td>Israel</td>\n",
       "      <td>68926</td>\n",
       "      <td>3.589077</td>\n",
       "    </tr>\n",
       "    <tr>\n",
       "      <th>11</th>\n",
       "      <td>Portugal</td>\n",
       "      <td>53807</td>\n",
       "      <td>2.801809</td>\n",
       "    </tr>\n",
       "    <tr>\n",
       "      <th>4</th>\n",
       "      <td>Canada</td>\n",
       "      <td>30537</td>\n",
       "      <td>1.590106</td>\n",
       "    </tr>\n",
       "    <tr>\n",
       "      <th>13</th>\n",
       "      <td>Switzerland</td>\n",
       "      <td>28093</td>\n",
       "      <td>1.462843</td>\n",
       "    </tr>\n",
       "    <tr>\n",
       "      <th>1</th>\n",
       "      <td>Australia</td>\n",
       "      <td>22646</td>\n",
       "      <td>1.179210</td>\n",
       "    </tr>\n",
       "    <tr>\n",
       "      <th>10</th>\n",
       "      <td>Lithuania</td>\n",
       "      <td>12766</td>\n",
       "      <td>0.664744</td>\n",
       "    </tr>\n",
       "    <tr>\n",
       "      <th>2</th>\n",
       "      <td>Austria</td>\n",
       "      <td>12168</td>\n",
       "      <td>0.633605</td>\n",
       "    </tr>\n",
       "    <tr>\n",
       "      <th>14</th>\n",
       "      <td>Turkey</td>\n",
       "      <td>11700</td>\n",
       "      <td>0.609236</td>\n",
       "    </tr>\n",
       "    <tr>\n",
       "      <th>15</th>\n",
       "      <td>Ukraine</td>\n",
       "      <td>8879</td>\n",
       "      <td>0.462342</td>\n",
       "    </tr>\n",
       "  </tbody>\n",
       "</table>\n",
       "</div>"
      ],
      "text/plain": [
       "                           country  total_revenue      share\n",
       "18        United States of America         584207  30.420508\n",
       "12                           Spain         193778  10.090302\n",
       "6                           France         149071   7.762344\n",
       "0                        Argentina         121017   6.301531\n",
       "9                            Italy         118989   6.195930\n",
       "16            United Arab Emirates         117143   6.099806\n",
       "3                          Belgium         110214   5.739003\n",
       "5                            Chile         108615   5.655741\n",
       "17  United Kingdom (Great Britain)          96473   5.023489\n",
       "7                          Germany          71409   3.718370\n",
       "8                           Israel          68926   3.589077\n",
       "11                        Portugal          53807   2.801809\n",
       "4                           Canada          30537   1.590106\n",
       "13                     Switzerland          28093   1.462843\n",
       "1                        Australia          22646   1.179210\n",
       "10                       Lithuania          12766   0.664744\n",
       "2                          Austria          12168   0.633605\n",
       "14                          Turkey          11700   0.609236\n",
       "15                         Ukraine           8879   0.462342"
      ]
     },
     "execution_count": 33,
     "metadata": {},
     "output_type": "execute_result"
    }
   ],
   "source": [
    "# Lets find top countries that bring us revenue - control groups\n",
    "a = users_control_2.total_revenue.sum()\n",
    "\n",
    "b = users_control_2[users_control_2['total_revenue'] > 0]\\\n",
    "                .groupby('country', as_index=False)\\\n",
    "                .agg({'total_revenue':'sum'})\\\n",
    "                .sort_values(by='total_revenue', ascending=False)\n",
    "\n",
    "b['share'] = b.total_revenue/a *100\n",
    "b.sort_values(by='share', ascending=False)"
   ]
  },
  {
   "cell_type": "markdown",
   "metadata": {},
   "source": [
    "We have different country composition (and their share in revenue) in control/test groups - that's not good.\n",
    "Anyway let's try to check for countries that we can see in all groups. To do that (measure the effect) we can do the ANOVA test.\n",
    "We can do that since mean distribution of ARPU is close to normal distribution.\n",
    "But we need to check for equal variances in groups."
   ]
  },
  {
   "cell_type": "code",
   "execution_count": 113,
   "metadata": {},
   "outputs": [
    {
     "data": {
      "text/plain": [
       "LeveneResult(statistic=5.383784845870386e-30, pvalue=1.0)"
      ]
     },
     "execution_count": 113,
     "metadata": {},
     "output_type": "execute_result"
    }
   ],
   "source": [
    "a = users_control_1.total_revenue\n",
    "b = users_control_1.total_revenue\n",
    "c = users_control_1.total_revenue\n",
    "\n",
    "levene(a,b,c, center='mean')\n",
    "\n",
    "# variance is equal. We can use ANOVA"
   ]
  },
  {
   "cell_type": "code",
   "execution_count": 35,
   "metadata": {},
   "outputs": [],
   "source": [
    "# list all countries from test group\n",
    "countries_list = b.country.unique().tolist()"
   ]
  },
  {
   "cell_type": "code",
   "execution_count": 107,
   "metadata": {},
   "outputs": [],
   "source": [
    "# for each country in each group we calculate ARPU and then apply kruskal\n",
    "# then we take p_value-country pairs and store them in a dictionary - and output it\n",
    "results = {}\n",
    "for country in countries_list:\n",
    "    if users_control_1[(users_control_1['country'] == country)].total_revenue.sum() > 0 and\\\n",
    "        users_control_2[(users_control_2['country'] == country)].total_revenue.sum() > 0 and\\\n",
    "        users_test[(users_test['country'] == country)].total_revenue.sum() > 0 :\n",
    "            \n",
    "        c1   = users_control_1[(users_control_1['country'] == country)].total_revenue.reset_index(drop=True)\n",
    "        c2   = users_control_2[(users_control_2['country'] == country)].total_revenue.reset_index(drop=True)\n",
    "        test = users_test[(users_test['country'] == country)].total_revenue.reset_index(drop=True)\n",
    "        results[country] = f_oneway(c1,c2,test).pvalue\n",
    "    else:\n",
    "        continue\n",
    "    \n",
    "    "
   ]
  },
  {
   "cell_type": "code",
   "execution_count": 101,
   "metadata": {},
   "outputs": [
    {
     "data": {
      "text/html": [
       "<div>\n",
       "<style scoped>\n",
       "    .dataframe tbody tr th:only-of-type {\n",
       "        vertical-align: middle;\n",
       "    }\n",
       "\n",
       "    .dataframe tbody tr th {\n",
       "        vertical-align: top;\n",
       "    }\n",
       "\n",
       "    .dataframe thead th {\n",
       "        text-align: right;\n",
       "    }\n",
       "</style>\n",
       "<table border=\"1\" class=\"dataframe\">\n",
       "  <thead>\n",
       "    <tr style=\"text-align: right;\">\n",
       "      <th></th>\n",
       "      <th>0</th>\n",
       "    </tr>\n",
       "  </thead>\n",
       "  <tbody>\n",
       "    <tr>\n",
       "      <th>United States of America</th>\n",
       "      <td>0.598486</td>\n",
       "    </tr>\n",
       "    <tr>\n",
       "      <th>Spain</th>\n",
       "      <td>0.303979</td>\n",
       "    </tr>\n",
       "    <tr>\n",
       "      <th>France</th>\n",
       "      <td>0.364655</td>\n",
       "    </tr>\n",
       "    <tr>\n",
       "      <th>Argentina</th>\n",
       "      <td>0.782347</td>\n",
       "    </tr>\n",
       "    <tr>\n",
       "      <th>Italy</th>\n",
       "      <td>0.380605</td>\n",
       "    </tr>\n",
       "    <tr>\n",
       "      <th>United Arab Emirates</th>\n",
       "      <td>0.603672</td>\n",
       "    </tr>\n",
       "    <tr>\n",
       "      <th>Belgium</th>\n",
       "      <td>0.207329</td>\n",
       "    </tr>\n",
       "    <tr>\n",
       "      <th>Chile</th>\n",
       "      <td>0.806344</td>\n",
       "    </tr>\n",
       "    <tr>\n",
       "      <th>United Kingdom (Great Britain)</th>\n",
       "      <td>0.218522</td>\n",
       "    </tr>\n",
       "    <tr>\n",
       "      <th>Germany</th>\n",
       "      <td>0.398350</td>\n",
       "    </tr>\n",
       "    <tr>\n",
       "      <th>Israel</th>\n",
       "      <td>0.907627</td>\n",
       "    </tr>\n",
       "    <tr>\n",
       "      <th>Canada</th>\n",
       "      <td>0.344521</td>\n",
       "    </tr>\n",
       "    <tr>\n",
       "      <th>Switzerland</th>\n",
       "      <td>0.950272</td>\n",
       "    </tr>\n",
       "    <tr>\n",
       "      <th>Australia</th>\n",
       "      <td>0.793902</td>\n",
       "    </tr>\n",
       "    <tr>\n",
       "      <th>Turkey</th>\n",
       "      <td>0.569267</td>\n",
       "    </tr>\n",
       "  </tbody>\n",
       "</table>\n",
       "</div>"
      ],
      "text/plain": [
       "                                       0\n",
       "United States of America        0.598486\n",
       "Spain                           0.303979\n",
       "France                          0.364655\n",
       "Argentina                       0.782347\n",
       "Italy                           0.380605\n",
       "United Arab Emirates            0.603672\n",
       "Belgium                         0.207329\n",
       "Chile                           0.806344\n",
       "United Kingdom (Great Britain)  0.218522\n",
       "Germany                         0.398350\n",
       "Israel                          0.907627\n",
       "Canada                          0.344521\n",
       "Switzerland                     0.950272\n",
       "Australia                       0.793902\n",
       "Turkey                          0.569267"
      ]
     },
     "execution_count": 101,
     "metadata": {},
     "output_type": "execute_result"
    }
   ],
   "source": [
    "pd.DataFrame(data=results.values(), index=results.keys())"
   ]
  },
  {
   "cell_type": "code",
   "execution_count": null,
   "metadata": {},
   "outputs": [],
   "source": [
    "# p_values are greater than 0.05 - no difference between countries"
   ]
  },
  {
   "cell_type": "markdown",
   "metadata": {},
   "source": [
    "##### Checking effect by Gender"
   ]
  },
  {
   "cell_type": "code",
   "execution_count": 120,
   "metadata": {},
   "outputs": [],
   "source": [
    "# same as with countries\n",
    "\n",
    "results = {}\n",
    "for g in range(0,2):\n",
    "    c1   = users_control_1[(users_control_1['gender'] == g)].total_revenue.reset_index(drop=True)\n",
    "    c2   = users_control_2[(users_control_2['gender'] == g)].total_revenue.reset_index(drop=True)\n",
    "    test = users_test[(users_test['gender'] == g)].total_revenue.reset_index(drop=True)\n",
    "    results[g] = f_oneway(c1,c2,test).pvalue\n"
   ]
  },
  {
   "cell_type": "code",
   "execution_count": 121,
   "metadata": {},
   "outputs": [
    {
     "data": {
      "text/html": [
       "<div>\n",
       "<style scoped>\n",
       "    .dataframe tbody tr th:only-of-type {\n",
       "        vertical-align: middle;\n",
       "    }\n",
       "\n",
       "    .dataframe tbody tr th {\n",
       "        vertical-align: top;\n",
       "    }\n",
       "\n",
       "    .dataframe thead th {\n",
       "        text-align: right;\n",
       "    }\n",
       "</style>\n",
       "<table border=\"1\" class=\"dataframe\">\n",
       "  <thead>\n",
       "    <tr style=\"text-align: right;\">\n",
       "      <th></th>\n",
       "      <th>0</th>\n",
       "    </tr>\n",
       "  </thead>\n",
       "  <tbody>\n",
       "    <tr>\n",
       "      <th>0</th>\n",
       "      <td>0.722007</td>\n",
       "    </tr>\n",
       "    <tr>\n",
       "      <th>1</th>\n",
       "      <td>0.487236</td>\n",
       "    </tr>\n",
       "  </tbody>\n",
       "</table>\n",
       "</div>"
      ],
      "text/plain": [
       "          0\n",
       "0  0.722007\n",
       "1  0.487236"
      ]
     },
     "execution_count": 121,
     "metadata": {},
     "output_type": "execute_result"
    }
   ],
   "source": [
    "pd.DataFrame(data=results.values(), index=results.keys())"
   ]
  },
  {
   "cell_type": "markdown",
   "metadata": {},
   "source": [
    "No differences here"
   ]
  },
  {
   "cell_type": "markdown",
   "metadata": {},
   "source": [
    "##### Checking effect by Was_premium"
   ]
  },
  {
   "cell_type": "code",
   "execution_count": null,
   "metadata": {},
   "outputs": [],
   "source": [
    "was_premium"
   ]
  },
  {
   "cell_type": "code",
   "execution_count": 139,
   "metadata": {},
   "outputs": [],
   "source": [
    "results = {}\n",
    "a = users_control_1.was_premium.unique().tolist()\n",
    "\n",
    "for i in a:\n",
    "    if i == 1.0:\n",
    "        c1   = users_control_1[(users_control_1['was_premium'] == 1)].total_revenue.reset_index(drop=True)\n",
    "        c2   = users_control_2[(users_control_2['was_premium'] == 1)].total_revenue.reset_index(drop=True)\n",
    "        test = users_test[(users_test['was_premium']           == 1)].total_revenue.reset_index(drop=True)\n",
    "        results['was'] = f_oneway(c1,c2,test).pvalue\n",
    "    else:\n",
    "        c1   = users_control_1[(users_control_1['was_premium'] != 1)].total_revenue.reset_index(drop=True)\n",
    "        c2   = users_control_2[(users_control_2['was_premium'] != 1)].total_revenue.reset_index(drop=True)\n",
    "        test = users_test[(users_test['was_premium']           != 1)].total_revenue.reset_index(drop=True)\n",
    "        results['not'] = f_oneway(c1,c2,test).pvalue"
   ]
  },
  {
   "cell_type": "code",
   "execution_count": 140,
   "metadata": {},
   "outputs": [
    {
     "data": {
      "text/html": [
       "<div>\n",
       "<style scoped>\n",
       "    .dataframe tbody tr th:only-of-type {\n",
       "        vertical-align: middle;\n",
       "    }\n",
       "\n",
       "    .dataframe tbody tr th {\n",
       "        vertical-align: top;\n",
       "    }\n",
       "\n",
       "    .dataframe thead th {\n",
       "        text-align: right;\n",
       "    }\n",
       "</style>\n",
       "<table border=\"1\" class=\"dataframe\">\n",
       "  <thead>\n",
       "    <tr style=\"text-align: right;\">\n",
       "      <th></th>\n",
       "      <th>0</th>\n",
       "    </tr>\n",
       "  </thead>\n",
       "  <tbody>\n",
       "    <tr>\n",
       "      <th>not</th>\n",
       "      <td>0.096392</td>\n",
       "    </tr>\n",
       "    <tr>\n",
       "      <th>was</th>\n",
       "      <td>0.590881</td>\n",
       "    </tr>\n",
       "  </tbody>\n",
       "</table>\n",
       "</div>"
      ],
      "text/plain": [
       "            0\n",
       "not  0.096392\n",
       "was  0.590881"
      ]
     },
     "execution_count": 140,
     "metadata": {},
     "output_type": "execute_result"
    }
   ],
   "source": [
    "pd.DataFrame(data=results.values(), index=results.keys())"
   ]
  },
  {
   "cell_type": "code",
   "execution_count": null,
   "metadata": {},
   "outputs": [],
   "source": []
  },
  {
   "cell_type": "markdown",
   "metadata": {},
   "source": [
    "##### Checking effect by Age groups"
   ]
  },
  {
   "cell_type": "code",
   "execution_count": 150,
   "metadata": {},
   "outputs": [
    {
     "data": {
      "text/plain": [
       "array([13, 14, 15, 16, 17, 18, 19, 20, 21, 22, 23, 24, 25, 26, 27, 28, 29,\n",
       "       30, 31, 32, 33, 34, 35, 36, 37, 38, 39, 40, 41, 42, 43, 44, 45, 46,\n",
       "       47, 48, 49, 50, 51, 52, 53, 54, 55, 56, 57, 60, 69, 70, 72, 76, 79,\n",
       "       92, 96])"
      ]
     },
     "execution_count": 150,
     "metadata": {},
     "output_type": "execute_result"
    }
   ],
   "source": [
    "users_control_1.age.sort_values().unique()"
   ]
  },
  {
   "cell_type": "code",
   "execution_count": 164,
   "metadata": {},
   "outputs": [],
   "source": [
    "# users_control_1.groupby('age').agg({'uid':'nunique'}).sort_values(by='age')"
   ]
  },
  {
   "cell_type": "code",
   "execution_count": 165,
   "metadata": {},
   "outputs": [],
   "source": [
    "def age_groups(age):\n",
    "    if age >= 50:\n",
    "        return '50+'\n",
    "    elif age >= 35:\n",
    "        return '35-49'\n",
    "    elif age >= 23:\n",
    "        return '23-34'\n",
    "    else:\n",
    "        return '16-22'\n",
    "\n",
    "\n",
    "users_test['age_group']      = users_test.age.apply(age_groups)\n",
    "users_control_1['age_group'] = users_control_1.age.apply(age_groups)\n",
    "users_control_2['age_group'] = users_control_2.age.apply(age_groups)"
   ]
  },
  {
   "cell_type": "code",
   "execution_count": 170,
   "metadata": {},
   "outputs": [
    {
     "data": {
      "text/plain": [
       "['23-34', '35-49', '16-22', '50+']"
      ]
     },
     "execution_count": 170,
     "metadata": {},
     "output_type": "execute_result"
    }
   ],
   "source": [
    "age_start_lst = users_test.age_group.unique().tolist()\n",
    "age_start_lst"
   ]
  },
  {
   "cell_type": "code",
   "execution_count": 171,
   "metadata": {},
   "outputs": [],
   "source": [
    "# Same as with the countries\n",
    "results = {}\n",
    "for age_g in age_start_lst:\n",
    "        c1   = users_control_1[(users_control_1['age_group'] == age_g)].total_revenue.reset_index(drop=True)\n",
    "        c2   = users_control_2[(users_control_2['age_group'] == age_g)].total_revenue.reset_index(drop=True)\n",
    "        test = users_test[(users_test['age_group'] == age_g)].total_revenue.reset_index(drop=True)\n",
    "        results[age_g] = f_oneway(c1,c2,test).pvalue\n"
   ]
  },
  {
   "cell_type": "code",
   "execution_count": 172,
   "metadata": {},
   "outputs": [
    {
     "data": {
      "text/html": [
       "<div>\n",
       "<style scoped>\n",
       "    .dataframe tbody tr th:only-of-type {\n",
       "        vertical-align: middle;\n",
       "    }\n",
       "\n",
       "    .dataframe tbody tr th {\n",
       "        vertical-align: top;\n",
       "    }\n",
       "\n",
       "    .dataframe thead th {\n",
       "        text-align: right;\n",
       "    }\n",
       "</style>\n",
       "<table border=\"1\" class=\"dataframe\">\n",
       "  <thead>\n",
       "    <tr style=\"text-align: right;\">\n",
       "      <th></th>\n",
       "      <th>0</th>\n",
       "    </tr>\n",
       "  </thead>\n",
       "  <tbody>\n",
       "    <tr>\n",
       "      <th>23-34</th>\n",
       "      <td>0.930544</td>\n",
       "    </tr>\n",
       "    <tr>\n",
       "      <th>35-49</th>\n",
       "      <td>0.286744</td>\n",
       "    </tr>\n",
       "    <tr>\n",
       "      <th>16-22</th>\n",
       "      <td>0.247413</td>\n",
       "    </tr>\n",
       "    <tr>\n",
       "      <th>50+</th>\n",
       "      <td>0.827857</td>\n",
       "    </tr>\n",
       "  </tbody>\n",
       "</table>\n",
       "</div>"
      ],
      "text/plain": [
       "              0\n",
       "23-34  0.930544\n",
       "35-49  0.286744\n",
       "16-22  0.247413\n",
       "50+    0.827857"
      ]
     },
     "execution_count": 172,
     "metadata": {},
     "output_type": "execute_result"
    }
   ],
   "source": [
    "pd.DataFrame(data=results.values(), index=results.keys())"
   ]
  },
  {
   "cell_type": "code",
   "execution_count": 173,
   "metadata": {},
   "outputs": [],
   "source": [
    "age_lst = users_test.age.unique().tolist()"
   ]
  },
  {
   "cell_type": "code",
   "execution_count": 175,
   "metadata": {},
   "outputs": [
    {
     "name": "stderr",
     "output_type": "stream",
     "text": [
      "/Users/igorrudakov/opt/anaconda3/lib/python3.8/site-packages/scipy/stats/stats.py:3641: F_onewayConstantInputWarning: Each of the input arrays is constant;the F statistic is not defined or infinite\n",
      "  warnings.warn(F_onewayConstantInputWarning())\n",
      "/Users/igorrudakov/opt/anaconda3/lib/python3.8/site-packages/scipy/stats/stats.py:3641: F_onewayConstantInputWarning: Each of the input arrays is constant;the F statistic is not defined or infinite\n",
      "  warnings.warn(F_onewayConstantInputWarning())\n",
      "/Users/igorrudakov/opt/anaconda3/lib/python3.8/site-packages/scipy/stats/stats.py:3612: F_onewayBadInputSizesWarning: at least one input has length 0\n",
      "  warnings.warn(F_onewayBadInputSizesWarning('at least one input '\n",
      "/Users/igorrudakov/opt/anaconda3/lib/python3.8/site-packages/scipy/stats/stats.py:3641: F_onewayConstantInputWarning: Each of the input arrays is constant;the F statistic is not defined or infinite\n",
      "  warnings.warn(F_onewayConstantInputWarning())\n",
      "/Users/igorrudakov/opt/anaconda3/lib/python3.8/site-packages/scipy/stats/stats.py:3612: F_onewayBadInputSizesWarning: at least one input has length 0\n",
      "  warnings.warn(F_onewayBadInputSizesWarning('at least one input '\n",
      "/Users/igorrudakov/opt/anaconda3/lib/python3.8/site-packages/scipy/stats/stats.py:3641: F_onewayConstantInputWarning: Each of the input arrays is constant;the F statistic is not defined or infinite\n",
      "  warnings.warn(F_onewayConstantInputWarning())\n",
      "/Users/igorrudakov/opt/anaconda3/lib/python3.8/site-packages/scipy/stats/stats.py:3612: F_onewayBadInputSizesWarning: at least one input has length 0\n",
      "  warnings.warn(F_onewayBadInputSizesWarning('at least one input '\n",
      "/Users/igorrudakov/opt/anaconda3/lib/python3.8/site-packages/scipy/stats/stats.py:3641: F_onewayConstantInputWarning: Each of the input arrays is constant;the F statistic is not defined or infinite\n",
      "  warnings.warn(F_onewayConstantInputWarning())\n",
      "/Users/igorrudakov/opt/anaconda3/lib/python3.8/site-packages/scipy/stats/stats.py:3612: F_onewayBadInputSizesWarning: at least one input has length 0\n",
      "  warnings.warn(F_onewayBadInputSizesWarning('at least one input '\n",
      "/Users/igorrudakov/opt/anaconda3/lib/python3.8/site-packages/scipy/stats/stats.py:3612: F_onewayBadInputSizesWarning: at least one input has length 0\n",
      "  warnings.warn(F_onewayBadInputSizesWarning('at least one input '\n",
      "/Users/igorrudakov/opt/anaconda3/lib/python3.8/site-packages/scipy/stats/stats.py:3612: F_onewayBadInputSizesWarning: at least one input has length 0\n",
      "  warnings.warn(F_onewayBadInputSizesWarning('at least one input '\n",
      "/Users/igorrudakov/opt/anaconda3/lib/python3.8/site-packages/scipy/stats/stats.py:3612: F_onewayBadInputSizesWarning: at least one input has length 0\n",
      "  warnings.warn(F_onewayBadInputSizesWarning('at least one input '\n",
      "/Users/igorrudakov/opt/anaconda3/lib/python3.8/site-packages/scipy/stats/stats.py:3612: F_onewayBadInputSizesWarning: at least one input has length 0\n",
      "  warnings.warn(F_onewayBadInputSizesWarning('at least one input '\n",
      "/Users/igorrudakov/opt/anaconda3/lib/python3.8/site-packages/scipy/stats/stats.py:3612: F_onewayBadInputSizesWarning: at least one input has length 0\n",
      "  warnings.warn(F_onewayBadInputSizesWarning('at least one input '\n"
     ]
    }
   ],
   "source": [
    "# Same as with the countries\n",
    "results = {}\n",
    "for age in age_lst:\n",
    "        c1   = users_control_1[(users_control_1['age'] == age)].total_revenue.reset_index(drop=True)\n",
    "        c2   = users_control_2[(users_control_2['age'] == age)].total_revenue.reset_index(drop=True)\n",
    "        test = users_test[(users_test['age'] == age)].total_revenue.reset_index(drop=True)\n",
    "        results[age] = f_oneway(c1,c2,test).pvalue\n",
    "\n"
   ]
  },
  {
   "cell_type": "code",
   "execution_count": 195,
   "metadata": {},
   "outputs": [
    {
     "data": {
      "text/html": [
       "<div>\n",
       "<style scoped>\n",
       "    .dataframe tbody tr th:only-of-type {\n",
       "        vertical-align: middle;\n",
       "    }\n",
       "\n",
       "    .dataframe tbody tr th {\n",
       "        vertical-align: top;\n",
       "    }\n",
       "\n",
       "    .dataframe thead th {\n",
       "        text-align: right;\n",
       "    }\n",
       "</style>\n",
       "<table border=\"1\" class=\"dataframe\">\n",
       "  <thead>\n",
       "    <tr style=\"text-align: right;\">\n",
       "      <th></th>\n",
       "      <th>p_value</th>\n",
       "    </tr>\n",
       "  </thead>\n",
       "  <tbody>\n",
       "    <tr>\n",
       "      <th>25</th>\n",
       "      <td>0.006574</td>\n",
       "    </tr>\n",
       "    <tr>\n",
       "      <th>27</th>\n",
       "      <td>0.009373</td>\n",
       "    </tr>\n",
       "    <tr>\n",
       "      <th>34</th>\n",
       "      <td>0.071972</td>\n",
       "    </tr>\n",
       "    <tr>\n",
       "      <th>38</th>\n",
       "      <td>0.170656</td>\n",
       "    </tr>\n",
       "    <tr>\n",
       "      <th>18</th>\n",
       "      <td>0.189615</td>\n",
       "    </tr>\n",
       "  </tbody>\n",
       "</table>\n",
       "</div>"
      ],
      "text/plain": [
       "     p_value\n",
       "25  0.006574\n",
       "27  0.009373\n",
       "34  0.071972\n",
       "38  0.170656\n",
       "18  0.189615"
      ]
     },
     "execution_count": 195,
     "metadata": {},
     "output_type": "execute_result"
    }
   ],
   "source": [
    "pd.DataFrame(data=results.values(), index=results.keys(), columns=['p_value']).sort_values(by='p_value').head()\n"
   ]
  },
  {
   "cell_type": "markdown",
   "metadata": {},
   "source": [
    "Finally, it seems we found the source of the change: age cohorts of 25 and 27 year olds"
   ]
  },
  {
   "cell_type": "code",
   "execution_count": null,
   "metadata": {},
   "outputs": [],
   "source": [
    "c1   = users_control_1[(users_control_1['age'] == 25)].total_revenue.reset_index(drop=True)\n",
    "c2   = users_control_2[(users_control_2['age'] == 25)].total_revenue.reset_index(drop=True)\n",
    "test = users_test[(users_test['age'] == 25)].total_revenue.reset_index(drop=True)\n"
   ]
  },
  {
   "cell_type": "code",
   "execution_count": 204,
   "metadata": {},
   "outputs": [
    {
     "name": "stdout",
     "output_type": "stream",
     "text": [
      "ARPU in groups\n",
      "Test group     : 354.60504201680675\n",
      "Control_1 group: 785.0969162995594\n",
      "Control_2 group: 114.03319502074689\n"
     ]
    }
   ],
   "source": [
    "print('ARPU in groups of 25 yo')\n",
    "print('Test group     : ' + str(test.mean() ) )\n",
    "print('Control_1 group: ' + str(c1.mean() ) )\n",
    "print('Control_2 group: ' + str(c2.mean() ) )\n"
   ]
  },
  {
   "cell_type": "code",
   "execution_count": 211,
   "metadata": {},
   "outputs": [
    {
     "name": "stdout",
     "output_type": "stream",
     "text": [
      "Test vs C1: 0.09241993171476597\n",
      "Test vs C2: 0.1270002140904993\n",
      "C1 vs C2: 0.0020417453546573558\n"
     ]
    }
   ],
   "source": [
    "print('Test vs C1: '+ str(ttest_ind(test, c1).pvalue))\n",
    "print('Test vs C2: '+ str(ttest_ind(test, c2).pvalue))\n",
    "print('C1 vs C2: '  + str(ttest_ind(c1, c2).pvalue))"
   ]
  },
  {
   "cell_type": "markdown",
   "metadata": {},
   "source": [
    "Okay, we see that control groups have a stat significant difference - that should not be\n",
    "It means that we need to ask stakeholders (managers) whethere there was another promotion/activity that would affect c1"
   ]
  },
  {
   "cell_type": "code",
   "execution_count": null,
   "metadata": {},
   "outputs": [],
   "source": []
  },
  {
   "cell_type": "code",
   "execution_count": 212,
   "metadata": {},
   "outputs": [
    {
     "name": "stdout",
     "output_type": "stream",
     "text": [
      "ARPU in groups of 27 yo\n",
      "Test group     : 80.14732142857143\n",
      "Control_1 group: 541.8915094339623\n",
      "Control_2 group: 195.46017699115043\n"
     ]
    }
   ],
   "source": [
    "c1   = users_control_1[(users_control_1['age'] == 27)].total_revenue.reset_index(drop=True)\n",
    "c2   = users_control_2[(users_control_2['age'] == 27)].total_revenue.reset_index(drop=True)\n",
    "test = users_test[(users_test['age'] == 27)].total_revenue.reset_index(drop=True)\n",
    "\n",
    "\n",
    "print('ARPU in groups of 27 yo')\n",
    "print('Test group     : ' + str(test.mean() ) )\n",
    "print('Control_1 group: ' + str(c1.mean() ) )\n",
    "print('Control_2 group: ' + str(c2.mean() ) )\n"
   ]
  },
  {
   "cell_type": "code",
   "execution_count": 213,
   "metadata": {},
   "outputs": [
    {
     "name": "stdout",
     "output_type": "stream",
     "text": [
      "Test vs C1: 0.008799897521564147\n",
      "Test vs C2: 0.24389458862178126\n",
      "C1 vs C2: 0.05569549299555768\n"
     ]
    }
   ],
   "source": [
    "print('Test vs C1: '+ str(ttest_ind(test, c1).pvalue))\n",
    "print('Test vs C2: '+ str(ttest_ind(test, c2).pvalue))\n",
    "print('C1 vs C2: '  + str(ttest_ind(c1, c2).pvalue))"
   ]
  },
  {
   "cell_type": "markdown",
   "metadata": {},
   "source": [
    "There is a statistically significant difference between Test and C1.\n",
    "And C1 ARPU is greater than Test Arpu"
   ]
  },
  {
   "cell_type": "code",
   "execution_count": 215,
   "metadata": {},
   "outputs": [
    {
     "data": {
      "image/png": "[encoded data removed]",
      "text/plain": [
       "<Figure size 864x288 with 1 Axes>"
      ]
     },
     "metadata": {},
     "output_type": "display_data"
    }
   ],
   "source": [
    "sns.set(rc={'figure.figsize':(12,4)})\n",
    "\n",
    "sns.histplot((test), color='r')\n",
    "sns.histplot((c1),  )\n",
    "sns.histplot((c2),color='y'  )\n",
    "\n",
    "plt.show()"
   ]
  },
  {
   "cell_type": "code",
   "execution_count": null,
   "metadata": {},
   "outputs": [],
   "source": []
  },
  {
   "cell_type": "code",
   "execution_count": null,
   "metadata": {},
   "outputs": [],
   "source": []
  },
  {
   "cell_type": "code",
   "execution_count": null,
   "metadata": {},
   "outputs": [],
   "source": []
  },
  {
   "cell_type": "code",
   "execution_count": null,
   "metadata": {},
   "outputs": [],
   "source": []
  },
  {
   "cell_type": "code",
   "execution_count": null,
   "metadata": {},
   "outputs": [],
   "source": []
  },
  {
   "cell_type": "code",
   "execution_count": null,
   "metadata": {},
   "outputs": [],
   "source": []
  }
 ],
 "metadata": {
  "kernelspec": {
   "display_name": "Python 3",
   "language": "python",
   "name": "python3"
  },
  "language_info": {
   "codemirror_mode": {
    "name": "ipython",
    "version": 3
   },
   "file_extension": ".py",
   "mimetype": "text/x-python",
   "name": "python",
   "nbconvert_exporter": "python",
   "pygments_lexer": "ipython3",
   "version": "3.8.5"
  }
 },
 "nbformat": 4,
 "nbformat_minor": 4
}
