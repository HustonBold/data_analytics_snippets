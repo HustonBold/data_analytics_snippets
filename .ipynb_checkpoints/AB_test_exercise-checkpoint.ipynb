{
 "cells": [
  {
   "cell_type": "markdown",
   "metadata": {},
   "source": [
    "### Description:\n",
    "\n",
    "This is a solution to a take-home assignment.\n",
    "\n",
    "A copany has an app where you can choose between free and premium subscription. \n",
    "They decided to increase prices for premium subscription and ran an A/B test: for some users in different countries the price for a subscription was increased. Note, that price for a demo period (for premium subscription) didn't change.\n",
    "Question: Should the company increase price for the premium subscription\n",
    "\n",
    "Data description:\n",
    "Premium subscription fee is incured monthly until user cancels it\n",
    "\n",
    "There are 3 groups: test, control_1, control_2. For each of them:\n",
    "\n",
    "files user_*.csv - user info:\n",
    "\n",
    "uid – user id\n",
    "age – user age\n",
    "attraction_coeff – attraction coefficient (from 0 to 1000, \\frac{likes}{views}*1000 \n",
    "views\n",
    "likes\n",
    "coins – quantity of coins (in-app currency)\n",
    "country  \n",
    "visit_days – visits in days after registration (ex. in 1-st day after registration, then in 7th day after registration)\n",
    "gender\n",
    "age_filter_start  – user age search filter min (what is the minimum age he/she is searching for)\n",
    "age_filter_end  – user age search filter max\n",
    "views_count – how many views user received\n",
    "was_premium – did user ever use premium (demo or purchased)\n",
    "is_premium –  is user premium now\n",
    "total_revenue – revenue\n",
    " \n",
    "transactions_*.csv – user transaction info:\n",
    "uid – user id\n",
    "country\n",
    "joined_at – registration date\n",
    "paid_at – purchase date\n",
    "revenue\n",
    "payment_id \n",
    "from_page – from what page user came to payment page\n",
    "product_type – product type (trial_premium, premium_no_trial, coins – premium for in-app currency, other_type – other)"
   ]
  },
  {
   "cell_type": "code",
   "execution_count": null,
   "metadata": {},
   "outputs": [],
   "source": []
  },
  {
   "cell_type": "markdown",
   "metadata": {},
   "source": [
    "## Executive summary (final answer)\n",
    "\n",
    "The price should be increased.\n",
    "Price increase has no statistically significant effect on ARPU or conversion (share of paid subscriptions)\n",
    "At the same time, we see a statistically significant increase in ARPPU\n",
    "\n",
    "That means that after price increase users neither switch to a free subscription, nor buy more premium.\n",
    "But people who are using it now - agree to pay more for it: which increases ARPPU"
   ]
  },
  {
   "cell_type": "code",
   "execution_count": null,
   "metadata": {},
   "outputs": [],
   "source": []
  },
  {
   "cell_type": "markdown",
   "metadata": {},
   "source": [
    "### Detailed answer: with code "
   ]
  },
  {
   "cell_type": "code",
   "execution_count": 14,
   "metadata": {},
   "outputs": [],
   "source": [
    "# importing libraries\n",
    "import pandas as pd\n",
    "import numpy as np\n",
    "from scipy.stats import mannwhitneyu, kruskal, levene, ttest_ind, norm\n",
    "import seaborn as sns\n",
    "import matplotlib.pyplot as plt\n"
   ]
  },
  {
   "cell_type": "markdown",
   "metadata": {},
   "source": [
    "### Uploading the data"
   ]
  },
  {
   "cell_type": "code",
   "execution_count": 3,
   "metadata": {},
   "outputs": [],
   "source": [
    "# User info\n",
    "users_control_1 = pd.read_csv('/Users/igorrudakov/Desktop/Python_practice/snippets_and_portfolio/data_analytics_snippets/Data/users_control_1.csv',sep=';')\n",
    "users_control_2 = pd.read_csv('/Users/igorrudakov/Desktop/Python_practice/snippets_and_portfolio/data_analytics_snippets/Data/users_control_2.csv',sep=';')\n",
    "users_test =      pd.read_csv('/Users/igorrudakov/Desktop/Python_practice/snippets_and_portfolio/data_analytics_snippets/Data/users_test.csv',sep=';')\n",
    "\n",
    "# Transactions info\n",
    "transactions_control_1 = pd.read_csv('/Users/igorrudakov/Desktop/Python_practice/snippets_and_portfolio/data_analytics_snippets/Data/transactions_control_1.csv',sep=';')\n",
    "transactions_control_2 = pd.read_csv('/Users/igorrudakov/Desktop/Python_practice/snippets_and_portfolio/data_analytics_snippets/Data/transactions_control_2.csv',sep=';')\n",
    "transactions_test =      pd.read_csv('/Users/igorrudakov/Desktop/Python_practice/snippets_and_portfolio/data_analytics_snippets/Data/transactions_test.csv',sep=';')\n",
    "\n",
    "\n",
    "transactions_control_1.paid_at = pd.to_datetime(transactions_control_1.paid_at)\n",
    "transactions_control_1.joined_at = pd.to_datetime(transactions_control_1.joined_at)\n",
    "\n",
    "transactions_control_2.paid_at = pd.to_datetime(transactions_control_2.paid_at)\n",
    "transactions_control_2.joined_at = pd.to_datetime(transactions_control_2.joined_at)\n",
    "\n",
    "transactions_test.paid_at = pd.to_datetime(transactions_test.paid_at)\n",
    "transactions_test.joined_at = pd.to_datetime(transactions_test.joined_at)\n",
    "\n",
    "\n"
   ]
  },
  {
   "cell_type": "markdown",
   "metadata": {},
   "source": [
    "### Exploring datasets"
   ]
  },
  {
   "cell_type": "code",
   "execution_count": 15,
   "metadata": {},
   "outputs": [
    {
     "data": {
      "text/html": [
       "<div>\n",
       "<style scoped>\n",
       "    .dataframe tbody tr th:only-of-type {\n",
       "        vertical-align: middle;\n",
       "    }\n",
       "\n",
       "    .dataframe tbody tr th {\n",
       "        vertical-align: top;\n",
       "    }\n",
       "\n",
       "    .dataframe thead th {\n",
       "        text-align: right;\n",
       "    }\n",
       "</style>\n",
       "<table border=\"1\" class=\"dataframe\">\n",
       "  <thead>\n",
       "    <tr style=\"text-align: right;\">\n",
       "      <th></th>\n",
       "      <th>uid</th>\n",
       "      <th>age</th>\n",
       "      <th>attraction_coeff</th>\n",
       "      <th>coins</th>\n",
       "      <th>country</th>\n",
       "      <th>visit_days</th>\n",
       "      <th>gender</th>\n",
       "      <th>age_filter_start</th>\n",
       "      <th>age_filter_end</th>\n",
       "      <th>views_count</th>\n",
       "      <th>was_premium</th>\n",
       "      <th>is_premium</th>\n",
       "      <th>total_revenue</th>\n",
       "    </tr>\n",
       "  </thead>\n",
       "  <tbody>\n",
       "    <tr>\n",
       "      <th>0</th>\n",
       "      <td>892035504</td>\n",
       "      <td>37</td>\n",
       "      <td>137</td>\n",
       "      <td>NaN</td>\n",
       "      <td>Israel</td>\n",
       "      <td>1,2,3,4,5,6,7,8,9,11,13</td>\n",
       "      <td>1</td>\n",
       "      <td>30</td>\n",
       "      <td>40</td>\n",
       "      <td>51</td>\n",
       "      <td>NaN</td>\n",
       "      <td>NaN</td>\n",
       "      <td>0</td>\n",
       "    </tr>\n",
       "    <tr>\n",
       "      <th>1</th>\n",
       "      <td>891782112</td>\n",
       "      <td>57</td>\n",
       "      <td>0</td>\n",
       "      <td>NaN</td>\n",
       "      <td>Italy</td>\n",
       "      <td>1</td>\n",
       "      <td>1</td>\n",
       "      <td>54</td>\n",
       "      <td>60</td>\n",
       "      <td>0</td>\n",
       "      <td>NaN</td>\n",
       "      <td>NaN</td>\n",
       "      <td>0</td>\n",
       "    </tr>\n",
       "    <tr>\n",
       "      <th>2</th>\n",
       "      <td>891110337</td>\n",
       "      <td>30</td>\n",
       "      <td>769</td>\n",
       "      <td>NaN</td>\n",
       "      <td>France</td>\n",
       "      <td>1,2,3,4,5</td>\n",
       "      <td>1</td>\n",
       "      <td>27</td>\n",
       "      <td>33</td>\n",
       "      <td>13</td>\n",
       "      <td>NaN</td>\n",
       "      <td>NaN</td>\n",
       "      <td>0</td>\n",
       "    </tr>\n",
       "    <tr>\n",
       "      <th>3</th>\n",
       "      <td>891796320</td>\n",
       "      <td>48</td>\n",
       "      <td>750</td>\n",
       "      <td>NaN</td>\n",
       "      <td>France</td>\n",
       "      <td>1,4,6,8,10,11,12,14,15,16,18</td>\n",
       "      <td>1</td>\n",
       "      <td>45</td>\n",
       "      <td>51</td>\n",
       "      <td>12</td>\n",
       "      <td>NaN</td>\n",
       "      <td>NaN</td>\n",
       "      <td>0</td>\n",
       "    </tr>\n",
       "    <tr>\n",
       "      <th>4</th>\n",
       "      <td>891880212</td>\n",
       "      <td>54</td>\n",
       "      <td>638</td>\n",
       "      <td>NaN</td>\n",
       "      <td>United States of America</td>\n",
       "      <td>1</td>\n",
       "      <td>1</td>\n",
       "      <td>35</td>\n",
       "      <td>53</td>\n",
       "      <td>94</td>\n",
       "      <td>NaN</td>\n",
       "      <td>NaN</td>\n",
       "      <td>0</td>\n",
       "    </tr>\n",
       "  </tbody>\n",
       "</table>\n",
       "</div>"
      ],
      "text/plain": [
       "         uid  age  attraction_coeff  coins                   country  \\\n",
       "0  892035504   37               137    NaN                    Israel   \n",
       "1  891782112   57                 0    NaN                     Italy   \n",
       "2  891110337   30               769    NaN                    France   \n",
       "3  891796320   48               750    NaN                    France   \n",
       "4  891880212   54               638    NaN  United States of America   \n",
       "\n",
       "                     visit_days  gender  age_filter_start  age_filter_end  \\\n",
       "0       1,2,3,4,5,6,7,8,9,11,13       1                30              40   \n",
       "1                             1       1                54              60   \n",
       "2                     1,2,3,4,5       1                27              33   \n",
       "3  1,4,6,8,10,11,12,14,15,16,18       1                45              51   \n",
       "4                             1       1                35              53   \n",
       "\n",
       "   views_count  was_premium  is_premium  total_revenue  \n",
       "0           51          NaN         NaN              0  \n",
       "1            0          NaN         NaN              0  \n",
       "2           13          NaN         NaN              0  \n",
       "3           12          NaN         NaN              0  \n",
       "4           94          NaN         NaN              0  "
      ]
     },
     "execution_count": 15,
     "metadata": {},
     "output_type": "execute_result"
    }
   ],
   "source": [
    "# head overview\n",
    "users_control_2.head() # users_test  transactions_control_1  transactions_test "
   ]
  },
  {
   "cell_type": "code",
   "execution_count": 29,
   "metadata": {},
   "outputs": [
    {
     "name": "stdout",
     "output_type": "stream",
     "text": [
      "<class 'pandas.core.frame.DataFrame'>\n",
      "RangeIndex: 1007 entries, 0 to 1006\n",
      "Data columns (total 8 columns):\n",
      " #   Column        Non-Null Count  Dtype         \n",
      "---  ------        --------------  -----         \n",
      " 0   uid           377 non-null    float64       \n",
      " 1   country       377 non-null    object        \n",
      " 2   joined_at     377 non-null    datetime64[ns]\n",
      " 3   paid_at       377 non-null    datetime64[ns]\n",
      " 4   revenue       377 non-null    float64       \n",
      " 5   payment_id    377 non-null    float64       \n",
      " 6   from_page     377 non-null    object        \n",
      " 7   product_type  377 non-null    object        \n",
      "dtypes: datetime64[ns](2), float64(3), object(3)\n",
      "memory usage: 63.1+ KB\n"
     ]
    }
   ],
   "source": [
    "transactions_control_1.info() # users_test  transactions_control_1  transactions_test "
   ]
  },
  {
   "cell_type": "code",
   "execution_count": null,
   "metadata": {},
   "outputs": [],
   "source": []
  },
  {
   "cell_type": "markdown",
   "metadata": {},
   "source": [
    "### Formulating business task in terms of statistical experiment\n",
    "Question: Should the company increase price for the premium subscription\n",
    "\n",
    "The expected outcome of this: overall increase in revenue. If some users will pay more and many others churn - the revenue per paying user will increase, but overall revenue will fall. So we should track the perfomance of the experiment in terms of ARPU (average revenue per ALL users)."
   ]
  },
  {
   "cell_type": "code",
   "execution_count": 163,
   "metadata": {},
   "outputs": [
    {
     "name": "stdout",
     "output_type": "stream",
     "text": [
      "Test group     : 534.0803156917364\n",
      "Control_1 group: 594.7619815668203\n",
      "Control_2 group: 450.3841463414634\n"
     ]
    }
   ],
   "source": [
    "# first, lets see the ARPUs for different groups\n",
    "# arpu of a test group\n",
    "\n",
    "print('ARPU in groups')\n",
    "print('Test group     : ' + str(users_test.total_revenue.mean() ) )\n",
    "print('Control_1 group: ' + str(users_control_1.total_revenue.mean() ) )\n",
    "print('Control_2 group: ' + str(users_control_2.total_revenue.mean() ) )\n"
   ]
  },
  {
   "cell_type": "code",
   "execution_count": 42,
   "metadata": {},
   "outputs": [
    {
     "name": "stdout",
     "output_type": "stream",
     "text": [
      "User count in groups\n",
      "Test group     : 4308\n",
      "Control_1 group: 4340\n",
      "Control_2 group: 4264\n",
      "\n",
      "\n",
      "Users who PAYed for a premium\n",
      "Test group     : 146\n",
      "Control_1 group: 192\n",
      "Control_2 group: 187\n"
     ]
    }
   ],
   "source": [
    "print('User count in groups')\n",
    "print('Test group     : ' + str(users_test.uid.nunique() ) )\n",
    "print('Control_1 group: ' + str(users_control_1.uid.nunique() ) )\n",
    "print('Control_2 group: ' + str(users_control_2.uid.nunique() ) )\n",
    "\n",
    "print('')\n",
    "print('')\n",
    "\n",
    "print('Users who PAYed for a premium')\n",
    "print('Test group     : ' + str(users_test[(users_test.total_revenue > 0)].uid.nunique() ) )\n",
    "print('Control_1 group: ' + str(users_control_1[(users_control_1.total_revenue > 0)].uid.nunique() ) )\n",
    "print('Control_2 group: ' + str(users_control_2[(users_control_2.total_revenue > 0)].uid.nunique() ) )\n"
   ]
  },
  {
   "cell_type": "markdown",
   "metadata": {},
   "source": [
    "we see that:\n",
    "- control_1 has higher ARPU than test\n",
    "- at the same time control_2's ARPU is less that tests'\n",
    "- control_1 shows higher ARPU than test\n",
    "\n",
    "Let's also look at the distributions of datasets"
   ]
  },
  {
   "cell_type": "code",
   "execution_count": 32,
   "metadata": {},
   "outputs": [
    {
     "data": {
      "text/plain": [
       "<AxesSubplot:xlabel='total_revenue', ylabel='Count'>"
      ]
     },
     "execution_count": 32,
     "metadata": {},
     "output_type": "execute_result"
    },
    {
     "data": {
      "image/png": "[encoded data removed]",
      "text/plain": [
       "<Figure size 864x216 with 1 Axes>"
      ]
     },
     "metadata": {},
     "output_type": "display_data"
    }
   ],
   "source": [
    "# test data\n",
    "sns.set(rc={'figure.figsize':(12, 3)})\n",
    "sns.histplot(users_test.total_revenue)    # users_control_1"
   ]
  },
  {
   "cell_type": "markdown",
   "metadata": {},
   "source": [
    "Both distributions have lots of users that use free subscription or pay nothing.\n",
    "For such distributions we can't use t-test and mannwhitney tests\n",
    "I am going to use bootstrap to find distributions of ARPU for eacch of the groups\n",
    "then I will find confidence intervals for the differences in distributions "
   ]
  },
  {
   "cell_type": "code",
   "execution_count": 76,
   "metadata": {},
   "outputs": [],
   "source": [
    "# def function that would generate many samples, take averages, find differences, and calculate CI with visualisation\n",
    "def get_bootstrap(\n",
    "    data_column_1, # first group\n",
    "    data_column_2, # second group\n",
    "    boot_it = 1000, # count of bootstrap samples\n",
    "    statistic = np.mean,\n",
    "    bootstrap_conf_level = 0.95\n",
    "):\n",
    "    boot_data = []\n",
    "    sample_len = max(len(data_column_1), len(data_column_2))\n",
    "\n",
    "    for i in range(boot_it): # извлекаем подвыборки\n",
    "        samples_1 = data_column_1.sample(sample_len, replace = True).values\n",
    "        samples_2 = data_column_2.sample(sample_len, replace = True).values\n",
    "        boot_data.append(statistic(samples_1-samples_2))\n",
    "        \n",
    "    pd_boot_data = pd.DataFrame(boot_data)\n",
    "\n",
    "    left_quant = (1 - bootstrap_conf_level)/2\n",
    "    right_quant = 1 - (1 - bootstrap_conf_level) / 2\n",
    "    ci = pd_boot_data.quantile([left_quant, right_quant])\n",
    "        \n",
    "    p_1 = norm.cdf(x = 0, loc = np.mean(boot_data), scale = np.std(boot_data))\n",
    "    p_2 = norm.cdf(x = 0, loc = -np.mean(boot_data), scale = np.std(boot_data))\n",
    "    \n",
    "    plt.hist(pd_boot_data, bins=50)\n",
    "    \n",
    "    plt.style.use('seaborn-deep')\n",
    "    plt.vlines(ci, ymin=0, ymax=50, linestyle='--')\n",
    "    plt.xlabel('boot_data')\n",
    "    plt.ylabel('frequency')\n",
    "    plt.title('Histogram of boot data')\n",
    "    plt.show()\n",
    "    return {'p_value' : min(p_1, p_2) * 2, 'boot_data':boot_data, 'ci':ci}"
   ]
  },
  {
   "cell_type": "code",
   "execution_count": 77,
   "metadata": {},
   "outputs": [
    {
     "data": {
      "image/png": "[encoded data removed]",
      "text/plain": [
       "<Figure size 864x216 with 1 Axes>"
      ]
     },
     "metadata": {},
     "output_type": "display_data"
    }
   ],
   "source": [
    "# Test group VS control 1\n",
    "test_vs_c1 = get_bootstrap(users_test.total_revenue, users_control_1.total_revenue)"
   ]
  },
  {
   "cell_type": "code",
   "execution_count": 78,
   "metadata": {},
   "outputs": [
    {
     "data": {
      "text/plain": [
       "0.6873239150978891"
      ]
     },
     "execution_count": 78,
     "metadata": {},
     "output_type": "execute_result"
    }
   ],
   "source": [
    "test_vs_c1['p_value']"
   ]
  },
  {
   "cell_type": "code",
   "execution_count": null,
   "metadata": {},
   "outputs": [],
   "source": []
  },
  {
   "cell_type": "code",
   "execution_count": 79,
   "metadata": {},
   "outputs": [
    {
     "data": {
      "image/png": "[encoded data removed]",
      "text/plain": [
       "<Figure size 864x216 with 1 Axes>"
      ]
     },
     "metadata": {},
     "output_type": "display_data"
    }
   ],
   "source": [
    "# Test group VS control 2\n",
    "test_vs_c2 = get_bootstrap(users_test.total_revenue, users_control_2.total_revenue)"
   ]
  },
  {
   "cell_type": "code",
   "execution_count": 80,
   "metadata": {},
   "outputs": [
    {
     "data": {
      "text/plain": [
       "0.2808185394404463"
      ]
     },
     "execution_count": 80,
     "metadata": {},
     "output_type": "execute_result"
    }
   ],
   "source": [
    "test_vs_c2['p_value']"
   ]
  },
  {
   "cell_type": "code",
   "execution_count": 81,
   "metadata": {},
   "outputs": [
    {
     "data": {
      "image/png": "[encoded data removed]",
      "text/plain": [
       "<Figure size 864x216 with 1 Axes>"
      ]
     },
     "metadata": {},
     "output_type": "display_data"
    }
   ],
   "source": [
    "# control 1 VS control 2 --- AA test (if there is a difference - then control groups are spoiled and experiment is compromised)\n",
    "c1_vs_c2 = get_bootstrap(users_control_1.total_revenue, users_control_2.total_revenue)"
   ]
  },
  {
   "cell_type": "markdown",
   "metadata": {},
   "source": [
    "On all variations we see that confidence intervals incude 0 - therefore there is no evidence to support the hypothesis\n",
    "that there is any effect/difference between groups.\n",
    "\n",
    "It might be due to the large amount of users that use free subscription.\n",
    "Next, we might want to evaluate whether there was a decrease in share of users that buy subscription"
   ]
  },
  {
   "cell_type": "markdown",
   "metadata": {},
   "source": [
    "##### Testing for paying users"
   ]
  },
  {
   "cell_type": "code",
   "execution_count": null,
   "metadata": {},
   "outputs": [],
   "source": [
    "test_paid = users_test[(users_test.total_revenue > 0)].uid.nunique()\n",
    "c1_paid = [(users_control_1.total_revenue > 0)].uid.nunique()\n",
    "c2_paid = [(users_control_2.total_revenue > 0)].uid.nunique()\n"
   ]
  },
  {
   "cell_type": "code",
   "execution_count": 83,
   "metadata": {},
   "outputs": [],
   "source": [
    "# slightly change the function\n",
    "def get_bootstrap_2(\n",
    "    data_1, # first group\n",
    "    data_2, # second group\n",
    "    boot_it = 1000, # count of bootstrap samples\n",
    "    statistic = np.mean,\n",
    "    bootstrap_conf_level = 0.95\n",
    "):\n",
    "    boot_data = []\n",
    "    sample_len = 1000\n",
    "    \n",
    "    for i in range(2000):\n",
    "        a = data_1.sample(1000, replace=True)\n",
    "        samples_1 = a[(a.total_revenue > 0)].uid.nunique() / a.uid.nunique()\n",
    "        \n",
    "        b = data_2.sample(1000, replace=True)\n",
    "        samples_2 = b[(b.total_revenue > 0)].uid.nunique() / b.uid.nunique()\n",
    "\n",
    "        boot_data.append(statistic(samples_1-samples_2))\n",
    "        \n",
    "    pd_boot_data = pd.DataFrame(boot_data)\n",
    "\n",
    "    left_quant = (1 - bootstrap_conf_level)/2\n",
    "    right_quant = 1 - (1 - bootstrap_conf_level) / 2\n",
    "    ci = pd_boot_data.quantile([left_quant, right_quant])\n",
    "        \n",
    "    p_1 = norm.cdf(x = 0, loc = np.mean(boot_data), scale = np.std(boot_data))\n",
    "    p_2 = norm.cdf(x = 0, loc = -np.mean(boot_data), scale = np.std(boot_data))\n",
    "    \n",
    "    plt.hist(pd_boot_data, bins=50)\n",
    "    \n",
    "    plt.style.use('seaborn-deep')\n",
    "    plt.vlines(ci, ymin=0, ymax=50, linestyle='--')\n",
    "    plt.xlabel('boot_data')\n",
    "    plt.ylabel('frequency')\n",
    "    plt.title('Histogram of boot data')\n",
    "    plt.show()\n",
    "    return {'p_value' : min(p_1, p_2) * 2, 'boot_data':boot_data, 'ci':ci}"
   ]
  },
  {
   "cell_type": "code",
   "execution_count": 85,
   "metadata": {},
   "outputs": [
    {
     "data": {
      "image/png": "[encoded data removed]",
      "text/plain": [
       "<Figure size 864x216 with 1 Axes>"
      ]
     },
     "metadata": {},
     "output_type": "display_data"
    }
   ],
   "source": [
    "test_vs_c1 = get_bootstrap_2(users_test, users_control_1)"
   ]
  },
  {
   "cell_type": "code",
   "execution_count": 86,
   "metadata": {},
   "outputs": [
    {
     "data": {
      "image/png": "[encoded data removed]",
      "text/plain": [
       "<Figure size 864x216 with 1 Axes>"
      ]
     },
     "metadata": {},
     "output_type": "display_data"
    }
   ],
   "source": [
    "test_vs_c2 = get_bootstrap_2(users_test, users_control_2)"
   ]
  },
  {
   "cell_type": "markdown",
   "metadata": {},
   "source": [
    "Increase in prices didn't affect the ARPU and the conversion.\n",
    "There might be differences in different countries though\n",
    "\n",
    "But, anyway, we should now check the differences in ARPPU - "
   ]
  },
  {
   "cell_type": "code",
   "execution_count": 89,
   "metadata": {},
   "outputs": [],
   "source": [
    "# Since it is faster - let's check for ARPPU first\n",
    "test_paid_rev = users_test[(users_test.total_revenue > 0)].total_revenue\n",
    "c1_paid_rev = users_control_1[(users_control_1.total_revenue > 0)].total_revenue\n",
    "c2_paid_rev = users_control_2[(users_control_2.total_revenue > 0)].total_revenue\n"
   ]
  },
  {
   "cell_type": "code",
   "execution_count": null,
   "metadata": {},
   "outputs": [],
   "source": []
  },
  {
   "cell_type": "code",
   "execution_count": 104,
   "metadata": {},
   "outputs": [
    {
     "data": {
      "text/plain": [
       "<AxesSubplot:xlabel='total_revenue', ylabel='Count'>"
      ]
     },
     "execution_count": 104,
     "metadata": {},
     "output_type": "execute_result"
    },
    {
     "data": {
      "image/png": "[encoded data removed]",
      "text/plain": [
       "<Figure size 864x216 with 1 Axes>"
      ]
     },
     "metadata": {},
     "output_type": "display_data"
    }
   ],
   "source": [
    "# explore distributions\n",
    "sns.set(rc={'figure.figsize':(12,3)})\n",
    "sns.histplot(np.log(test_paid_rev))    # c1_paid_rev  c2_paid_rev"
   ]
  },
  {
   "cell_type": "markdown",
   "metadata": {},
   "source": [
    "At least they resemble normal distribution (with log, at least). So we can use t_test, and mannwhitneyu"
   ]
  },
  {
   "cell_type": "code",
   "execution_count": 116,
   "metadata": {},
   "outputs": [
    {
     "name": "stdout",
     "output_type": "stream",
     "text": [
      "Test VS C1 - t_test        : 0.007529984156821657\n",
      "Test VS C1 - mannwhitneyu  : 0.00012113807988903144\n",
      "\n",
      "Test VS C2 - t_test        : 0.0005719331300349473\n",
      "Test VS C2 - mannwhitneyu  : 6.334145523115543e-06\n",
      "\n",
      "C1 VS C2 - t_test          : 0.5189184186270371\n",
      "C1 VS C2 - mannwhitneyu    : 0.16699073389953722\n"
     ]
    }
   ],
   "source": [
    "# t-tests\n",
    "print('Test VS C1 - t_test        : ' + str(ttest_ind(np.log(test_paid_rev), np.log(c1_paid_rev), equal_var=False ).pvalue ) )\n",
    "print('Test VS C1 - mannwhitneyu  : ' + str(mannwhitneyu(np.log(test_paid_rev), np.log(c1_paid_rev) ).pvalue ) )\n",
    "print('')\n",
    "print('Test VS C2 - t_test        : ' + str(ttest_ind(np.log(test_paid_rev), np.log(c2_paid_rev), equal_var=False ).pvalue ) )\n",
    "print('Test VS C2 - mannwhitneyu  : ' + str(mannwhitneyu(np.log(test_paid_rev), np.log(c2_paid_rev) ).pvalue ) )\n",
    "print('')\n",
    "print('C1 VS C2 - t_test          : ' + str(ttest_ind(np.log(c1_paid_rev), np.log(c2_paid_rev), equal_var=False ).pvalue ) )\n",
    "print('C1 VS C2 - mannwhitneyu    : ' + str(mannwhitneyu(np.log(c1_paid_rev), np.log(c2_paid_rev) ).pvalue ) )\n"
   ]
  },
  {
   "cell_type": "code",
   "execution_count": 138,
   "metadata": {},
   "outputs": [
    {
     "data": {
      "image/png": "[encoded data removed]",
      "text/plain": [
       "<Figure size 864x288 with 1 Axes>"
      ]
     },
     "metadata": {},
     "output_type": "display_data"
    }
   ],
   "source": [
    "sns.set(rc={'figure.figsize':(12,4)})\n",
    "\n",
    "sns.histplot(np.log(test_paid_rev), color='r')\n",
    "sns.histplot(np.log(c1_paid_rev),  )\n",
    "\n",
    "plt.show()"
   ]
  },
  {
   "cell_type": "code",
   "execution_count": null,
   "metadata": {},
   "outputs": [],
   "source": []
  },
  {
   "cell_type": "markdown",
   "metadata": {},
   "source": [
    "Test distribution (red) is slightly further to the right than the blue (almost the same)\n",
    "But, given the t_test and mw tests - there is significant effect. Now let's see the ARPPU values."
   ]
  },
  {
   "cell_type": "code",
   "execution_count": 123,
   "metadata": {},
   "outputs": [
    {
     "name": "stdout",
     "output_type": "stream",
     "text": [
      "ARPPU for each group:\n",
      "Test     : 15759.027397260274\n",
      "Control_1: 13444.098958333334\n",
      "Control_2: 10269.72192513369\n"
     ]
    }
   ],
   "source": [
    "print('ARPPU for each group:')\n",
    "print('Test     : ' + str(test_paid_rev.mean() ))\n",
    "print('Control_1: ' + str(c1_paid_rev.mean() ))\n",
    "print('Control_2: ' + str(c2_paid_rev.mean() ))"
   ]
  },
  {
   "cell_type": "markdown",
   "metadata": {},
   "source": [
    "Test group has higher ARPPU"
   ]
  },
  {
   "cell_type": "code",
   "execution_count": null,
   "metadata": {},
   "outputs": [],
   "source": []
  },
  {
   "cell_type": "code",
   "execution_count": null,
   "metadata": {},
   "outputs": [],
   "source": []
  },
  {
   "cell_type": "code",
   "execution_count": null,
   "metadata": {},
   "outputs": [],
   "source": []
  },
  {
   "cell_type": "code",
   "execution_count": null,
   "metadata": {},
   "outputs": [],
   "source": []
  },
  {
   "cell_type": "code",
   "execution_count": null,
   "metadata": {},
   "outputs": [],
   "source": []
  }
 ],
 "metadata": {
  "kernelspec": {
   "display_name": "Python 3",
   "language": "python",
   "name": "python3"
  },
  "language_info": {
   "codemirror_mode": {
    "name": "ipython",
    "version": 3
   },
   "file_extension": ".py",
   "mimetype": "text/x-python",
   "name": "python",
   "nbconvert_exporter": "python",
   "pygments_lexer": "ipython3",
   "version": "3.8.5"
  }
 },
 "nbformat": 4,
 "nbformat_minor": 4
}
