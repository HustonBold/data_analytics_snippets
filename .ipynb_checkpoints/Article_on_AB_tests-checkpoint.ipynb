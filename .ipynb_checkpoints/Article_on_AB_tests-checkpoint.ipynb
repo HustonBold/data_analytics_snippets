{
 "cells": [
  {
   "cell_type": "code",
   "execution_count": null,
   "metadata": {},
   "outputs": [],
   "source": []
  },
  {
   "cell_type": "markdown",
   "metadata": {},
   "source": [
    "Перед тем как запустить рассылку на всех активных клиентов, нужно проверить её эффективность с помощью AB эксперимента.\n",
    "\n",
    "В самом простом сценарии для этого потребуется:\n",
    "\n",
    "Определить целевую метрику.\n",
    "\n",
    "Сформулировать статистическую гипотезу и критерий её проверки.\n",
    "\n",
    "Зафиксировать минимальный ожидаемый эффект и допустимые вероятности ошибок I и II рода.\n",
    "\n",
    "Оценить необходимый размер групп.\n",
    "\n",
    "Сформировать экспериментальную и контрольную группу.\n",
    "\n",
    "Провести эксперимент.\n",
    "\n",
    "Оценить результаты эксперимента."
   ]
  },
  {
   "cell_type": "markdown",
   "metadata": {},
   "source": [
    "Напомним, что ошибка первого рода - это событие, заключающееся в том, что мы говорим, что эффект есть, когда его нет. Ошибка второго рода - событие, заключающееся в том, что мы говорим, что эффекта нет, когда на самом деле он есть.\n",
    "\n"
   ]
  },
  {
   "cell_type": "code",
   "execution_count": null,
   "metadata": {},
   "outputs": [],
   "source": []
  },
  {
   "cell_type": "markdown",
   "metadata": {},
   "source": []
  },
  {
   "cell_type": "markdown",
   "metadata": {},
   "source": [
    "4. Оценить необходимый размер групп\n"
   ]
  },
  {
   "cell_type": "code",
   "execution_count": null,
   "metadata": {},
   "outputs": [],
   "source": [
    "import numpy as np    \n",
    "from scipy import stats\n",
    "\n",
    "alpha = 0.05                    # вероятность ошибки I рода\n",
    "beta = 0.2                      # вероятность ошибки II рода\n",
    "mu_control = 2500               # средняя выручка с пользователя в контрольной группе\n",
    "effect = 100                    # размер эффекта\n",
    "mu_pilot = mu_control + effect  # средняя выручка с пользователя в экспериментальной группе\n",
    "std = 800                       # стандартное отклонение\n",
    "\n",
    "t_alpha = stats.norm.ppf(1 - alpha / 2, loc=0, scale=1)\n",
    "t_beta = stats.norm.ppf(1 - beta, loc=0, scale=1)\n",
    "var = 2 * std ** 2\n",
    "sample_size = int((t_alpha + t_beta) ** 2 * var / (effect ** 2))\n",
    "print(f'sample_size = {sample_size}')"
   ]
  },
  {
   "cell_type": "code",
   "execution_count": null,
   "metadata": {},
   "outputs": [],
   "source": []
  },
  {
   "cell_type": "code",
   "execution_count": 2,
   "metadata": {},
   "outputs": [
    {
     "name": "stdout",
     "output_type": "stream",
     "text": [
      "part_first_type_errors = 0.053\n",
      "part_second_type_errors = 0.165\n"
     ]
    }
   ],
   "source": [
    "first_type_errors = []\n",
    "second_type_errors = []\n",
    " \n",
    "sample_size = 1100\n",
    " \n",
    "for _ in range(10000):\n",
    "    control_one = np.random.normal(mu_control, std, sample_size)\n",
    "    control_two = np.random.normal(mu_control, std, sample_size)\n",
    "    pilot = np.random.normal(mu_pilot, std, sample_size)\n",
    "    _, pvalue_aa = stats.ttest_ind(control_one, control_two)\n",
    "    first_type_errors.append(pvalue_aa < alpha)\n",
    "    _, pvalue_ab = stats.ttest_ind(control_one, pilot)\n",
    "    second_type_errors.append(pvalue_ab >= alpha)\n",
    "\n",
    "part_first_type_errors = np.mean(first_type_errors)\n",
    "part_second_type_errors = np.mean(second_type_errors)\n",
    "print(f'part_first_type_errors = {part_first_type_errors:0.3f}')\n",
    "print(f'part_second_type_errors = {part_second_type_errors:0.3f}')"
   ]
  },
  {
   "cell_type": "code",
   "execution_count": null,
   "metadata": {},
   "outputs": [],
   "source": [
    "part_first_type_errors = 0.052\n",
    "part_second_type_errors = 0.200"
   ]
  },
  {
   "cell_type": "code",
   "execution_count": null,
   "metadata": {},
   "outputs": [],
   "source": []
  },
  {
   "cell_type": "markdown",
   "metadata": {},
   "source": [
    "5. Сформировать экспериментальную и контрольную группы\n"
   ]
  },
  {
   "cell_type": "markdown",
   "metadata": {},
   "source": [
    "Пусть у нас всего 10 тысяч пользователей, тогда выбрать людей для эксперимента можно следующим кодом\n",
    " Это можно сделать случайным образом. Такой подход к формированию групп называется случайным семплированием.\n"
   ]
  },
  {
   "cell_type": "code",
   "execution_count": 3,
   "metadata": {},
   "outputs": [],
   "source": [
    "user_ids = np.arange(10000)\n",
    "control_user_ids, pilot_user_ids = np.random.choice(\n",
    "    user_ids, (2, sample_size), replace=False\n",
    ")"
   ]
  },
  {
   "cell_type": "code",
   "execution_count": null,
   "metadata": {},
   "outputs": [],
   "source": []
  },
  {
   "cell_type": "code",
   "execution_count": null,
   "metadata": {},
   "outputs": [],
   "source": []
  },
  {
   "cell_type": "markdown",
   "metadata": {},
   "source": [
    "При случайном распределении пользователей по группам размеры страт могут оказаться неравным: количество пользователей первой страты в контрольной группе может оказаться больше чем в экспериментальной, и наоборот. Это может привести к неверным результатам при оценке пилота, так как средние значения метрики в стратах отличаются.\n",
    "Есть простое решение. Можно составить контрольную и пилотную группы таким образом, что доли каждой страты будут равны долям страт в популяции.\n",
    "\n",
    "Технически это сделать довольно просто. Сначала определим, какое количество представителей страт нам нужно в каждой группе, для этого перемножим размер групп с долями страт в генеральной совокупности. В нашем случае получаем для обеих страт 1100*0.5=550.\n",
    "\n",
    "Проведём синтетические AA и AB эксперименты для случайного и стратифицированного семплирования, посмотрим как будут отличаться вероятности ошибок.\n",
    "\n",
    "\n"
   ]
  },
  {
   "cell_type": "code",
   "execution_count": 5,
   "metadata": {},
   "outputs": [],
   "source": [
    "\n",
    "import pandas as pd\n",
    "\n",
    "def get_stratified_data(strat_to_param, effect=0):\n",
    "    \"\"\"Генерирует данные стратифицированным семплированием.\n",
    "\n",
    "    Возвращает датафрейм со значениями метрики и страт пользователей\n",
    "    в контрольной и экспериментальной группах.\n",
    "\n",
    "    strat_to_param - словарь с параметрами страт\n",
    "    effect - размер эффекта\n",
    "    \"\"\"\n",
    "    control, pilot = [], []\n",
    "    for strat, (n, mu, std) in strat_to_param.items():\n",
    "        control += [\n",
    "            (x, strat,) for x in np.random.normal(mu, std, n)\n",
    "        ]\n",
    "        pilot += [\n",
    "            (x, strat,) for x in np.random.normal(mu + effect, std, n)\n",
    "        ]\n",
    "    columns = ['value', 'strat']\n",
    "    control_df = pd.DataFrame(control, columns=columns)\n",
    "    pilot_df = pd.DataFrame(pilot, columns=columns)\n",
    "    return control_df, pilot_df\n",
    " \n",
    " \n",
    "def get_random_data(strats, sample_size, strat_to_param, effect=0):\n",
    "    \"\"\"Генерирует данные случайным семплированием.\n",
    "\n",
    "    Возвращает датафрейм со значениями метрики и страт пользователей\n",
    "    в контрольной и экспериментальной группах.\n",
    "\n",
    "    strats - cписок страт в популяции\n",
    "    sample_size - размеры групп\n",
    "    strat_to_param - словарь с параметрами страт\n",
    "    effect - размер эффекта\n",
    "    \"\"\"\n",
    "    control_strats, pilot_strats = np.random.choice(\n",
    "        strats, (2, sample_size), False\n",
    "    )\n",
    "    control, pilot = [], []\n",
    "    for strat, (n, mu, std) in strat_to_param.items():\n",
    "        n_control_ = np.sum(control_strats == strat)\n",
    "        control += [\n",
    "            (x, strat,) for x in np.random.normal(mu, std, n_control_)\n",
    "        ]\n",
    "        n_pilot_ = np.sum(pilot_strats == strat)\n",
    "        pilot += [\n",
    "            (x, strat,) for x in np.random.normal(mu + effect, std, n_pilot_)\n",
    "        ]\n",
    "    columns = ['value', 'strat']\n",
    "    control_df = pd.DataFrame(control, columns=columns)\n",
    "    pilot_df = pd.DataFrame(pilot, columns=columns)\n",
    "    return control_df, pilot_df\n",
    "\n",
    "\n",
    "def ttest(a: pd.DataFrame, b: pd.DataFrame) -> float:\n",
    "    \"\"\"Возвращает pvalue теста Стьюдента.\n",
    "  \n",
    "    a, b - данные пользователей контрольной и экспериментальной групп\n",
    "    \"\"\"\n",
    "    _, pvalue = stats.ttest_ind(a['value'].values, b['value'].values)\n",
    "    return pvalue"
   ]
  },
  {
   "cell_type": "code",
   "execution_count": null,
   "metadata": {},
   "outputs": [],
   "source": []
  },
  {
   "cell_type": "code",
   "execution_count": null,
   "metadata": {},
   "outputs": [],
   "source": []
  },
  {
   "cell_type": "code",
   "execution_count": null,
   "metadata": {},
   "outputs": [],
   "source": []
  },
  {
   "cell_type": "code",
   "execution_count": 6,
   "metadata": {},
   "outputs": [
    {
     "name": "stdout",
     "output_type": "stream",
     "text": [
      "part_random_first_type_errors = 0.054\n",
      "part_stratified_first_type_errors = 0.012\n"
     ]
    }
   ],
   "source": [
    "alpha = 0.05                        # уровень значимости\n",
    "N = 10000                           # количество пользователей в популяции\n",
    "w_one, w_two = 0.5, 0.5             # доли страт в популяции\n",
    "N_one = int(N * w_one)              # количество пользователей первой страты\n",
    "N_two = int(N * w_two)              # количество пользователей второй страты\n",
    "mu_one, mu_two = 2000, 3000         # средние выручки в стратах\n",
    "std_one, std_two = 625, 625         # стандартное отклонение в стратах\n",
    "\n",
    "# список страт в популяции\n",
    "strats = [1 for _ in range(N_one)] + [2 for _ in range(N_two)]\n",
    "\n",
    "# размер групп эксперимента\n",
    "sample_size = 1100\n",
    "sample_size_one = int(sample_size * w_one)\n",
    "sample_size_two = int(sample_size * w_two)\n",
    "\n",
    "# маппинг параметров страт\n",
    "strat_to_param = {\n",
    "    1: (sample_size_one, mu_one, std_one,),\n",
    "    2: (sample_size_two, mu_two, std_two,)\n",
    "}\n",
    "\n",
    "random_first_type_errors = []\n",
    "stratified_first_type_errors = []\n",
    "random_deltas = []\n",
    "stratified_deltas = []\n",
    "\n",
    "for _ in range(10000):\n",
    "    control_random, pilot_random = get_random_data(\n",
    "        strats, sample_size, strat_to_param\n",
    "    )\n",
    "    control_stratified, pilot_stratified = get_stratified_data(\n",
    "        strat_to_param\n",
    "    )\n",
    "    random_deltas.append(\n",
    "        pilot_random['value'].mean() - control_random['value'].mean()\n",
    "    )\n",
    "    stratified_deltas.append(\n",
    "        pilot_stratified['value'].mean() - control_stratified['value'].mean()\n",
    "    )\n",
    "\n",
    "    pvalue_random = ttest(control_random, pilot_random)\n",
    "    random_first_type_errors.append(pvalue_random < alpha)\n",
    "    pvalue_stratified = ttest(control_stratified, pilot_stratified)\n",
    "    stratified_first_type_errors.append(pvalue_stratified < alpha)\n",
    " \n",
    "part_random_first_type_errors = np.mean(random_first_type_errors)\n",
    "part_stratified_first_type_errors = np.mean(stratified_first_type_errors)\n",
    "print(f'part_random_first_type_errors = {part_random_first_type_errors:0.3f}')\n",
    "print(f'part_stratified_first_type_errors = {part_stratified_first_type_errors:0.3f}')\n"
   ]
  },
  {
   "cell_type": "markdown",
   "metadata": {},
   "source": [
    "Стратифицированное семплирование снизило вероятность ошибки первого рода более чем в 4 раза!\n",
    "\n"
   ]
  },
  {
   "cell_type": "code",
   "execution_count": null,
   "metadata": {},
   "outputs": [],
   "source": []
  },
  {
   "cell_type": "code",
   "execution_count": 7,
   "metadata": {},
   "outputs": [
    {
     "data": {
      "text/plain": [
       "<seaborn.axisgrid.FacetGrid at 0x7fb3d3282370>"
      ]
     },
     "execution_count": 7,
     "metadata": {},
     "output_type": "execute_result"
    },
    {
     "data": {
      "image/png": "[encoded data removed]",
      "text/plain": [
       "<Figure size 476.75x360 with 1 Axes>"
      ]
     },
     "metadata": {
      "needs_background": "light"
     },
     "output_type": "display_data"
    }
   ],
   "source": [
    "import seaborn as sns\n",
    "\n",
    "sns.displot(\n",
    "    {'random_deltas': random_deltas, 'stratified_deltas': stratified_deltas},\n",
    "    kind='kde'\n",
    ")"
   ]
  },
  {
   "cell_type": "markdown",
   "metadata": {},
   "source": [
    "Распределение разницы средних при стратифицированном семплировании имеет менее тяжёлые хвосты и соответственно меньшую дисперсию, что и приводит к уменьшению количества ошибок первого рода.\n",
    "\n"
   ]
  },
  {
   "cell_type": "markdown",
   "metadata": {},
   "source": [
    "Оценим вероятности ошибок второго рода, искусственно добавив эффект к экспериментальной группе.\n",
    "\n"
   ]
  },
  {
   "cell_type": "code",
   "execution_count": null,
   "metadata": {},
   "outputs": [],
   "source": []
  },
  {
   "cell_type": "code",
   "execution_count": 8,
   "metadata": {},
   "outputs": [
    {
     "name": "stdout",
     "output_type": "stream",
     "text": [
      "part_random_second_type_errors = 0.160\n",
      "part_stratified_second_type_errors = 0.109\n"
     ]
    }
   ],
   "source": [
    "effect = 100\n",
    "random_second_type_errors = []\n",
    "stratified_second_type_errors = []\n",
    "\n",
    "for _ in range(10000):\n",
    "    control_random, pilot_random = get_random_data(\n",
    "        strats, sample_size, strat_to_param, effect\n",
    "    )\n",
    "    control_stratified, pilot_stratified = get_stratified_data(\n",
    "        strat_to_param, effect\n",
    "    )\n",
    "    pvalue_random = ttest(control_random, pilot_random)\n",
    "    random_second_type_errors.append(pvalue_random >= alpha)\n",
    "    pvalue_stratified = ttest(control_stratified, pilot_stratified)\n",
    "    stratified_second_type_errors.append(pvalue_stratified >= alpha)\n",
    " \n",
    "part_random_second_type_errors = np.mean(random_second_type_errors)\n",
    "part_stratified_second_type_errors = np.mean(stratified_second_type_errors)\n",
    "print(f'part_random_second_type_errors = {part_random_second_type_errors:0.3f}')\n",
    "print(f'part_stratified_second_type_errors = {part_stratified_second_type_errors:0.3f}')\n"
   ]
  },
  {
   "cell_type": "code",
   "execution_count": null,
   "metadata": {},
   "outputs": [],
   "source": [
    "part_random_second_type_errors = 0.167\n",
    "part_stratified_second_type_errors = 0.109"
   ]
  }
 ],
 "metadata": {
  "kernelspec": {
   "display_name": "Python 3",
   "language": "python",
   "name": "python3"
  },
  "language_info": {
   "codemirror_mode": {
    "name": "ipython",
    "version": 3
   },
   "file_extension": ".py",
   "mimetype": "text/x-python",
   "name": "python",
   "nbconvert_exporter": "python",
   "pygments_lexer": "ipython3",
   "version": "3.8.5"
  }
 },
 "nbformat": 4,
 "nbformat_minor": 4
}
