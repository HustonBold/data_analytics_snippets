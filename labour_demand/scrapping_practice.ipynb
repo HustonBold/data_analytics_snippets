{
 "cells": [
  {
   "cell_type": "code",
   "execution_count": null,
   "metadata": {},
   "outputs": [],
   "source": []
  },
  {
   "cell_type": "code",
   "execution_count": 10,
   "metadata": {},
   "outputs": [],
   "source": [
    "# main selenium libraries\n",
    "from selenium import webdriver\n",
    "from selenium.webdriver import Chrome\n",
    "from selenium.webdriver.chrome.options import Options\n",
    "from selenium.webdriver.common.by import By\n",
    "\n",
    "from selenium.webdriver.common.keys import Keys\n",
    "from selenium.webdriver.support.ui import WebDriverWait as wait\n",
    "from selenium.webdriver.support import expected_conditions as EC \n",
    "from selenium.common.exceptions import NoSuchElementException\n",
    "from bs4 import BeautifulSoup\n",
    "from time import sleep\n",
    "from tqdm import tqdm\n",
    "\n"
   ]
  },
  {
   "cell_type": "code",
   "execution_count": 103,
   "metadata": {},
   "outputs": [],
   "source": [
    "#  chrome \n",
    "chrome_options = webdriver.ChromeOptions()\n",
    "chrome_options.add_argument('--disable-extensions')\n",
    "chrome = webdriver.Chrome(options=chrome_options)"
   ]
  },
  {
   "cell_type": "code",
   "execution_count": 107,
   "metadata": {},
   "outputs": [],
   "source": [
    "url = 'https://hh.ru/search/vacancy?L_save_area=true&text=%D0%B0%D1%83%D0%B4%D0%B8%D1%82&search_field=name&search_field=description&excluded_text=&area=1&salary=&currency_code=RUR&experience=doesNotMatter&order_by=relevance&search_period=30&items_on_page=100'\n",
    "\n",
    "chrome.get(url)"
   ]
  },
  {
   "cell_type": "code",
   "execution_count": 111,
   "metadata": {},
   "outputs": [],
   "source": [
    "# main cycle\n",
    "# search\n",
    "input_tab = chrome.find_element(By.ID, 'a11y-search-input')\n",
    "sleep(0.2)\n",
    "# chrome.find_element(By.XPATH, '/html/body/div[13]/div/div/div[1]/form/fieldset/span/button/svg').click()\n",
    "input_tab.clear()\n",
    "input_tab.send_keys('аналитик данных')\n",
    "sleep(0.2)\n",
    "chrome.find_element(By.XPATH, '//*[@id=\"supernova_search_form\"]/div/div[2]/button/span/span[2]').click()\n",
    "\n",
    "\n"
   ]
  },
  {
   "cell_type": "code",
   "execution_count": 152,
   "metadata": {},
   "outputs": [],
   "source": [
    "cards = chrome.find_elements(By.CLASS_NAME, 'serp-item__title')\n"
   ]
  },
  {
   "cell_type": "code",
   "execution_count": 157,
   "metadata": {},
   "outputs": [
    {
     "ename": "NoSuchFrameException",
     "evalue": "Message: no such frame\n  (Session info: chrome=119.0.6045.199)\nStacktrace:\n0   chromedriver                        0x000000010486e004 chromedriver + 4169732\n1   chromedriver                        0x0000000104865ff8 chromedriver + 4136952\n2   chromedriver                        0x00000001044bb348 chromedriver + 291656\n3   chromedriver                        0x00000001044c36d4 chromedriver + 325332\n4   chromedriver                        0x000000010453d008 chromedriver + 823304\n5   chromedriver                        0x000000010453b818 chromedriver + 817176\n6   chromedriver                        0x00000001044f45e8 chromedriver + 525800\n7   chromedriver                        0x00000001044f54b8 chromedriver + 529592\n8   chromedriver                        0x0000000104834334 chromedriver + 3932980\n9   chromedriver                        0x0000000104838970 chromedriver + 3950960\n10  chromedriver                        0x000000010481c774 chromedriver + 3835764\n11  chromedriver                        0x0000000104839478 chromedriver + 3953784\n12  chromedriver                        0x000000010480eab4 chromedriver + 3779252\n13  chromedriver                        0x0000000104855914 chromedriver + 4069652\n14  chromedriver                        0x0000000104855a90 chromedriver + 4070032\n15  chromedriver                        0x0000000104865c70 chromedriver + 4136048\n16  libsystem_pthread.dylib             0x0000000190809034 _pthread_start + 136\n17  libsystem_pthread.dylib             0x0000000190803e3c thread_start + 8\n",
     "output_type": "error",
     "traceback": [
      "\u001b[0;31m---------------------------------------------------------------------------\u001b[0m",
      "\u001b[0;31mNoSuchFrameException\u001b[0m                      Traceback (most recent call last)",
      "\u001b[1;32m/Users/igorrudakov/python_projects/labour_demand/scrapping_practice.ipynb Cell 7\u001b[0m line \u001b[0;36m3\n\u001b[1;32m      <a href='vscode-notebook-cell:/Users/igorrudakov/python_projects/labour_demand/scrapping_practice.ipynb#X22sZmlsZQ%3D%3D?line=0'>1</a>\u001b[0m \u001b[39m# inside card\u001b[39;00m\n\u001b[1;32m      <a href='vscode-notebook-cell:/Users/igorrudakov/python_projects/labour_demand/scrapping_practice.ipynb#X22sZmlsZQ%3D%3D?line=1'>2</a>\u001b[0m \u001b[39m# cards[1].click()\u001b[39;00m\n\u001b[0;32m----> <a href='vscode-notebook-cell:/Users/igorrudakov/python_projects/labour_demand/scrapping_practice.ipynb#X22sZmlsZQ%3D%3D?line=2'>3</a>\u001b[0m chrome\u001b[39m.\u001b[39;49mswitch_to\u001b[39m.\u001b[39;49mframe(\u001b[39m1\u001b[39;49m)\n\u001b[1;32m      <a href='vscode-notebook-cell:/Users/igorrudakov/python_projects/labour_demand/scrapping_practice.ipynb#X22sZmlsZQ%3D%3D?line=3'>4</a>\u001b[0m \u001b[39m# chrome.find_elements(By.CLASS_NAME , 'bloko-tag__section bloko-tag__section_text')\u001b[39;00m\n\u001b[1;32m      <a href='vscode-notebook-cell:/Users/igorrudakov/python_projects/labour_demand/scrapping_practice.ipynb#X22sZmlsZQ%3D%3D?line=4'>5</a>\u001b[0m chrome\u001b[39m.\u001b[39mfind_elements(By\u001b[39m.\u001b[39mXPATH , \u001b[39m'\u001b[39m\u001b[39m//*[@id=\u001b[39m\u001b[39m\"\u001b[39m\u001b[39mHH-React-Root\u001b[39m\u001b[39m\"\u001b[39m\u001b[39m]/div/div[4]/div[1]/div/div/div/div/div/div[4]/div/div/div[3]/div[2]/div/div[1]/span\u001b[39m\u001b[39m'\u001b[39m)\n",
      "File \u001b[0;32m~/.pyenv/versions/3.10.0/envs/ds_course/lib/python3.10/site-packages/selenium/webdriver/remote/switch_to.py:95\u001b[0m, in \u001b[0;36mSwitchTo.frame\u001b[0;34m(self, frame_reference)\u001b[0m\n\u001b[1;32m     92\u001b[0m         \u001b[39mexcept\u001b[39;00m NoSuchElementException \u001b[39mas\u001b[39;00m exc:\n\u001b[1;32m     93\u001b[0m             \u001b[39mraise\u001b[39;00m NoSuchFrameException(frame_reference) \u001b[39mfrom\u001b[39;00m \u001b[39mexc\u001b[39;00m\n\u001b[0;32m---> 95\u001b[0m \u001b[39mself\u001b[39;49m\u001b[39m.\u001b[39;49m_driver\u001b[39m.\u001b[39;49mexecute(Command\u001b[39m.\u001b[39;49mSWITCH_TO_FRAME, {\u001b[39m\"\u001b[39;49m\u001b[39mid\u001b[39;49m\u001b[39m\"\u001b[39;49m: frame_reference})\n",
      "File \u001b[0;32m~/.pyenv/versions/3.10.0/envs/ds_course/lib/python3.10/site-packages/selenium/webdriver/remote/webdriver.py:347\u001b[0m, in \u001b[0;36mWebDriver.execute\u001b[0;34m(self, driver_command, params)\u001b[0m\n\u001b[1;32m    345\u001b[0m response \u001b[39m=\u001b[39m \u001b[39mself\u001b[39m\u001b[39m.\u001b[39mcommand_executor\u001b[39m.\u001b[39mexecute(driver_command, params)\n\u001b[1;32m    346\u001b[0m \u001b[39mif\u001b[39;00m response:\n\u001b[0;32m--> 347\u001b[0m     \u001b[39mself\u001b[39;49m\u001b[39m.\u001b[39;49merror_handler\u001b[39m.\u001b[39;49mcheck_response(response)\n\u001b[1;32m    348\u001b[0m     response[\u001b[39m\"\u001b[39m\u001b[39mvalue\u001b[39m\u001b[39m\"\u001b[39m] \u001b[39m=\u001b[39m \u001b[39mself\u001b[39m\u001b[39m.\u001b[39m_unwrap_value(response\u001b[39m.\u001b[39mget(\u001b[39m\"\u001b[39m\u001b[39mvalue\u001b[39m\u001b[39m\"\u001b[39m, \u001b[39mNone\u001b[39;00m))\n\u001b[1;32m    349\u001b[0m     \u001b[39mreturn\u001b[39;00m response\n",
      "File \u001b[0;32m~/.pyenv/versions/3.10.0/envs/ds_course/lib/python3.10/site-packages/selenium/webdriver/remote/errorhandler.py:229\u001b[0m, in \u001b[0;36mErrorHandler.check_response\u001b[0;34m(self, response)\u001b[0m\n\u001b[1;32m    227\u001b[0m         alert_text \u001b[39m=\u001b[39m value[\u001b[39m\"\u001b[39m\u001b[39malert\u001b[39m\u001b[39m\"\u001b[39m]\u001b[39m.\u001b[39mget(\u001b[39m\"\u001b[39m\u001b[39mtext\u001b[39m\u001b[39m\"\u001b[39m)\n\u001b[1;32m    228\u001b[0m     \u001b[39mraise\u001b[39;00m exception_class(message, screen, stacktrace, alert_text)  \u001b[39m# type: ignore[call-arg]  # mypy is not smart enough here\u001b[39;00m\n\u001b[0;32m--> 229\u001b[0m \u001b[39mraise\u001b[39;00m exception_class(message, screen, stacktrace)\n",
      "\u001b[0;31mNoSuchFrameException\u001b[0m: Message: no such frame\n  (Session info: chrome=119.0.6045.199)\nStacktrace:\n0   chromedriver                        0x000000010486e004 chromedriver + 4169732\n1   chromedriver                        0x0000000104865ff8 chromedriver + 4136952\n2   chromedriver                        0x00000001044bb348 chromedriver + 291656\n3   chromedriver                        0x00000001044c36d4 chromedriver + 325332\n4   chromedriver                        0x000000010453d008 chromedriver + 823304\n5   chromedriver                        0x000000010453b818 chromedriver + 817176\n6   chromedriver                        0x00000001044f45e8 chromedriver + 525800\n7   chromedriver                        0x00000001044f54b8 chromedriver + 529592\n8   chromedriver                        0x0000000104834334 chromedriver + 3932980\n9   chromedriver                        0x0000000104838970 chromedriver + 3950960\n10  chromedriver                        0x000000010481c774 chromedriver + 3835764\n11  chromedriver                        0x0000000104839478 chromedriver + 3953784\n12  chromedriver                        0x000000010480eab4 chromedriver + 3779252\n13  chromedriver                        0x0000000104855914 chromedriver + 4069652\n14  chromedriver                        0x0000000104855a90 chromedriver + 4070032\n15  chromedriver                        0x0000000104865c70 chromedriver + 4136048\n16  libsystem_pthread.dylib             0x0000000190809034 _pthread_start + 136\n17  libsystem_pthread.dylib             0x0000000190803e3c thread_start + 8\n"
     ]
    }
   ],
   "source": [
    "# inside card\n",
    "# cards[1].click()\n",
    "chrome.switch_to.frame(1)\n",
    "# chrome.find_elements(By.CLASS_NAME , 'bloko-tag__section bloko-tag__section_text')\n",
    "chrome.find_elements(By.XPATH , '//*[@id=\"HH-React-Root\"]/div/div[4]/div[1]/div/div/div/div/div/div[4]/div/div/div[3]/div[2]/div/div[1]/span')\n",
    "\n",
    "\n",
    "# soup = BeautifulSoup(inside.page_source, 'lxml')\n"
   ]
  },
  {
   "cell_type": "code",
   "execution_count": null,
   "metadata": {},
   "outputs": [],
   "source": [
    "browser.find_element('xpath','/html/body/div[5]/div/div[4]/div[1]/div[1]/div[3]/div[2]/div[1]/div/main/div[1]/div[2]/div/div[1]/div/div[1]/h3/span/a).click()\n",
    "\n",
    "serp-item\n",
    "\n",
    "browser = webdriver.Chrome()\n",
    "\n",
    "browser.maximize_window()\n",
    "hh = browser.get('https://hh.ru/search/vacancy?L_save_area=true&text=%D0%B0%D1%83%D0%B4%D0%B8%D1%82&search_field=name&search_field=description&excluded_text=&area=1&salary=&currency_code=RUR&experience=doesNotMatter&order_by=relevance&search_period=30&items_on_page=10')\n",
    "hh_links = browser.find_elements(\"xpath\", '//div[@class=\"serp-item\"]')\n",
    "for link in hh_links:\n",
    "    link.find_element(\"xpath\", '/html/body/div[5]/div/div[4]/div[1]/div[1]/div[3]/div[2]/div[1]/div/main/div[1]/div[2]/div/div[1]/div/div[1]/h3/span/a').click()"
   ]
  },
  {
   "cell_type": "code",
   "execution_count": null,
   "metadata": {},
   "outputs": [],
   "source": [
    "browser = webdriver.Chrome()\n",
    "\n",
    "browser.maximize_window()\n",
    "hh = browser.get('https://hh.ru/search/vacancy?L_save_area=true&text=%D0%B0%D1%83%D0%B4%D0%B8%D1%82&search_field=name&search_field=description&excluded_text=&area=1&salary=&currency_code=RUR&experience=doesNotMatter&order_by=relevance&search_period=30&items_on_page=10')\n",
    "hh_links = browser.find_elements(\"xpath\", '//div[@class=\"serp-item\"]')\n",
    "for link in hh_links:\n",
    "    address = link.find_element(\"xpath\", '/html/body/div[5]/div/div[4]/div[1]/div[1]/div[3]/div[2]/div[1]/div/main/div[1]/div[2]/div/div[1]/div/div[1]/h3/span/a').text\n",
    "    try:\n",
    "        link.find_element(By.LINK_TEXT, address).get_attribute('href')\n",
    "        print(adress_link)\n",
    "    except:\n",
    "        print(1)"
   ]
  },
  {
   "cell_type": "code",
   "execution_count": 150,
   "metadata": {},
   "outputs": [
    {
     "data": {
      "text/plain": [
       "[]"
      ]
     },
     "execution_count": 150,
     "metadata": {},
     "output_type": "execute_result"
    }
   ],
   "source": [
    "cards"
   ]
  },
  {
   "cell_type": "code",
   "execution_count": null,
   "metadata": {},
   "outputs": [],
   "source": []
  }
 ],
 "metadata": {
  "kernelspec": {
   "display_name": "ds_course",
   "language": "python",
   "name": "python3"
  },
  "language_info": {
   "codemirror_mode": {
    "name": "ipython",
    "version": 3
   },
   "file_extension": ".py",
   "mimetype": "text/x-python",
   "name": "python",
   "nbconvert_exporter": "python",
   "pygments_lexer": "ipython3",
   "version": "3.10.0"
  },
  "orig_nbformat": 4
 },
 "nbformat": 4,
 "nbformat_minor": 2
}
