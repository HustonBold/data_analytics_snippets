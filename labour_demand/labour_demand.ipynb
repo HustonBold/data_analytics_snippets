{
 "cells": [
  {
   "cell_type": "code",
   "execution_count": null,
   "metadata": {},
   "outputs": [],
   "source": []
  },
  {
   "cell_type": "markdown",
   "metadata": {},
   "source": [
    "### The flow and description\n",
    "\n",
    "The flow\n",
    "1) Getting the data from Job Board - HH\n",
    "2) Cleaning the data\n",
    "3) Storing them in a single dataframe\n",
    "4) Uploading the dataframe into my Database\n",
    "5) Running descriptive analysis\n",
<<<<<<< HEAD
    "6) Tech stack extraction using OpenAi ChatGPT\n",
    "7) Manually grouping extracted stack into categories\n",
    "8) Applying out-of-box linear regression to assess "
=======
    "6) Skill extraction using OpenAi ChatGPT"
>>>>>>> c779717f6ef5a36e542c605b60de5c668c241dd0
   ]
  },
  {
   "cell_type": "code",
   "execution_count": null,
   "metadata": {},
   "outputs": [],
   "source": [
    "# checkpoint\n",
    "df = pd.read_csv('/Users/igorrudakov/Desktop/last_download_hh.csv')\n",
    "df.head().T"
   ]
  },
  {
   "cell_type": "code",
   "execution_count": null,
   "metadata": {},
   "outputs": [],
   "source": []
  },
  {
   "cell_type": "code",
   "execution_count": 2,
   "metadata": {},
   "outputs": [],
   "source": [
    "import requests      # Для запросов по API\n",
    "import json          # Для обработки полученных результатов\n",
    "import time          # Для задержки между запросами\n",
    "import os            # Для работы с файлами\n",
    "import pandas as pd  # Для формирования датафрейма с результатами\n"
   ]
  },
  {
   "cell_type": "code",
   "execution_count": null,
   "metadata": {},
   "outputs": [],
   "source": []
  },
  {
<<<<<<< HEAD
=======
   "cell_type": "code",
   "execution_count": null,
   "metadata": {},
   "outputs": [],
   "source": []
  },
  {
>>>>>>> c779717f6ef5a36e542c605b60de5c668c241dd0
   "cell_type": "markdown",
   "metadata": {},
   "source": [
    "# Getting the data from Job Boards"
   ]
  },
  {
   "cell_type": "markdown",
   "metadata": {},
   "source": [
    "## Head Hunter"
   ]
  },
  {
   "cell_type": "markdown",
   "metadata": {},
   "source": [
    "### Getting HeadHunter professional roles"
   ]
  },
  {
   "cell_type": "code",
<<<<<<< HEAD
   "execution_count": 91,
=======
   "execution_count": 5,
>>>>>>> c779717f6ef5a36e542c605b60de5c668c241dd0
   "metadata": {},
   "outputs": [
    {
     "data": {
      "text/html": [
       "<div>\n",
       "<style scoped>\n",
       "    .dataframe tbody tr th:only-of-type {\n",
       "        vertical-align: middle;\n",
       "    }\n",
       "\n",
       "    .dataframe tbody tr th {\n",
       "        vertical-align: top;\n",
       "    }\n",
       "\n",
       "    .dataframe thead th {\n",
       "        text-align: right;\n",
       "    }\n",
       "</style>\n",
       "<table border=\"1\" class=\"dataframe\">\n",
       "  <thead>\n",
       "    <tr style=\"text-align: right;\">\n",
       "      <th></th>\n",
       "      <th>categories</th>\n",
       "    </tr>\n",
       "  </thead>\n",
       "  <tbody>\n",
       "    <tr>\n",
       "      <th>0</th>\n",
       "      <td>{'id': '19', 'name': 'Автомобильный бизнес', '...</td>\n",
       "    </tr>\n",
       "    <tr>\n",
       "      <th>1</th>\n",
       "      <td>{'id': '5', 'name': 'Административный персонал...</td>\n",
       "    </tr>\n",
       "    <tr>\n",
       "      <th>2</th>\n",
       "      <td>{'id': '15', 'name': 'Безопасность', 'roles': ...</td>\n",
       "    </tr>\n",
       "    <tr>\n",
       "      <th>3</th>\n",
       "      <td>{'id': '26', 'name': 'Высший и средний менеджм...</td>\n",
       "    </tr>\n",
       "    <tr>\n",
       "      <th>4</th>\n",
       "      <td>{'id': '8', 'name': 'Добыча сырья', 'roles': [...</td>\n",
       "    </tr>\n",
       "  </tbody>\n",
       "</table>\n",
       "</div>"
      ],
      "text/plain": [
       "                                          categories\n",
       "0  {'id': '19', 'name': 'Автомобильный бизнес', '...\n",
       "1  {'id': '5', 'name': 'Административный персонал...\n",
       "2  {'id': '15', 'name': 'Безопасность', 'roles': ...\n",
       "3  {'id': '26', 'name': 'Высший и средний менеджм...\n",
       "4  {'id': '8', 'name': 'Добыча сырья', 'roles': [..."
      ]
     },
<<<<<<< HEAD
     "execution_count": 91,
=======
     "execution_count": 5,
>>>>>>> c779717f6ef5a36e542c605b60de5c668c241dd0
     "metadata": {},
     "output_type": "execute_result"
    }
   ],
   "source": [
    "# request to hh api\n",
    "def getProfRoles():\n",
    "    req = requests.get('https://api.hh.ru/professional_roles')\n",
    "    data = req.content.decode()\n",
    "    req.close()\n",
    "    return data\n",
    "\n",
    "prof_roles =  pd.read_json( getProfRoles() )\n",
    "prof_roles.head()"
   ]
  },
  {
   "cell_type": "code",
<<<<<<< HEAD
   "execution_count": 92,
=======
   "execution_count": 6,
>>>>>>> c779717f6ef5a36e542c605b60de5c668c241dd0
   "metadata": {},
   "outputs": [],
   "source": [
    "# parsing the json and creating a dataframe\n",
    "\n",
    "df_list = []\n",
    "\n",
    "for category in prof_roles[\"categories\"]:\n",
    "    for role in category[\"roles\"]:\n",
    "        df_list.append({\n",
    "            \"category_id\": category[\"id\"],\n",
    "            \"category_name\": category[\"name\"],\n",
    "            \"role_id\": role[\"id\"],\n",
    "            \"role_name\": role[\"name\"],\n",
    "            \"accept_incomplete_resumes\": role[\"accept_incomplete_resumes\"],\n",
    "            \"is_default\": role[\"is_default\"]\n",
    "        })\n",
    "\n",
    "\n",
    "prof_roles_df = pd.DataFrame(df_list)\n"
   ]
  },
  {
   "cell_type": "code",
<<<<<<< HEAD
   "execution_count": 93,
=======
   "execution_count": 7,
>>>>>>> c779717f6ef5a36e542c605b60de5c668c241dd0
   "metadata": {},
   "outputs": [
    {
     "data": {
      "text/html": [
       "<div>\n",
       "<style scoped>\n",
       "    .dataframe tbody tr th:only-of-type {\n",
       "        vertical-align: middle;\n",
       "    }\n",
       "\n",
       "    .dataframe tbody tr th {\n",
       "        vertical-align: top;\n",
       "    }\n",
       "\n",
       "    .dataframe thead th {\n",
       "        text-align: right;\n",
       "    }\n",
       "</style>\n",
       "<table border=\"1\" class=\"dataframe\">\n",
       "  <thead>\n",
       "    <tr style=\"text-align: right;\">\n",
       "      <th></th>\n",
       "      <th>parent_profession_id</th>\n",
       "      <th>parent_profession_name</th>\n",
       "      <th>role_id</th>\n",
       "      <th>role_name</th>\n",
       "      <th>accept_incomplete_resumes</th>\n",
       "      <th>is_default</th>\n",
       "    </tr>\n",
       "  </thead>\n",
       "  <tbody>\n",
       "    <tr>\n",
       "      <th>0</th>\n",
       "      <td>19</td>\n",
       "      <td>Автомобильный бизнес</td>\n",
       "      <td>4</td>\n",
       "      <td>Автомойщик</td>\n",
       "      <td>True</td>\n",
       "      <td>False</td>\n",
       "    </tr>\n",
       "    <tr>\n",
       "      <th>1</th>\n",
       "      <td>19</td>\n",
       "      <td>Автомобильный бизнес</td>\n",
       "      <td>5</td>\n",
       "      <td>Автослесарь, автомеханик</td>\n",
       "      <td>True</td>\n",
       "      <td>False</td>\n",
       "    </tr>\n",
       "    <tr>\n",
       "      <th>2</th>\n",
       "      <td>19</td>\n",
       "      <td>Автомобильный бизнес</td>\n",
       "      <td>62</td>\n",
       "      <td>Мастер-приемщик</td>\n",
       "      <td>True</td>\n",
       "      <td>False</td>\n",
       "    </tr>\n",
       "    <tr>\n",
       "      <th>3</th>\n",
       "      <td>19</td>\n",
       "      <td>Автомобильный бизнес</td>\n",
       "      <td>70</td>\n",
       "      <td>Менеджер по продажам, менеджер по работе с кли...</td>\n",
       "      <td>False</td>\n",
       "      <td>False</td>\n",
       "    </tr>\n",
       "    <tr>\n",
       "      <th>4</th>\n",
       "      <td>5</td>\n",
       "      <td>Административный персонал</td>\n",
       "      <td>8</td>\n",
       "      <td>Администратор</td>\n",
       "      <td>True</td>\n",
       "      <td>False</td>\n",
       "    </tr>\n",
       "  </tbody>\n",
       "</table>\n",
       "</div>"
      ],
      "text/plain": [
       "  parent_profession_id     parent_profession_name role_id  \\\n",
       "0                   19       Автомобильный бизнес       4   \n",
       "1                   19       Автомобильный бизнес       5   \n",
       "2                   19       Автомобильный бизнес      62   \n",
       "3                   19       Автомобильный бизнес      70   \n",
       "4                    5  Административный персонал       8   \n",
       "\n",
       "                                           role_name  \\\n",
       "0                                         Автомойщик   \n",
       "1                           Автослесарь, автомеханик   \n",
       "2                                    Мастер-приемщик   \n",
       "3  Менеджер по продажам, менеджер по работе с кли...   \n",
       "4                                      Администратор   \n",
       "\n",
       "   accept_incomplete_resumes  is_default  \n",
       "0                       True       False  \n",
       "1                       True       False  \n",
       "2                       True       False  \n",
       "3                      False       False  \n",
       "4                       True       False  "
      ]
     },
<<<<<<< HEAD
     "execution_count": 93,
=======
     "execution_count": 7,
>>>>>>> c779717f6ef5a36e542c605b60de5c668c241dd0
     "metadata": {},
     "output_type": "execute_result"
    }
   ],
   "source": [
    "# renaming the columns\n",
    "prof_roles_df = prof_roles_df.rename(columns={'category_id':'parent_profession_id',\n",
    "                              'category_name':'parent_profession_name'\n",
    "                              })\n",
    "prof_roles_df.head()"
   ]
  },
  {
   "cell_type": "code",
<<<<<<< HEAD
   "execution_count": 94,
=======
   "execution_count": 8,
>>>>>>> c779717f6ef5a36e542c605b60de5c668c241dd0
   "metadata": {},
   "outputs": [
    {
     "data": {
      "text/html": [
       "<div>\n",
       "<style scoped>\n",
       "    .dataframe tbody tr th:only-of-type {\n",
       "        vertical-align: middle;\n",
       "    }\n",
       "\n",
       "    .dataframe tbody tr th {\n",
       "        vertical-align: top;\n",
       "    }\n",
       "\n",
       "    .dataframe thead th {\n",
       "        text-align: right;\n",
       "    }\n",
       "</style>\n",
       "<table border=\"1\" class=\"dataframe\">\n",
       "  <thead>\n",
       "    <tr style=\"text-align: right;\">\n",
       "      <th></th>\n",
       "      <th>role_id</th>\n",
       "      <th>role_name</th>\n",
       "    </tr>\n",
       "  </thead>\n",
       "  <tbody>\n",
       "    <tr>\n",
       "      <th>0</th>\n",
       "      <td>4</td>\n",
       "      <td>Автомойщик</td>\n",
       "    </tr>\n",
       "    <tr>\n",
       "      <th>1</th>\n",
       "      <td>5</td>\n",
       "      <td>Автослесарь, автомеханик</td>\n",
       "    </tr>\n",
       "    <tr>\n",
       "      <th>2</th>\n",
       "      <td>62</td>\n",
       "      <td>Мастер-приемщик</td>\n",
       "    </tr>\n",
       "    <tr>\n",
       "      <th>3</th>\n",
       "      <td>70</td>\n",
       "      <td>Менеджер по продажам, менеджер по работе с кли...</td>\n",
       "    </tr>\n",
       "    <tr>\n",
       "      <th>4</th>\n",
       "      <td>8</td>\n",
       "      <td>Администратор</td>\n",
       "    </tr>\n",
       "  </tbody>\n",
       "</table>\n",
       "</div>"
      ],
      "text/plain": [
       "  role_id                                          role_name\n",
       "0       4                                         Автомойщик\n",
       "1       5                           Автослесарь, автомеханик\n",
       "2      62                                    Мастер-приемщик\n",
       "3      70  Менеджер по продажам, менеджер по работе с кли...\n",
       "4       8                                      Администратор"
      ]
     },
<<<<<<< HEAD
     "execution_count": 94,
=======
     "execution_count": 8,
>>>>>>> c779717f6ef5a36e542c605b60de5c668c241dd0
     "metadata": {},
     "output_type": "execute_result"
    }
   ],
   "source": [
    "# leaving only clear roles (droping the parent ids)\n",
    "\n",
    "prof_roles_df_short = prof_roles_df[['role_id','role_name']].drop_duplicates()\n",
    "prof_roles_df_short.head()"
   ]
  },
  {
   "cell_type": "code",
<<<<<<< HEAD
   "execution_count": 97,
   "metadata": {},
   "outputs": [
    {
     "data": {
      "text/html": [
       "<div>\n",
       "<style scoped>\n",
       "    .dataframe tbody tr th:only-of-type {\n",
       "        vertical-align: middle;\n",
       "    }\n",
       "\n",
       "    .dataframe tbody tr th {\n",
       "        vertical-align: top;\n",
       "    }\n",
       "\n",
       "    .dataframe thead th {\n",
       "        text-align: right;\n",
       "    }\n",
       "</style>\n",
       "<table border=\"1\" class=\"dataframe\">\n",
       "  <thead>\n",
       "    <tr style=\"text-align: right;\">\n",
       "      <th></th>\n",
       "      <th>role_id</th>\n",
       "      <th>role_name</th>\n",
       "    </tr>\n",
       "  </thead>\n",
       "  <tbody>\n",
       "    <tr>\n",
       "      <th>113</th>\n",
       "      <td>167</td>\n",
       "      <td>Методист</td>\n",
       "    </tr>\n",
       "  </tbody>\n",
       "</table>\n",
       "</div>"
      ],
      "text/plain": [
       "    role_id role_name\n",
       "113     167  Методист"
      ]
     },
     "execution_count": 97,
     "metadata": {},
     "output_type": "execute_result"
    }
   ],
   "source": [
    "prof_roles_df_short[prof_roles_df_short.role_id == '167']"
   ]
  },
  {
   "cell_type": "code",
=======
>>>>>>> c779717f6ef5a36e542c605b60de5c668c241dd0
   "execution_count": 40,
   "metadata": {},
   "outputs": [],
   "source": [
    "# saving to csv if needed\n",
    "# prof_roles_df_short.to_csv('/Users/igorrudakov/Desktop/roles_ids.csv')"
   ]
  },
  {
   "cell_type": "markdown",
   "metadata": {},
   "source": [
    "### Testing the API connection"
   ]
  },
  {
   "cell_type": "code",
<<<<<<< HEAD
   "execution_count": 8,
=======
   "execution_count": 405,
   "metadata": {},
   "outputs": [
    {
     "name": "stdout",
     "output_type": "stream",
     "text": [
      "{'id': '1', 'parent_id': '113', 'name': 'Москва', 'areas': []}\n"
     ]
    }
   ],
   "source": [
    "# you can find any area by using filter below\n",
    "for i in area_data[area_data.name == 'Россия'].areas[0]:\n",
    "    if i['name'] == 'Москва':\n",
    "        print(i)\n"
   ]
  },
  {
   "cell_type": "code",
   "execution_count": 6,
>>>>>>> c779717f6ef5a36e542c605b60de5c668c241dd0
   "metadata": {},
   "outputs": [],
   "source": [
    "# testing\n",
    "base_url = \"https://api.hh.ru/vacancies\"\n",
    "params = {\n",
    "        \"text\": '',         # Ключевые слова в вакансии (OR между ними)\n",
    "        'per_page': 10,      # Кол-во вакансий на 1 странице\n",
    "        'area': 1,\n",
    "        'professional_role': '10',\n",
    "        'page':1\n",
    "    }\n",
    "daga = requests.get(base_url, params=params)\n",
    "\n"
   ]
  },
  {
   "cell_type": "code",
<<<<<<< HEAD
   "execution_count": 9,
=======
   "execution_count": 7,
>>>>>>> c779717f6ef5a36e542c605b60de5c668c241dd0
   "metadata": {},
   "outputs": [
    {
     "data": {
      "text/plain": [
<<<<<<< HEAD
       "{'id': '92784497',\n",
       " 'premium': False,\n",
       " 'name': 'Аналитик',\n",
=======
       "{'id': '90595126',\n",
       " 'premium': False,\n",
       " 'name': 'Аналитик (удаленная работа)',\n",
>>>>>>> c779717f6ef5a36e542c605b60de5c668c241dd0
       " 'department': None,\n",
       " 'has_test': False,\n",
       " 'response_letter_required': False,\n",
       " 'area': {'id': '1', 'name': 'Москва', 'url': 'https://api.hh.ru/areas/1'},\n",
<<<<<<< HEAD
       " 'salary': None,\n",
       " 'type': {'id': 'open', 'name': 'Открытая'},\n",
       " 'address': None,\n",
       " 'response_url': None,\n",
       " 'sort_point_distance': None,\n",
       " 'published_at': '2024-02-06T18:14:48+0300',\n",
       " 'created_at': '2024-02-06T18:14:48+0300',\n",
       " 'archived': False,\n",
       " 'apply_alternate_url': 'https://hh.ru/applicant/vacancy_response?vacancyId=92784497',\n",
       " 'branding': {'type': 'MAKEUP', 'tariff': None},\n",
       " 'show_logo_in_search': True,\n",
       " 'insider_interview': None,\n",
       " 'url': 'https://api.hh.ru/vacancies/92784497?host=hh.ru',\n",
       " 'alternate_url': 'https://hh.ru/vacancy/92784497',\n",
       " 'relations': [],\n",
       " 'employer': {'id': '2804795',\n",
       "  'name': 'Мегамаркет',\n",
       "  'url': 'https://api.hh.ru/employers/2804795',\n",
       "  'alternate_url': 'https://hh.ru/employer/2804795',\n",
       "  'logo_urls': {'240': 'https://hhcdn.ru/employer-logo/6303011.png',\n",
       "   '90': 'https://hhcdn.ru/employer-logo/6303010.png',\n",
       "   'original': 'https://hhcdn.ru/employer-logo-original/1170644.png'},\n",
       "  'vacancies_url': 'https://api.hh.ru/vacancies?employer_id=2804795',\n",
       "  'accredited_it_employer': True,\n",
       "  'trusted': True},\n",
       " 'snippet': {'requirement': 'Опыт работы по направлению аналитики не менее 2х лет. Знание инструментов аналитики и моделирования. Excel (продвинутый) : power query, power...',\n",
       "  'responsibility': 'Анализ данных по заданным критериям. Разработка, автоматизация визуализация отчетности в Excel, Visiology. Ad-hoc аналитика. Построение прогнозов. Работа с Excel...'},\n",
       " 'contacts': None,\n",
       " 'schedule': {'id': 'fullDay', 'name': 'Полный день'},\n",
=======
       " 'salary': {'from': 92000, 'to': 115000, 'currency': 'RUR', 'gross': True},\n",
       " 'type': {'id': 'open', 'name': 'Открытая'},\n",
       " 'address': {'city': 'Москва',\n",
       "  'street': 'Калужско-Рижская линия',\n",
       "  'building': 'метро Профсоюзная',\n",
       "  'lat': 55.67793,\n",
       "  'lng': 37.562874,\n",
       "  'description': None,\n",
       "  'raw': 'Москва, Калужско-Рижская линия, метро Профсоюзная',\n",
       "  'metro': {'station_name': 'Профсоюзная',\n",
       "   'line_name': 'Калужско-Рижская',\n",
       "   'station_id': '6.121',\n",
       "   'line_id': '6',\n",
       "   'lat': 55.677671,\n",
       "   'lng': 37.562595},\n",
       "  'metro_stations': [{'station_name': 'Профсоюзная',\n",
       "    'line_name': 'Калужско-Рижская',\n",
       "    'station_id': '6.121',\n",
       "    'line_id': '6',\n",
       "    'lat': 55.677671,\n",
       "    'lng': 37.562595}],\n",
       "  'id': '778681'},\n",
       " 'response_url': None,\n",
       " 'sort_point_distance': None,\n",
       " 'published_at': '2024-01-04T20:43:27+0300',\n",
       " 'created_at': '2024-01-04T20:43:27+0300',\n",
       " 'archived': False,\n",
       " 'apply_alternate_url': 'https://hh.ru/applicant/vacancy_response?vacancyId=90595126',\n",
       " 'show_logo_in_search': None,\n",
       " 'insider_interview': None,\n",
       " 'url': 'https://api.hh.ru/vacancies/90595126?host=hh.ru',\n",
       " 'alternate_url': 'https://hh.ru/vacancy/90595126',\n",
       " 'relations': [],\n",
       " 'employer': {'id': '2238',\n",
       "  'name': 'КонсультантПлюс',\n",
       "  'url': 'https://api.hh.ru/employers/2238',\n",
       "  'alternate_url': 'https://hh.ru/employer/2238',\n",
       "  'logo_urls': {'240': 'https://hhcdn.ru/employer-logo/555849.png',\n",
       "   'original': 'https://hhcdn.ru/employer-logo-original/232484.gif',\n",
       "   '90': 'https://hhcdn.ru/employer-logo/555848.png'},\n",
       "  'vacancies_url': 'https://api.hh.ru/vacancies?employer_id=2238',\n",
       "  'accredited_it_employer': False,\n",
       "  'trusted': True},\n",
       " 'snippet': {'requirement': 'Практические навыки работы с web-аналитикой. Знание основ математической статистики. Практические базовые навыки программирования: желательно - Python (базовые библиотеки: pandas, NumPy...',\n",
       "  'responsibility': 'Анализ статистики интернет-проектов (сайты, email-рассылки). Разработка требований для разработчиков по сбору статистики. Комплексное взаимодействие с разработчиками по вопросам...'},\n",
       " 'contacts': None,\n",
       " 'schedule': {'id': 'remote', 'name': 'Удаленная работа'},\n",
>>>>>>> c779717f6ef5a36e542c605b60de5c668c241dd0
       " 'working_days': [],\n",
       " 'working_time_intervals': [],\n",
       " 'working_time_modes': [],\n",
       " 'accept_temporary': False,\n",
       " 'professional_roles': [{'id': '10', 'name': 'Аналитик'}],\n",
       " 'accept_incomplete_resumes': False,\n",
<<<<<<< HEAD
       " 'experience': {'id': 'between1And3', 'name': 'От 1 года до 3 лет'},\n",
=======
       " 'experience': {'id': 'between3And6', 'name': 'От 3 до 6 лет'},\n",
>>>>>>> c779717f6ef5a36e542c605b60de5c668c241dd0
       " 'employment': {'id': 'full', 'name': 'Полная занятость'},\n",
       " 'adv_response_url': None,\n",
       " 'is_adv_vacancy': False,\n",
       " 'adv_context': None}"
      ]
     },
<<<<<<< HEAD
     "execution_count": 9,
=======
     "execution_count": 7,
>>>>>>> c779717f6ef5a36e542c605b60de5c668c241dd0
     "metadata": {},
     "output_type": "execute_result"
    }
   ],
   "source": [
    "#  how the data looks like\n",
    "daga.json()['items'][1]"
   ]
  },
  {
   "cell_type": "markdown",
   "metadata": {},
   "source": [
    "### Getting the job data from HeadHunter"
   ]
  },
  {
   "cell_type": "code",
<<<<<<< HEAD
   "execution_count": 121,
=======
   "execution_count": 9,
>>>>>>> c779717f6ef5a36e542c605b60de5c668c241dd0
   "metadata": {},
   "outputs": [],
   "source": [
    "#  Defining the function\n",
    "\n",
    "import requests\n",
    "import pandas as pd\n",
    "\n",
    "\n",
    "\n",
    "def get_headhunter_vacancies(keywords='', city_id='1', per_page=100, max_pages=1, date_from='2024-01-20', professional_role = ''):\n",
    "    base_url = \"https://api.hh.ru/vacancies\"\n",
    "\n",
    "    params = {\n",
    "        \"text\": keywords,         # Ключевые слова в вакансии (OR между ними)\n",
    "        'per_page': per_page,      # Кол-во вакансий на 1 странице\n",
    "        'area': city_id,\n",
    "        'date_from': date_from,\n",
    "        # 'date_to': date_to,\n",
    "        'professional_role': professional_role\n",
    "    }\n",
    "\n",
    "    data = {\n",
    "        \"vacancy_name\": [],\n",
    "        \"department\": [],\n",
    "        \"area_id\": [],\n",
    "        \"area_name\": [],\n",
    "        \"salary\": [],\n",
    "        \"published_at\": [],\n",
    "        \"created_at\": [],\n",
    "        \"archived\": [],\n",
    "        \"employer_id\": [],  # Добавлено поле для employer_id\n",
    "        \"employer_name\": [],  # Добавлено поле для employer_id\n",
    "        \"employer_link\": [],  # Добавлено поле для employer_id\n",
    "        \"city\": [],\n",
    "        \"schedule\": [],\n",
    "        \"professional_roles\": [],\n",
    "        \"working_time_modes\": [],\n",
    "        \"experience\": [],\n",
    "        \"employment\": [],\n",
<<<<<<< HEAD
    "        \"alternate_url\":[]\n",
    "        # \"description\":[]\n",
=======
    "        \"alternate_url\":[],\n",
    "        \"description\":[]\n",
>>>>>>> c779717f6ef5a36e542c605b60de5c668c241dd0
    "    }\n",
    "\n",
    "\n",
    "\n",
    "    for page in range(max_pages):\n",
    "        params['page'] = page\n",
    "        response = requests.get(base_url, params=params)\n",
    "\n",
    "        if response.status_code == 200:\n",
    "            vacancies = response.json()['items']\n",
    "            for vacancy in vacancies:\n",
    "                data[\"vacancy_name\"].append(vacancy.get('name', ''))\n",
    "                data[\"department\"].append(vacancy.get('department', ''))\n",
    "                data[\"area_id\"].append(vacancy.get('area', {}).get('id', ''))\n",
    "                data[\"area_name\"].append(vacancy.get('area', {}).get('name', ''))\n",
    "                data[\"salary\"].append(vacancy.get('salary', ''))\n",
    "                data[\"published_at\"].append(vacancy.get('published_at', ''))\n",
    "                data[\"created_at\"].append(vacancy.get('created_at', ''))\n",
    "                data[\"archived\"].append(vacancy.get('archived', ''))\n",
    "                data[\"employer_id\"].append(vacancy.get('employer', {}).get('id', ''))\n",
    "                data[\"employer_name\"].append(vacancy.get('employer', {}).get('name', ''))\n",
    "                data[\"employer_link\"].append(vacancy.get('employer', {}).get('alternate_url', ''))\n",
    "                data[\"city\"].append(city_id)\n",
    "                data[\"schedule\"].append(vacancy.get('schedule', {}).get('name', ''))\n",
    "                data[\"professional_roles\"].append(vacancy.get('professional_roles', ''))\n",
    "                data[\"working_time_modes\"].append(vacancy.get('working_time_modes', ''))\n",
    "                data[\"experience\"].append(vacancy.get('experience', {}).get('name', ''))\n",
    "                data[\"employment\"].append(vacancy.get('employment', {}).get('name', ''))\n",
    "                data[\"alternate_url\"].append(vacancy.get('alternate_url',''))\n",
<<<<<<< HEAD
    "                # data[\"description\"].append(vacancy.get('description',''))\n",
=======
    "                data[\"description\"].append(vacancy.get('description',''))\n",
>>>>>>> c779717f6ef5a36e542c605b60de5c668c241dd0
    "\n",
    "\n",
    "        else:\n",
    "            print(f\"Error {response.status_code}: {response.text}\")\n",
    "\n",
    "    df = pd.DataFrame(data)\n",
    "    return df\n"
   ]
  },
  {
   "cell_type": "code",
<<<<<<< HEAD
   "execution_count": null,
   "metadata": {},
   "outputs": [],
   "source": [
    "get_headhunter_vacancies(keywords='', city_id='1', max_pages=100, professional_role=i, max_pages=1)"
   ]
  },
  {
   "cell_type": "code",
   "execution_count": 122,
=======
   "execution_count": 10,
>>>>>>> c779717f6ef5a36e542c605b60de5c668c241dd0
   "metadata": {},
   "outputs": [],
   "source": [
    "\n",
    "# Using the function\n",
    "keywords = \"\"       # \"аналитик|python-разработчик\" \n",
    "city_id = '1'       # '1' - код для Москвы, можно добавить другие коды городов\n",
    "max_pages = 20\n",
    "\n",
    "final_df = pd.DataFrame()\n",
    "\n",
<<<<<<< HEAD
    "for i in range(1, 5):\n",
=======
    "for i in range(1, 175):\n",
>>>>>>> c779717f6ef5a36e542c605b60de5c668c241dd0
    "    professional_role = i\n",
    "    try:\n",
    "        vacancies_data = get_headhunter_vacancies(keywords=keywords, city_id=city_id, max_pages=max_pages, professional_role=i)\n",
    "        final_df = pd.concat([final_df, vacancies_data], ignore_index=True)\n",
    "    except:\n",
    "        continue\n",
    "\n"
   ]
  },
  {
   "cell_type": "code",
<<<<<<< HEAD
   "execution_count": 123,
=======
   "execution_count": 11,
>>>>>>> c779717f6ef5a36e542c605b60de5c668c241dd0
   "metadata": {},
   "outputs": [
    {
     "name": "stdout",
     "output_type": "stream",
     "text": [
<<<<<<< HEAD
      "2990\n"
=======
      "75064\n"
>>>>>>> c779717f6ef5a36e542c605b60de5c668c241dd0
     ]
    },
    {
     "data": {
      "text/html": [
       "<div>\n",
       "<style scoped>\n",
       "    .dataframe tbody tr th:only-of-type {\n",
       "        vertical-align: middle;\n",
       "    }\n",
       "\n",
       "    .dataframe tbody tr th {\n",
       "        vertical-align: top;\n",
       "    }\n",
       "\n",
       "    .dataframe thead th {\n",
       "        text-align: right;\n",
       "    }\n",
       "</style>\n",
       "<table border=\"1\" class=\"dataframe\">\n",
       "  <thead>\n",
       "    <tr style=\"text-align: right;\">\n",
       "      <th></th>\n",
       "      <th>vacancy_name</th>\n",
       "      <th>department</th>\n",
       "      <th>area_id</th>\n",
       "      <th>area_name</th>\n",
       "      <th>salary</th>\n",
       "      <th>published_at</th>\n",
       "      <th>created_at</th>\n",
       "      <th>archived</th>\n",
       "      <th>employer_id</th>\n",
       "      <th>employer_name</th>\n",
       "      <th>employer_link</th>\n",
       "      <th>city</th>\n",
       "      <th>schedule</th>\n",
       "      <th>professional_roles</th>\n",
       "      <th>working_time_modes</th>\n",
       "      <th>experience</th>\n",
       "      <th>employment</th>\n",
       "      <th>alternate_url</th>\n",
<<<<<<< HEAD
=======
       "      <th>description</th>\n",
>>>>>>> c779717f6ef5a36e542c605b60de5c668c241dd0
       "    </tr>\n",
       "  </thead>\n",
       "  <tbody>\n",
       "    <tr>\n",
       "      <th>0</th>\n",
<<<<<<< HEAD
       "      <td>Менеджер по организации спецпроектов</td>\n",
       "      <td>None</td>\n",
       "      <td>1</td>\n",
       "      <td>Москва</td>\n",
       "      <td>{'from': 72000, 'to': 90000, 'currency': 'RUR'...</td>\n",
       "      <td>2024-02-09T13:36:24+0300</td>\n",
       "      <td>2024-02-09T13:36:24+0300</td>\n",
       "      <td>False</td>\n",
       "      <td>2057439</td>\n",
       "      <td>Третьяковская галерея</td>\n",
       "      <td>https://hh.ru/employer/2057439</td>\n",
=======
       "      <td>Продюсер мероприятий</td>\n",
       "      <td>None</td>\n",
       "      <td>1</td>\n",
       "      <td>Москва</td>\n",
       "      <td>None</td>\n",
       "      <td>2024-01-22T15:05:47+0300</td>\n",
       "      <td>2024-01-22T15:05:47+0300</td>\n",
       "      <td>False</td>\n",
       "      <td>2460946</td>\n",
       "      <td>Самокат (ООО Умный ритейл)</td>\n",
       "      <td>https://hh.ru/employer/2460946</td>\n",
>>>>>>> c779717f6ef5a36e542c605b60de5c668c241dd0
       "      <td>1</td>\n",
       "      <td>Полный день</td>\n",
       "      <td>[{'id': '1', 'name': 'Event-менеджер'}]</td>\n",
       "      <td>[]</td>\n",
       "      <td>От 1 года до 3 лет</td>\n",
       "      <td>Полная занятость</td>\n",
<<<<<<< HEAD
       "      <td>https://hh.ru/vacancy/92953060</td>\n",
       "    </tr>\n",
       "    <tr>\n",
       "      <th>1</th>\n",
       "      <td>Event-продюсер</td>\n",
       "      <td>{'id': 'mailru-15478-vkontakt', 'name': 'VK, В...</td>\n",
       "      <td>1</td>\n",
       "      <td>Москва</td>\n",
       "      <td>None</td>\n",
       "      <td>2024-02-19T15:21:07+0300</td>\n",
       "      <td>2024-02-19T15:21:07+0300</td>\n",
       "      <td>False</td>\n",
       "      <td>15478</td>\n",
       "      <td>VK</td>\n",
       "      <td>https://hh.ru/employer/15478</td>\n",
=======
       "      <td>https://hh.ru/vacancy/92023674</td>\n",
       "      <td></td>\n",
       "    </tr>\n",
       "    <tr>\n",
       "      <th>1</th>\n",
       "      <td>Помощник организатора мероприятий / ивент мене...</td>\n",
       "      <td>None</td>\n",
       "      <td>1</td>\n",
       "      <td>Москва</td>\n",
       "      <td>{'from': 40000, 'to': 50000, 'currency': 'RUR'...</td>\n",
       "      <td>2024-01-22T04:46:09+0300</td>\n",
       "      <td>2024-01-22T04:46:09+0300</td>\n",
       "      <td>False</td>\n",
       "      <td>1291956</td>\n",
       "      <td>Alexgrim Studio</td>\n",
       "      <td>https://hh.ru/employer/1291956</td>\n",
>>>>>>> c779717f6ef5a36e542c605b60de5c668c241dd0
       "      <td>1</td>\n",
       "      <td>Полный день</td>\n",
       "      <td>[{'id': '1', 'name': 'Event-менеджер'}]</td>\n",
       "      <td>[]</td>\n",
<<<<<<< HEAD
       "      <td>От 3 до 6 лет</td>\n",
       "      <td>Полная занятость</td>\n",
       "      <td>https://hh.ru/vacancy/93460100</td>\n",
=======
       "      <td>Нет опыта</td>\n",
       "      <td>Стажировка</td>\n",
       "      <td>https://hh.ru/vacancy/91976869</td>\n",
       "      <td></td>\n",
>>>>>>> c779717f6ef5a36e542c605b60de5c668c241dd0
       "    </tr>\n",
       "  </tbody>\n",
       "</table>\n",
       "</div>"
      ],
      "text/plain": [
<<<<<<< HEAD
       "                           vacancy_name  \\\n",
       "0  Менеджер по организации спецпроектов   \n",
       "1                        Event-продюсер   \n",
       "\n",
       "                                          department area_id area_name  \\\n",
       "0                                               None       1    Москва   \n",
       "1  {'id': 'mailru-15478-vkontakt', 'name': 'VK, В...       1    Москва   \n",
       "\n",
       "                                              salary  \\\n",
       "0  {'from': 72000, 'to': 90000, 'currency': 'RUR'...   \n",
       "1                                               None   \n",
       "\n",
       "               published_at                created_at  archived employer_id  \\\n",
       "0  2024-02-09T13:36:24+0300  2024-02-09T13:36:24+0300     False     2057439   \n",
       "1  2024-02-19T15:21:07+0300  2024-02-19T15:21:07+0300     False       15478   \n",
       "\n",
       "           employer_name                   employer_link city     schedule  \\\n",
       "0  Третьяковская галерея  https://hh.ru/employer/2057439    1  Полный день   \n",
       "1                     VK    https://hh.ru/employer/15478    1  Полный день   \n",
       "\n",
       "                        professional_roles working_time_modes  \\\n",
       "0  [{'id': '1', 'name': 'Event-менеджер'}]                 []   \n",
       "1  [{'id': '1', 'name': 'Event-менеджер'}]                 []   \n",
       "\n",
       "           experience        employment                   alternate_url  \n",
       "0  От 1 года до 3 лет  Полная занятость  https://hh.ru/vacancy/92953060  \n",
       "1       От 3 до 6 лет  Полная занятость  https://hh.ru/vacancy/93460100  "
      ]
     },
     "execution_count": 123,
=======
       "                                        vacancy_name department area_id  \\\n",
       "0                               Продюсер мероприятий       None       1   \n",
       "1  Помощник организатора мероприятий / ивент мене...       None       1   \n",
       "\n",
       "  area_name                                             salary  \\\n",
       "0    Москва                                               None   \n",
       "1    Москва  {'from': 40000, 'to': 50000, 'currency': 'RUR'...   \n",
       "\n",
       "               published_at                created_at  archived employer_id  \\\n",
       "0  2024-01-22T15:05:47+0300  2024-01-22T15:05:47+0300     False     2460946   \n",
       "1  2024-01-22T04:46:09+0300  2024-01-22T04:46:09+0300     False     1291956   \n",
       "\n",
       "                employer_name                   employer_link city  \\\n",
       "0  Самокат (ООО Умный ритейл)  https://hh.ru/employer/2460946    1   \n",
       "1             Alexgrim Studio  https://hh.ru/employer/1291956    1   \n",
       "\n",
       "      schedule                       professional_roles working_time_modes  \\\n",
       "0  Полный день  [{'id': '1', 'name': 'Event-менеджер'}]                 []   \n",
       "1  Полный день  [{'id': '1', 'name': 'Event-менеджер'}]                 []   \n",
       "\n",
       "           experience        employment                   alternate_url  \\\n",
       "0  От 1 года до 3 лет  Полная занятость  https://hh.ru/vacancy/92023674   \n",
       "1           Нет опыта        Стажировка  https://hh.ru/vacancy/91976869   \n",
       "\n",
       "  description  \n",
       "0              \n",
       "1              "
      ]
     },
     "execution_count": 11,
>>>>>>> c779717f6ef5a36e542c605b60de5c668c241dd0
     "metadata": {},
     "output_type": "execute_result"
    }
   ],
   "source": [
    "print( final_df.vacancy_name.count() )\n",
    "final_df.head(2)"
   ]
  },
  {
   "cell_type": "markdown",
   "metadata": {},
   "source": [
    "#### Data cleaning"
   ]
  },
  {
   "cell_type": "code",
<<<<<<< HEAD
   "execution_count": 15,
=======
   "execution_count": 12,
>>>>>>> c779717f6ef5a36e542c605b60de5c668c241dd0
   "metadata": {},
   "outputs": [],
   "source": [
    "# create a copy of your dataframe to avoid requesting HH too often\n",
    "vacancies_full = final_df"
   ]
  },
  {
   "cell_type": "code",
<<<<<<< HEAD
   "execution_count": 16,
=======
   "execution_count": 13,
>>>>>>> c779717f6ef5a36e542c605b60de5c668c241dd0
   "metadata": {},
   "outputs": [
    {
     "data": {
      "text/html": [
       "<div>\n",
       "<style scoped>\n",
       "    .dataframe tbody tr th:only-of-type {\n",
       "        vertical-align: middle;\n",
       "    }\n",
       "\n",
       "    .dataframe tbody tr th {\n",
       "        vertical-align: top;\n",
       "    }\n",
       "\n",
       "    .dataframe thead th {\n",
       "        text-align: right;\n",
       "    }\n",
       "</style>\n",
       "<table border=\"1\" class=\"dataframe\">\n",
       "  <thead>\n",
       "    <tr style=\"text-align: right;\">\n",
       "      <th></th>\n",
       "      <th>vacancy_name</th>\n",
       "      <th>department</th>\n",
       "      <th>area_id</th>\n",
       "      <th>area_name</th>\n",
       "      <th>salary</th>\n",
       "      <th>published_at</th>\n",
       "      <th>created_at</th>\n",
       "      <th>archived</th>\n",
       "      <th>employer_id</th>\n",
       "      <th>employer_name</th>\n",
       "      <th>employer_link</th>\n",
       "      <th>city</th>\n",
       "      <th>schedule</th>\n",
       "      <th>professional_roles</th>\n",
       "      <th>working_time_modes</th>\n",
       "      <th>experience</th>\n",
       "      <th>employment</th>\n",
       "      <th>alternate_url</th>\n",
       "      <th>description</th>\n",
       "    </tr>\n",
       "  </thead>\n",
       "  <tbody>\n",
       "    <tr>\n",
<<<<<<< HEAD
       "      <th>37980</th>\n",
       "      <td>Специалист транспортных решений (контейнерная ...</td>\n",
       "      <td>None</td>\n",
       "      <td>1</td>\n",
       "      <td>Москва</td>\n",
       "      <td>{'from': 80000, 'to': 80000, 'currency': 'RUR'...</td>\n",
       "      <td>2024-02-08T13:00:39+0300</td>\n",
       "      <td>2024-02-08T13:00:39+0300</td>\n",
       "      <td>0.0</td>\n",
       "      <td>4971819</td>\n",
       "      <td>TEUSTAT</td>\n",
       "      <td>https://hh.ru/employer/4971819</td>\n",
       "      <td>1</td>\n",
       "      <td>Полный день</td>\n",
       "      <td>[{'id': '172', 'name': 'Руководитель отдела ло...</td>\n",
       "      <td>[]</td>\n",
       "      <td>От 1 года до 3 лет</td>\n",
       "      <td>Полная занятость</td>\n",
       "      <td>https://hh.ru/vacancy/91874990</td>\n",
       "      <td></td>\n",
       "    </tr>\n",
       "    <tr>\n",
       "      <th>37981</th>\n",
       "      <td>Руководитель отдела сервиса и развития продаж ...</td>\n",
=======
       "      <th>75059</th>\n",
       "      <td>Инженер СМР</td>\n",
       "      <td>None</td>\n",
       "      <td>1</td>\n",
       "      <td>Москва</td>\n",
       "      <td>{'from': 80000, 'to': 85000, 'currency': 'RUR'...</td>\n",
       "      <td>2024-01-22T11:33:12+0300</td>\n",
       "      <td>2024-01-22T11:33:12+0300</td>\n",
       "      <td>False</td>\n",
       "      <td>1455718</td>\n",
       "      <td>НПК МЕДИАНА-ФИЛЬТР</td>\n",
       "      <td>https://hh.ru/employer/1455718</td>\n",
       "      <td>1</td>\n",
       "      <td>Полный день</td>\n",
       "      <td>[{'id': '174', 'name': 'Инженер ПНР'}]</td>\n",
       "      <td>[]</td>\n",
       "      <td>От 1 года до 3 лет</td>\n",
       "      <td>Полная занятость</td>\n",
       "      <td>https://hh.ru/vacancy/88818927</td>\n",
       "      <td></td>\n",
       "    </tr>\n",
       "    <tr>\n",
       "      <th>75060</th>\n",
       "      <td>Производитель работ / Site manager</td>\n",
>>>>>>> c779717f6ef5a36e542c605b60de5c668c241dd0
       "      <td>None</td>\n",
       "      <td>1</td>\n",
       "      <td>Москва</td>\n",
       "      <td>None</td>\n",
<<<<<<< HEAD
       "      <td>2024-02-08T15:21:36+0300</td>\n",
       "      <td>2024-02-08T15:21:36+0300</td>\n",
       "      <td>0.0</td>\n",
       "      <td>2493014</td>\n",
       "      <td>Транзит</td>\n",
       "      <td>https://hh.ru/employer/2493014</td>\n",
       "      <td>1</td>\n",
       "      <td>Полный день</td>\n",
       "      <td>[{'id': '172', 'name': 'Руководитель отдела ло...</td>\n",
       "      <td>[]</td>\n",
       "      <td>От 3 до 6 лет</td>\n",
       "      <td>Полная занятость</td>\n",
       "      <td>https://hh.ru/vacancy/88803361</td>\n",
       "      <td></td>\n",
       "    </tr>\n",
       "    <tr>\n",
       "      <th>37982</th>\n",
       "      <td>Руководитель отдела сервиса и продаж рефрижера...</td>\n",
       "      <td>None</td>\n",
       "      <td>1</td>\n",
       "      <td>Москва</td>\n",
       "      <td>None</td>\n",
       "      <td>2024-02-08T10:38:53+0300</td>\n",
       "      <td>2024-02-08T10:38:53+0300</td>\n",
       "      <td>0.0</td>\n",
       "      <td>2493014</td>\n",
       "      <td>Транзит</td>\n",
       "      <td>https://hh.ru/employer/2493014</td>\n",
       "      <td>1</td>\n",
       "      <td>Полный день</td>\n",
       "      <td>[{'id': '172', 'name': 'Руководитель отдела ло...</td>\n",
       "      <td>[]</td>\n",
       "      <td>Нет опыта</td>\n",
       "      <td>Полная занятость</td>\n",
       "      <td>https://hh.ru/vacancy/90921014</td>\n",
       "      <td></td>\n",
       "    </tr>\n",
       "    <tr>\n",
       "      <th>37983</th>\n",
       "      <td>Руководитель отдела сервиса и продаж рефрижера...</td>\n",
       "      <td>None</td>\n",
       "      <td>1</td>\n",
       "      <td>Москва</td>\n",
       "      <td>None</td>\n",
       "      <td>2024-02-08T14:37:51+0300</td>\n",
       "      <td>2024-02-08T14:37:51+0300</td>\n",
       "      <td>0.0</td>\n",
       "      <td>2493014</td>\n",
       "      <td>Транзит</td>\n",
       "      <td>https://hh.ru/employer/2493014</td>\n",
       "      <td>1</td>\n",
       "      <td>Полный день</td>\n",
       "      <td>[{'id': '172', 'name': 'Руководитель отдела ло...</td>\n",
       "      <td>[]</td>\n",
       "      <td>От 3 до 6 лет</td>\n",
       "      <td>Полная занятость</td>\n",
       "      <td>https://hh.ru/vacancy/91004387</td>\n",
       "      <td></td>\n",
       "    </tr>\n",
       "    <tr>\n",
       "      <th>37984</th>\n",
       "      <td>Руководитель по развитию сервиса и продаж отде...</td>\n",
       "      <td>None</td>\n",
       "      <td>1</td>\n",
       "      <td>Москва</td>\n",
       "      <td>None</td>\n",
       "      <td>2024-02-06T08:33:03+0300</td>\n",
       "      <td>2024-02-06T08:33:03+0300</td>\n",
       "      <td>0.0</td>\n",
       "      <td>2493014</td>\n",
       "      <td>Транзит</td>\n",
       "      <td>https://hh.ru/employer/2493014</td>\n",
       "      <td>1</td>\n",
       "      <td>Полный день</td>\n",
       "      <td>[{'id': '172', 'name': 'Руководитель отдела ло...</td>\n",
       "      <td>[]</td>\n",
       "      <td>От 3 до 6 лет</td>\n",
       "      <td>Полная занятость</td>\n",
       "      <td>https://hh.ru/vacancy/86304851</td>\n",
=======
       "      <td>2024-01-22T10:54:53+0300</td>\n",
       "      <td>2024-01-22T10:54:53+0300</td>\n",
       "      <td>False</td>\n",
       "      <td>1539265</td>\n",
       "      <td>МДИ2Б</td>\n",
       "      <td>https://hh.ru/employer/1539265</td>\n",
       "      <td>1</td>\n",
       "      <td>Полный день</td>\n",
       "      <td>[{'id': '174', 'name': 'Инженер ПНР'}]</td>\n",
       "      <td>[]</td>\n",
       "      <td>От 1 года до 3 лет</td>\n",
       "      <td>Полная занятость</td>\n",
       "      <td>https://hh.ru/vacancy/91920403</td>\n",
       "      <td></td>\n",
       "    </tr>\n",
       "    <tr>\n",
       "      <th>75061</th>\n",
       "      <td>Инженер по организации работ</td>\n",
       "      <td>None</td>\n",
       "      <td>1</td>\n",
       "      <td>Москва</td>\n",
       "      <td>{'from': 70000, 'to': 75000, 'currency': 'RUR'...</td>\n",
       "      <td>2024-01-22T11:33:57+0300</td>\n",
       "      <td>2024-01-22T11:33:57+0300</td>\n",
       "      <td>False</td>\n",
       "      <td>1455718</td>\n",
       "      <td>НПК МЕДИАНА-ФИЛЬТР</td>\n",
       "      <td>https://hh.ru/employer/1455718</td>\n",
       "      <td>1</td>\n",
       "      <td>Полный день</td>\n",
       "      <td>[{'id': '174', 'name': 'Инженер ПНР'}]</td>\n",
       "      <td>[]</td>\n",
       "      <td>От 1 года до 3 лет</td>\n",
       "      <td>Полная занятость</td>\n",
       "      <td>https://hh.ru/vacancy/88819002</td>\n",
       "      <td></td>\n",
       "    </tr>\n",
       "    <tr>\n",
       "      <th>75062</th>\n",
       "      <td>Инженер ПНР ЛОС</td>\n",
       "      <td>None</td>\n",
       "      <td>1</td>\n",
       "      <td>Москва</td>\n",
       "      <td>{'from': 100000, 'to': 150000, 'currency': 'RU...</td>\n",
       "      <td>2024-01-22T16:21:33+0300</td>\n",
       "      <td>2024-01-22T16:21:33+0300</td>\n",
       "      <td>False</td>\n",
       "      <td>9637465</td>\n",
       "      <td>ЭКОСТАНДАРТ</td>\n",
       "      <td>https://hh.ru/employer/9637465</td>\n",
       "      <td>1</td>\n",
       "      <td>Полный день</td>\n",
       "      <td>[{'id': '174', 'name': 'Инженер ПНР'}]</td>\n",
       "      <td>[]</td>\n",
       "      <td>От 1 года до 3 лет</td>\n",
       "      <td>Полная занятость</td>\n",
       "      <td>https://hh.ru/vacancy/91946835</td>\n",
       "      <td></td>\n",
       "    </tr>\n",
       "    <tr>\n",
       "      <th>75063</th>\n",
       "      <td>Ведущий инженер отдела пуско-наладочных работ</td>\n",
       "      <td>None</td>\n",
       "      <td>1</td>\n",
       "      <td>Москва</td>\n",
       "      <td>None</td>\n",
       "      <td>2024-01-21T15:34:22+0300</td>\n",
       "      <td>2024-01-21T15:34:22+0300</td>\n",
       "      <td>False</td>\n",
       "      <td>3251101</td>\n",
       "      <td>Турбохолод</td>\n",
       "      <td>https://hh.ru/employer/3251101</td>\n",
       "      <td>1</td>\n",
       "      <td>Полный день</td>\n",
       "      <td>[{'id': '174', 'name': 'Инженер ПНР'}]</td>\n",
       "      <td>[]</td>\n",
       "      <td>От 3 до 6 лет</td>\n",
       "      <td>Полная занятость</td>\n",
       "      <td>https://hh.ru/vacancy/91553042</td>\n",
>>>>>>> c779717f6ef5a36e542c605b60de5c668c241dd0
       "      <td></td>\n",
       "    </tr>\n",
       "  </tbody>\n",
       "</table>\n",
       "</div>"
      ],
      "text/plain": [
<<<<<<< HEAD
       "                                            vacancy_name department area_id  \\\n",
       "37980  Специалист транспортных решений (контейнерная ...       None       1   \n",
       "37981  Руководитель отдела сервиса и развития продаж ...       None       1   \n",
       "37982  Руководитель отдела сервиса и продаж рефрижера...       None       1   \n",
       "37983  Руководитель отдела сервиса и продаж рефрижера...       None       1   \n",
       "37984  Руководитель по развитию сервиса и продаж отде...       None       1   \n",
       "\n",
       "      area_name                                             salary  \\\n",
       "37980    Москва  {'from': 80000, 'to': 80000, 'currency': 'RUR'...   \n",
       "37981    Москва                                               None   \n",
       "37982    Москва                                               None   \n",
       "37983    Москва                                               None   \n",
       "37984    Москва                                               None   \n",
       "\n",
       "                   published_at                created_at  archived  \\\n",
       "37980  2024-02-08T13:00:39+0300  2024-02-08T13:00:39+0300       0.0   \n",
       "37981  2024-02-08T15:21:36+0300  2024-02-08T15:21:36+0300       0.0   \n",
       "37982  2024-02-08T10:38:53+0300  2024-02-08T10:38:53+0300       0.0   \n",
       "37983  2024-02-08T14:37:51+0300  2024-02-08T14:37:51+0300       0.0   \n",
       "37984  2024-02-06T08:33:03+0300  2024-02-06T08:33:03+0300       0.0   \n",
       "\n",
       "      employer_id employer_name                   employer_link city  \\\n",
       "37980     4971819       TEUSTAT  https://hh.ru/employer/4971819    1   \n",
       "37981     2493014       Транзит  https://hh.ru/employer/2493014    1   \n",
       "37982     2493014       Транзит  https://hh.ru/employer/2493014    1   \n",
       "37983     2493014       Транзит  https://hh.ru/employer/2493014    1   \n",
       "37984     2493014       Транзит  https://hh.ru/employer/2493014    1   \n",
       "\n",
       "          schedule                                 professional_roles  \\\n",
       "37980  Полный день  [{'id': '172', 'name': 'Руководитель отдела ло...   \n",
       "37981  Полный день  [{'id': '172', 'name': 'Руководитель отдела ло...   \n",
       "37982  Полный день  [{'id': '172', 'name': 'Руководитель отдела ло...   \n",
       "37983  Полный день  [{'id': '172', 'name': 'Руководитель отдела ло...   \n",
       "37984  Полный день  [{'id': '172', 'name': 'Руководитель отдела ло...   \n",
       "\n",
       "      working_time_modes          experience        employment  \\\n",
       "37980                 []  От 1 года до 3 лет  Полная занятость   \n",
       "37981                 []       От 3 до 6 лет  Полная занятость   \n",
       "37982                 []           Нет опыта  Полная занятость   \n",
       "37983                 []       От 3 до 6 лет  Полная занятость   \n",
       "37984                 []       От 3 до 6 лет  Полная занятость   \n",
       "\n",
       "                        alternate_url description  \n",
       "37980  https://hh.ru/vacancy/91874990              \n",
       "37981  https://hh.ru/vacancy/88803361              \n",
       "37982  https://hh.ru/vacancy/90921014              \n",
       "37983  https://hh.ru/vacancy/91004387              \n",
       "37984  https://hh.ru/vacancy/86304851              "
      ]
     },
     "execution_count": 16,
=======
       "                                        vacancy_name department area_id  \\\n",
       "75059                                    Инженер СМР       None       1   \n",
       "75060             Производитель работ / Site manager       None       1   \n",
       "75061                   Инженер по организации работ       None       1   \n",
       "75062                                Инженер ПНР ЛОС       None       1   \n",
       "75063  Ведущий инженер отдела пуско-наладочных работ       None       1   \n",
       "\n",
       "      area_name                                             salary  \\\n",
       "75059    Москва  {'from': 80000, 'to': 85000, 'currency': 'RUR'...   \n",
       "75060    Москва                                               None   \n",
       "75061    Москва  {'from': 70000, 'to': 75000, 'currency': 'RUR'...   \n",
       "75062    Москва  {'from': 100000, 'to': 150000, 'currency': 'RU...   \n",
       "75063    Москва                                               None   \n",
       "\n",
       "                   published_at                created_at  archived  \\\n",
       "75059  2024-01-22T11:33:12+0300  2024-01-22T11:33:12+0300     False   \n",
       "75060  2024-01-22T10:54:53+0300  2024-01-22T10:54:53+0300     False   \n",
       "75061  2024-01-22T11:33:57+0300  2024-01-22T11:33:57+0300     False   \n",
       "75062  2024-01-22T16:21:33+0300  2024-01-22T16:21:33+0300     False   \n",
       "75063  2024-01-21T15:34:22+0300  2024-01-21T15:34:22+0300     False   \n",
       "\n",
       "      employer_id       employer_name                   employer_link city  \\\n",
       "75059     1455718  НПК МЕДИАНА-ФИЛЬТР  https://hh.ru/employer/1455718    1   \n",
       "75060     1539265               МДИ2Б  https://hh.ru/employer/1539265    1   \n",
       "75061     1455718  НПК МЕДИАНА-ФИЛЬТР  https://hh.ru/employer/1455718    1   \n",
       "75062     9637465         ЭКОСТАНДАРТ  https://hh.ru/employer/9637465    1   \n",
       "75063     3251101          Турбохолод  https://hh.ru/employer/3251101    1   \n",
       "\n",
       "          schedule                      professional_roles working_time_modes  \\\n",
       "75059  Полный день  [{'id': '174', 'name': 'Инженер ПНР'}]                 []   \n",
       "75060  Полный день  [{'id': '174', 'name': 'Инженер ПНР'}]                 []   \n",
       "75061  Полный день  [{'id': '174', 'name': 'Инженер ПНР'}]                 []   \n",
       "75062  Полный день  [{'id': '174', 'name': 'Инженер ПНР'}]                 []   \n",
       "75063  Полный день  [{'id': '174', 'name': 'Инженер ПНР'}]                 []   \n",
       "\n",
       "               experience        employment                   alternate_url  \\\n",
       "75059  От 1 года до 3 лет  Полная занятость  https://hh.ru/vacancy/88818927   \n",
       "75060  От 1 года до 3 лет  Полная занятость  https://hh.ru/vacancy/91920403   \n",
       "75061  От 1 года до 3 лет  Полная занятость  https://hh.ru/vacancy/88819002   \n",
       "75062  От 1 года до 3 лет  Полная занятость  https://hh.ru/vacancy/91946835   \n",
       "75063       От 3 до 6 лет  Полная занятость  https://hh.ru/vacancy/91553042   \n",
       "\n",
       "      description  \n",
       "75059              \n",
       "75060              \n",
       "75061              \n",
       "75062              \n",
       "75063              "
      ]
     },
     "execution_count": 13,
>>>>>>> c779717f6ef5a36e542c605b60de5c668c241dd0
     "metadata": {},
     "output_type": "execute_result"
    }
   ],
   "source": [
    "# reseting index\n",
    "vacancies_full = vacancies_full.reset_index(drop=True)\n",
    "vacancies_full.tail()"
   ]
  },
  {
   "cell_type": "code",
<<<<<<< HEAD
   "execution_count": 17,
=======
   "execution_count": 14,
>>>>>>> c779717f6ef5a36e542c605b60de5c668c241dd0
   "metadata": {},
   "outputs": [],
   "source": [
    "\n",
    "# Преобразование поля salary в отдельные колонки\n",
    "df_salary = pd.json_normalize(vacancies_full['salary']).reset_index()\n",
    "vacancies_full = pd.concat([vacancies_full, df_salary], axis=1, ignore_index=False)\n",
    "\n",
    "# Преобразование поля professional_roles в отдельные колонки\n",
    "df_roles = pd.json_normalize(vacancies_full['professional_roles'].explode())\n",
    "vacancies_full = pd.concat([vacancies_full, df_roles], axis=1).rename(columns={'id':'role_id'})\n",
    "\n",
    "# # # adding professional roles\n",
    "vacancies_full = vacancies_full.merge(prof_roles_df,  \n",
    "                                    how='left',\n",
    "                                    left_on='role_id',\n",
    "                                    right_on='role_id',\n",
    "                                    copy=False,\n",
    "                                    indicator = 'x_roles'\n",
    "                                    )\n",
    "\n",
    "vacancies_full['published_at'] = pd.to_datetime(vacancies_full.published_at)\n",
    "vacancies_full['created_at']   = pd.to_datetime(vacancies_full.created_at)\n",
    "# # \n",
    "vacancies_full['from'] = vacancies_full['from'].fillna(0).apply(lambda x: int(x) )\n",
    "vacancies_full['to']   = vacancies_full['to'].fillna(0).apply(lambda x: int(x) )\n",
    "\n",
    "vacancies_full = vacancies_full.drop(columns=['salary', 'professional_roles','working_time_modes', 'parent_profession_id', 'parent_profession_name',\n",
    "                                                'archived','accept_incomplete_resumes','is_default','x_roles','department'])\n",
    "\n",
    "vacancies_full = vacancies_full.drop_duplicates()\n"
   ]
  },
  {
   "cell_type": "code",
<<<<<<< HEAD
   "execution_count": 18,
=======
   "execution_count": 15,
>>>>>>> c779717f6ef5a36e542c605b60de5c668c241dd0
   "metadata": {},
   "outputs": [],
   "source": [
    "# creating a salary estimate (an average between from and to )\n",
    "vacancies_full['salary_middle'] = vacancies_full.apply(lambda x: sum( [x['from'],x['to']]  ) / 2 if x['from'] > 0 and x['to'] > 0 else max(x['from'],x['to']) , axis=1)"
   ]
  },
  {
   "cell_type": "code",
<<<<<<< HEAD
   "execution_count": 19,
=======
   "execution_count": 16,
>>>>>>> c779717f6ef5a36e542c605b60de5c668c241dd0
   "metadata": {},
   "outputs": [
    {
     "data": {
      "text/html": [
       "<div>\n",
       "<style scoped>\n",
       "    .dataframe tbody tr th:only-of-type {\n",
       "        vertical-align: middle;\n",
       "    }\n",
       "\n",
       "    .dataframe tbody tr th {\n",
       "        vertical-align: top;\n",
       "    }\n",
       "\n",
       "    .dataframe thead th {\n",
       "        text-align: right;\n",
       "    }\n",
       "</style>\n",
       "<table border=\"1\" class=\"dataframe\">\n",
       "  <thead>\n",
       "    <tr style=\"text-align: right;\">\n",
       "      <th></th>\n",
       "      <th>0</th>\n",
       "      <th>1</th>\n",
       "      <th>2</th>\n",
       "      <th>3</th>\n",
       "      <th>4</th>\n",
       "    </tr>\n",
       "  </thead>\n",
       "  <tbody>\n",
       "    <tr>\n",
       "      <th>vacancy_name</th>\n",
<<<<<<< HEAD
       "      <td>Менеджер по счастью</td>\n",
       "      <td>Ивент-менеджер / Организатор мероприятий</td>\n",
       "      <td>Event-менеджер в свадебное агентство</td>\n",
       "      <td>Менеджер по организации мероприятий</td>\n",
       "      <td>Менеджер по организации мероприятий</td>\n",
=======
       "      <td>Продюсер мероприятий</td>\n",
       "      <td>Помощник организатора мероприятий / ивент мене...</td>\n",
       "      <td>Менеджер по организации мероприятий</td>\n",
       "      <td>Event-менеджер в свадебное агентство</td>\n",
       "      <td>Event-менеджер (удаленка)</td>\n",
>>>>>>> c779717f6ef5a36e542c605b60de5c668c241dd0
       "    </tr>\n",
       "    <tr>\n",
       "      <th>area_id</th>\n",
       "      <td>1</td>\n",
       "      <td>1</td>\n",
       "      <td>1</td>\n",
       "      <td>1</td>\n",
       "      <td>1</td>\n",
       "    </tr>\n",
       "    <tr>\n",
       "      <th>area_name</th>\n",
       "      <td>Москва</td>\n",
       "      <td>Москва</td>\n",
       "      <td>Москва</td>\n",
       "      <td>Москва</td>\n",
       "      <td>Москва</td>\n",
       "    </tr>\n",
       "    <tr>\n",
       "      <th>published_at</th>\n",
<<<<<<< HEAD
       "      <td>2024-02-02 12:03:11+03:00</td>\n",
       "      <td>2024-01-25 18:00:59+03:00</td>\n",
       "      <td>2024-01-20 13:29:47+03:00</td>\n",
       "      <td>2024-02-05 10:48:18+03:00</td>\n",
       "      <td>2024-01-22 18:16:25+03:00</td>\n",
       "    </tr>\n",
       "    <tr>\n",
       "      <th>created_at</th>\n",
       "      <td>2024-02-02 12:03:11+03:00</td>\n",
       "      <td>2024-01-25 18:00:59+03:00</td>\n",
       "      <td>2024-01-20 13:29:47+03:00</td>\n",
       "      <td>2024-02-05 10:48:18+03:00</td>\n",
       "      <td>2024-01-22 18:16:25+03:00</td>\n",
       "    </tr>\n",
       "    <tr>\n",
       "      <th>employer_id</th>\n",
       "      <td>1272486</td>\n",
       "      <td>10229371</td>\n",
       "      <td>5763554</td>\n",
       "      <td>52389</td>\n",
       "      <td>41903</td>\n",
       "    </tr>\n",
       "    <tr>\n",
       "      <th>employer_name</th>\n",
       "      <td>СберМаркет</td>\n",
       "      <td>EventGorod</td>\n",
       "      <td>Свадебное агентство Soulmates</td>\n",
       "      <td>ЦУМ, ТД</td>\n",
       "      <td>Специальные системы и технологии</td>\n",
       "    </tr>\n",
       "    <tr>\n",
       "      <th>employer_link</th>\n",
       "      <td>https://hh.ru/employer/1272486</td>\n",
       "      <td>https://hh.ru/employer/10229371</td>\n",
       "      <td>https://hh.ru/employer/5763554</td>\n",
       "      <td>https://hh.ru/employer/52389</td>\n",
       "      <td>https://hh.ru/employer/41903</td>\n",
=======
       "      <td>2024-01-22 15:05:47+03:00</td>\n",
       "      <td>2024-01-22 04:46:09+03:00</td>\n",
       "      <td>2024-01-22 18:16:25+03:00</td>\n",
       "      <td>2024-01-20 13:29:47+03:00</td>\n",
       "      <td>2024-01-21 08:29:56+03:00</td>\n",
       "    </tr>\n",
       "    <tr>\n",
       "      <th>created_at</th>\n",
       "      <td>2024-01-22 15:05:47+03:00</td>\n",
       "      <td>2024-01-22 04:46:09+03:00</td>\n",
       "      <td>2024-01-22 18:16:25+03:00</td>\n",
       "      <td>2024-01-20 13:29:47+03:00</td>\n",
       "      <td>2024-01-21 08:29:56+03:00</td>\n",
       "    </tr>\n",
       "    <tr>\n",
       "      <th>employer_id</th>\n",
       "      <td>2460946</td>\n",
       "      <td>1291956</td>\n",
       "      <td>41903</td>\n",
       "      <td>5763554</td>\n",
       "      <td>5267544</td>\n",
       "    </tr>\n",
       "    <tr>\n",
       "      <th>employer_name</th>\n",
       "      <td>Самокат (ООО Умный ритейл)</td>\n",
       "      <td>Alexgrim Studio</td>\n",
       "      <td>Специальные системы и технологии</td>\n",
       "      <td>Свадебное агентство Soulmates</td>\n",
       "      <td>Гудфуд</td>\n",
       "    </tr>\n",
       "    <tr>\n",
       "      <th>employer_link</th>\n",
       "      <td>https://hh.ru/employer/2460946</td>\n",
       "      <td>https://hh.ru/employer/1291956</td>\n",
       "      <td>https://hh.ru/employer/41903</td>\n",
       "      <td>https://hh.ru/employer/5763554</td>\n",
       "      <td>https://hh.ru/employer/5267544</td>\n",
>>>>>>> c779717f6ef5a36e542c605b60de5c668c241dd0
       "    </tr>\n",
       "    <tr>\n",
       "      <th>city</th>\n",
       "      <td>1</td>\n",
       "      <td>1</td>\n",
       "      <td>1</td>\n",
       "      <td>1</td>\n",
       "      <td>1</td>\n",
       "    </tr>\n",
       "    <tr>\n",
       "      <th>schedule</th>\n",
       "      <td>Полный день</td>\n",
       "      <td>Полный день</td>\n",
       "      <td>Полный день</td>\n",
       "      <td>Полный день</td>\n",
<<<<<<< HEAD
       "      <td>Полный день</td>\n",
=======
       "      <td>Гибкий график</td>\n",
>>>>>>> c779717f6ef5a36e542c605b60de5c668c241dd0
       "    </tr>\n",
       "    <tr>\n",
       "      <th>experience</th>\n",
       "      <td>От 1 года до 3 лет</td>\n",
<<<<<<< HEAD
       "      <td>От 1 года до 3 лет</td>\n",
       "      <td>От 1 года до 3 лет</td>\n",
       "      <td>От 3 до 6 лет</td>\n",
       "      <td>От 3 до 6 лет</td>\n",
=======
       "      <td>Нет опыта</td>\n",
       "      <td>От 3 до 6 лет</td>\n",
       "      <td>От 1 года до 3 лет</td>\n",
       "      <td>От 1 года до 3 лет</td>\n",
>>>>>>> c779717f6ef5a36e542c605b60de5c668c241dd0
       "    </tr>\n",
       "    <tr>\n",
       "      <th>employment</th>\n",
       "      <td>Полная занятость</td>\n",
<<<<<<< HEAD
       "      <td>Полная занятость</td>\n",
=======
       "      <td>Стажировка</td>\n",
>>>>>>> c779717f6ef5a36e542c605b60de5c668c241dd0
       "      <td>Полная занятость</td>\n",
       "      <td>Полная занятость</td>\n",
       "      <td>Полная занятость</td>\n",
       "    </tr>\n",
       "    <tr>\n",
       "      <th>alternate_url</th>\n",
<<<<<<< HEAD
       "      <td>https://hh.ru/vacancy/91950196</td>\n",
       "      <td>https://hh.ru/vacancy/92226095</td>\n",
       "      <td>https://hh.ru/vacancy/91962520</td>\n",
       "      <td>https://hh.ru/vacancy/92680938</td>\n",
       "      <td>https://hh.ru/vacancy/92037336</td>\n",
=======
       "      <td>https://hh.ru/vacancy/92023674</td>\n",
       "      <td>https://hh.ru/vacancy/91976869</td>\n",
       "      <td>https://hh.ru/vacancy/92037336</td>\n",
       "      <td>https://hh.ru/vacancy/91962520</td>\n",
       "      <td>https://hh.ru/vacancy/91603187</td>\n",
>>>>>>> c779717f6ef5a36e542c605b60de5c668c241dd0
       "    </tr>\n",
       "    <tr>\n",
       "      <th>description</th>\n",
       "      <td></td>\n",
       "      <td></td>\n",
       "      <td></td>\n",
       "      <td></td>\n",
       "      <td></td>\n",
       "    </tr>\n",
       "    <tr>\n",
       "      <th>index</th>\n",
       "      <td>0</td>\n",
       "      <td>1</td>\n",
       "      <td>2</td>\n",
       "      <td>3</td>\n",
       "      <td>4</td>\n",
       "    </tr>\n",
       "    <tr>\n",
       "      <th>from</th>\n",
       "      <td>0</td>\n",
<<<<<<< HEAD
       "      <td>150000</td>\n",
       "      <td>0</td>\n",
       "      <td>0</td>\n",
       "      <td>0</td>\n",
=======
       "      <td>40000</td>\n",
       "      <td>180000</td>\n",
       "      <td>0</td>\n",
       "      <td>70000</td>\n",
>>>>>>> c779717f6ef5a36e542c605b60de5c668c241dd0
       "    </tr>\n",
       "    <tr>\n",
       "      <th>to</th>\n",
       "      <td>0</td>\n",
<<<<<<< HEAD
       "      <td>0</td>\n",
=======
       "      <td>50000</td>\n",
>>>>>>> c779717f6ef5a36e542c605b60de5c668c241dd0
       "      <td>0</td>\n",
       "      <td>0</td>\n",
       "      <td>0</td>\n",
       "    </tr>\n",
       "    <tr>\n",
       "      <th>currency</th>\n",
       "      <td>NaN</td>\n",
       "      <td>RUR</td>\n",
<<<<<<< HEAD
       "      <td>NaN</td>\n",
       "      <td>NaN</td>\n",
       "      <td>NaN</td>\n",
=======
       "      <td>RUR</td>\n",
       "      <td>NaN</td>\n",
       "      <td>RUR</td>\n",
>>>>>>> c779717f6ef5a36e542c605b60de5c668c241dd0
       "    </tr>\n",
       "    <tr>\n",
       "      <th>gross</th>\n",
       "      <td>NaN</td>\n",
       "      <td>False</td>\n",
<<<<<<< HEAD
       "      <td>NaN</td>\n",
       "      <td>NaN</td>\n",
       "      <td>NaN</td>\n",
=======
       "      <td>True</td>\n",
       "      <td>NaN</td>\n",
       "      <td>False</td>\n",
>>>>>>> c779717f6ef5a36e542c605b60de5c668c241dd0
       "    </tr>\n",
       "    <tr>\n",
       "      <th>role_id</th>\n",
       "      <td>1</td>\n",
       "      <td>1</td>\n",
       "      <td>1</td>\n",
       "      <td>1</td>\n",
       "      <td>1</td>\n",
       "    </tr>\n",
       "    <tr>\n",
       "      <th>name</th>\n",
       "      <td>Event-менеджер</td>\n",
       "      <td>Event-менеджер</td>\n",
       "      <td>Event-менеджер</td>\n",
       "      <td>Event-менеджер</td>\n",
       "      <td>Event-менеджер</td>\n",
       "    </tr>\n",
       "    <tr>\n",
       "      <th>role_name</th>\n",
       "      <td>Event-менеджер</td>\n",
       "      <td>Event-менеджер</td>\n",
       "      <td>Event-менеджер</td>\n",
       "      <td>Event-менеджер</td>\n",
       "      <td>Event-менеджер</td>\n",
       "    </tr>\n",
       "    <tr>\n",
       "      <th>salary_middle</th>\n",
       "      <td>0.0</td>\n",
<<<<<<< HEAD
       "      <td>150000.0</td>\n",
       "      <td>0.0</td>\n",
       "      <td>0.0</td>\n",
       "      <td>0.0</td>\n",
=======
       "      <td>45000.0</td>\n",
       "      <td>180000.0</td>\n",
       "      <td>0.0</td>\n",
       "      <td>70000.0</td>\n",
>>>>>>> c779717f6ef5a36e542c605b60de5c668c241dd0
       "    </tr>\n",
       "  </tbody>\n",
       "</table>\n",
       "</div>"
      ],
      "text/plain": [
       "                                            0  \\\n",
<<<<<<< HEAD
       "vacancy_name              Менеджер по счастью   \n",
       "area_id                                     1   \n",
       "area_name                              Москва   \n",
       "published_at        2024-02-02 12:03:11+03:00   \n",
       "created_at          2024-02-02 12:03:11+03:00   \n",
       "employer_id                           1272486   \n",
       "employer_name                      СберМаркет   \n",
       "employer_link  https://hh.ru/employer/1272486   \n",
=======
       "vacancy_name             Продюсер мероприятий   \n",
       "area_id                                     1   \n",
       "area_name                              Москва   \n",
       "published_at        2024-01-22 15:05:47+03:00   \n",
       "created_at          2024-01-22 15:05:47+03:00   \n",
       "employer_id                           2460946   \n",
       "employer_name      Самокат (ООО Умный ритейл)   \n",
       "employer_link  https://hh.ru/employer/2460946   \n",
>>>>>>> c779717f6ef5a36e542c605b60de5c668c241dd0
       "city                                        1   \n",
       "schedule                          Полный день   \n",
       "experience                 От 1 года до 3 лет   \n",
       "employment                   Полная занятость   \n",
<<<<<<< HEAD
       "alternate_url  https://hh.ru/vacancy/91950196   \n",
=======
       "alternate_url  https://hh.ru/vacancy/92023674   \n",
>>>>>>> c779717f6ef5a36e542c605b60de5c668c241dd0
       "description                                     \n",
       "index                                       0   \n",
       "from                                        0   \n",
       "to                                          0   \n",
       "currency                                  NaN   \n",
       "gross                                     NaN   \n",
       "role_id                                     1   \n",
       "name                           Event-менеджер   \n",
       "role_name                      Event-менеджер   \n",
       "salary_middle                             0.0   \n",
       "\n",
<<<<<<< HEAD
       "                                                      1  \\\n",
       "vacancy_name   Ивент-менеджер / Организатор мероприятий   \n",
       "area_id                                               1   \n",
       "area_name                                        Москва   \n",
       "published_at                  2024-01-25 18:00:59+03:00   \n",
       "created_at                    2024-01-25 18:00:59+03:00   \n",
       "employer_id                                    10229371   \n",
       "employer_name                                EventGorod   \n",
       "employer_link           https://hh.ru/employer/10229371   \n",
       "city                                                  1   \n",
       "schedule                                    Полный день   \n",
       "experience                           От 1 года до 3 лет   \n",
       "employment                             Полная занятость   \n",
       "alternate_url            https://hh.ru/vacancy/92226095   \n",
       "description                                               \n",
       "index                                                 1   \n",
       "from                                             150000   \n",
       "to                                                    0   \n",
       "currency                                            RUR   \n",
       "gross                                             False   \n",
       "role_id                                               1   \n",
       "name                                     Event-менеджер   \n",
       "role_name                                Event-менеджер   \n",
       "salary_middle                                  150000.0   \n",
       "\n",
       "                                                  2  \\\n",
=======
       "                                                               1  \\\n",
       "vacancy_name   Помощник организатора мероприятий / ивент мене...   \n",
       "area_id                                                        1   \n",
       "area_name                                                 Москва   \n",
       "published_at                           2024-01-22 04:46:09+03:00   \n",
       "created_at                             2024-01-22 04:46:09+03:00   \n",
       "employer_id                                              1291956   \n",
       "employer_name                                    Alexgrim Studio   \n",
       "employer_link                     https://hh.ru/employer/1291956   \n",
       "city                                                           1   \n",
       "schedule                                             Полный день   \n",
       "experience                                             Нет опыта   \n",
       "employment                                            Стажировка   \n",
       "alternate_url                     https://hh.ru/vacancy/91976869   \n",
       "description                                                        \n",
       "index                                                          1   \n",
       "from                                                       40000   \n",
       "to                                                         50000   \n",
       "currency                                                     RUR   \n",
       "gross                                                      False   \n",
       "role_id                                                        1   \n",
       "name                                              Event-менеджер   \n",
       "role_name                                         Event-менеджер   \n",
       "salary_middle                                            45000.0   \n",
       "\n",
       "                                                 2  \\\n",
       "vacancy_name   Менеджер по организации мероприятий   \n",
       "area_id                                          1   \n",
       "area_name                                   Москва   \n",
       "published_at             2024-01-22 18:16:25+03:00   \n",
       "created_at               2024-01-22 18:16:25+03:00   \n",
       "employer_id                                  41903   \n",
       "employer_name     Специальные системы и технологии   \n",
       "employer_link         https://hh.ru/employer/41903   \n",
       "city                                             1   \n",
       "schedule                               Полный день   \n",
       "experience                           От 3 до 6 лет   \n",
       "employment                        Полная занятость   \n",
       "alternate_url       https://hh.ru/vacancy/92037336   \n",
       "description                                          \n",
       "index                                            2   \n",
       "from                                        180000   \n",
       "to                                               0   \n",
       "currency                                       RUR   \n",
       "gross                                         True   \n",
       "role_id                                          1   \n",
       "name                                Event-менеджер   \n",
       "role_name                           Event-менеджер   \n",
       "salary_middle                             180000.0   \n",
       "\n",
       "                                                  3  \\\n",
>>>>>>> c779717f6ef5a36e542c605b60de5c668c241dd0
       "vacancy_name   Event-менеджер в свадебное агентство   \n",
       "area_id                                           1   \n",
       "area_name                                    Москва   \n",
       "published_at              2024-01-20 13:29:47+03:00   \n",
       "created_at                2024-01-20 13:29:47+03:00   \n",
       "employer_id                                 5763554   \n",
       "employer_name         Свадебное агентство Soulmates   \n",
       "employer_link        https://hh.ru/employer/5763554   \n",
       "city                                              1   \n",
       "schedule                                Полный день   \n",
       "experience                       От 1 года до 3 лет   \n",
       "employment                         Полная занятость   \n",
       "alternate_url        https://hh.ru/vacancy/91962520   \n",
       "description                                           \n",
<<<<<<< HEAD
       "index                                             2   \n",
=======
       "index                                             3   \n",
>>>>>>> c779717f6ef5a36e542c605b60de5c668c241dd0
       "from                                              0   \n",
       "to                                                0   \n",
       "currency                                        NaN   \n",
       "gross                                           NaN   \n",
       "role_id                                           1   \n",
       "name                                 Event-менеджер   \n",
       "role_name                            Event-менеджер   \n",
       "salary_middle                                   0.0   \n",
       "\n",
<<<<<<< HEAD
       "                                                 3  \\\n",
       "vacancy_name   Менеджер по организации мероприятий   \n",
       "area_id                                          1   \n",
       "area_name                                   Москва   \n",
       "published_at             2024-02-05 10:48:18+03:00   \n",
       "created_at               2024-02-05 10:48:18+03:00   \n",
       "employer_id                                  52389   \n",
       "employer_name                              ЦУМ, ТД   \n",
       "employer_link         https://hh.ru/employer/52389   \n",
       "city                                             1   \n",
       "schedule                               Полный день   \n",
       "experience                           От 3 до 6 лет   \n",
       "employment                        Полная занятость   \n",
       "alternate_url       https://hh.ru/vacancy/92680938   \n",
       "description                                          \n",
       "index                                            3   \n",
       "from                                             0   \n",
       "to                                               0   \n",
       "currency                                       NaN   \n",
       "gross                                          NaN   \n",
       "role_id                                          1   \n",
       "name                                Event-менеджер   \n",
       "role_name                           Event-менеджер   \n",
       "salary_middle                                  0.0   \n",
       "\n",
       "                                                 4  \n",
       "vacancy_name   Менеджер по организации мероприятий  \n",
       "area_id                                          1  \n",
       "area_name                                   Москва  \n",
       "published_at             2024-01-22 18:16:25+03:00  \n",
       "created_at               2024-01-22 18:16:25+03:00  \n",
       "employer_id                                  41903  \n",
       "employer_name     Специальные системы и технологии  \n",
       "employer_link         https://hh.ru/employer/41903  \n",
       "city                                             1  \n",
       "schedule                               Полный день  \n",
       "experience                           От 3 до 6 лет  \n",
       "employment                        Полная занятость  \n",
       "alternate_url       https://hh.ru/vacancy/92037336  \n",
       "description                                         \n",
       "index                                            4  \n",
       "from                                             0  \n",
       "to                                               0  \n",
       "currency                                       NaN  \n",
       "gross                                          NaN  \n",
       "role_id                                          1  \n",
       "name                                Event-менеджер  \n",
       "role_name                           Event-менеджер  \n",
       "salary_middle                                  0.0  "
      ]
     },
     "execution_count": 19,
=======
       "                                            4  \n",
       "vacancy_name        Event-менеджер (удаленка)  \n",
       "area_id                                     1  \n",
       "area_name                              Москва  \n",
       "published_at        2024-01-21 08:29:56+03:00  \n",
       "created_at          2024-01-21 08:29:56+03:00  \n",
       "employer_id                           5267544  \n",
       "employer_name                          Гудфуд  \n",
       "employer_link  https://hh.ru/employer/5267544  \n",
       "city                                        1  \n",
       "schedule                        Гибкий график  \n",
       "experience                 От 1 года до 3 лет  \n",
       "employment                   Полная занятость  \n",
       "alternate_url  https://hh.ru/vacancy/91603187  \n",
       "description                                    \n",
       "index                                       4  \n",
       "from                                    70000  \n",
       "to                                          0  \n",
       "currency                                  RUR  \n",
       "gross                                   False  \n",
       "role_id                                     1  \n",
       "name                           Event-менеджер  \n",
       "role_name                      Event-менеджер  \n",
       "salary_middle                         70000.0  "
      ]
     },
     "execution_count": 16,
>>>>>>> c779717f6ef5a36e542c605b60de5c668c241dd0
     "metadata": {},
     "output_type": "execute_result"
    }
   ],
   "source": [
    "# check for duplicates and columns that you don' need\n",
    "vacancies_full.head().T"
   ]
  },
  {
   "cell_type": "code",
<<<<<<< HEAD
   "execution_count": 20,
=======
   "execution_count": 17,
>>>>>>> c779717f6ef5a36e542c605b60de5c668c241dd0
   "metadata": {},
   "outputs": [
    {
     "data": {
      "text/plain": [
<<<<<<< HEAD
       "(37985, 23)"
      ]
     },
     "execution_count": 20,
=======
       "(75064, 23)"
      ]
     },
     "execution_count": 17,
>>>>>>> c779717f6ef5a36e542c605b60de5c668c241dd0
     "metadata": {},
     "output_type": "execute_result"
    }
   ],
   "source": [
    "vacancies_full.shape"
   ]
  },
  {
   "cell_type": "markdown",
   "metadata": {},
   "source": [
    "### Descriptive statistics"
   ]
  },
  {
   "cell_type": "code",
<<<<<<< HEAD
   "execution_count": 27,
=======
   "execution_count": 18,
>>>>>>> c779717f6ef5a36e542c605b60de5c668c241dd0
   "metadata": {},
   "outputs": [
    {
     "data": {
      "text/html": [
       "<div>\n",
       "<style scoped>\n",
       "    .dataframe tbody tr th:only-of-type {\n",
       "        vertical-align: middle;\n",
       "    }\n",
       "\n",
       "    .dataframe tbody tr th {\n",
       "        vertical-align: top;\n",
       "    }\n",
       "\n",
       "    .dataframe thead th {\n",
       "        text-align: right;\n",
       "    }\n",
       "</style>\n",
       "<table border=\"1\" class=\"dataframe\">\n",
       "  <thead>\n",
       "    <tr style=\"text-align: right;\">\n",
       "      <th></th>\n",
       "      <th>name</th>\n",
       "    </tr>\n",
       "  </thead>\n",
       "  <tbody>\n",
       "    <tr>\n",
<<<<<<< HEAD
=======
       "      <th>Менеджер по маркетингу, интернет-маркетолог</th>\n",
       "      <td>2001</td>\n",
       "    </tr>\n",
       "    <tr>\n",
       "      <th>Менеджер по продажам, менеджер по работе с клиентами</th>\n",
       "      <td>2000</td>\n",
       "    </tr>\n",
       "    <tr>\n",
       "      <th>Бухгалтер</th>\n",
       "      <td>2000</td>\n",
       "    </tr>\n",
       "    <tr>\n",
>>>>>>> c779717f6ef5a36e542c605b60de5c668c241dd0
       "      <th>Инженер-конструктор, инженер-проектировщик</th>\n",
       "      <td>2000</td>\n",
       "    </tr>\n",
       "    <tr>\n",
<<<<<<< HEAD
       "      <th>Инженер ПТО, инженер-сметчик</th>\n",
       "      <td>2000</td>\n",
       "    </tr>\n",
       "    <tr>\n",
       "      <th>Аналитик</th>\n",
       "      <td>2000</td>\n",
       "    </tr>\n",
       "    <tr>\n",
       "      <th>Врач</th>\n",
       "      <td>1800</td>\n",
       "    </tr>\n",
       "    <tr>\n",
       "      <th>Дизайнер, художник</th>\n",
       "      <td>1799</td>\n",
       "    </tr>\n",
       "    <tr>\n",
       "      <th>SMM-менеджер, контент-менеджер</th>\n",
       "      <td>1466</td>\n",
       "    </tr>\n",
       "    <tr>\n",
       "      <th>Менеджер по персоналу</th>\n",
       "      <td>1363</td>\n",
       "    </tr>\n",
       "    <tr>\n",
       "      <th>Слесарь, сантехник</th>\n",
       "      <td>1268</td>\n",
       "    </tr>\n",
       "    <tr>\n",
       "      <th>Технолог</th>\n",
       "      <td>1255</td>\n",
       "    </tr>\n",
       "    <tr>\n",
       "      <th>Кладовщик</th>\n",
       "      <td>1200</td>\n",
       "    </tr>\n",
       "  </tbody>\n",
       "</table>\n",
       "</div>"
      ],
      "text/plain": [
       "                                            name\n",
       "Инженер-конструктор, инженер-проектировщик  2000\n",
       "Инженер ПТО, инженер-сметчик                2000\n",
       "Аналитик                                    2000\n",
       "Врач                                        1800\n",
       "Дизайнер, художник                          1799\n",
       "SMM-менеджер, контент-менеджер              1466\n",
       "Менеджер по персоналу                       1363\n",
       "Слесарь, сантехник                          1268\n",
       "Технолог                                    1255\n",
       "Кладовщик                                   1200"
      ]
     },
     "execution_count": 27,
=======
       "      <th>Продавец-консультант, продавец-кассир</th>\n",
       "      <td>2000</td>\n",
       "    </tr>\n",
       "    <tr>\n",
       "      <th>...</th>\n",
       "      <td>...</td>\n",
       "    </tr>\n",
       "    <tr>\n",
       "      <th>Агроном</th>\n",
       "      <td>12</td>\n",
       "    </tr>\n",
       "    <tr>\n",
       "      <th>Директор юридического департамента (CLO)</th>\n",
       "      <td>9</td>\n",
       "    </tr>\n",
       "    <tr>\n",
       "      <th>Зоотехник</th>\n",
       "      <td>9</td>\n",
       "    </tr>\n",
       "    <tr>\n",
       "      <th>Бортпроводник</th>\n",
       "      <td>8</td>\n",
       "    </tr>\n",
       "    <tr>\n",
       "      <th>Военнослужащий</th>\n",
       "      <td>3</td>\n",
       "    </tr>\n",
       "  </tbody>\n",
       "</table>\n",
       "<p>174 rows × 1 columns</p>\n",
       "</div>"
      ],
      "text/plain": [
       "                                                    name\n",
       "Менеджер по маркетингу, интернет-маркетолог         2001\n",
       "Менеджер по продажам, менеджер по работе с клие...  2000\n",
       "Бухгалтер                                           2000\n",
       "Инженер-конструктор, инженер-проектировщик          2000\n",
       "Продавец-консультант, продавец-кассир               2000\n",
       "...                                                  ...\n",
       "Агроном                                               12\n",
       "Директор юридического департамента (CLO)               9\n",
       "Зоотехник                                              9\n",
       "Бортпроводник                                          8\n",
       "Военнослужащий                                         3\n",
       "\n",
       "[174 rows x 1 columns]"
      ]
     },
     "execution_count": 18,
>>>>>>> c779717f6ef5a36e542c605b60de5c668c241dd0
     "metadata": {},
     "output_type": "execute_result"
    }
   ],
   "source": [
    "# count of categories\n",
<<<<<<< HEAD
    "vacancies_full.name.value_counts().to_frame().head(10)"
=======
    "vacancies_full.name.value_counts().to_frame()"
>>>>>>> c779717f6ef5a36e542c605b60de5c668c241dd0
   ]
  },
  {
   "cell_type": "code",
<<<<<<< HEAD
   "execution_count": 22,
=======
   "execution_count": 19,
>>>>>>> c779717f6ef5a36e542c605b60de5c668c241dd0
   "metadata": {},
   "outputs": [
    {
     "data": {
      "text/html": [
       "<div>\n",
       "<style scoped>\n",
       "    .dataframe tbody tr th:only-of-type {\n",
       "        vertical-align: middle;\n",
       "    }\n",
       "\n",
       "    .dataframe tbody tr th {\n",
       "        vertical-align: top;\n",
       "    }\n",
       "\n",
       "    .dataframe thead th {\n",
       "        text-align: right;\n",
       "    }\n",
       "</style>\n",
       "<table border=\"1\" class=\"dataframe\">\n",
       "  <thead>\n",
       "    <tr style=\"text-align: right;\">\n",
       "      <th></th>\n",
       "      <th>vacancy_name</th>\n",
       "      <th>area_id</th>\n",
       "      <th>area_name</th>\n",
       "      <th>employer_id</th>\n",
       "      <th>employer_name</th>\n",
       "      <th>employer_link</th>\n",
       "      <th>city</th>\n",
       "      <th>schedule</th>\n",
       "      <th>experience</th>\n",
       "      <th>employment</th>\n",
       "      <th>alternate_url</th>\n",
       "      <th>description</th>\n",
       "      <th>currency</th>\n",
       "      <th>gross</th>\n",
       "      <th>role_id</th>\n",
       "      <th>name</th>\n",
       "      <th>role_name</th>\n",
       "    </tr>\n",
       "  </thead>\n",
       "  <tbody>\n",
       "    <tr>\n",
       "      <th>count</th>\n",
<<<<<<< HEAD
       "      <td>37985</td>\n",
       "      <td>37985</td>\n",
       "      <td>37985</td>\n",
       "      <td>37985</td>\n",
       "      <td>37985</td>\n",
       "      <td>37985</td>\n",
       "      <td>37985</td>\n",
       "      <td>37985</td>\n",
       "      <td>37985</td>\n",
       "      <td>37985</td>\n",
       "      <td>37985</td>\n",
       "      <td>37985</td>\n",
       "      <td>25665</td>\n",
       "      <td>25654</td>\n",
       "      <td>37985</td>\n",
       "      <td>37985</td>\n",
       "      <td>37985</td>\n",
       "    </tr>\n",
       "    <tr>\n",
       "      <th>unique</th>\n",
       "      <td>24760</td>\n",
       "      <td>1</td>\n",
       "      <td>1</td>\n",
       "      <td>14980</td>\n",
       "      <td>14879</td>\n",
       "      <td>14980</td>\n",
=======
       "      <td>75064</td>\n",
       "      <td>75064</td>\n",
       "      <td>75064</td>\n",
       "      <td>75064</td>\n",
       "      <td>75064</td>\n",
       "      <td>75064</td>\n",
       "      <td>75064</td>\n",
       "      <td>75064</td>\n",
       "      <td>75064</td>\n",
       "      <td>75064</td>\n",
       "      <td>75064</td>\n",
       "      <td>75064</td>\n",
       "      <td>55679</td>\n",
       "      <td>55651</td>\n",
       "      <td>75064</td>\n",
       "      <td>75064</td>\n",
       "      <td>75064</td>\n",
       "    </tr>\n",
       "    <tr>\n",
       "      <th>unique</th>\n",
       "      <td>48355</td>\n",
       "      <td>1</td>\n",
       "      <td>1</td>\n",
       "      <td>23793</td>\n",
       "      <td>23448</td>\n",
       "      <td>23793</td>\n",
>>>>>>> c779717f6ef5a36e542c605b60de5c668c241dd0
       "      <td>1</td>\n",
       "      <td>5</td>\n",
       "      <td>4</td>\n",
       "      <td>5</td>\n",
<<<<<<< HEAD
       "      <td>37984</td>\n",
       "      <td>1</td>\n",
       "      <td>3</td>\n",
       "      <td>2</td>\n",
       "      <td>81</td>\n",
       "      <td>81</td>\n",
       "      <td>81</td>\n",
       "    </tr>\n",
       "    <tr>\n",
       "      <th>top</th>\n",
       "      <td>Инженер ПТО</td>\n",
       "      <td>1</td>\n",
       "      <td>Москва</td>\n",
       "      <td>2180</td>\n",
       "      <td>Ozon</td>\n",
       "      <td>https://hh.ru/employer/2180</td>\n",
=======
       "      <td>75055</td>\n",
       "      <td>1</td>\n",
       "      <td>5</td>\n",
       "      <td>2</td>\n",
       "      <td>174</td>\n",
       "      <td>174</td>\n",
       "      <td>174</td>\n",
       "    </tr>\n",
       "    <tr>\n",
       "      <th>top</th>\n",
       "      <td>Офис-менеджер</td>\n",
       "      <td>1</td>\n",
       "      <td>Москва</td>\n",
       "      <td>816144</td>\n",
       "      <td>ВкусВилл</td>\n",
       "      <td>https://hh.ru/employer/816144</td>\n",
>>>>>>> c779717f6ef5a36e542c605b60de5c668c241dd0
       "      <td>1</td>\n",
       "      <td>Полный день</td>\n",
       "      <td>От 1 года до 3 лет</td>\n",
       "      <td>Полная занятость</td>\n",
<<<<<<< HEAD
       "      <td>https://hh.ru/vacancy/91872543</td>\n",
       "      <td></td>\n",
       "      <td>RUR</td>\n",
       "      <td>False</td>\n",
       "      <td>48</td>\n",
       "      <td>Инженер-конструктор, инженер-проектировщик</td>\n",
       "      <td>Инженер-конструктор, инженер-проектировщик</td>\n",
       "    </tr>\n",
       "    <tr>\n",
       "      <th>freq</th>\n",
       "      <td>389</td>\n",
       "      <td>37985</td>\n",
       "      <td>37985</td>\n",
       "      <td>312</td>\n",
       "      <td>312</td>\n",
       "      <td>312</td>\n",
       "      <td>37985</td>\n",
       "      <td>28616</td>\n",
       "      <td>18258</td>\n",
       "      <td>35847</td>\n",
       "      <td>2</td>\n",
       "      <td>37985</td>\n",
       "      <td>25552</td>\n",
       "      <td>18225</td>\n",
       "      <td>2000</td>\n",
       "      <td>2000</td>\n",
       "      <td>2000</td>\n",
=======
       "      <td>https://hh.ru/vacancy/90632398</td>\n",
       "      <td></td>\n",
       "      <td>RUR</td>\n",
       "      <td>False</td>\n",
       "      <td>68</td>\n",
       "      <td>Менеджер по маркетингу, интернет-маркетолог</td>\n",
       "      <td>Менеджер по маркетингу, интернет-маркетолог</td>\n",
       "    </tr>\n",
       "    <tr>\n",
       "      <th>freq</th>\n",
       "      <td>407</td>\n",
       "      <td>75064</td>\n",
       "      <td>75064</td>\n",
       "      <td>1135</td>\n",
       "      <td>1135</td>\n",
       "      <td>1135</td>\n",
       "      <td>75064</td>\n",
       "      <td>53806</td>\n",
       "      <td>35549</td>\n",
       "      <td>70912</td>\n",
       "      <td>2</td>\n",
       "      <td>75064</td>\n",
       "      <td>55437</td>\n",
       "      <td>40771</td>\n",
       "      <td>2001</td>\n",
       "      <td>2001</td>\n",
       "      <td>2001</td>\n",
>>>>>>> c779717f6ef5a36e542c605b60de5c668c241dd0
       "    </tr>\n",
       "  </tbody>\n",
       "</table>\n",
       "</div>"
      ],
      "text/plain": [
<<<<<<< HEAD
       "       vacancy_name area_id area_name employer_id employer_name  \\\n",
       "count         37985   37985     37985       37985         37985   \n",
       "unique        24760       1         1       14980         14879   \n",
       "top     Инженер ПТО       1    Москва        2180          Ozon   \n",
       "freq            389   37985     37985         312           312   \n",
       "\n",
       "                      employer_link   city     schedule          experience  \\\n",
       "count                         37985  37985        37985               37985   \n",
       "unique                        14980      1            5                   4   \n",
       "top     https://hh.ru/employer/2180      1  Полный день  От 1 года до 3 лет   \n",
       "freq                            312  37985        28616               18258   \n",
       "\n",
       "              employment                   alternate_url description currency  \\\n",
       "count              37985                           37985       37985    25665   \n",
       "unique                 5                           37984           1        3   \n",
       "top     Полная занятость  https://hh.ru/vacancy/91872543                  RUR   \n",
       "freq               35847                               2       37985    25552   \n",
       "\n",
       "        gross role_id                                        name  \\\n",
       "count   25654   37985                                       37985   \n",
       "unique      2      81                                          81   \n",
       "top     False      48  Инженер-конструктор, инженер-проектировщик   \n",
       "freq    18225    2000                                        2000   \n",
       "\n",
       "                                         role_name  \n",
       "count                                        37985  \n",
       "unique                                          81  \n",
       "top     Инженер-конструктор, инженер-проектировщик  \n",
       "freq                                          2000  "
      ]
     },
     "execution_count": 22,
=======
       "         vacancy_name area_id area_name employer_id employer_name  \\\n",
       "count           75064   75064     75064       75064         75064   \n",
       "unique          48355       1         1       23793         23448   \n",
       "top     Офис-менеджер       1    Москва      816144      ВкусВилл   \n",
       "freq              407   75064     75064        1135          1135   \n",
       "\n",
       "                        employer_link   city     schedule          experience  \\\n",
       "count                           75064  75064        75064               75064   \n",
       "unique                          23793      1            5                   4   \n",
       "top     https://hh.ru/employer/816144      1  Полный день  От 1 года до 3 лет   \n",
       "freq                             1135  75064        53806               35549   \n",
       "\n",
       "              employment                   alternate_url description currency  \\\n",
       "count              75064                           75064       75064    55679   \n",
       "unique                 5                           75055           1        5   \n",
       "top     Полная занятость  https://hh.ru/vacancy/90632398                  RUR   \n",
       "freq               70912                               2       75064    55437   \n",
       "\n",
       "        gross role_id                                         name  \\\n",
       "count   55651   75064                                        75064   \n",
       "unique      2     174                                          174   \n",
       "top     False      68  Менеджер по маркетингу, интернет-маркетолог   \n",
       "freq    40771    2001                                         2001   \n",
       "\n",
       "                                          role_name  \n",
       "count                                         75064  \n",
       "unique                                          174  \n",
       "top     Менеджер по маркетингу, интернет-маркетолог  \n",
       "freq                                           2001  "
      ]
     },
     "execution_count": 19,
>>>>>>> c779717f6ef5a36e542c605b60de5c668c241dd0
     "metadata": {},
     "output_type": "execute_result"
    }
   ],
   "source": [
    "vacancies_full.describe(include='object')"
   ]
  },
  {
   "cell_type": "code",
<<<<<<< HEAD
   "execution_count": 116,
   "metadata": {},
   "outputs": [
    {
     "data": {
      "text/plain": [
       "array(['vacancy_name', 'area_id', 'area_name', 'published_at',\n",
       "       'created_at', 'employer_id', 'employer_name', 'employer_link',\n",
       "       'city', 'schedule', 'experience', 'employment', 'alternate_url',\n",
       "       'description', 'index', 'from', 'to', 'currency', 'gross',\n",
       "       'role_id', 'name', 'role_name', 'salary_middle'], dtype=object)"
      ]
     },
     "execution_count": 116,
     "metadata": {},
     "output_type": "execute_result"
    }
   ],
   "source": [
    "vacancies_full.columns.values"
   ]
  },
  {
   "cell_type": "code",
   "execution_count": 118,
   "metadata": {},
   "outputs": [
    {
     "data": {
      "text/plain": [
       "count     37985\n",
       "unique        1\n",
       "top            \n",
       "freq      37985\n",
       "Name: description, dtype: object"
      ]
     },
     "execution_count": 118,
     "metadata": {},
     "output_type": "execute_result"
    }
   ],
   "source": [
    "vacancies_full.description.describe()"
   ]
  },
  {
   "cell_type": "code",
   "execution_count": 113,
   "metadata": {},
   "outputs": [],
   "source": [
    "vacancies_full.to_csv('/Users/igorrudakov/python_projects/portfolio_tests/labour_demand/datasets/vacancies_2024-02-20.csv', encoding='utf-8')"
=======
   "execution_count": null,
   "metadata": {},
   "outputs": [],
   "source": [
    "vacancies_full.describe()"
>>>>>>> c779717f6ef5a36e542c605b60de5c668c241dd0
   ]
  },
  {
   "cell_type": "code",
   "execution_count": 20,
   "metadata": {},
   "outputs": [],
   "source": [
    "# table for analysis 1\n",
    "\n",
    "import numpy as np \n",
    "\n",
    "vacancies_full[(vacancies_full['salary_middle'] != 0)].groupby(['role_name','experience', 'employment']).agg(\n",
    "    mean=('salary_middle', 'mean'),\n",
    "    std=('salary_middle', 'std'),\n",
    "    min=('salary_middle', 'min'),\n",
    "    perc_25=('salary_middle', lambda x: np.percentile(x, q=0.25)),\n",
    "    median=('salary_middle', lambda x: np.percentile(x, q=0.5)),\n",
    "    perc_75=('salary_middle', lambda x: np.percentile(x, q=0.75)),\n",
    "    max=('salary_middle', 'max'),\n",
    "    count=('salary_middle', 'count')\n",
    ").reset_index().to_csv('/Users/igorrudakov/Desktop/job_data_aggr.csv', encoding='utf-8')\n",
    "\n"
   ]
  },
  {
   "cell_type": "code",
   "execution_count": 147,
   "metadata": {},
   "outputs": [],
   "source": [
    "# if you need to save current file (checkpoint)\n",
    "# vacancies_full.to_csv('/Users/igorrudakov/Desktop/last_download_hh.csv')"
   ]
  },
  {
   "cell_type": "markdown",
   "metadata": {},
   "source": [
    "### Saving first ready to use table into the DataBase [in progress]"
   ]
  },
  {
   "cell_type": "code",
   "execution_count": 24,
   "metadata": {},
   "outputs": [
    {
     "data": {
      "text/html": [
       "<div>\n",
       "<style scoped>\n",
       "    .dataframe tbody tr th:only-of-type {\n",
       "        vertical-align: middle;\n",
       "    }\n",
       "\n",
       "    .dataframe tbody tr th {\n",
       "        vertical-align: top;\n",
       "    }\n",
       "\n",
       "    .dataframe thead th {\n",
       "        text-align: right;\n",
       "    }\n",
       "</style>\n",
       "<table border=\"1\" class=\"dataframe\">\n",
       "  <thead>\n",
       "    <tr style=\"text-align: right;\">\n",
       "      <th></th>\n",
       "      <th>vacancy_name</th>\n",
       "      <th>area_id</th>\n",
       "      <th>area_name</th>\n",
       "      <th>published_at</th>\n",
       "      <th>created_at</th>\n",
       "      <th>employer_id</th>\n",
       "      <th>employer_name</th>\n",
       "      <th>employer_link</th>\n",
       "      <th>city</th>\n",
       "      <th>schedule</th>\n",
       "      <th>...</th>\n",
       "      <th>description</th>\n",
       "      <th>index</th>\n",
       "      <th>from</th>\n",
       "      <th>to</th>\n",
       "      <th>currency</th>\n",
       "      <th>gross</th>\n",
       "      <th>role_id</th>\n",
       "      <th>name</th>\n",
       "      <th>role_name</th>\n",
       "      <th>salary_middle</th>\n",
       "    </tr>\n",
       "  </thead>\n",
       "  <tbody>\n",
       "    <tr>\n",
       "      <th>14175</th>\n",
       "      <td>Ассистент отдела Retail</td>\n",
       "      <td>1</td>\n",
       "      <td>Москва</td>\n",
       "      <td>2024-01-22 09:48:55+03:00</td>\n",
       "      <td>2024-01-22 09:48:55+03:00</td>\n",
       "      <td>4173118</td>\n",
       "      <td>SuperStep</td>\n",
       "      <td>https://hh.ru/employer/4173118</td>\n",
       "      <td>1</td>\n",
       "      <td>Полный день</td>\n",
       "      <td>...</td>\n",
       "      <td></td>\n",
       "      <td>5057</td>\n",
       "      <td>90000</td>\n",
       "      <td>0</td>\n",
       "      <td>RUR</td>\n",
       "      <td>False</td>\n",
       "      <td>10</td>\n",
       "      <td>Аналитик</td>\n",
       "      <td>Аналитик</td>\n",
       "      <td>90000.0</td>\n",
       "    </tr>\n",
       "    <tr>\n",
       "      <th>14179</th>\n",
       "      <td>Аналитик (удаленно)</td>\n",
       "      <td>1</td>\n",
       "      <td>Москва</td>\n",
       "      <td>2024-01-22 12:07:01+03:00</td>\n",
       "      <td>2024-01-22 12:07:01+03:00</td>\n",
       "      <td>1419273</td>\n",
       "      <td>Работут</td>\n",
       "      <td>https://hh.ru/employer/1419273</td>\n",
       "      <td>1</td>\n",
       "      <td>Удаленная работа</td>\n",
       "      <td>...</td>\n",
       "      <td></td>\n",
       "      <td>5058</td>\n",
       "      <td>120000</td>\n",
       "      <td>120000</td>\n",
       "      <td>RUR</td>\n",
       "      <td>False</td>\n",
       "      <td>10</td>\n",
       "      <td>Аналитик</td>\n",
       "      <td>Аналитик</td>\n",
       "      <td>120000.0</td>\n",
       "    </tr>\n",
       "    <tr>\n",
       "      <th>14183</th>\n",
       "      <td>Аналитик (Junior)</td>\n",
       "      <td>1</td>\n",
       "      <td>Москва</td>\n",
       "      <td>2024-01-22 10:55:24+03:00</td>\n",
       "      <td>2024-01-22 10:55:24+03:00</td>\n",
       "      <td>2804795</td>\n",
       "      <td>Мегамаркет</td>\n",
       "      <td>https://hh.ru/employer/2804795</td>\n",
       "      <td>1</td>\n",
       "      <td>Удаленная работа</td>\n",
       "      <td>...</td>\n",
       "      <td></td>\n",
       "      <td>5059</td>\n",
       "      <td>0</td>\n",
       "      <td>0</td>\n",
       "      <td>NaN</td>\n",
       "      <td>NaN</td>\n",
       "      <td>10</td>\n",
       "      <td>Аналитик</td>\n",
       "      <td>Аналитик</td>\n",
       "      <td>0.0</td>\n",
       "    </tr>\n",
       "    <tr>\n",
       "      <th>14187</th>\n",
       "      <td>Младший аналитик (IT-компания)</td>\n",
       "      <td>1</td>\n",
       "      <td>Москва</td>\n",
       "      <td>2024-01-22 11:46:35+03:00</td>\n",
       "      <td>2024-01-22 11:46:35+03:00</td>\n",
       "      <td>11632</td>\n",
       "      <td>DSM Group</td>\n",
       "      <td>https://hh.ru/employer/11632</td>\n",
       "      <td>1</td>\n",
       "      <td>Полный день</td>\n",
       "      <td>...</td>\n",
       "      <td></td>\n",
       "      <td>5060</td>\n",
       "      <td>0</td>\n",
       "      <td>54500</td>\n",
       "      <td>RUR</td>\n",
       "      <td>False</td>\n",
       "      <td>10</td>\n",
       "      <td>Аналитик</td>\n",
       "      <td>Аналитик</td>\n",
       "      <td>54500.0</td>\n",
       "    </tr>\n",
       "    <tr>\n",
       "      <th>14191</th>\n",
       "      <td>Младший аналитик</td>\n",
       "      <td>1</td>\n",
       "      <td>Москва</td>\n",
       "      <td>2024-01-22 18:31:16+03:00</td>\n",
       "      <td>2024-01-22 18:31:16+03:00</td>\n",
       "      <td>11580</td>\n",
       "      <td>Фармстандарт</td>\n",
       "      <td>https://hh.ru/employer/11580</td>\n",
       "      <td>1</td>\n",
       "      <td>Полный день</td>\n",
       "      <td>...</td>\n",
       "      <td></td>\n",
       "      <td>5061</td>\n",
       "      <td>0</td>\n",
       "      <td>0</td>\n",
       "      <td>NaN</td>\n",
       "      <td>NaN</td>\n",
       "      <td>10</td>\n",
       "      <td>Аналитик</td>\n",
       "      <td>Аналитик</td>\n",
       "      <td>0.0</td>\n",
       "    </tr>\n",
       "    <tr>\n",
       "      <th>...</th>\n",
       "      <td>...</td>\n",
       "      <td>...</td>\n",
       "      <td>...</td>\n",
       "      <td>...</td>\n",
       "      <td>...</td>\n",
       "      <td>...</td>\n",
       "      <td>...</td>\n",
       "      <td>...</td>\n",
       "      <td>...</td>\n",
       "      <td>...</td>\n",
       "      <td>...</td>\n",
       "      <td>...</td>\n",
       "      <td>...</td>\n",
       "      <td>...</td>\n",
       "      <td>...</td>\n",
       "      <td>...</td>\n",
       "      <td>...</td>\n",
       "      <td>...</td>\n",
       "      <td>...</td>\n",
       "      <td>...</td>\n",
       "      <td>...</td>\n",
       "    </tr>\n",
       "    <tr>\n",
       "      <th>18607</th>\n",
       "      <td>Ведущий консультант-аналитик 1С (регламентиров...</td>\n",
       "      <td>1</td>\n",
       "      <td>Москва</td>\n",
       "      <td>2024-01-23 09:47:34+03:00</td>\n",
       "      <td>2024-01-23 09:47:34+03:00</td>\n",
       "      <td>142514</td>\n",
       "      <td>Рамакс Интернейшнл</td>\n",
       "      <td>https://hh.ru/employer/142514</td>\n",
       "      <td>1</td>\n",
       "      <td>Удаленная работа</td>\n",
       "      <td>...</td>\n",
       "      <td></td>\n",
       "      <td>6165</td>\n",
       "      <td>0</td>\n",
       "      <td>0</td>\n",
       "      <td>NaN</td>\n",
       "      <td>NaN</td>\n",
       "      <td>10</td>\n",
       "      <td>Аналитик</td>\n",
       "      <td>Аналитик</td>\n",
       "      <td>0.0</td>\n",
       "    </tr>\n",
       "    <tr>\n",
       "      <th>18611</th>\n",
       "      <td>Системный аналитик по 1С УНФ</td>\n",
       "      <td>1</td>\n",
       "      <td>Москва</td>\n",
       "      <td>2024-01-21 16:24:00+03:00</td>\n",
       "      <td>2024-01-21 16:24:00+03:00</td>\n",
       "      <td>1035394</td>\n",
       "      <td>Красное &amp; Белое, розничная сеть</td>\n",
       "      <td>https://hh.ru/employer/1035394</td>\n",
       "      <td>1</td>\n",
       "      <td>Полный день</td>\n",
       "      <td>...</td>\n",
       "      <td></td>\n",
       "      <td>6166</td>\n",
       "      <td>0</td>\n",
       "      <td>0</td>\n",
       "      <td>NaN</td>\n",
       "      <td>NaN</td>\n",
       "      <td>10</td>\n",
       "      <td>Аналитик</td>\n",
       "      <td>Аналитик</td>\n",
       "      <td>0.0</td>\n",
       "    </tr>\n",
       "    <tr>\n",
       "      <th>18615</th>\n",
       "      <td>Ведущий консультант-аналитик 1С (блок Аренда)</td>\n",
       "      <td>1</td>\n",
       "      <td>Москва</td>\n",
       "      <td>2024-01-23 09:46:58+03:00</td>\n",
       "      <td>2024-01-23 09:46:58+03:00</td>\n",
       "      <td>142514</td>\n",
       "      <td>Рамакс Интернейшнл</td>\n",
       "      <td>https://hh.ru/employer/142514</td>\n",
       "      <td>1</td>\n",
       "      <td>Удаленная работа</td>\n",
       "      <td>...</td>\n",
       "      <td></td>\n",
       "      <td>6167</td>\n",
       "      <td>0</td>\n",
       "      <td>0</td>\n",
       "      <td>NaN</td>\n",
       "      <td>NaN</td>\n",
       "      <td>10</td>\n",
       "      <td>Аналитик</td>\n",
       "      <td>Аналитик</td>\n",
       "      <td>0.0</td>\n",
       "    </tr>\n",
       "    <tr>\n",
       "      <th>18619</th>\n",
       "      <td>Старший консультант-аналитик 1С (регламентиров...</td>\n",
       "      <td>1</td>\n",
       "      <td>Москва</td>\n",
       "      <td>2024-01-23 09:46:38+03:00</td>\n",
       "      <td>2024-01-23 09:46:38+03:00</td>\n",
       "      <td>142514</td>\n",
       "      <td>Рамакс Интернейшнл</td>\n",
       "      <td>https://hh.ru/employer/142514</td>\n",
       "      <td>1</td>\n",
       "      <td>Удаленная работа</td>\n",
       "      <td>...</td>\n",
       "      <td></td>\n",
       "      <td>6168</td>\n",
       "      <td>0</td>\n",
       "      <td>0</td>\n",
       "      <td>NaN</td>\n",
       "      <td>NaN</td>\n",
       "      <td>10</td>\n",
       "      <td>Аналитик</td>\n",
       "      <td>Аналитик</td>\n",
       "      <td>0.0</td>\n",
       "    </tr>\n",
       "    <tr>\n",
       "      <th>18623</th>\n",
       "      <td>Системный аналитик 1C (ТМЦ, ОС и НМА)</td>\n",
       "      <td>1</td>\n",
       "      <td>Москва</td>\n",
       "      <td>2024-01-21 15:54:23+03:00</td>\n",
       "      <td>2024-01-21 15:54:23+03:00</td>\n",
       "      <td>1035394</td>\n",
       "      <td>Красное &amp; Белое, розничная сеть</td>\n",
       "      <td>https://hh.ru/employer/1035394</td>\n",
       "      <td>1</td>\n",
       "      <td>Полный день</td>\n",
       "      <td>...</td>\n",
       "      <td></td>\n",
       "      <td>6169</td>\n",
       "      <td>0</td>\n",
       "      <td>0</td>\n",
       "      <td>NaN</td>\n",
       "      <td>NaN</td>\n",
       "      <td>10</td>\n",
       "      <td>Аналитик</td>\n",
       "      <td>Аналитик</td>\n",
       "      <td>0.0</td>\n",
       "    </tr>\n",
       "  </tbody>\n",
       "</table>\n",
       "<p>1113 rows × 23 columns</p>\n",
       "</div>"
      ],
      "text/plain": [
       "                                            vacancy_name area_id area_name  \\\n",
       "14175                            Ассистент отдела Retail       1    Москва   \n",
       "14179                                Аналитик (удаленно)       1    Москва   \n",
       "14183                                  Аналитик (Junior)       1    Москва   \n",
       "14187                     Младший аналитик (IT-компания)       1    Москва   \n",
       "14191                                   Младший аналитик       1    Москва   \n",
       "...                                                  ...     ...       ...   \n",
       "18607  Ведущий консультант-аналитик 1С (регламентиров...       1    Москва   \n",
       "18611                       Системный аналитик по 1С УНФ       1    Москва   \n",
       "18615      Ведущий консультант-аналитик 1С (блок Аренда)       1    Москва   \n",
       "18619  Старший консультант-аналитик 1С (регламентиров...       1    Москва   \n",
       "18623              Системный аналитик 1C (ТМЦ, ОС и НМА)       1    Москва   \n",
       "\n",
       "                   published_at                created_at employer_id  \\\n",
       "14175 2024-01-22 09:48:55+03:00 2024-01-22 09:48:55+03:00     4173118   \n",
       "14179 2024-01-22 12:07:01+03:00 2024-01-22 12:07:01+03:00     1419273   \n",
       "14183 2024-01-22 10:55:24+03:00 2024-01-22 10:55:24+03:00     2804795   \n",
       "14187 2024-01-22 11:46:35+03:00 2024-01-22 11:46:35+03:00       11632   \n",
       "14191 2024-01-22 18:31:16+03:00 2024-01-22 18:31:16+03:00       11580   \n",
       "...                         ...                       ...         ...   \n",
       "18607 2024-01-23 09:47:34+03:00 2024-01-23 09:47:34+03:00      142514   \n",
       "18611 2024-01-21 16:24:00+03:00 2024-01-21 16:24:00+03:00     1035394   \n",
       "18615 2024-01-23 09:46:58+03:00 2024-01-23 09:46:58+03:00      142514   \n",
       "18619 2024-01-23 09:46:38+03:00 2024-01-23 09:46:38+03:00      142514   \n",
       "18623 2024-01-21 15:54:23+03:00 2024-01-21 15:54:23+03:00     1035394   \n",
       "\n",
       "                         employer_name                   employer_link city  \\\n",
       "14175                        SuperStep  https://hh.ru/employer/4173118    1   \n",
       "14179                          Работут  https://hh.ru/employer/1419273    1   \n",
       "14183                       Мегамаркет  https://hh.ru/employer/2804795    1   \n",
       "14187                        DSM Group    https://hh.ru/employer/11632    1   \n",
       "14191                     Фармстандарт    https://hh.ru/employer/11580    1   \n",
       "...                                ...                             ...  ...   \n",
       "18607               Рамакс Интернейшнл   https://hh.ru/employer/142514    1   \n",
       "18611  Красное & Белое, розничная сеть  https://hh.ru/employer/1035394    1   \n",
       "18615               Рамакс Интернейшнл   https://hh.ru/employer/142514    1   \n",
       "18619               Рамакс Интернейшнл   https://hh.ru/employer/142514    1   \n",
       "18623  Красное & Белое, розничная сеть  https://hh.ru/employer/1035394    1   \n",
       "\n",
       "               schedule  ... description index    from      to  currency  \\\n",
       "14175       Полный день  ...              5057   90000       0       RUR   \n",
       "14179  Удаленная работа  ...              5058  120000  120000       RUR   \n",
       "14183  Удаленная работа  ...              5059       0       0       NaN   \n",
       "14187       Полный день  ...              5060       0   54500       RUR   \n",
       "14191       Полный день  ...              5061       0       0       NaN   \n",
       "...                 ...  ...         ...   ...     ...     ...       ...   \n",
       "18607  Удаленная работа  ...              6165       0       0       NaN   \n",
       "18611       Полный день  ...              6166       0       0       NaN   \n",
       "18615  Удаленная работа  ...              6167       0       0       NaN   \n",
       "18619  Удаленная работа  ...              6168       0       0       NaN   \n",
       "18623       Полный день  ...              6169       0       0       NaN   \n",
       "\n",
       "       gross  role_id      name role_name salary_middle  \n",
       "14175  False       10  Аналитик  Аналитик       90000.0  \n",
       "14179  False       10  Аналитик  Аналитик      120000.0  \n",
       "14183    NaN       10  Аналитик  Аналитик           0.0  \n",
       "14187  False       10  Аналитик  Аналитик       54500.0  \n",
       "14191    NaN       10  Аналитик  Аналитик           0.0  \n",
       "...      ...      ...       ...       ...           ...  \n",
       "18607    NaN       10  Аналитик  Аналитик           0.0  \n",
       "18611    NaN       10  Аналитик  Аналитик           0.0  \n",
       "18615    NaN       10  Аналитик  Аналитик           0.0  \n",
       "18619    NaN       10  Аналитик  Аналитик           0.0  \n",
       "18623    NaN       10  Аналитик  Аналитик           0.0  \n",
       "\n",
       "[1113 rows x 23 columns]"
      ]
     },
     "execution_count": 24,
     "metadata": {},
     "output_type": "execute_result"
    }
   ],
   "source": [
    "vacancies_full[vacancies_full.role_id == '10']"
   ]
  },
  {
   "cell_type": "markdown",
   "metadata": {},
   "source": [
    "### Getting vaccancy description from url"
   ]
  },
  {
   "cell_type": "code",
<<<<<<< HEAD
   "execution_count": 30,
=======
   "execution_count": 26,
>>>>>>> c779717f6ef5a36e542c605b60de5c668c241dd0
   "metadata": {},
   "outputs": [],
   "source": [
    "from selenium import webdriver\n",
    "from selenium.webdriver.common.by import By\n",
    "from time import sleep\n",
    "\n",
    "browser = webdriver.Chrome()\n",
    "browser.maximize_window()"
   ]
  },
  {
   "cell_type": "code",
<<<<<<< HEAD
   "execution_count": 24,
=======
   "execution_count": 27,
>>>>>>> c779717f6ef5a36e542c605b60de5c668c241dd0
   "metadata": {},
   "outputs": [],
   "source": [
    "# Defining the function\n",
    "def get_hh_info(link_str):\n",
    "    \n",
    "    data = {\n",
<<<<<<< HEAD
=======
    "        'vacancy_title':[],\n",
>>>>>>> c779717f6ef5a36e542c605b60de5c668c241dd0
    "        'vacancy_description':[]\n",
    "    }\n",
    "    try:\n",
    "        browser.get(link_str)        \n",
    "        sleep(2)\n",
    "        try:\n",
    "            a = browser.find_element(\"xpath\", '//div[@class=\"vacancy-description\"]').text\n",
    "        except:\n",
    "            a = 'no_data'\n",
    "        data['vacancy_description'].append(a)\n",
    "\n",
<<<<<<< HEAD
=======
    "        try:\n",
    "            b = browser.find_element(\"xpath\", '//div[@class=\"vacancy-title\"]').text\n",
    "        except:\n",
    "            b = 'no_data'\n",
    "        data['vacancy_title'].append(b)\n",
>>>>>>> c779717f6ef5a36e542c605b60de5c668c241dd0
    "        if len(browser.window_handles) > 1:\n",
    "            browser.close()\n",
    "        return data\n",
    "    except:\n",
    "        return 'no_data'"
   ]
  },
  {
   "cell_type": "code",
   "execution_count": 25,
   "metadata": {},
   "outputs": [
    {
     "data": {
      "text/plain": [
<<<<<<< HEAD
       "576"
=======
       "362"
>>>>>>> c779717f6ef5a36e542c605b60de5c668c241dd0
      ]
     },
     "execution_count": 25,
     "metadata": {},
     "output_type": "execute_result"
    }
   ],
   "source": [
    "# getting only vacancies with salary \n",
    "# also choosing ONE SPECIFIC professional role - because it takes long to get the vacancy description data \n",
    "# you can do more - but just join them later\n",
    "target_vaccancies = vacancies_full[ (vacancies_full['salary_middle'] > 0) & (vacancies_full['role_id'] == '10') ] # 10 for analysts\n",
    "target_vaccancies.vacancy_name.count()"
   ]
  },
  {
   "cell_type": "code",
   "execution_count": 28,
   "metadata": {},
   "outputs": [
    {
     "name": "stderr",
     "output_type": "stream",
     "text": [
<<<<<<< HEAD
      "Processing: 100%|██████████| 576/576 [43:51<00:00,  4.57s/it]  \n",
      "/var/folders/z8/hdkxtn_15wx2h07f409mskwm0000gn/T/ipykernel_17611/4240138661.py:4: SettingWithCopyWarning: \n",
=======
      "/var/folders/z8/hdkxtn_15wx2h07f409mskwm0000gn/T/ipykernel_2698/659664805.py:4: SettingWithCopyWarning: \n",
>>>>>>> c779717f6ef5a36e542c605b60de5c668c241dd0
      "A value is trying to be set on a copy of a slice from a DataFrame.\n",
      "Try using .loc[row_indexer,col_indexer] = value instead\n",
      "\n",
      "See the caveats in the documentation: https://pandas.pydata.org/pandas-docs/stable/user_guide/indexing.html#returning-a-view-versus-a-copy\n",
<<<<<<< HEAD
      "  target_vaccancies['url_description'] = target_vaccancies.alternate_url.progress_apply(lambda x: get_hh_info(x) )\n"
=======
      "  target_vaccancies['url_description'] = target_vaccancies.alternate_url.apply(lambda x: get_hh_info(x) )\n"
>>>>>>> c779717f6ef5a36e542c605b60de5c668c241dd0
     ]
    }
   ],
   "source": [
    "#  Launching the func\n",
    "from tqdm import tqdm\n",
    "tqdm.pandas(desc=\"Processing\")\n",
    "target_vaccancies['url_description'] = target_vaccancies.alternate_url.progress_apply(lambda x: get_hh_info(x) )"
   ]
  },
  {
   "cell_type": "code",
<<<<<<< HEAD
   "execution_count": 29,
=======
   "execution_count": 34,
>>>>>>> c779717f6ef5a36e542c605b60de5c668c241dd0
   "metadata": {},
   "outputs": [
    {
     "data": {
      "text/html": [
       "<div>\n",
       "<style scoped>\n",
       "    .dataframe tbody tr th:only-of-type {\n",
       "        vertical-align: middle;\n",
       "    }\n",
       "\n",
       "    .dataframe tbody tr th {\n",
       "        vertical-align: top;\n",
       "    }\n",
       "\n",
       "    .dataframe thead th {\n",
       "        text-align: right;\n",
       "    }\n",
       "</style>\n",
       "<table border=\"1\" class=\"dataframe\">\n",
       "  <thead>\n",
       "    <tr style=\"text-align: right;\">\n",
       "      <th></th>\n",
       "      <th>vacancy_name</th>\n",
       "      <th>area_id</th>\n",
       "      <th>area_name</th>\n",
       "      <th>published_at</th>\n",
       "      <th>created_at</th>\n",
       "      <th>employer_id</th>\n",
       "      <th>employer_name</th>\n",
       "      <th>employer_link</th>\n",
       "      <th>city</th>\n",
       "      <th>schedule</th>\n",
       "      <th>...</th>\n",
       "      <th>index</th>\n",
       "      <th>from</th>\n",
       "      <th>to</th>\n",
       "      <th>currency</th>\n",
       "      <th>gross</th>\n",
       "      <th>role_id</th>\n",
       "      <th>name</th>\n",
       "      <th>role_name</th>\n",
       "      <th>salary_middle</th>\n",
       "      <th>url_description</th>\n",
       "    </tr>\n",
       "  </thead>\n",
       "  <tbody>\n",
<<<<<<< HEAD
       "    <tr>\n",
       "      <th>10997</th>\n",
       "      <td>Продуктовый аналитик / аналитик рынка (удаленно)</td>\n",
       "      <td>1</td>\n",
       "      <td>Москва</td>\n",
       "      <td>2024-02-05 19:22:57+03:00</td>\n",
       "      <td>2024-02-05 19:22:57+03:00</td>\n",
       "      <td>10505147</td>\n",
       "      <td>Торговый Дом Мировой Шоппинг</td>\n",
       "      <td>https://hh.ru/employer/10505147</td>\n",
       "      <td>1</td>\n",
       "      <td>Удаленная работа</td>\n",
       "      <td>...</td>\n",
       "      <td>5814</td>\n",
       "      <td>110000</td>\n",
       "      <td>0</td>\n",
       "      <td>RUR</td>\n",
       "      <td>False</td>\n",
       "      <td>10</td>\n",
       "      <td>Аналитик</td>\n",
       "      <td>Аналитик</td>\n",
       "      <td>110000.0</td>\n",
       "      <td>no_data</td>\n",
       "    </tr>\n",
       "    <tr>\n",
       "      <th>11013</th>\n",
       "      <td>Аналитик IDM</td>\n",
       "      <td>1</td>\n",
       "      <td>Москва</td>\n",
       "      <td>2024-01-23 13:20:31+03:00</td>\n",
       "      <td>2024-01-23 13:20:31+03:00</td>\n",
       "      <td>906557</td>\n",
       "      <td>SberTech</td>\n",
       "      <td>https://hh.ru/employer/906557</td>\n",
       "      <td>1</td>\n",
       "      <td>Полный день</td>\n",
       "      <td>...</td>\n",
       "      <td>5818</td>\n",
       "      <td>173000</td>\n",
       "      <td>0</td>\n",
       "      <td>RUR</td>\n",
       "      <td>True</td>\n",
       "      <td>10</td>\n",
       "      <td>Аналитик</td>\n",
       "      <td>Аналитик</td>\n",
       "      <td>173000.0</td>\n",
       "      <td>no_data</td>\n",
       "    </tr>\n",
       "    <tr>\n",
       "      <th>11021</th>\n",
       "      <td>Маркетолог-аналитик</td>\n",
       "      <td>1</td>\n",
       "      <td>Москва</td>\n",
       "      <td>2024-02-08 09:41:17+03:00</td>\n",
       "      <td>2024-02-08 09:41:17+03:00</td>\n",
       "      <td>1326835</td>\n",
       "      <td>Ветпром</td>\n",
       "      <td>https://hh.ru/employer/1326835</td>\n",
       "      <td>1</td>\n",
       "      <td>Полный день</td>\n",
       "      <td>...</td>\n",
       "      <td>5820</td>\n",
       "      <td>85000</td>\n",
       "      <td>90000</td>\n",
       "      <td>RUR</td>\n",
       "      <td>False</td>\n",
       "      <td>10</td>\n",
       "      <td>Аналитик</td>\n",
       "      <td>Аналитик</td>\n",
       "      <td>87500.0</td>\n",
       "      <td>no_data</td>\n",
       "    </tr>\n",
       "    <tr>\n",
       "      <th>11045</th>\n",
       "      <td>Маркетолог-аналитик</td>\n",
       "      <td>1</td>\n",
       "      <td>Москва</td>\n",
       "      <td>2024-02-06 16:55:35+03:00</td>\n",
       "      <td>2024-02-06 16:55:35+03:00</td>\n",
       "      <td>2672593</td>\n",
       "      <td>Expotestdrive</td>\n",
       "      <td>https://hh.ru/employer/2672593</td>\n",
       "      <td>1</td>\n",
       "      <td>Полный день</td>\n",
       "      <td>...</td>\n",
       "      <td>5826</td>\n",
       "      <td>35000</td>\n",
       "      <td>50000</td>\n",
       "      <td>RUR</td>\n",
       "      <td>True</td>\n",
       "      <td>10</td>\n",
       "      <td>Аналитик</td>\n",
       "      <td>Аналитик</td>\n",
       "      <td>42500.0</td>\n",
       "      <td>no_data</td>\n",
       "    </tr>\n",
       "    <tr>\n",
       "      <th>11069</th>\n",
       "      <td>Консультант/Аналитик 1С (БГУ, ЗКГУ, ЗУП)</td>\n",
       "      <td>1</td>\n",
       "      <td>Москва</td>\n",
       "      <td>2024-01-29 11:10:09+03:00</td>\n",
       "      <td>2024-01-29 11:10:09+03:00</td>\n",
       "      <td>2656</td>\n",
       "      <td>Первый Дом Консалтинга ЧТО ДЕЛАТЬ КОНСАЛТ</td>\n",
       "      <td>https://hh.ru/employer/2656</td>\n",
       "      <td>1</td>\n",
       "      <td>Полный день</td>\n",
       "      <td>...</td>\n",
       "      <td>5832</td>\n",
       "      <td>150000</td>\n",
       "      <td>0</td>\n",
       "      <td>RUR</td>\n",
       "      <td>True</td>\n",
       "      <td>10</td>\n",
       "      <td>Аналитик</td>\n",
       "      <td>Аналитик</td>\n",
       "      <td>150000.0</td>\n",
       "      <td>no_data</td>\n",
       "    </tr>\n",
       "    <tr>\n",
       "      <th>...</th>\n",
       "      <td>...</td>\n",
       "      <td>...</td>\n",
       "      <td>...</td>\n",
       "      <td>...</td>\n",
       "      <td>...</td>\n",
       "      <td>...</td>\n",
       "      <td>...</td>\n",
       "      <td>...</td>\n",
       "      <td>...</td>\n",
       "      <td>...</td>\n",
       "      <td>...</td>\n",
       "      <td>...</td>\n",
       "      <td>...</td>\n",
       "      <td>...</td>\n",
       "      <td>...</td>\n",
       "      <td>...</td>\n",
       "      <td>...</td>\n",
       "      <td>...</td>\n",
       "      <td>...</td>\n",
       "      <td>...</td>\n",
       "      <td>...</td>\n",
       "    </tr>\n",
       "    <tr>\n",
       "      <th>14721</th>\n",
       "      <td>Аналитик 1С ЗУП</td>\n",
       "      <td>1</td>\n",
       "      <td>Москва</td>\n",
       "      <td>2024-02-07 09:51:56+03:00</td>\n",
       "      <td>2024-02-07 09:51:56+03:00</td>\n",
       "      <td>2325</td>\n",
       "      <td>World Class</td>\n",
       "      <td>https://hh.ru/employer/2325</td>\n",
       "      <td>1</td>\n",
       "      <td>Полный день</td>\n",
       "      <td>...</td>\n",
       "      <td>6745</td>\n",
       "      <td>0</td>\n",
       "      <td>220000</td>\n",
       "      <td>RUR</td>\n",
       "      <td>True</td>\n",
       "      <td>10</td>\n",
       "      <td>Аналитик</td>\n",
       "      <td>Аналитик</td>\n",
       "      <td>220000.0</td>\n",
       "      <td>no_data</td>\n",
       "    </tr>\n",
       "    <tr>\n",
       "      <th>14733</th>\n",
       "      <td>Аналитик</td>\n",
       "      <td>1</td>\n",
       "      <td>Москва</td>\n",
       "      <td>2024-01-22 17:46:03+03:00</td>\n",
       "      <td>2024-01-22 17:46:03+03:00</td>\n",
       "      <td>5466803</td>\n",
       "      <td>Балуева Елена Андреевна</td>\n",
       "      <td>https://hh.ru/employer/5466803</td>\n",
       "      <td>1</td>\n",
       "      <td>Полный день</td>\n",
       "      <td>...</td>\n",
       "      <td>6748</td>\n",
       "      <td>0</td>\n",
       "      <td>70000</td>\n",
       "      <td>RUR</td>\n",
       "      <td>False</td>\n",
       "      <td>10</td>\n",
       "      <td>Аналитик</td>\n",
       "      <td>Аналитик</td>\n",
       "      <td>70000.0</td>\n",
       "      <td>no_data</td>\n",
       "    </tr>\n",
       "    <tr>\n",
       "      <th>14765</th>\n",
       "      <td>Аналитик 1С</td>\n",
       "      <td>1</td>\n",
       "      <td>Москва</td>\n",
       "      <td>2024-02-07 16:43:17+03:00</td>\n",
       "      <td>2024-02-07 16:43:17+03:00</td>\n",
       "      <td>103816</td>\n",
       "      <td>Россети Московский регион</td>\n",
       "      <td>https://hh.ru/employer/103816</td>\n",
       "      <td>1</td>\n",
       "      <td>Полный день</td>\n",
       "      <td>...</td>\n",
       "      <td>6756</td>\n",
       "      <td>152000</td>\n",
       "      <td>200000</td>\n",
       "      <td>RUR</td>\n",
       "      <td>False</td>\n",
       "      <td>10</td>\n",
       "      <td>Аналитик</td>\n",
       "      <td>Аналитик</td>\n",
       "      <td>176000.0</td>\n",
       "      <td>no_data</td>\n",
       "    </tr>\n",
       "    <tr>\n",
       "      <th>14785</th>\n",
       "      <td>Аналитик отдела продаж</td>\n",
       "      <td>1</td>\n",
       "      <td>Москва</td>\n",
       "      <td>2024-02-08 15:10:55+03:00</td>\n",
       "      <td>2024-02-08 15:10:55+03:00</td>\n",
       "      <td>2569687</td>\n",
       "      <td>ПРОФИЛАБТЕСТ</td>\n",
       "      <td>https://hh.ru/employer/2569687</td>\n",
       "      <td>1</td>\n",
       "      <td>Полный день</td>\n",
       "      <td>...</td>\n",
       "      <td>6761</td>\n",
       "      <td>0</td>\n",
       "      <td>100000</td>\n",
       "      <td>RUR</td>\n",
       "      <td>True</td>\n",
       "      <td>10</td>\n",
       "      <td>Аналитик</td>\n",
       "      <td>Аналитик</td>\n",
       "      <td>100000.0</td>\n",
       "      <td>no_data</td>\n",
       "    </tr>\n",
       "    <tr>\n",
       "      <th>14853</th>\n",
       "      <td>Руководитель проектов 1С</td>\n",
       "      <td>1</td>\n",
       "      <td>Москва</td>\n",
       "      <td>2024-02-06 19:01:48+03:00</td>\n",
       "      <td>2024-02-06 19:01:48+03:00</td>\n",
       "      <td>1420859</td>\n",
       "      <td>Retail Personal</td>\n",
       "      <td>https://hh.ru/employer/1420859</td>\n",
       "      <td>1</td>\n",
       "      <td>Полный день</td>\n",
       "      <td>...</td>\n",
       "      <td>6778</td>\n",
       "      <td>200000</td>\n",
       "      <td>250000</td>\n",
       "      <td>RUR</td>\n",
       "      <td>False</td>\n",
       "      <td>10</td>\n",
       "      <td>Аналитик</td>\n",
       "      <td>Аналитик</td>\n",
       "      <td>225000.0</td>\n",
       "      <td>no_data</td>\n",
       "    </tr>\n",
       "  </tbody>\n",
       "</table>\n",
       "<p>210 rows × 24 columns</p>\n",
       "</div>"
      ],
      "text/plain": [
       "                                           vacancy_name area_id area_name  \\\n",
       "10997  Продуктовый аналитик / аналитик рынка (удаленно)       1    Москва   \n",
       "11013                                      Аналитик IDM       1    Москва   \n",
       "11021                               Маркетолог-аналитик       1    Москва   \n",
       "11045                               Маркетолог-аналитик       1    Москва   \n",
       "11069          Консультант/Аналитик 1С (БГУ, ЗКГУ, ЗУП)       1    Москва   \n",
       "...                                                 ...     ...       ...   \n",
       "14721                                   Аналитик 1С ЗУП       1    Москва   \n",
       "14733                                          Аналитик       1    Москва   \n",
       "14765                                       Аналитик 1С       1    Москва   \n",
       "14785                            Аналитик отдела продаж       1    Москва   \n",
       "14853                          Руководитель проектов 1С       1    Москва   \n",
       "\n",
       "                   published_at                created_at employer_id  \\\n",
       "10997 2024-02-05 19:22:57+03:00 2024-02-05 19:22:57+03:00    10505147   \n",
       "11013 2024-01-23 13:20:31+03:00 2024-01-23 13:20:31+03:00      906557   \n",
       "11021 2024-02-08 09:41:17+03:00 2024-02-08 09:41:17+03:00     1326835   \n",
       "11045 2024-02-06 16:55:35+03:00 2024-02-06 16:55:35+03:00     2672593   \n",
       "11069 2024-01-29 11:10:09+03:00 2024-01-29 11:10:09+03:00        2656   \n",
       "...                         ...                       ...         ...   \n",
       "14721 2024-02-07 09:51:56+03:00 2024-02-07 09:51:56+03:00        2325   \n",
       "14733 2024-01-22 17:46:03+03:00 2024-01-22 17:46:03+03:00     5466803   \n",
       "14765 2024-02-07 16:43:17+03:00 2024-02-07 16:43:17+03:00      103816   \n",
       "14785 2024-02-08 15:10:55+03:00 2024-02-08 15:10:55+03:00     2569687   \n",
       "14853 2024-02-06 19:01:48+03:00 2024-02-06 19:01:48+03:00     1420859   \n",
       "\n",
       "                                   employer_name  \\\n",
       "10997               Торговый Дом Мировой Шоппинг   \n",
       "11013                                   SberTech   \n",
       "11021                                    Ветпром   \n",
       "11045                              Expotestdrive   \n",
       "11069  Первый Дом Консалтинга ЧТО ДЕЛАТЬ КОНСАЛТ   \n",
       "...                                          ...   \n",
       "14721                                World Class   \n",
       "14733                    Балуева Елена Андреевна   \n",
       "14765                  Россети Московский регион   \n",
       "14785                               ПРОФИЛАБТЕСТ   \n",
       "14853                            Retail Personal   \n",
       "\n",
       "                         employer_link city          schedule  ... index  \\\n",
       "10997  https://hh.ru/employer/10505147    1  Удаленная работа  ...  5814   \n",
       "11013    https://hh.ru/employer/906557    1       Полный день  ...  5818   \n",
       "11021   https://hh.ru/employer/1326835    1       Полный день  ...  5820   \n",
       "11045   https://hh.ru/employer/2672593    1       Полный день  ...  5826   \n",
       "11069      https://hh.ru/employer/2656    1       Полный день  ...  5832   \n",
       "...                                ...  ...               ...  ...   ...   \n",
       "14721      https://hh.ru/employer/2325    1       Полный день  ...  6745   \n",
       "14733   https://hh.ru/employer/5466803    1       Полный день  ...  6748   \n",
       "14765    https://hh.ru/employer/103816    1       Полный день  ...  6756   \n",
       "14785   https://hh.ru/employer/2569687    1       Полный день  ...  6761   \n",
       "14853   https://hh.ru/employer/1420859    1       Полный день  ...  6778   \n",
       "\n",
       "         from      to currency  gross  role_id      name role_name  \\\n",
       "10997  110000       0      RUR  False       10  Аналитик  Аналитик   \n",
       "11013  173000       0      RUR   True       10  Аналитик  Аналитик   \n",
       "11021   85000   90000      RUR  False       10  Аналитик  Аналитик   \n",
       "11045   35000   50000      RUR   True       10  Аналитик  Аналитик   \n",
       "11069  150000       0      RUR   True       10  Аналитик  Аналитик   \n",
       "...       ...     ...      ...    ...      ...       ...       ...   \n",
       "14721       0  220000      RUR   True       10  Аналитик  Аналитик   \n",
       "14733       0   70000      RUR  False       10  Аналитик  Аналитик   \n",
       "14765  152000  200000      RUR  False       10  Аналитик  Аналитик   \n",
       "14785       0  100000      RUR   True       10  Аналитик  Аналитик   \n",
       "14853  200000  250000      RUR  False       10  Аналитик  Аналитик   \n",
       "\n",
       "      salary_middle url_description  \n",
       "10997      110000.0         no_data  \n",
       "11013      173000.0         no_data  \n",
       "11021       87500.0         no_data  \n",
       "11045       42500.0         no_data  \n",
       "11069      150000.0         no_data  \n",
       "...             ...             ...  \n",
       "14721      220000.0         no_data  \n",
       "14733       70000.0         no_data  \n",
       "14765      176000.0         no_data  \n",
       "14785      100000.0         no_data  \n",
       "14853      225000.0         no_data  \n",
       "\n",
       "[210 rows x 24 columns]"
      ]
     },
     "execution_count": 29,
=======
       "  </tbody>\n",
       "</table>\n",
       "<p>0 rows × 24 columns</p>\n",
       "</div>"
      ],
      "text/plain": [
       "Empty DataFrame\n",
       "Columns: [vacancy_name, area_id, area_name, published_at, created_at, employer_id, employer_name, employer_link, city, schedule, experience, employment, alternate_url, description, index, from, to, currency, gross, role_id, name, role_name, salary_middle, url_description]\n",
       "Index: []\n",
       "\n",
       "[0 rows x 24 columns]"
      ]
     },
     "execution_count": 34,
>>>>>>> c779717f6ef5a36e542c605b60de5c668c241dd0
     "metadata": {},
     "output_type": "execute_result"
    }
   ],
   "source": [
    "target_vaccancies[target_vaccancies.url_description == 'no_data']"
   ]
  },
  {
   "cell_type": "code",
<<<<<<< HEAD
   "execution_count": null,
   "metadata": {},
   "outputs": [],
   "source": []
  },
  {
   "cell_type": "code",
   "execution_count": 70,
   "metadata": {},
   "outputs": [],
   "source": [
    "# target_vaccancies['description_flag'] = target_vaccancies.url_description.apply(lambda x: 1 if x != 'no_data' else 0)\n",
    "target_vaccancies['url_description'] = target_vaccancies['url_description'].apply(lambda x:  x['vacancy_description'][0] ) \n"
=======
   "execution_count": 321,
   "metadata": {},
   "outputs": [
    {
     "name": "stderr",
     "output_type": "stream",
     "text": [
      "/var/folders/z8/hdkxtn_15wx2h07f409mskwm0000gn/T/ipykernel_69000/47653565.py:1: SettingWithCopyWarning: \n",
      "A value is trying to be set on a copy of a slice from a DataFrame.\n",
      "Try using .loc[row_indexer,col_indexer] = value instead\n",
      "\n",
      "See the caveats in the documentation: https://pandas.pydata.org/pandas-docs/stable/user_guide/indexing.html#returning-a-view-versus-a-copy\n",
      "  vacancies_w_salary['description_flag'] = vacancies_w_salary.description.apply(lambda x: 1 if x != 'no_data' else 0)\n"
     ]
    }
   ],
   "source": [
    "description['description_flag'] = vacancies_w_salary.url_description.apply(lambda x: 1 if x != 'no_data' else 0)"
>>>>>>> c779717f6ef5a36e542c605b60de5c668c241dd0
   ]
  },
  {
   "cell_type": "code",
   "execution_count": 317,
   "metadata": {},
   "outputs": [],
   "source": [
    "# vacancies_w_salary.to_csv('/Users/igorrudakov/Desktop/vacancies_w_salary.csv', encoding='utf-8', index=True)"
   ]
  },
  {
   "cell_type": "code",
<<<<<<< HEAD
   "execution_count": 31,
   "metadata": {},
   "outputs": [
    {
     "data": {
      "text/html": [
       "<div>\n",
       "<style scoped>\n",
       "    .dataframe tbody tr th:only-of-type {\n",
       "        vertical-align: middle;\n",
       "    }\n",
       "\n",
       "    .dataframe tbody tr th {\n",
       "        vertical-align: top;\n",
       "    }\n",
       "\n",
       "    .dataframe thead th {\n",
       "        text-align: right;\n",
       "    }\n",
       "</style>\n",
       "<table border=\"1\" class=\"dataframe\">\n",
       "  <thead>\n",
       "    <tr style=\"text-align: right;\">\n",
       "      <th></th>\n",
       "      <th>vacancy_name</th>\n",
       "      <th>area_id</th>\n",
       "      <th>area_name</th>\n",
       "      <th>published_at</th>\n",
       "      <th>created_at</th>\n",
       "      <th>employer_id</th>\n",
       "      <th>employer_name</th>\n",
       "      <th>employer_link</th>\n",
       "      <th>city</th>\n",
       "      <th>schedule</th>\n",
       "      <th>...</th>\n",
       "      <th>index</th>\n",
       "      <th>from</th>\n",
       "      <th>to</th>\n",
       "      <th>currency</th>\n",
       "      <th>gross</th>\n",
       "      <th>role_id</th>\n",
       "      <th>name</th>\n",
       "      <th>role_name</th>\n",
       "      <th>salary_middle</th>\n",
       "      <th>url_description</th>\n",
       "    </tr>\n",
       "  </thead>\n",
       "  <tbody>\n",
       "    <tr>\n",
       "      <th>6861</th>\n",
       "      <td>Специалист по Excel (подработка)</td>\n",
       "      <td>1</td>\n",
       "      <td>Москва</td>\n",
       "      <td>2024-01-25 15:34:39+03:00</td>\n",
       "      <td>2024-01-25 15:34:39+03:00</td>\n",
       "      <td>3804435</td>\n",
       "      <td>Lemon Media</td>\n",
       "      <td>https://hh.ru/employer/3804435</td>\n",
       "      <td>1</td>\n",
       "      <td>Удаленная работа</td>\n",
       "      <td>...</td>\n",
       "      <td>4780</td>\n",
       "      <td>10000</td>\n",
       "      <td>10000</td>\n",
       "      <td>RUR</td>\n",
       "      <td>False</td>\n",
       "      <td>10</td>\n",
       "      <td>Аналитик</td>\n",
       "      <td>Аналитик</td>\n",
       "      <td>10000.0</td>\n",
       "      <td>{'vacancy_description': ['Привет!\n",
       "Компания Lem...</td>\n",
       "    </tr>\n",
       "    <tr>\n",
       "      <th>6865</th>\n",
       "      <td>Аналитик</td>\n",
       "      <td>1</td>\n",
       "      <td>Москва</td>\n",
       "      <td>2024-02-08 09:22:50+03:00</td>\n",
       "      <td>2024-02-08 09:22:50+03:00</td>\n",
       "      <td>869045</td>\n",
       "      <td>Московский метрополитен</td>\n",
       "      <td>https://hh.ru/employer/869045</td>\n",
       "      <td>1</td>\n",
       "      <td>Полный день</td>\n",
       "      <td>...</td>\n",
       "      <td>4781</td>\n",
       "      <td>100000</td>\n",
       "      <td>150000</td>\n",
       "      <td>RUR</td>\n",
       "      <td>False</td>\n",
       "      <td>10</td>\n",
       "      <td>Аналитик</td>\n",
       "      <td>Аналитик</td>\n",
       "      <td>125000.0</td>\n",
       "      <td>{'vacancy_description': ['ОБЯЗАННОСТИ\n",
       "Взаимоде...</td>\n",
       "    </tr>\n",
       "    <tr>\n",
       "      <th>6873</th>\n",
       "      <td>Младший аналитик</td>\n",
       "      <td>1</td>\n",
       "      <td>Москва</td>\n",
       "      <td>2024-02-05 16:10:09+03:00</td>\n",
       "      <td>2024-02-05 16:10:09+03:00</td>\n",
       "      <td>723254</td>\n",
       "      <td>PanClub</td>\n",
       "      <td>https://hh.ru/employer/723254</td>\n",
       "      <td>1</td>\n",
       "      <td>Удаленная работа</td>\n",
       "      <td>...</td>\n",
       "      <td>4783</td>\n",
       "      <td>60000</td>\n",
       "      <td>0</td>\n",
       "      <td>RUR</td>\n",
       "      <td>True</td>\n",
       "      <td>10</td>\n",
       "      <td>Аналитик</td>\n",
       "      <td>Аналитик</td>\n",
       "      <td>60000.0</td>\n",
       "      <td>{'vacancy_description': ['Открыта вакансия Мла...</td>\n",
       "    </tr>\n",
       "    <tr>\n",
       "      <th>6877</th>\n",
       "      <td>Аналитик УДАЛЕННО!</td>\n",
       "      <td>1</td>\n",
       "      <td>Москва</td>\n",
       "      <td>2024-02-01 15:12:10+03:00</td>\n",
       "      <td>2024-02-01 15:12:10+03:00</td>\n",
       "      <td>5205</td>\n",
       "      <td>МАЙ</td>\n",
       "      <td>https://hh.ru/employer/5205</td>\n",
       "      <td>1</td>\n",
       "      <td>Удаленная работа</td>\n",
       "      <td>...</td>\n",
       "      <td>4784</td>\n",
       "      <td>97000</td>\n",
       "      <td>97000</td>\n",
       "      <td>RUR</td>\n",
       "      <td>True</td>\n",
       "      <td>10</td>\n",
       "      <td>Аналитик</td>\n",
       "      <td>Аналитик</td>\n",
       "      <td>97000.0</td>\n",
       "      <td>{'vacancy_description': ['Присоединяйтесь к на...</td>\n",
       "    </tr>\n",
       "    <tr>\n",
       "      <th>6881</th>\n",
       "      <td>Аналитик данных (Excel, SQL)</td>\n",
       "      <td>1</td>\n",
       "      <td>Москва</td>\n",
       "      <td>2024-02-06 20:15:12+03:00</td>\n",
       "      <td>2024-02-06 20:15:12+03:00</td>\n",
       "      <td>127256</td>\n",
       "      <td>СИНЕРГИЯ</td>\n",
       "      <td>https://hh.ru/employer/127256</td>\n",
       "      <td>1</td>\n",
       "      <td>Полный день</td>\n",
       "      <td>...</td>\n",
       "      <td>4785</td>\n",
       "      <td>60000</td>\n",
       "      <td>0</td>\n",
       "      <td>RUR</td>\n",
       "      <td>False</td>\n",
       "      <td>10</td>\n",
       "      <td>Аналитик</td>\n",
       "      <td>Аналитик</td>\n",
       "      <td>60000.0</td>\n",
       "      <td>{'vacancy_description': ['Корпорация «Синергия...</td>\n",
       "    </tr>\n",
       "  </tbody>\n",
       "</table>\n",
       "<p>5 rows × 24 columns</p>\n",
       "</div>"
      ],
      "text/plain": [
       "                          vacancy_name area_id area_name  \\\n",
       "6861  Специалист по Excel (подработка)       1    Москва   \n",
       "6865                          Аналитик       1    Москва   \n",
       "6873                  Младший аналитик       1    Москва   \n",
       "6877                Аналитик УДАЛЕННО!       1    Москва   \n",
       "6881      Аналитик данных (Excel, SQL)       1    Москва   \n",
       "\n",
       "                  published_at                created_at employer_id  \\\n",
       "6861 2024-01-25 15:34:39+03:00 2024-01-25 15:34:39+03:00     3804435   \n",
       "6865 2024-02-08 09:22:50+03:00 2024-02-08 09:22:50+03:00      869045   \n",
       "6873 2024-02-05 16:10:09+03:00 2024-02-05 16:10:09+03:00      723254   \n",
       "6877 2024-02-01 15:12:10+03:00 2024-02-01 15:12:10+03:00        5205   \n",
       "6881 2024-02-06 20:15:12+03:00 2024-02-06 20:15:12+03:00      127256   \n",
       "\n",
       "                employer_name                   employer_link city  \\\n",
       "6861              Lemon Media  https://hh.ru/employer/3804435    1   \n",
       "6865  Московский метрополитен   https://hh.ru/employer/869045    1   \n",
       "6873                  PanClub   https://hh.ru/employer/723254    1   \n",
       "6877                      МАЙ     https://hh.ru/employer/5205    1   \n",
       "6881                 СИНЕРГИЯ   https://hh.ru/employer/127256    1   \n",
       "\n",
       "              schedule  ... index    from      to currency  gross  role_id  \\\n",
       "6861  Удаленная работа  ...  4780   10000   10000      RUR  False       10   \n",
       "6865       Полный день  ...  4781  100000  150000      RUR  False       10   \n",
       "6873  Удаленная работа  ...  4783   60000       0      RUR   True       10   \n",
       "6877  Удаленная работа  ...  4784   97000   97000      RUR   True       10   \n",
       "6881       Полный день  ...  4785   60000       0      RUR  False       10   \n",
       "\n",
       "          name role_name salary_middle  \\\n",
       "6861  Аналитик  Аналитик       10000.0   \n",
       "6865  Аналитик  Аналитик      125000.0   \n",
       "6873  Аналитик  Аналитик       60000.0   \n",
       "6877  Аналитик  Аналитик       97000.0   \n",
       "6881  Аналитик  Аналитик       60000.0   \n",
       "\n",
       "                                        url_description  \n",
       "6861  {'vacancy_description': ['Привет!\n",
       "Компания Lem...  \n",
       "6865  {'vacancy_description': ['ОБЯЗАННОСТИ\n",
       "Взаимоде...  \n",
       "6873  {'vacancy_description': ['Открыта вакансия Мла...  \n",
       "6877  {'vacancy_description': ['Присоединяйтесь к на...  \n",
       "6881  {'vacancy_description': ['Корпорация «Синергия...  \n",
       "\n",
       "[5 rows x 24 columns]"
      ]
     },
     "execution_count": 31,
     "metadata": {},
     "output_type": "execute_result"
    }
   ],
   "source": [
    "target_vaccancies.head()"
   ]
  },
  {
   "cell_type": "code",
   "execution_count": 36,
   "metadata": {},
   "outputs": [
    {
     "data": {
      "text/plain": [
       "576"
      ]
     },
     "execution_count": 36,
     "metadata": {},
     "output_type": "execute_result"
    }
   ],
   "source": [
    "target_vaccancies.vacancy_name.count()"
   ]
  },
  {
   "cell_type": "code",
=======
>>>>>>> c779717f6ef5a36e542c605b60de5c668c241dd0
   "execution_count": null,
   "metadata": {},
   "outputs": [],
   "source": []
  },
  {
   "cell_type": "markdown",
   "metadata": {},
   "source": [
    "### Getting company's industry from url"
   ]
  },
  {
   "cell_type": "code",
   "execution_count": null,
   "metadata": {},
   "outputs": [],
   "source": [
    "# Defining the function\n",
    "# import requests\n",
    "\n",
    "def get_company_industry(url):\n",
    "    try:\n",
    "        response = requests.get(url)\n",
    "        response.raise_for_status()  # Raise an HTTPError for bad responses\n",
    "\n",
    "        data = response.json()\n",
    "        industries = data.get('industries', [])\n",
    "\n",
    "        if industries:\n",
    "            return industries[0].get('name', 'no_data')\n",
    "        else:\n",
    "            return 'no_data'\n",
    "\n",
    "    except requests.exceptions.RequestException as e:\n",
    "        print(f\"Error fetching data: {e}\")\n",
    "        return 'no_data'\n",
    "\n",
    "# url = 'https://api.hh.ru/employers/11632' # link empoyer\n",
    "\n",
    "\n",
    "# Example usage\n",
    "# url = 'https://api.hh.ru/employers/11632'\n",
    "# industry = get_company_industry(url)\n",
    "# print(industry)"
   ]
  },
  {
   "cell_type": "code",
   "execution_count": null,
   "metadata": {},
   "outputs": [],
   "source": []
  },
  {
   "cell_type": "markdown",
   "metadata": {},
   "source": [
    "### Aggregates: Getting counts of vacancies and professional roles"
   ]
  },
  {
   "cell_type": "code",
<<<<<<< HEAD
   "execution_count": 102,
=======
   "execution_count": 177,
>>>>>>> c779717f6ef5a36e542c605b60de5c668c241dd0
   "metadata": {},
   "outputs": [],
   "source": [
    "\n",
    "base_url = \"https://api.hh.ru/vacancies\"\n",
    "\n",
    "job_counts = []\n",
    "professional_role_id = []\n",
    "\n",
    "\n",
    "for prof_role in range(1,175):\n",
    "    params = {\n",
<<<<<<< HEAD
    "            'area': 1,\n",
=======
    "            # 'area': 1,\n",
>>>>>>> c779717f6ef5a36e542c605b60de5c668c241dd0
    "            'professional_role': prof_role,\n",
    "            'per_page': 1\n",
    "        }\n",
    "    resp = requests.get(base_url, params=params)\n",
    "    if resp.status_code == 200:\n",
    "        response_data = resp.json()\n",
    "        found_vacancies = response_data.get('found', 0)\n",
    "\n",
    "        professional_role_id.append(prof_role)\n",
    "        job_counts.append(found_vacancies)\n",
    "    else:\n",
    "        continue\n",
    "\n",
<<<<<<< HEAD
    "\n",
    "\n",
    "    data = {\n",
    "    # 'area':113, #russia\n",
    "    'area':1,   #rmoscow\n",
=======
    "    data = {\n",
    "    'Area':0,\n",
>>>>>>> c779717f6ef5a36e542c605b60de5c668c241dd0
    "    'professional_role_id':professional_role_id,\n",
    "    'job_counts':job_counts\n",
    "}\n",
    "\n",
<<<<<<< HEAD
    "moscow_count_df = pd.DataFrame(data)\n",
    "# russia_count_df = pd.DataFrame(data)\n"
=======
    "\n",
    "# moscow_count_df = pd.DataFrame(moscow_data)\n",
    "russia_count_df = pd.DataFrame(data)\n"
>>>>>>> c779717f6ef5a36e542c605b60de5c668c241dd0
   ]
  },
  {
   "cell_type": "code",
<<<<<<< HEAD
   "execution_count": 103,
   "metadata": {},
   "outputs": [
    {
     "data": {
      "text/html": [
       "<div>\n",
       "<style scoped>\n",
       "    .dataframe tbody tr th:only-of-type {\n",
       "        vertical-align: middle;\n",
       "    }\n",
       "\n",
       "    .dataframe tbody tr th {\n",
       "        vertical-align: top;\n",
       "    }\n",
       "\n",
       "    .dataframe thead th {\n",
       "        text-align: right;\n",
       "    }\n",
       "</style>\n",
       "<table border=\"1\" class=\"dataframe\">\n",
       "  <thead>\n",
       "    <tr style=\"text-align: right;\">\n",
       "      <th></th>\n",
       "      <th>area</th>\n",
       "      <th>professional_role_id</th>\n",
       "      <th>job_counts</th>\n",
       "    </tr>\n",
       "  </thead>\n",
       "  <tbody>\n",
       "    <tr>\n",
       "      <th>0</th>\n",
       "      <td>1</td>\n",
       "      <td>1</td>\n",
       "      <td>493</td>\n",
       "    </tr>\n",
       "  </tbody>\n",
       "</table>\n",
       "</div>"
      ],
      "text/plain": [
       "   area  professional_role_id  job_counts\n",
       "0     1                     1         493"
      ]
     },
     "execution_count": 103,
     "metadata": {},
     "output_type": "execute_result"
    }
   ],
   "source": [
    "moscow_count_df[ moscow_count_df.professional_role_id == 1 ] "
   ]
  },
  {
   "cell_type": "code",
   "execution_count": 104,
=======
   "execution_count": 178,
>>>>>>> c779717f6ef5a36e542c605b60de5c668c241dd0
   "metadata": {},
   "outputs": [],
   "source": [
    "# russia_count_df.to_csv('/Users/igorrudakov/Desktop/jobcounts_russia.csv', encoding='utf-8')\n",
<<<<<<< HEAD
    "moscow_count_df.to_csv('/Users/igorrudakov/Desktop/jobcounts_moscow.csv', encoding='utf-8')\n"
=======
    "# moscow_count_df.to_csv('/Users/igorrudakov/Desktop/jobcounts_moscow.csv', encoding='utf-8')\n"
>>>>>>> c779717f6ef5a36e542c605b60de5c668c241dd0
   ]
  },
  {
   "cell_type": "markdown",
   "metadata": {},
   "source": [
    "## Extracting skills with Chat GPT"
   ]
  },
  {
   "cell_type": "markdown",
   "metadata": {},
   "source": [
    "### defining the function"
   ]
  },
  {
   "cell_type": "code",
<<<<<<< HEAD
   "execution_count": 37,
=======
   "execution_count": 390,
>>>>>>> c779717f6ef5a36e542c605b60de5c668c241dd0
   "metadata": {},
   "outputs": [
    {
     "data": {
      "text/plain": [
<<<<<<< HEAD
       "\"Extract the technology stack items mentioned in the job description. Technology indicates that you need software to be able to do it.(example: 'Excel;SQL;1С - DO NOT INCLUDE EXAMPLE IN THE OUTPUT!). Exclude soft skills. Use ';' as a delimiter between elements you extract. Ensure concise output within 150 tokens. Return a text containing the skills.\""
      ]
     },
     "execution_count": 37,
=======
       "\"Identify key technical skills and tasks from the job description. SHORTEN SKILLS and TASKS to a MAXIMUM of 6 words.I need a short standardized instance of task or skill while retaining the essential information of what needs to be done on a job.I plan to use this prompt on 100 vacancies - the output must be consistent.Ignore subjective skills such as 'Documentation', 'analytical thinking', 'teamwork', and any skills related to work schedule flexibility. Ignore toobroad skills and requirements like: 'Data analysis', 'Database querying', 'Analyse data in excel'. Group related skills under one skill, example:scipy, statmodels can be grouped and recorded as 'Python ML libraries'. Do not repeat essentialy the same skills MS-SQL, PL-SQL - all of them is just 'SQL'.Ensure a concise output. ONLY SHOW 20 MOST IMPORTANT SKILLS and TASKS.Return ONLY a TEXT WITH THE SKILLS AND TASKS with  ';' as a delimeter.The output should look like this: 'Python;SQL;Data visualization;building ML models;evaluating promotion/feature effectiveness;A/B testing'\""
      ]
     },
     "execution_count": 390,
>>>>>>> c779717f6ef5a36e542c605b60de5c668c241dd0
     "metadata": {},
     "output_type": "execute_result"
    }
   ],
   "source": [
    "        prompt = '''\n",
<<<<<<< HEAD
    "        Extract the technology stack items mentioned in the job description. Technology indicates that you need software to be able to do it.\n",
    "        (example: 'Excel;SQL;1С - DO NOT INCLUDE EXAMPLE IN THE OUTPUT!). Exclude soft skills. Use ';' as a delimiter between elements you extract. \n",
    "        Ensure concise output within 150 tokens. Return a text containing the skills.                    '''\n",
=======
    "                    Identify key technical skills and tasks from the job description. SHORTEN SKILLS and TASKS to a MAXIMUM of 6 words.\n",
    "                    I need a short standardized instance of task or skill while retaining the information of what needs to be done on a job.\n",
    "                    I plan to use this prompt on 100 vacancies - the output must be consistent.\n",
    "                    Ignore subjective skills such as 'Documentation', 'analytical thinking', 'teamwork', and any skills related to work schedule flexibility. Ignore too\n",
    "                    broad skills and requirements like: 'Data analysis', 'Database querying', 'Analyse data in excel'. Group related skills under one skill, example:\n",
    "                    scipy, statmodels can be grouped and recorded as 'Python ML libraries'. Do not repeat essentialy the same skills MS-SQL, PL-SQL - all of them is just 'SQL'.\n",
    "                    Ensure a concise output. ONLY SHOW 20 MOST IMPORTANT SKILLS and TASKS.\n",
    "                    Return ONLY a TEXT WITH THE SKILLS AND TASKS with  ';' as a delimeter.\n",
    "                    The output should look like this: 'Python;SQL;Data visualization;building ML models;evaluating promotion/feature effectiveness;A/B testing'\n",
    "                    '''\n",
>>>>>>> c779717f6ef5a36e542c605b60de5c668c241dd0
    "prompt = prompt.strip().replace('\\n','').replace('            ','')\n",
    "prompt\n",
    "            "
   ]
  },
  {
   "cell_type": "code",
<<<<<<< HEAD
   "execution_count": 79,
=======
   "execution_count": 391,
   "metadata": {},
   "outputs": [
    {
     "data": {
      "text/markdown": [
       "Identify key technical skills and tasks from the job description. SHORTEN SKILLS and TASKS to a MAXIMUM of 6 words.I need a short standardized instance of task or skill while retaining the essential information of what needs to be done on a job.I plan to use this prompt on 100 vacancies - the output must be consistent.Ignore subjective skills such as 'Documentation', 'analytical thinking', 'teamwork', and any skills related to work schedule flexibility. Ignore toobroad skills and requirements like: 'Data analysis', 'Database querying', 'Analyse data in excel'. Group related skills under one skill, example:scipy, statmodels can be grouped and recorded as 'Python ML libraries'. Do not repeat essentialy the same skills MS-SQL, PL-SQL - all of them is just 'SQL'.Ensure a concise output. ONLY SHOW 20 MOST IMPORTANT SKILLS and TASKS.Return them in a string format with  ';' as a delimeter.The output should look like this: 'Python;SQL;Data visualization;building ML models;evaluating promotion/feature effectiveness;A/B testing'"
      ],
      "text/plain": [
       "<IPython.core.display.Markdown object>"
      ]
     },
     "execution_count": 391,
     "metadata": {},
     "output_type": "execute_result"
    }
   ],
   "source": [
    "# for testing in a free CGPT\n",
    "Markdown(description)\n"
   ]
  },
  {
   "cell_type": "code",
   "execution_count": 401,
>>>>>>> c779717f6ef5a36e542c605b60de5c668c241dd0
   "metadata": {},
   "outputs": [],
   "source": [
    "import pandas as pd\n",
<<<<<<< HEAD
    "import json\n",
    "from dotenv import load_dotenv\n",
    "from openai import OpenAI\n",
    "import os\n",
    "from IPython.display import Markdown\n",
    "\n",
=======
    "from dotenv import load_dotenv\n",
    "from openai import OpenAI\n",
    "import os\n",
>>>>>>> c779717f6ef5a36e542c605b60de5c668c241dd0
    "\n",
    "\n",
    "# Set your OpenAI GPT-3 API key\n",
    "load_dotenv()\n",
    "client = OpenAI()\n",
    "\n",
    "api_key=os.environ.get(\"OPENAI_API_KEY\"),\n",
<<<<<<< HEAD
    "OpenAI.api_key = api_key\n",
    "\n",
    "def extract_key_skills_requirements(vacancy_description, prompt):\n",
    "    try:\n",
=======
    "openai.api_key = api_key\n",
    "\n",
    "def extract_key_skills_requirements(vacancy_description, prompt):\n",
    "    # try:\n",
>>>>>>> c779717f6ef5a36e542c605b60de5c668c241dd0
    "        # Define the prompt for ChatGPT\n",
    "        prompt = prompt\n",
    "\n",
    "        # Call the OpenAI API\n",
    "        response = client.chat.completions.create(\n",
    "            model=\"gpt-3.5-turbo\",\n",
    "            messages=[ {\"role\": \"user\",\"content\": f'{prompt}. Vacancy description is: {vacancy_description}.'} ],\n",
    "            max_tokens=150, \n",
<<<<<<< HEAD
    "            temperature=0.7\n",
    "        )\n",
    "\n",
    "        generated_text = response.choices[0].message.content\n",
    "        return generated_text\n",
    "\n",
    "\n",
    "    except Exception as e:\n",
=======
    "            temperature=0.4\n",
    "        )\n",
    "\n",
    "        # Check if the response contains choices\n",
    "        # if 'choices' in response and response['choices']:\n",
    "            # Extract the generated text from the API response\n",
    "        generated_text = response.choices[0].message.content\n",
    "        return generated_text\n",
    "        # else:\n",
    "            # return \"Error: No response choices found.\"\n",
    "\n",
    "    # except Exception as e:\n",
>>>>>>> c779717f6ef5a36e542c605b60de5c668c241dd0
    "        return f\"Error: {str(e)}\"\n",
    "\n",
    "\n"
   ]
  },
  {
   "cell_type": "markdown",
   "metadata": {},
   "source": [
    "#### Checking the Function output"
   ]
  },
  {
   "cell_type": "code",
<<<<<<< HEAD
   "execution_count": 86,
=======
   "execution_count": 402,
   "metadata": {},
   "outputs": [],
   "source": [
    "a = extract_key_skills_requirements( txtdesc.strip().replace('\\n', '') , prompt)"
   ]
  },
  {
   "cell_type": "code",
   "execution_count": 376,
   "metadata": {},
   "outputs": [
    {
     "data": {
      "text/plain": [
       "'Data collection and processing;Query optimization and database operations;Identifying trends and patterns;A/B testing and analysis;Data visualization;Python ML libraries.'"
      ]
     },
     "execution_count": 376,
     "metadata": {},
     "output_type": "execute_result"
    }
   ],
   "source": [
    "a"
   ]
  },
  {
   "cell_type": "code",
   "execution_count": 267,
>>>>>>> c779717f6ef5a36e542c605b60de5c668c241dd0
   "metadata": {},
   "outputs": [
    {
     "data": {
      "text/markdown": [
<<<<<<< HEAD
       "Excel; SQL; Metabase; SaaS; MS SQL; Power BI; Qlik-Sense; Анализ данных; Анализ бизнес показателей"
=======
       "Обязанности:\n",
       "Поиск, структурирование и анализ текстовой информации.\n",
       "Количественный анализ данных в Excel.\n",
       "Систематизация и статистическая обработка поступающей информации.\n",
       "Написание отчетов и подготовка презентаций.\n",
       "Анализ основных проблем, предложение способа их решения.\n",
       "Взаимодействие с органами власти города Москвы.\n",
       "Требования:\n",
       "Высшее образование (юридическое, экономическое, ГМУ, техническое).\n",
       "Опыт работы в органах исполнительной власти приветствуется.\n",
       "Владение Word, Power Point.\n",
       "Экспертное владение Excel.\n",
       "(VBA, power query, формулы массивов - как преимущество).\n",
       "Владение Python для анализа данных (библиотека pandas) - как преимущество.\n",
       "Аналитический склад ума, умение работать в команде, инициативность.\n",
       "Усидчивость.\n",
       "Внимательность.\n",
       "Условия:\n",
       "Оформление по ТК РФ.\n",
       "Испытательный срок 3 месяца.\n",
       "Готовность к ненормированному рабочему дню.\n",
       "Возможность профессионального роста и карьерного развития.\n",
       "Ключевые навыки\n",
       "MS Excel\n",
       "MS PowerPoint\n",
       "Консультант плюс\n",
       "MS Outlook\n",
       "Структурирование информации\n",
       "Работа с большим объемом информации\n",
       "Python\n",
       "Задайте вопрос работодателю\n",
       "Он получит его с откликом на вакансию\n",
       "Где располагается место работы?Какой график работы?Вакансия открыта?Какая оплата труда?Как с вами связаться?Другой вопрос\n",
       "Адрес\n",
       "Москва, Баррикадная, Краснопресненская, Улица 1905 года, Большой Предтеченский переулок, 15/8с1\n",
       "© Яндекс Условия использования\n",
       "Показать на большой карте"
>>>>>>> c779717f6ef5a36e542c605b60de5c668c241dd0
      ],
      "text/plain": [
       "<IPython.core.display.Markdown object>"
      ]
     },
<<<<<<< HEAD
     "execution_count": 86,
=======
     "execution_count": 267,
>>>>>>> c779717f6ef5a36e542c605b60de5c668c241dd0
     "metadata": {},
     "output_type": "execute_result"
    }
   ],
   "source": [
<<<<<<< HEAD
    "test_desctiption = test_df['vacancy_description'][1].strip().replace('\\n', '. ')\n",
    "a = extract_key_skills_requirements( test_desctiption , prompt)\n",
    "Markdown(a)"
   ]
  },
  {
   "cell_type": "code",
   "execution_count": 117,
   "metadata": {},
   "outputs": [
    {
     "data": {
      "text/markdown": [
       "Привет!. Давай знакомиться! Мы - Торговый Дом Папиллонс.. Уже больше 30 лет мы обеспечиваем предпринимателей отличными материалами, надёжным оборудованием и доступными расходниками для полиграфии и печатного бизнеса.. . Ищем старшего менеджера (аналитика) отдела продаж.. Что нужно будет делать:. формировать план продаж филиала, декомпозиция его по менеджерам, бизнес-регионам, товарам;. обеспечивать наличие товаров на складе под план продаж;. контролировать выполнение плана продаж;. прорабатывать дебиторскую задолженность;. проработка \"отвалившихся\" клиентов / снизивших объем закупок;. контролировать корректное ведение CRM менеджерами по продажам;. осуществлять перемещения в рамках вверенного распределительного центра.. Мы точно сработаемся, если ты:. имеешь навыки анализа рынка и аналитики продаж;. имеешь опыт работы в продажах;. имеешь навыки управления командой;. знаешь 1С и MS Еxcel (ВПР, сводные таблицы, функции);. умеешь убеждать и вести переговоры.. Почему тебе понравится работать с нами:. работа в позитивной команде, крупной и стабильной Компании;. помощь наставника в процессе обучения;. конкурентная белая зарплата, без задержек (итоговый размер оплаты труда обсуждается по результатам собеседования с успешным кандидатом);. чтим Трудовой кодекс РФ, у нас официальное трудоустройство со всеми соц.гарантиями;. график 5/2 (с пн - пт) с 10:00 - 19:00;. с нами можно и нужно профессионально развиваться!. Ключевые навыки. Аналитика продаж. Поддержка продаж. Работа с дебиторской задолженностью. Планирование продаж. Анализ продаж. Аналитика. Управление товарными запасами. Аналитическое мышление. Сводные таблицы. Прогнозирование. Контактная информация. Показать контакты. Задайте вопрос работодателю. Он получит его с откликом на вакансию. Где располагается место работы?Какой график работы?Вакансия открыта?Какая оплата труда?Как с вами связаться?Другой вопрос. Адрес. Москва, Солнцево, улица Авиаторов, 2А. © Яндекс Условия использования. Показать на большой карте"
      ],
      "text/plain": [
       "<IPython.core.display.Markdown object>"
      ]
     },
     "execution_count": 117,
     "metadata": {},
     "output_type": "execute_result"
    }
   ],
   "source": [
    "Markdown( test_df['vacancy_description'][1].strip().replace('\\n', '. ')[:] )"
   ]
  },
  {
   "cell_type": "code",
   "execution_count": 125,
   "metadata": {},
   "outputs": [
    {
     "data": {
      "text/plain": [
       "'1C; финансовый учет; бухгалтерский учет; проект'"
      ]
     },
     "execution_count": 125,
     "metadata": {},
     "output_type": "execute_result"
    }
   ],
   "source": [
    "text = '''\n",
    "00. офисов компании. по России и миру. >6000. сотрудников. в компании. >300000. успешно внедренных. проектов. Вакансия открыта в один из проектных департаментов \n",
    " ТЫ БУДЕШЬ ЗА\n",
    "      НИМАТЬСЯ:. Интенсивным обучением 1С и предметным областям (фин.учету);. Обследованием и описанием бизнес-процессов заказчика;. \n",
    "      Интервьюированием ключевых пользователей, проведением совещаний с ведущими специалистами заказчика;. Описанием бизнес-процессов заказчика;. \n",
    "      Написанием проектной документации: отчетов об обследовании, инструкций, проектных решений;. Постановкой задач разработчикам по задачам проекта, \n",
    "      тестированием и приемкой результата;. Сдачей результатов представителям заказчика;. Консультированием и обучением специалистов заказчика.. . \n",
    "      #аналитик1С #вакансия1С #ПервыйБитофисСпортивная. Ключевые навыки. Аналитик 1С. Финансовый учет. Бухгалтерский учет. Проект\n",
    "'''\n",
    "\n",
    "extract_key_skills_requirements(text.strip().replace('\\n',''), prompt)"
=======
    "from IPython.display import Markdown\n",
    "\n",
    "Markdown(test_df['vacancy_description'][3])"
   ]
  },
  {
   "cell_type": "code",
   "execution_count": 278,
   "metadata": {},
   "outputs": [
    {
     "data": {
      "text/markdown": [
       "В крупную международную компанию, которая разнимается разработкой IT-решений для B2B сегмента, ищем талантливого и проактивного сотрудника на должность Data analyst.Чем предстоит заниматься:Сбор, обработка и анализ больших объемов данных (из MySQL, Clickhouse, MongoDB, Google Analytics, Ya.Metrica).Написание и оптимизация запросов в базы данных, работа с разными источниками данных.Выявление тенденций и закономерностей в массивах информации, формулирование и проверка гипотез.Проведение и анализ A/B тестов, интерпретация результатов и формулирование дальнейших действий для улучшения ключевых показателей компании.Визуализация данных для наглядности и дальнейшей работы.Какой опыт, знания и качества нужны:Релевантный опыт в аналитике данных от 3 лет;Хорошее знание теории вероятностей, математической статистики и линейной алгебры;Опыт работы с Google Analytics и/или Я.Метрика (создание API для работы с данными из GA, настраивание и разметка событий и т.д.)Уверенное знание SQL (оконные функции, оптимизация запросов);Знание Python, включая библиотеки для анализа данных (numpy/pandas/scipy/statmodels/sklearn и другие);Опыт работы с BI-системами (Power BI);Понимание основных продуктовых метрик (LTV, ARPU, Retention и т.д.);Знание методологии и практический опыт проведения A/B-тестирования;Умение качественно документировать результаты.Английский язык уровня B1.Soft skills: аналитическое мышление, коммуникативные навыки и работа в команде, саморазвитие.Будет большим плюсом:Опыт работы с Apache Airflow или аналогамиОпыт работы с Mongo DB и ClickHouse.Умение пользоваться Gitlab, Confluence, Jira.Что предлагаем:График работы 5/2, гибкое начало рабочего дня;Удаленный формат работы;Оплачиваемый отпуск 28 календарных дней;Гибкий подход к управлению, постановке задач, процессам;Перспективные проекты и продвинутые технологии;Интересные задачи в дружной и большой команде;Отсутствие ненужной бюрократии, возможность реализовывать свои идеи."
      ],
      "text/plain": [
       "<IPython.core.display.Markdown object>"
      ]
     },
     "execution_count": 278,
     "metadata": {},
     "output_type": "execute_result"
    }
   ],
   "source": [
    "Markdown( txtdesc.strip().replace('\\n', '') )"
   ]
  },
  {
   "cell_type": "code",
   "execution_count": 403,
   "metadata": {},
   "outputs": [
    {
     "data": {
      "text/plain": [
       "['Data collection',\n",
       " 'Data processing',\n",
       " 'Data analysis',\n",
       " 'Query optimization',\n",
       " 'Trend identification',\n",
       " 'Hypothesis formulation and testing',\n",
       " 'A/B testing',\n",
       " 'Results interpretation',\n",
       " 'Data visualization',\n",
       " 'Probability theory knowledge',\n",
       " 'Statistical knowledge',\n",
       " 'Linear algebra knowledge',\n",
       " 'Google Analytics experience',\n",
       " 'Ya.Metrica experience',\n",
       " 'SQL proficiency',\n",
       " 'Python proficiency',\n",
       " 'BI system experience',\n",
       " 'Product metric understanding',\n",
       " 'A/B testing methodology knowledge',\n",
       " 'Documentation skills.']"
      ]
     },
     "execution_count": 403,
     "metadata": {},
     "output_type": "execute_result"
    }
   ],
   "source": [
    "\n",
    "pp = '''\n",
    "Data collection and analysis;SQL;Google Analytics;A/B testing;Data visualization;Python (numpy, pandas, scipy, statmodels, sklearn);Power BI;Product metrics (LTV, ARPU, Retention);English B1;Apache Airflow;MongoDB, ClickHouse;Gitlab, Confluence, Jira.\n",
    "\n",
    "'''\n",
    "ll = a.split(';')\n",
    "ll"
   ]
  },
  {
   "cell_type": "code",
   "execution_count": 394,
   "metadata": {},
   "outputs": [
    {
     "data": {
      "text/plain": [
       "['Data analysis',\n",
       " 'Database querying',\n",
       " 'A/B testing',\n",
       " 'Data visualization',\n",
       " 'Python',\n",
       " 'SQL',\n",
       " '']"
      ]
     },
     "execution_count": 394,
     "metadata": {},
     "output_type": "execute_result"
    }
   ],
   "source": [
    "# 0,9\n",
    "pp = '''\n",
    "Data collection and analysis;SQL;Google Analytics;A/B testing;Data visualization;Python (numpy, pandas, scipy, statmodels, sklearn);Power BI;Product metrics (LTV, ARPU, Retention);English B1;Apache Airflow;MongoDB, ClickHouse;Gitlab, Confluence, Jira.\n",
    "\n",
    "'''\n",
    "ll = a.split(';')\n",
    "ll"
>>>>>>> c779717f6ef5a36e542c605b60de5c668c241dd0
   ]
  },
  {
   "cell_type": "markdown",
   "metadata": {},
   "source": [
    "### Preparing the dataset"
   ]
  },
  {
   "cell_type": "code",
<<<<<<< HEAD
   "execution_count": 42,
   "metadata": {},
   "outputs": [
    {
     "data": {
      "text/html": [
       "<div>\n",
       "<style scoped>\n",
       "    .dataframe tbody tr th:only-of-type {\n",
       "        vertical-align: middle;\n",
       "    }\n",
       "\n",
       "    .dataframe tbody tr th {\n",
       "        vertical-align: top;\n",
       "    }\n",
       "\n",
       "    .dataframe thead th {\n",
       "        text-align: right;\n",
       "    }\n",
       "</style>\n",
       "<table border=\"1\" class=\"dataframe\">\n",
       "  <thead>\n",
       "    <tr style=\"text-align: right;\">\n",
       "      <th></th>\n",
       "      <th>vacancy_name</th>\n",
       "      <th>area_id</th>\n",
       "      <th>area_name</th>\n",
       "      <th>published_at</th>\n",
       "      <th>created_at</th>\n",
       "      <th>employer_id</th>\n",
       "      <th>employer_name</th>\n",
       "      <th>employer_link</th>\n",
       "      <th>city</th>\n",
       "      <th>schedule</th>\n",
       "      <th>...</th>\n",
       "      <th>index</th>\n",
       "      <th>from</th>\n",
       "      <th>to</th>\n",
       "      <th>currency</th>\n",
       "      <th>gross</th>\n",
       "      <th>role_id</th>\n",
       "      <th>name</th>\n",
       "      <th>role_name</th>\n",
       "      <th>salary_middle</th>\n",
       "      <th>url_description</th>\n",
       "    </tr>\n",
       "  </thead>\n",
       "  <tbody>\n",
       "    <tr>\n",
       "      <th>6865</th>\n",
       "      <td>Аналитик</td>\n",
       "      <td>1</td>\n",
       "      <td>Москва</td>\n",
       "      <td>2024-02-08 09:22:50+03:00</td>\n",
       "      <td>2024-02-08 09:22:50+03:00</td>\n",
       "      <td>869045</td>\n",
       "      <td>Московский метрополитен</td>\n",
       "      <td>https://hh.ru/employer/869045</td>\n",
       "      <td>1</td>\n",
       "      <td>Полный день</td>\n",
       "      <td>...</td>\n",
       "      <td>4781</td>\n",
       "      <td>100000</td>\n",
       "      <td>150000</td>\n",
       "      <td>RUR</td>\n",
       "      <td>False</td>\n",
       "      <td>10</td>\n",
       "      <td>Аналитик</td>\n",
       "      <td>Аналитик</td>\n",
       "      <td>125000.0</td>\n",
       "      <td>{'vacancy_description': ['ОБЯЗАННОСТИ\n",
       "Взаимоде...</td>\n",
       "    </tr>\n",
       "    <tr>\n",
       "      <th>6881</th>\n",
       "      <td>Аналитик данных (Excel, SQL)</td>\n",
       "      <td>1</td>\n",
       "      <td>Москва</td>\n",
       "      <td>2024-02-06 20:15:12+03:00</td>\n",
       "      <td>2024-02-06 20:15:12+03:00</td>\n",
       "      <td>127256</td>\n",
       "      <td>СИНЕРГИЯ</td>\n",
       "      <td>https://hh.ru/employer/127256</td>\n",
       "      <td>1</td>\n",
       "      <td>Полный день</td>\n",
       "      <td>...</td>\n",
       "      <td>4785</td>\n",
       "      <td>60000</td>\n",
       "      <td>0</td>\n",
       "      <td>RUR</td>\n",
       "      <td>False</td>\n",
       "      <td>10</td>\n",
       "      <td>Аналитик</td>\n",
       "      <td>Аналитик</td>\n",
       "      <td>60000.0</td>\n",
       "      <td>{'vacancy_description': ['Корпорация «Синергия...</td>\n",
       "    </tr>\n",
       "    <tr>\n",
       "      <th>6909</th>\n",
       "      <td>Аналитик ГБУ \"МосСпортОбъект\"</td>\n",
       "      <td>1</td>\n",
       "      <td>Москва</td>\n",
       "      <td>2024-02-06 11:38:09+03:00</td>\n",
       "      <td>2024-02-06 11:38:09+03:00</td>\n",
       "      <td>2642917</td>\n",
       "      <td>ГБУ МосСпортОбъект</td>\n",
       "      <td>https://hh.ru/employer/2642917</td>\n",
       "      <td>1</td>\n",
       "      <td>Полный день</td>\n",
       "      <td>...</td>\n",
       "      <td>4792</td>\n",
       "      <td>108850</td>\n",
       "      <td>0</td>\n",
       "      <td>RUR</td>\n",
       "      <td>True</td>\n",
       "      <td>10</td>\n",
       "      <td>Аналитик</td>\n",
       "      <td>Аналитик</td>\n",
       "      <td>108850.0</td>\n",
       "      <td>{'vacancy_description': ['Обязанности:\n",
       "Участво...</td>\n",
       "    </tr>\n",
       "    <tr>\n",
       "      <th>6913</th>\n",
       "      <td>Главный специалист-аналитик в отдел мониторинг...</td>\n",
       "      <td>1</td>\n",
       "      <td>Москва</td>\n",
       "      <td>2024-01-26 11:44:25+03:00</td>\n",
       "      <td>2024-01-26 11:44:25+03:00</td>\n",
       "      <td>3390296</td>\n",
       "      <td>ГБУ МФЦ города Москвы Мои документы</td>\n",
       "      <td>https://hh.ru/employer/3390296</td>\n",
       "      <td>1</td>\n",
       "      <td>Полный день</td>\n",
       "      <td>...</td>\n",
       "      <td>4793</td>\n",
       "      <td>0</td>\n",
       "      <td>108450</td>\n",
       "      <td>RUR</td>\n",
       "      <td>True</td>\n",
       "      <td>10</td>\n",
       "      <td>Аналитик</td>\n",
       "      <td>Аналитик</td>\n",
       "      <td>108450.0</td>\n",
       "      <td>{'vacancy_description': ['no_data']}</td>\n",
       "    </tr>\n",
       "    <tr>\n",
       "      <th>6925</th>\n",
       "      <td>Специалист сектора мониторинга лекарственного ...</td>\n",
       "      <td>1</td>\n",
       "      <td>Москва</td>\n",
       "      <td>2024-02-06 12:09:42+03:00</td>\n",
       "      <td>2024-02-06 12:09:42+03:00</td>\n",
       "      <td>6042525</td>\n",
       "      <td>ГБУ города Москвы Центр мониторинга и развития...</td>\n",
       "      <td>https://hh.ru/employer/6042525</td>\n",
       "      <td>1</td>\n",
       "      <td>Полный день</td>\n",
       "      <td>...</td>\n",
       "      <td>4796</td>\n",
       "      <td>115000</td>\n",
       "      <td>0</td>\n",
       "      <td>RUR</td>\n",
       "      <td>True</td>\n",
       "      <td>10</td>\n",
       "      <td>Аналитик</td>\n",
       "      <td>Аналитик</td>\n",
       "      <td>115000.0</td>\n",
       "      <td>{'vacancy_description': ['Обязанности:\n",
       "Работа ...</td>\n",
       "    </tr>\n",
       "  </tbody>\n",
       "</table>\n",
       "<p>5 rows × 24 columns</p>\n",
       "</div>"
      ],
      "text/plain": [
       "                                           vacancy_name area_id area_name  \\\n",
       "6865                                           Аналитик       1    Москва   \n",
       "6881                       Аналитик данных (Excel, SQL)       1    Москва   \n",
       "6909                      Аналитик ГБУ \"МосСпортОбъект\"       1    Москва   \n",
       "6913  Главный специалист-аналитик в отдел мониторинг...       1    Москва   \n",
       "6925  Специалист сектора мониторинга лекарственного ...       1    Москва   \n",
       "\n",
       "                  published_at                created_at employer_id  \\\n",
       "6865 2024-02-08 09:22:50+03:00 2024-02-08 09:22:50+03:00      869045   \n",
       "6881 2024-02-06 20:15:12+03:00 2024-02-06 20:15:12+03:00      127256   \n",
       "6909 2024-02-06 11:38:09+03:00 2024-02-06 11:38:09+03:00     2642917   \n",
       "6913 2024-01-26 11:44:25+03:00 2024-01-26 11:44:25+03:00     3390296   \n",
       "6925 2024-02-06 12:09:42+03:00 2024-02-06 12:09:42+03:00     6042525   \n",
       "\n",
       "                                          employer_name  \\\n",
       "6865                            Московский метрополитен   \n",
       "6881                                           СИНЕРГИЯ   \n",
       "6909                                 ГБУ МосСпортОбъект   \n",
       "6913                ГБУ МФЦ города Москвы Мои документы   \n",
       "6925  ГБУ города Москвы Центр мониторинга и развития...   \n",
       "\n",
       "                       employer_link city     schedule  ... index    from  \\\n",
       "6865   https://hh.ru/employer/869045    1  Полный день  ...  4781  100000   \n",
       "6881   https://hh.ru/employer/127256    1  Полный день  ...  4785   60000   \n",
       "6909  https://hh.ru/employer/2642917    1  Полный день  ...  4792  108850   \n",
       "6913  https://hh.ru/employer/3390296    1  Полный день  ...  4793       0   \n",
       "6925  https://hh.ru/employer/6042525    1  Полный день  ...  4796  115000   \n",
       "\n",
       "          to currency  gross  role_id      name role_name salary_middle  \\\n",
       "6865  150000      RUR  False       10  Аналитик  Аналитик      125000.0   \n",
       "6881       0      RUR  False       10  Аналитик  Аналитик       60000.0   \n",
       "6909       0      RUR   True       10  Аналитик  Аналитик      108850.0   \n",
       "6913  108450      RUR   True       10  Аналитик  Аналитик      108450.0   \n",
       "6925       0      RUR   True       10  Аналитик  Аналитик      115000.0   \n",
       "\n",
       "                                        url_description  \n",
       "6865  {'vacancy_description': ['ОБЯЗАННОСТИ\n",
       "Взаимоде...  \n",
       "6881  {'vacancy_description': ['Корпорация «Синергия...  \n",
       "6909  {'vacancy_description': ['Обязанности:\n",
       "Участво...  \n",
       "6913               {'vacancy_description': ['no_data']}  \n",
       "6925  {'vacancy_description': ['Обязанности:\n",
       "Работа ...  \n",
       "\n",
       "[5 rows x 24 columns]"
      ]
     },
     "execution_count": 42,
     "metadata": {},
     "output_type": "execute_result"
    }
   ],
   "source": [
    "target_vaccancies[ (target_vaccancies.schedule == 'Полный день')&( target_vaccancies.employment == 'Полная занятость')].head()"
   ]
  },
  {
   "cell_type": "code",
   "execution_count": 70,
   "metadata": {},
   "outputs": [
    {
     "data": {
      "text/plain": [
       "0      {'vacancy_description': ['ОБЯЗАННОСТИ\n",
       "Взаимоде...\n",
       "1      {'vacancy_description': ['Корпорация «Синергия...\n",
       "2      {'vacancy_description': ['Обязанности:\n",
       "Участво...\n",
       "3                   {'vacancy_description': ['no_data']}\n",
       "4      {'vacancy_description': ['Обязанности:\n",
       "Работа ...\n",
       "                             ...                        \n",
       "414                                              no_data\n",
       "415                                              no_data\n",
       "416                                              no_data\n",
       "417                                              no_data\n",
       "418                                              no_data\n",
       "Name: url_description, Length: 419, dtype: object"
      ]
     },
     "execution_count": 70,
     "metadata": {},
     "output_type": "execute_result"
    }
   ],
   "source": [
    "import ast\n",
    "\n",
    "# Assuming df_for_gpt is your DataFrame\n",
    "df_for_gpt.url_description.['vacancy_description']\n"
   ]
  },
  {
   "cell_type": "code",
   "execution_count": 76,
   "metadata": {},
   "outputs": [],
   "source": [
    "# Only taking full time jobs \n",
    "\n",
    "df_for_gpt = target_vaccancies[ ( target_vaccancies.schedule == 'Полный день')&\\\n",
    "                                ( target_vaccancies.employment == 'Полная занятость')&\\\n",
    "                                ( target_vaccancies.url_description != 'no_data')   \n",
    "                                ].reset_index(drop=True)\n",
    " \n",
    "# removing spaces and tabs\n",
    "df_for_gpt['vacancy_description'] = df_for_gpt.url_description.apply(lambda x: x['vacancy_description'][0].strip().replace('\\n', '. '))\n",
    "\n",
    "# # # removing last technical lines\n",
    "df_for_gpt['vacancy_description'] = df_for_gpt.vacancy_description.apply(lambda x: x[0: x.find('Задайте вопрос работодателю') ]  )\n",
    "\n",
    "# # # limiting input to 3000 words \n",
    "df_for_gpt['vacancy_description'] = df_for_gpt.vacancy_description.apply(lambda x: x[:3000] )\n",
    "\n",
    "# # # description len\n",
    "df_for_gpt['description_len'] = df_for_gpt.vacancy_description.apply(lambda x: len(x) )\n"
   ]
  },
  {
   "cell_type": "code",
   "execution_count": 77,
   "metadata": {},
   "outputs": [
    {
     "data": {
      "text/plain": [
       "265"
      ]
     },
     "execution_count": 77,
     "metadata": {},
     "output_type": "execute_result"
    }
   ],
   "source": [
    "df_for_gpt.vacancy_name.count()"
   ]
  },
  {
   "cell_type": "code",
   "execution_count": 78,
   "metadata": {},
   "outputs": [
    {
     "data": {
      "text/plain": [
       "27"
      ]
     },
     "execution_count": 78,
     "metadata": {},
     "output_type": "execute_result"
    }
   ],
   "source": [
    "df_for_gpt[df_for_gpt.description_len == df_for_gpt.description_len.max()].vacancy_name.count()"
=======
   "execution_count": 294,
   "metadata": {},
   "outputs": [],
   "source": [
    "# Only taking full time jobs\n",
    "df_for_gpt = target_vaccancies[ (target_vaccancies.schedule == 'Полный день')&( target_vaccancies.employment == 'Полная занятость') ].reset_index(drop=True)\n",
    "# \n",
    "# unpacking descriptions\n",
    "df_description = pd.json_normalize(df_for_gpt['url_description']).reset_index()\n",
    "df_for_gpt = pd.concat([df_for_gpt, df_description], axis=1, ignore_index=False)\n",
    "df_for_gpt = df_for_gpt.drop(columns=['url_description','index','vacancy_title'])\n",
    "\n",
    "# transforming description into string\n",
    "df_for_gpt['vacancy_description'] = df_for_gpt.vacancy_description.apply(lambda x: x[0].strip().replace('\\n', ''))"
>>>>>>> c779717f6ef5a36e542c605b60de5c668c241dd0
   ]
  },
  {
   "cell_type": "markdown",
   "metadata": {},
   "source": [
    "### Testing "
   ]
  },
  {
   "cell_type": "code",
<<<<<<< HEAD
   "execution_count": 80,
   "metadata": {},
   "outputs": [],
   "source": [
    "test_df = df_for_gpt[['vacancy_name', 'vacancy_description','salary_middle']].sample(30).reset_index(drop=True)"
   ]
  },
  {
   "cell_type": "code",
   "execution_count": 81,
   "metadata": {},
   "outputs": [
    {
     "name": "stderr",
     "output_type": "stream",
     "text": [
      "Processing: 100%|██████████| 30/30 [02:54<00:00,  5.82s/it]\n"
     ]
    }
   ],
   "source": [
    "test_df['output'] = test_df['vacancy_description'].progress_apply(lambda x: extract_key_skills_requirements(x.strip().replace('\\n',''), prompt) )"
   ]
  },
  {
   "cell_type": "code",
   "execution_count": 83,
   "metadata": {},
   "outputs": [
    {
     "data": {
      "text/plain": [
       "\"Error: Error code: 500 - {'error': {'message': 'Internal server error', 'type': 'auth_subrequest_error', 'param': None, 'code': 'internal_error'}}\""
      ]
     },
     "execution_count": 83,
     "metadata": {},
     "output_type": "execute_result"
    }
   ],
   "source": [
    "test_df.output[0]"
   ]
  },
  {
   "cell_type": "code",
   "execution_count": 82,
   "metadata": {},
   "outputs": [
    {
     "data": {
      "text/html": [
       "<div>\n",
       "<style scoped>\n",
       "    .dataframe tbody tr th:only-of-type {\n",
       "        vertical-align: middle;\n",
       "    }\n",
       "\n",
       "    .dataframe tbody tr th {\n",
       "        vertical-align: top;\n",
       "    }\n",
       "\n",
       "    .dataframe thead th {\n",
       "        text-align: right;\n",
       "    }\n",
       "</style>\n",
       "<table border=\"1\" class=\"dataframe\">\n",
       "  <thead>\n",
       "    <tr style=\"text-align: right;\">\n",
       "      <th></th>\n",
       "      <th>vacancy_name</th>\n",
       "      <th>vacancy_description</th>\n",
       "      <th>salary_middle</th>\n",
       "      <th>output</th>\n",
       "    </tr>\n",
       "  </thead>\n",
       "  <tbody>\n",
       "    <tr>\n",
       "      <th>0</th>\n",
       "      <td>Стажер (Data analyst)</td>\n",
       "      <td>МТС — это мультисервисная цифровая экосистема....</td>\n",
       "      <td>40000.0</td>\n",
       "      <td>Error: Error code: 500 - {'error': {'message':...</td>\n",
       "    </tr>\n",
       "    <tr>\n",
       "      <th>1</th>\n",
       "      <td>Аналитик данных/бизнес аналитик</td>\n",
       "      <td>Teachbase — Teachbase — экосистема образовател...</td>\n",
       "      <td>95000.0</td>\n",
       "      <td>Error: Error code: 500 - {'error': {'message':...</td>\n",
       "    </tr>\n",
       "    <tr>\n",
       "      <th>2</th>\n",
       "      <td>Продуктовый аналитик</td>\n",
       "      <td>Всем привет! На связи команда SOAK!. Кто мы?. ...</td>\n",
       "      <td>150000.0</td>\n",
       "      <td>Error: Error code: 500 - {'error': {'message':...</td>\n",
       "    </tr>\n",
       "    <tr>\n",
       "      <th>3</th>\n",
       "      <td>Бизнес-аналитик / Системный аналитик - BPMSoft</td>\n",
       "      <td>Компания Trace состоит из двух бизнес юнитов -...</td>\n",
       "      <td>190000.0</td>\n",
       "      <td>Error: Error code: 500 - {'error': {'message':...</td>\n",
       "    </tr>\n",
       "    <tr>\n",
       "      <th>4</th>\n",
       "      <td>Аналитик ГБУ \"МосСпортОбъект\"</td>\n",
       "      <td>Обязанности:. Участвовать в составлении докуме...</td>\n",
       "      <td>108850.0</td>\n",
       "      <td>Error: Error code: 500 - {'error': {'message':...</td>\n",
       "    </tr>\n",
       "  </tbody>\n",
       "</table>\n",
       "</div>"
      ],
      "text/plain": [
       "                                     vacancy_name  \\\n",
       "0                           Стажер (Data analyst)   \n",
       "1                 Аналитик данных/бизнес аналитик   \n",
       "2                            Продуктовый аналитик   \n",
       "3  Бизнес-аналитик / Системный аналитик - BPMSoft   \n",
       "4                   Аналитик ГБУ \"МосСпортОбъект\"   \n",
       "\n",
       "                                 vacancy_description  salary_middle  \\\n",
       "0  МТС — это мультисервисная цифровая экосистема....        40000.0   \n",
       "1  Teachbase — Teachbase — экосистема образовател...        95000.0   \n",
       "2  Всем привет! На связи команда SOAK!. Кто мы?. ...       150000.0   \n",
       "3  Компания Trace состоит из двух бизнес юнитов -...       190000.0   \n",
       "4  Обязанности:. Участвовать в составлении докуме...       108850.0   \n",
       "\n",
       "                                              output  \n",
       "0  Error: Error code: 500 - {'error': {'message':...  \n",
       "1  Error: Error code: 500 - {'error': {'message':...  \n",
       "2  Error: Error code: 500 - {'error': {'message':...  \n",
       "3  Error: Error code: 500 - {'error': {'message':...  \n",
       "4  Error: Error code: 500 - {'error': {'message':...  "
      ]
     },
     "execution_count": 82,
     "metadata": {},
     "output_type": "execute_result"
    }
   ],
   "source": [
    "test_df.head()"
   ]
  },
  {
   "cell_type": "code",
   "execution_count": 128,
   "metadata": {},
   "outputs": [],
   "source": [
    "test_df.to_csv('/Users/igorrudakov/Desktop/test_skills_gpt.csv')"
   ]
  },
  {
   "cell_type": "code",
   "execution_count": 718,
   "metadata": {},
   "outputs": [],
   "source": [
    "test_skills = []\n",
    "\n",
    "for i in test_df['output']:\n",
    "    for sk in i.split(';'):\n",
    "        test_skills.append(sk.replace('\\n',''))"
   ]
  },
  {
   "cell_type": "code",
   "execution_count": 719,
   "metadata": {},
   "outputs": [
    {
     "data": {
      "text/plain": [
       "['Excel: Office_programs',\n",
       " 'Power BI: Visualization',\n",
       " 'Tableau: Visualization',\n",
       " 'Google Analytics: Web_analytics',\n",
       " 'Yandex Metrika: Web_analytics',\n",
       " 'Google Tag Manager: Integration_tools',\n",
       " 'JS: Programming_language',\n",
       " 'Python: Programming_language',\n",
       " 'SQL: Programming_language',\n",
       " 'BigQuery: Data_storage_tools',\n",
       " 'ClickHouse: Data_storage_tools',\n",
       " 'Maria DB: Data_storage_tools',\n",
       " 'Redash: Visualization',\n",
       " 'Metabase: Visualization',\n",
       " 'Appsflyer: Mobile_app_analytics',\n",
       " 'MyTracker: Mobile_app_analytics',\n",
       " 'Adjust: Mobile_app_analytics',\n",
       " 'AppMetrica: Mobile_app_analytics',\n",
       " 'git: Version_control_system',\n",
       " 'numpy: Data_analysis_library',\n",
       " 'pandas: Data_analysis_library',\n",
       " 'scikit-learn: Data_analysis_library',\n",
       " 'SQLAlchemy',\n",
       " 'MS Office:Office_programs',\n",
       " ' internet:surfing',\n",
       " ' analytical_research:analytical_research',\n",
       " ' databases:database_management',\n",
       " ' internet_search:information_search',\n",
       " ' analytical_thinking:analytical_thinking',\n",
       " ' market_monitoring:market_monitoring',\n",
       " ' document_management:document_management.',\n",
       " 'SPSS: Data analysis software',\n",
       " ' MS PowerPoint: Presentation software',\n",
       " ' MS Excel: Spreadsheet software',\n",
       " '1С: Бухгалтерия: Accounting software used for financial management and bookkeeping.Python: Programming language used for data analysis, automation, and scripting.MSFO: International Financial Reporting Standards used for financial reporting.RSBU: Russian Accounting Standards used for financial reporting.Tableau: Data visualization tool used for creating interactive and dynamic visualizations.Excel: Spreadsheet software used for data analysis, calculations, and reporting.SQL: Programming language used for managing and manipulating relational databases.A/B testing: Experimental method used for comparing two versions of a webpage or application to determine which one performs better.Project management: Skills and techniques used for planning, organizing, and executing projects.Analytical skills: Ability to collect, analyze, and interpret',\n",
       " 'Python: programming_language',\n",
       " ' SQL: programming_language',\n",
       " ' Tableau: visualization',\n",
       " ' Excel: office_programs',\n",
       " ' A/B_testing: experiments',\n",
       " ' MPststs: analytical_services',\n",
       " 'MS Office:office_programs',\n",
       " ' MS PowerPoint:presentation',\n",
       " ' MS Excel:data_analysis',\n",
       " '',\n",
       " 'Python: data_analysis, scripting',\n",
       " 'SQL: data_analysis, querying',\n",
       " 'Tableau: data_visualization',\n",
       " 'Excel: data_analysis, data_processing',\n",
       " 'A/B_testing: experimentation',\n",
       " 'MS Excel: data_analysis, data_processing',\n",
       " 'MPStats: data_analysis, statistics',\n",
       " 'Excel:Office_programms',\n",
       " ' Word:Office_programms',\n",
       " ' Internet:communication',\n",
       " ' PC:tools',\n",
       " '',\n",
       " 'Excel:data_analysis, data_organization',\n",
       " ' PowerPoint:presentation_preparation',\n",
       " ' Python:data_analysis',\n",
       " ' VBA:Excel_automation',\n",
       " ' Power Query:data_analysis',\n",
       " ' pandas:data_analysis',\n",
       " 'Google таблицы:data_processing',\n",
       " ' Excel:Office_programs, data_processing',\n",
       " 'SQL: database_query_language',\n",
       " ' Tableau: data_visualization_tool',\n",
       " ' Excel: office_programs',\n",
       " ' Google_Analytics:web_analytics_tool',\n",
       " '1C:ERP:software_solution',\n",
       " ' 1C:УХ:software_solution',\n",
       " ' 1C:УТ:software_solution',\n",
       " ' Управленческий учет:functional_area',\n",
       " ' Оперативный учет:functional_area',\n",
       " ' Регламентированный учет:functional_area',\n",
       " ' Управление закупками и логистика:functional_area',\n",
       " ' 1С: Специалист-Консультант:certification',\n",
       " ' Платформа 1C:development_platform',\n",
       " ' BPMN:notation',\n",
       " ' IDF0:notation.',\n",
       " '1С ЗУП:program',\n",
       " ' 1С ЗУП 3.1:program',\n",
       " ' НМА:personnel_management',\n",
       " ' Jira:project_management_tool',\n",
       " ' Confluence:collaboration_tool',\n",
       " '',\n",
       " 'Python: coding, data analysisSQL: data analysis, database managementTableau: data visualizationExcel: data analysis, data processingA/B testing: experimentation, data analysis',\n",
       " 'Python:coding',\n",
       " ' 1C:ERP:enterprise_resource_planning',\n",
       " ' SQL:querying',\n",
       " ' Tableau:visualization',\n",
       " ' Excel:office_programs',\n",
       " ' A/B_testing:experiments',\n",
       " ' Word:document_processing.',\n",
       " 'SQL:database_management',\n",
       " ' DWH:data_warehousing',\n",
       " ' BI_analytics:business_intelligence',\n",
       " ' ETL/ELT:data_integration',\n",
       " ' REST:web_integration',\n",
       " ' SOAP:web_integration',\n",
       " ' Tableau:visualization',\n",
       " ' Python:coding',\n",
       " ' Excel:office_programs',\n",
       " ' A/B_testing:experiments',\n",
       " '1C: Software platform used for accounting and financial management. Redmine: Project management and issue tracking tool.Jira: Project management and issue tracking tool.Python: Programming language.SQL: Programming language used for managing and manipulating databases.',\n",
       " 'MS SQL:database_management',\n",
       " ' SQL Server:database_management',\n",
       " ' ФИС ГИА:data_management',\n",
       " ' Microsoft Office:Office_programs',\n",
       " '1C:ERP:business_process_modeling, functional_gap_identification, functional_solution_design, functionality_testing, user_documentation_preparation, user_training, user_consulting, integration_requirements_specification, integration_testingPython:codingSQL:querying_and_data_analysisTableau:visualizationExcel:data_analysis, reportingA/B_testing:experiments',\n",
       " 'CRM-система:management_tool, data_analysis, user_support',\n",
       " ' BMPSoft/Creatio:CRM_platform',\n",
       " ' SQL:programming_language',\n",
       " ' Python:programming_language.',\n",
       " 'Python: data_analysis',\n",
       " ' codingSQL: data_analysis',\n",
       " ' querying databasesERP: project_management',\n",
       " ' budgetingTableau: data_visualizationExcel: data_analysis',\n",
       " ' office_programs',\n",
       " 'SQL:query_language, Postgres:database_management_system, T-sql:query_language, Python:programming_language',\n",
       " 'Python: coding, data analysisTableau: data visualizationExcel: data analysis, data manipulationA/B testing: experiments, data analysisSQL: data querying, data manipulation',\n",
       " '1С:business_automation',\n",
       " ' Google Forms:document_creation',\n",
       " ' Google Docs:document_creation',\n",
       " ' Google Sheets:spreadsheets',\n",
       " ' Excel:spreadsheets',\n",
       " ' Outlook:email',\n",
       " ' Word:word_processing',\n",
       " 'Python:programming_language',\n",
       " ' SQL:programming_language, Power Pivot:Excel_tool',\n",
       " ' Power Query:Excel_tool',\n",
       " ' VBA:Excel_tool',\n",
       " ' Tableau:Visualization',\n",
       " ' Excel:Office_programms',\n",
       " 'MS Visio: Business process modeling and optimization',\n",
       " 'MS Project: Project management',\n",
       " 'Business analysis: Analyzing and documenting business requirements',\n",
       " 'Business process modeling: Creating models of business processes.',\n",
       " '1C: ЗУП (Зарплата и управление персоналом): используется для разработки и поддержки системы управления зарплатой и кадровым учетом.Проектирование бизнес-процессов: используется для разработки и оптимизации бизнес-процессов в компании.Обучение пользователей: используется для обучения пользователей системы 1C:ЗУП и консультирования их по вопросам использования.Технический',\n",
       " 'Python: programming_language',\n",
       " ' 1С: software',\n",
       " ' ABC_analysis: analysis',\n",
       " ' XYZ_analysis: analysis',\n",
       " ' МП: e-commerce_platform',\n",
       " '',\n",
       " 'Google Analytics:analytics_tool',\n",
       " ' GoogleTag Manager:analytics_tool',\n",
       " ' Яндекс.Метрика:analytics_tool',\n",
       " ' Appsflyer:analytics_tool',\n",
       " ' GA:analytics_tool',\n",
       " ' Firebase:analytics_tool',\n",
       " ' AppMetrica:analytics_tool',\n",
       " ' Mixplanel:analytics_tool',\n",
       " ' A/B-тесты:experiments',\n",
       " ' SQL:programming_language',\n",
       " ' Tableau:visualization_tool',\n",
       " ' Python:data_analysis, data_visualization, automation',\n",
       " 'BPMN: Business Process Model and Notation',\n",
       " ' Business analysis: Analyzing and defining business requirements',\n",
       " ' MS Visio: Diagramming and visualizing business processes',\n",
       " ' Modeling processes: Creating process models',\n",
       " ' IDEF0: A modeling language for describing business processes.']"
      ]
     },
     "execution_count": 719,
     "metadata": {},
     "output_type": "execute_result"
    }
   ],
   "source": [
    "test_skills"
   ]
  },
  {
   "cell_type": "code",
   "execution_count": 721,
   "metadata": {},
   "outputs": [],
   "source": [
    "pd.Series(test_skills).to_csv('/Users/igorrudakov/Desktop/test_skills_gpt.csv')"
   ]
  },
  {
   "cell_type": "markdown",
   "metadata": {},
   "source": [
    "### Scalling to all data"
   ]
  },
  {
   "cell_type": "code",
   "execution_count": 134,
   "metadata": {},
   "outputs": [
    {
     "name": "stderr",
     "output_type": "stream",
     "text": [
      "Processing: 100%|██████████| 228/228 [08:04<00:00,  2.12s/it]\n"
     ]
    }
   ],
   "source": [
    "df_for_gpt['gpt_output_skills'] = df_for_gpt['vacancy_description'].progress_apply(lambda x: extract_key_skills_requirements(x.strip().replace('\\n',''), prompt) )"
   ]
  },
  {
   "cell_type": "code",
   "execution_count": 487,
   "metadata": {},
   "outputs": [],
   "source": [
    "df_for_gpt.to_csv('/Users/igorrudakov/python_projects/portfolio_tests/labour_demand/datasets/last_output_gpt_feb7.csv')"
   ]
  },
  {
   "cell_type": "code",
   "execution_count": 325,
   "metadata": {},
   "outputs": [],
   "source": [
    "df_for_gpt = df_for_gpt.reset_index(drop=True)"
   ]
  },
  {
   "cell_type": "code",
   "execution_count": 139,
   "metadata": {},
   "outputs": [],
   "source": [
    "# getting skills for manual mapping and categorization\n",
    "gpt_skills = []\n",
    "\n",
    "for i in df_for_gpt['gpt_output_skills']:\n",
    "    for sk in i.split(';'):\n",
    "        gpt_skills.append(sk)\n",
    "\n",
    "\n",
    "# SET DESTINATION!\n",
    "# pd.Series(gpt_skills).drop_duplicates().to_csv('/Users/igorrudakov/Desktop/skills_from_gpt.csv', sep='&')"
   ]
  },
  {
   "cell_type": "code",
   "execution_count": 143,
   "metadata": {},
   "outputs": [],
   "source": [
    "# putting skills back after manual categorization\n",
    "maped_skills = pd.read_csv('/Users/igorrudakov/Desktop/mapped_skills.csv')"
   ]
  },
  {
   "cell_type": "code",
   "execution_count": 423,
   "metadata": {},
   "outputs": [],
   "source": [
    "# copy the existing df for hedging mistakes\n",
    "df_for_gpt_copy = df_for_gpt\n",
    "\n",
    "# Block 1: creating a dictionary of skill_category : [skills...]\n",
    "skills_2 = {}\n",
    "\n",
    "for item in set( stack_expanded_dict.values() ):\n",
    "    skills_2.setdefault(item, [])\n",
    "\n",
    "for pair in stack_expanded_dict.items():\n",
    "    skills_2[ pair[1] ].append( pair[0] )\n",
    "\n",
    "\n",
    "# Block 2: Applying dictionary above to tag vacancies on whether or not they have a category skill\n",
    "skill_row = {}\n",
    "for item in set( stack_expanded_dict.values() ):\n",
    "    skill_row.setdefault(item, [])\n",
    "\n",
    "def search_in_list(text_w_skills ):\n",
    "    set_o_skills = set( [ el.strip() for el in text_w_skills.split(';') ] )\n",
    "    \n",
    "    for skill in skills_2.keys():\n",
    "        if len( set_o_skills.intersection( set( skills_2[skill] ) ) ) > 0:\n",
    "            skill_row[skill].append(1)\n",
    "        else:\n",
    "            skill_row[skill].append(0)\n",
    "\n",
    "\n",
    "# Applying the function to the copy df\n",
    "for i in df_for_gpt_copy['gpt_output_skills']:\n",
    "    search_in_list(i)"
   ]
  },
  {
   "cell_type": "code",
   "execution_count": 424,
   "metadata": {},
   "outputs": [
    {
     "data": {
      "text/plain": [
       "vacancy_description      0\n",
       "description_len          0\n",
       "gpt_output_skills        0\n",
       "language                 0\n",
       "office_program           0\n",
       "coding                   0\n",
       "prompting                0\n",
       "software                 0\n",
       "visualization            0\n",
       "business_architecture    0\n",
       "1C_salary                0\n",
       "1C                       0\n",
       "other                    0\n",
       "domain_knowledge         0\n",
       "dtype: int64"
      ]
     },
     "execution_count": 424,
     "metadata": {},
     "output_type": "execute_result"
    }
   ],
   "source": [
    "# check if everything works fine\n",
    "df_for_gpt_copy = pd.concat( [ df_for_gpt_copy.reset_index(drop=True) , pd.DataFrame(skill_row) ], axis=1 )\n",
    "df_for_gpt_copy.iloc[:,25:].isnull().sum()"
   ]
  },
  {
   "cell_type": "code",
   "execution_count": 425,
   "metadata": {},
   "outputs": [],
   "source": [
    "exp_cats = {'От 1 года до 3 лет': 2, 'Нет опыта':1 , 'От 3 до 6 лет':3, 'Более 6 лет':4}\n",
    "df_for_gpt_copy['experience_cat'] = df_for_gpt_copy.experience.apply(lambda x: exp_cats.get(x)  )"
   ]
  },
  {
   "cell_type": "code",
   "execution_count": 426,
   "metadata": {},
   "outputs": [
    {
     "data": {
      "text/plain": [
       "vacancy_description      228\n",
       "description_len          228\n",
       "gpt_output_skills        228\n",
       "language                 228\n",
       "office_program           228\n",
       "coding                   228\n",
       "prompting                228\n",
       "software                 228\n",
       "visualization            228\n",
       "business_architecture    228\n",
       "1C_salary                228\n",
       "1C                       228\n",
       "other                    228\n",
       "domain_knowledge         228\n",
       "experience_cat           228\n",
       "dtype: int64"
      ]
     },
     "execution_count": 426,
     "metadata": {},
     "output_type": "execute_result"
    }
   ],
   "source": [
    "df_for_gpt_copy.iloc[:,25:].count()"
   ]
  },
  {
   "cell_type": "code",
   "execution_count": 427,
   "metadata": {},
   "outputs": [
    {
     "data": {
      "text/html": [
       "<style>#sk-container-id-2 {\n",
       "  /* Definition of color scheme common for light and dark mode */\n",
       "  --sklearn-color-text: black;\n",
       "  --sklearn-color-line: gray;\n",
       "  /* Definition of color scheme for unfitted estimators */\n",
       "  --sklearn-color-unfitted-level-0: #fff5e6;\n",
       "  --sklearn-color-unfitted-level-1: #f6e4d2;\n",
       "  --sklearn-color-unfitted-level-2: #ffe0b3;\n",
       "  --sklearn-color-unfitted-level-3: chocolate;\n",
       "  /* Definition of color scheme for fitted estimators */\n",
       "  --sklearn-color-fitted-level-0: #f0f8ff;\n",
       "  --sklearn-color-fitted-level-1: #d4ebff;\n",
       "  --sklearn-color-fitted-level-2: #b3dbfd;\n",
       "  --sklearn-color-fitted-level-3: cornflowerblue;\n",
       "\n",
       "  /* Specific color for light theme */\n",
       "  --sklearn-color-text-on-default-background: var(--sg-text-color, var(--theme-code-foreground, var(--jp-content-font-color1, black)));\n",
       "  --sklearn-color-background: var(--sg-background-color, var(--theme-background, var(--jp-layout-color0, white)));\n",
       "  --sklearn-color-border-box: var(--sg-text-color, var(--theme-code-foreground, var(--jp-content-font-color1, black)));\n",
       "  --sklearn-color-icon: #696969;\n",
       "\n",
       "  @media (prefers-color-scheme: dark) {\n",
       "    /* Redefinition of color scheme for dark theme */\n",
       "    --sklearn-color-text-on-default-background: var(--sg-text-color, var(--theme-code-foreground, var(--jp-content-font-color1, white)));\n",
       "    --sklearn-color-background: var(--sg-background-color, var(--theme-background, var(--jp-layout-color0, #111)));\n",
       "    --sklearn-color-border-box: var(--sg-text-color, var(--theme-code-foreground, var(--jp-content-font-color1, white)));\n",
       "    --sklearn-color-icon: #878787;\n",
       "  }\n",
       "}\n",
       "\n",
       "#sk-container-id-2 {\n",
       "  color: var(--sklearn-color-text);\n",
       "}\n",
       "\n",
       "#sk-container-id-2 pre {\n",
       "  padding: 0;\n",
       "}\n",
       "\n",
       "#sk-container-id-2 input.sk-hidden--visually {\n",
       "  border: 0;\n",
       "  clip: rect(1px 1px 1px 1px);\n",
       "  clip: rect(1px, 1px, 1px, 1px);\n",
       "  height: 1px;\n",
       "  margin: -1px;\n",
       "  overflow: hidden;\n",
       "  padding: 0;\n",
       "  position: absolute;\n",
       "  width: 1px;\n",
       "}\n",
       "\n",
       "#sk-container-id-2 div.sk-dashed-wrapped {\n",
       "  border: 1px dashed var(--sklearn-color-line);\n",
       "  margin: 0 0.4em 0.5em 0.4em;\n",
       "  box-sizing: border-box;\n",
       "  padding-bottom: 0.4em;\n",
       "  background-color: var(--sklearn-color-background);\n",
       "}\n",
       "\n",
       "#sk-container-id-2 div.sk-container {\n",
       "  /* jupyter's `normalize.less` sets `[hidden] { display: none; }`\n",
       "     but bootstrap.min.css set `[hidden] { display: none !important; }`\n",
       "     so we also need the `!important` here to be able to override the\n",
       "     default hidden behavior on the sphinx rendered scikit-learn.org.\n",
       "     See: https://github.com/scikit-learn/scikit-learn/issues/21755 */\n",
       "  display: inline-block !important;\n",
       "  position: relative;\n",
       "}\n",
       "\n",
       "#sk-container-id-2 div.sk-text-repr-fallback {\n",
       "  display: none;\n",
       "}\n",
       "\n",
       "div.sk-parallel-item,\n",
       "div.sk-serial,\n",
       "div.sk-item {\n",
       "  /* draw centered vertical line to link estimators */\n",
       "  background-image: linear-gradient(var(--sklearn-color-text-on-default-background), var(--sklearn-color-text-on-default-background));\n",
       "  background-size: 2px 100%;\n",
       "  background-repeat: no-repeat;\n",
       "  background-position: center center;\n",
       "}\n",
       "\n",
       "/* Parallel-specific style estimator block */\n",
       "\n",
       "#sk-container-id-2 div.sk-parallel-item::after {\n",
       "  content: \"\";\n",
       "  width: 100%;\n",
       "  border-bottom: 2px solid var(--sklearn-color-text-on-default-background);\n",
       "  flex-grow: 1;\n",
       "}\n",
       "\n",
       "#sk-container-id-2 div.sk-parallel {\n",
       "  display: flex;\n",
       "  align-items: stretch;\n",
       "  justify-content: center;\n",
       "  background-color: var(--sklearn-color-background);\n",
       "  position: relative;\n",
       "}\n",
       "\n",
       "#sk-container-id-2 div.sk-parallel-item {\n",
       "  display: flex;\n",
       "  flex-direction: column;\n",
       "}\n",
       "\n",
       "#sk-container-id-2 div.sk-parallel-item:first-child::after {\n",
       "  align-self: flex-end;\n",
       "  width: 50%;\n",
       "}\n",
       "\n",
       "#sk-container-id-2 div.sk-parallel-item:last-child::after {\n",
       "  align-self: flex-start;\n",
       "  width: 50%;\n",
       "}\n",
       "\n",
       "#sk-container-id-2 div.sk-parallel-item:only-child::after {\n",
       "  width: 0;\n",
       "}\n",
       "\n",
       "/* Serial-specific style estimator block */\n",
       "\n",
       "#sk-container-id-2 div.sk-serial {\n",
       "  display: flex;\n",
       "  flex-direction: column;\n",
       "  align-items: center;\n",
       "  background-color: var(--sklearn-color-background);\n",
       "  padding-right: 1em;\n",
       "  padding-left: 1em;\n",
       "}\n",
       "\n",
       "\n",
       "/* Toggleable style: style used for estimator/Pipeline/ColumnTransformer box that is\n",
       "clickable and can be expanded/collapsed.\n",
       "- Pipeline and ColumnTransformer use this feature and define the default style\n",
       "- Estimators will overwrite some part of the style using the `sk-estimator` class\n",
       "*/\n",
       "\n",
       "/* Pipeline and ColumnTransformer style (default) */\n",
       "\n",
       "#sk-container-id-2 div.sk-toggleable {\n",
       "  /* Default theme specific background. It is overwritten whether we have a\n",
       "  specific estimator or a Pipeline/ColumnTransformer */\n",
       "  background-color: var(--sklearn-color-background);\n",
       "}\n",
       "\n",
       "/* Toggleable label */\n",
       "#sk-container-id-2 label.sk-toggleable__label {\n",
       "  cursor: pointer;\n",
       "  display: block;\n",
       "  width: 100%;\n",
       "  margin-bottom: 0;\n",
       "  padding: 0.5em;\n",
       "  box-sizing: border-box;\n",
       "  text-align: center;\n",
       "}\n",
       "\n",
       "#sk-container-id-2 label.sk-toggleable__label-arrow:before {\n",
       "  /* Arrow on the left of the label */\n",
       "  content: \"▸\";\n",
       "  float: left;\n",
       "  margin-right: 0.25em;\n",
       "  color: var(--sklearn-color-icon);\n",
       "}\n",
       "\n",
       "#sk-container-id-2 label.sk-toggleable__label-arrow:hover:before {\n",
       "  color: var(--sklearn-color-text);\n",
       "}\n",
       "\n",
       "/* Toggleable content - dropdown */\n",
       "\n",
       "#sk-container-id-2 div.sk-toggleable__content {\n",
       "  max-height: 0;\n",
       "  max-width: 0;\n",
       "  overflow: hidden;\n",
       "  text-align: left;\n",
       "  /* unfitted */\n",
       "  background-color: var(--sklearn-color-unfitted-level-0);\n",
       "}\n",
       "\n",
       "#sk-container-id-2 div.sk-toggleable__content.fitted {\n",
       "  /* fitted */\n",
       "  background-color: var(--sklearn-color-fitted-level-0);\n",
       "}\n",
       "\n",
       "#sk-container-id-2 div.sk-toggleable__content pre {\n",
       "  margin: 0.2em;\n",
       "  border-radius: 0.25em;\n",
       "  color: var(--sklearn-color-text);\n",
       "  /* unfitted */\n",
       "  background-color: var(--sklearn-color-unfitted-level-0);\n",
       "}\n",
       "\n",
       "#sk-container-id-2 div.sk-toggleable__content.fitted pre {\n",
       "  /* unfitted */\n",
       "  background-color: var(--sklearn-color-fitted-level-0);\n",
       "}\n",
       "\n",
       "#sk-container-id-2 input.sk-toggleable__control:checked~div.sk-toggleable__content {\n",
       "  /* Expand drop-down */\n",
       "  max-height: 200px;\n",
       "  max-width: 100%;\n",
       "  overflow: auto;\n",
       "}\n",
       "\n",
       "#sk-container-id-2 input.sk-toggleable__control:checked~label.sk-toggleable__label-arrow:before {\n",
       "  content: \"▾\";\n",
       "}\n",
       "\n",
       "/* Pipeline/ColumnTransformer-specific style */\n",
       "\n",
       "#sk-container-id-2 div.sk-label input.sk-toggleable__control:checked~label.sk-toggleable__label {\n",
       "  color: var(--sklearn-color-text);\n",
       "  background-color: var(--sklearn-color-unfitted-level-2);\n",
       "}\n",
       "\n",
       "#sk-container-id-2 div.sk-label.fitted input.sk-toggleable__control:checked~label.sk-toggleable__label {\n",
       "  background-color: var(--sklearn-color-fitted-level-2);\n",
       "}\n",
       "\n",
       "/* Estimator-specific style */\n",
       "\n",
       "/* Colorize estimator box */\n",
       "#sk-container-id-2 div.sk-estimator input.sk-toggleable__control:checked~label.sk-toggleable__label {\n",
       "  /* unfitted */\n",
       "  background-color: var(--sklearn-color-unfitted-level-2);\n",
       "}\n",
       "\n",
       "#sk-container-id-2 div.sk-estimator.fitted input.sk-toggleable__control:checked~label.sk-toggleable__label {\n",
       "  /* fitted */\n",
       "  background-color: var(--sklearn-color-fitted-level-2);\n",
       "}\n",
       "\n",
       "#sk-container-id-2 div.sk-label label.sk-toggleable__label,\n",
       "#sk-container-id-2 div.sk-label label {\n",
       "  /* The background is the default theme color */\n",
       "  color: var(--sklearn-color-text-on-default-background);\n",
       "}\n",
       "\n",
       "/* On hover, darken the color of the background */\n",
       "#sk-container-id-2 div.sk-label:hover label.sk-toggleable__label {\n",
       "  color: var(--sklearn-color-text);\n",
       "  background-color: var(--sklearn-color-unfitted-level-2);\n",
       "}\n",
       "\n",
       "/* Label box, darken color on hover, fitted */\n",
       "#sk-container-id-2 div.sk-label.fitted:hover label.sk-toggleable__label.fitted {\n",
       "  color: var(--sklearn-color-text);\n",
       "  background-color: var(--sklearn-color-fitted-level-2);\n",
       "}\n",
       "\n",
       "/* Estimator label */\n",
       "\n",
       "#sk-container-id-2 div.sk-label label {\n",
       "  font-family: monospace;\n",
       "  font-weight: bold;\n",
       "  display: inline-block;\n",
       "  line-height: 1.2em;\n",
       "}\n",
       "\n",
       "#sk-container-id-2 div.sk-label-container {\n",
       "  text-align: center;\n",
       "}\n",
       "\n",
       "/* Estimator-specific */\n",
       "#sk-container-id-2 div.sk-estimator {\n",
       "  font-family: monospace;\n",
       "  border: 1px dotted var(--sklearn-color-border-box);\n",
       "  border-radius: 0.25em;\n",
       "  box-sizing: border-box;\n",
       "  margin-bottom: 0.5em;\n",
       "  /* unfitted */\n",
       "  background-color: var(--sklearn-color-unfitted-level-0);\n",
       "}\n",
       "\n",
       "#sk-container-id-2 div.sk-estimator.fitted {\n",
       "  /* fitted */\n",
       "  background-color: var(--sklearn-color-fitted-level-0);\n",
       "}\n",
       "\n",
       "/* on hover */\n",
       "#sk-container-id-2 div.sk-estimator:hover {\n",
       "  /* unfitted */\n",
       "  background-color: var(--sklearn-color-unfitted-level-2);\n",
       "}\n",
       "\n",
       "#sk-container-id-2 div.sk-estimator.fitted:hover {\n",
       "  /* fitted */\n",
       "  background-color: var(--sklearn-color-fitted-level-2);\n",
       "}\n",
       "\n",
       "/* Specification for estimator info (e.g. \"i\" and \"?\") */\n",
       "\n",
       "/* Common style for \"i\" and \"?\" */\n",
       "\n",
       ".sk-estimator-doc-link,\n",
       "a:link.sk-estimator-doc-link,\n",
       "a:visited.sk-estimator-doc-link {\n",
       "  float: right;\n",
       "  font-size: smaller;\n",
       "  line-height: 1em;\n",
       "  font-family: monospace;\n",
       "  background-color: var(--sklearn-color-background);\n",
       "  border-radius: 1em;\n",
       "  height: 1em;\n",
       "  width: 1em;\n",
       "  text-decoration: none !important;\n",
       "  margin-left: 1ex;\n",
       "  /* unfitted */\n",
       "  border: var(--sklearn-color-unfitted-level-1) 1pt solid;\n",
       "  color: var(--sklearn-color-unfitted-level-1);\n",
       "}\n",
       "\n",
       ".sk-estimator-doc-link.fitted,\n",
       "a:link.sk-estimator-doc-link.fitted,\n",
       "a:visited.sk-estimator-doc-link.fitted {\n",
       "  /* fitted */\n",
       "  border: var(--sklearn-color-fitted-level-1) 1pt solid;\n",
       "  color: var(--sklearn-color-fitted-level-1);\n",
       "}\n",
       "\n",
       "/* On hover */\n",
       "div.sk-estimator:hover .sk-estimator-doc-link:hover,\n",
       ".sk-estimator-doc-link:hover,\n",
       "div.sk-label-container:hover .sk-estimator-doc-link:hover,\n",
       ".sk-estimator-doc-link:hover {\n",
       "  /* unfitted */\n",
       "  background-color: var(--sklearn-color-unfitted-level-3);\n",
       "  color: var(--sklearn-color-background);\n",
       "  text-decoration: none;\n",
       "}\n",
       "\n",
       "div.sk-estimator.fitted:hover .sk-estimator-doc-link.fitted:hover,\n",
       ".sk-estimator-doc-link.fitted:hover,\n",
       "div.sk-label-container:hover .sk-estimator-doc-link.fitted:hover,\n",
       ".sk-estimator-doc-link.fitted:hover {\n",
       "  /* fitted */\n",
       "  background-color: var(--sklearn-color-fitted-level-3);\n",
       "  color: var(--sklearn-color-background);\n",
       "  text-decoration: none;\n",
       "}\n",
       "\n",
       "/* Span, style for the box shown on hovering the info icon */\n",
       ".sk-estimator-doc-link span {\n",
       "  display: none;\n",
       "  z-index: 9999;\n",
       "  position: relative;\n",
       "  font-weight: normal;\n",
       "  right: .2ex;\n",
       "  padding: .5ex;\n",
       "  margin: .5ex;\n",
       "  width: min-content;\n",
       "  min-width: 20ex;\n",
       "  max-width: 50ex;\n",
       "  color: var(--sklearn-color-text);\n",
       "  box-shadow: 2pt 2pt 4pt #999;\n",
       "  /* unfitted */\n",
       "  background: var(--sklearn-color-unfitted-level-0);\n",
       "  border: .5pt solid var(--sklearn-color-unfitted-level-3);\n",
       "}\n",
       "\n",
       ".sk-estimator-doc-link.fitted span {\n",
       "  /* fitted */\n",
       "  background: var(--sklearn-color-fitted-level-0);\n",
       "  border: var(--sklearn-color-fitted-level-3);\n",
       "}\n",
       "\n",
       ".sk-estimator-doc-link:hover span {\n",
       "  display: block;\n",
       "}\n",
       "\n",
       "/* \"?\"-specific style due to the `<a>` HTML tag */\n",
       "\n",
       "#sk-container-id-2 a.estimator_doc_link {\n",
       "  float: right;\n",
       "  font-size: 1rem;\n",
       "  line-height: 1em;\n",
       "  font-family: monospace;\n",
       "  background-color: var(--sklearn-color-background);\n",
       "  border-radius: 1rem;\n",
       "  height: 1rem;\n",
       "  width: 1rem;\n",
       "  text-decoration: none;\n",
       "  /* unfitted */\n",
       "  color: var(--sklearn-color-unfitted-level-1);\n",
       "  border: var(--sklearn-color-unfitted-level-1) 1pt solid;\n",
       "}\n",
       "\n",
       "#sk-container-id-2 a.estimator_doc_link.fitted {\n",
       "  /* fitted */\n",
       "  border: var(--sklearn-color-fitted-level-1) 1pt solid;\n",
       "  color: var(--sklearn-color-fitted-level-1);\n",
       "}\n",
       "\n",
       "/* On hover */\n",
       "#sk-container-id-2 a.estimator_doc_link:hover {\n",
       "  /* unfitted */\n",
       "  background-color: var(--sklearn-color-unfitted-level-3);\n",
       "  color: var(--sklearn-color-background);\n",
       "  text-decoration: none;\n",
       "}\n",
       "\n",
       "#sk-container-id-2 a.estimator_doc_link.fitted:hover {\n",
       "  /* fitted */\n",
       "  background-color: var(--sklearn-color-fitted-level-3);\n",
       "}\n",
       "</style><div id=\"sk-container-id-2\" class=\"sk-top-container\"><div class=\"sk-text-repr-fallback\"><pre>LinearRegression()</pre><b>In a Jupyter environment, please rerun this cell to show the HTML representation or trust the notebook. <br />On GitHub, the HTML representation is unable to render, please try loading this page with nbviewer.org.</b></div><div class=\"sk-container\" hidden><div class=\"sk-item\"><div class=\"sk-estimator fitted sk-toggleable\"><input class=\"sk-toggleable__control sk-hidden--visually\" id=\"sk-estimator-id-2\" type=\"checkbox\" checked><label for=\"sk-estimator-id-2\" class=\"sk-toggleable__label fitted sk-toggleable__label-arrow fitted\">&nbsp;&nbsp;LinearRegression<a class=\"sk-estimator-doc-link fitted\" rel=\"noreferrer\" target=\"_blank\" href=\"https://scikit-learn.org/1.4/modules/generated/sklearn.linear_model.LinearRegression.html\">?<span>Documentation for LinearRegression</span></a><span class=\"sk-estimator-doc-link fitted\">i<span>Fitted</span></span></label><div class=\"sk-toggleable__content fitted\"><pre>LinearRegression()</pre></div> </div></div></div></div>"
      ],
      "text/plain": [
       "LinearRegression()"
      ]
     },
     "execution_count": 427,
     "metadata": {},
     "output_type": "execute_result"
    }
   ],
   "source": [
    "from sklearn.linear_model import LinearRegression\n",
    "import numpy as np\n",
    "\n",
    "# Sample data\n",
    "X = df_for_gpt_copy[ ['language', 'office_program','coding', 'prompting', 'software', 'visualization',\n",
    "       'business_architecture', '1C_salary', '1C', 'other','domain_knowledge', 'experience_cat'] ] \n",
    "y = df_for_gpt_copy['salary_middle']\n",
    "\n",
    "# Create and fit the model\n",
    "model = LinearRegression()\n",
    "model.fit(X, y)\n"
   ]
  },
  {
   "cell_type": "code",
   "execution_count": 428,
   "metadata": {},
   "outputs": [
    {
     "data": {
      "text/plain": [
       "array([     0.        , -17403.35463468,  46735.36725611, -24865.22664017,\n",
       "        -7574.85850569, -27346.47339137,  11058.6407121 ,  41558.49359554,\n",
       "        27575.8384146 ,    683.10164105,      0.        ,  55879.69070267])"
      ]
     },
     "execution_count": 428,
     "metadata": {},
     "output_type": "execute_result"
    }
   ],
   "source": [
    "coefficients"
   ]
  },
  {
   "cell_type": "code",
   "execution_count": 486,
   "metadata": {},
   "outputs": [
    {
     "data": {
      "text/html": [
       "<div>\n",
       "<style scoped>\n",
       "    .dataframe tbody tr th:only-of-type {\n",
       "        vertical-align: middle;\n",
       "    }\n",
       "\n",
       "    .dataframe tbody tr th {\n",
       "        vertical-align: top;\n",
       "    }\n",
       "\n",
       "    .dataframe thead th {\n",
       "        text-align: right;\n",
       "    }\n",
       "</style>\n",
       "<table border=\"1\" class=\"dataframe\">\n",
       "  <thead>\n",
       "    <tr style=\"text-align: right;\">\n",
       "      <th></th>\n",
       "      <th>Feature</th>\n",
       "      <th>Coefficient</th>\n",
       "    </tr>\n",
       "  </thead>\n",
       "  <tbody>\n",
       "    <tr>\n",
       "      <th>0</th>\n",
       "      <td>Intercept</td>\n",
       "      <td>33070.0</td>\n",
       "    </tr>\n",
       "    <tr>\n",
       "      <th>0</th>\n",
       "      <td>language</td>\n",
       "      <td>-6064.0</td>\n",
       "    </tr>\n",
       "    <tr>\n",
       "      <th>1</th>\n",
       "      <td>office_program</td>\n",
       "      <td>-34307.0</td>\n",
       "    </tr>\n",
       "    <tr>\n",
       "      <th>2</th>\n",
       "      <td>coding</td>\n",
       "      <td>12419.0</td>\n",
       "    </tr>\n",
       "    <tr>\n",
       "      <th>3</th>\n",
       "      <td>prompting</td>\n",
       "      <td>56450.0</td>\n",
       "    </tr>\n",
       "    <tr>\n",
       "      <th>4</th>\n",
       "      <td>software</td>\n",
       "      <td>-4764.0</td>\n",
       "    </tr>\n",
       "    <tr>\n",
       "      <th>5</th>\n",
       "      <td>visualization</td>\n",
       "      <td>-3204.0</td>\n",
       "    </tr>\n",
       "    <tr>\n",
       "      <th>6</th>\n",
       "      <td>business_architecture</td>\n",
       "      <td>38826.0</td>\n",
       "    </tr>\n",
       "    <tr>\n",
       "      <th>7</th>\n",
       "      <td>1C_salary</td>\n",
       "      <td>-6278.0</td>\n",
       "    </tr>\n",
       "    <tr>\n",
       "      <th>8</th>\n",
       "      <td>1C</td>\n",
       "      <td>14177.0</td>\n",
       "    </tr>\n",
       "    <tr>\n",
       "      <th>9</th>\n",
       "      <td>other</td>\n",
       "      <td>-7808.0</td>\n",
       "    </tr>\n",
       "    <tr>\n",
       "      <th>10</th>\n",
       "      <td>domain_knowledge</td>\n",
       "      <td>5289.0</td>\n",
       "    </tr>\n",
       "    <tr>\n",
       "      <th>11</th>\n",
       "      <td>experience_cat</td>\n",
       "      <td>51411.0</td>\n",
       "    </tr>\n",
       "  </tbody>\n",
       "</table>\n",
       "</div>"
      ],
      "text/plain": [
       "                  Feature  Coefficient\n",
       "0               Intercept      33070.0\n",
       "0                language      -6064.0\n",
       "1          office_program     -34307.0\n",
       "2                  coding      12419.0\n",
       "3               prompting      56450.0\n",
       "4                software      -4764.0\n",
       "5           visualization      -3204.0\n",
       "6   business_architecture      38826.0\n",
       "7               1C_salary      -6278.0\n",
       "8                      1C      14177.0\n",
       "9                   other      -7808.0\n",
       "10       domain_knowledge       5289.0\n",
       "11         experience_cat      51411.0"
      ]
     },
     "execution_count": 486,
     "metadata": {},
     "output_type": "execute_result"
    }
   ],
   "source": [
    "# Extract coefficients and intercept\n",
    "coefficients = model.coef_\n",
    "intercept = model.intercept_\n",
    "\n",
    "# Create a DataFrame to display the coefficients\n",
    "coef_df = pd.DataFrame({'Feature': X.columns, 'Coefficient': coefficients})\n",
    "\n",
    "# # Add intercept to the DataFrame\n",
    "intercept_row = pd.DataFrame({'Feature': ['Intercept'], 'Coefficient': [intercept]})\n",
    "coef_df = pd.concat([intercept_row, coef_df])\n",
    "\n",
    "coef_df.round(0)"
   ]
  },
  {
   "cell_type": "code",
   "execution_count": 442,
   "metadata": {},
   "outputs": [
    {
     "data": {
      "text/html": [
       "<div>\n",
       "<style scoped>\n",
       "    .dataframe tbody tr th:only-of-type {\n",
       "        vertical-align: middle;\n",
       "    }\n",
       "\n",
       "    .dataframe tbody tr th {\n",
       "        vertical-align: top;\n",
       "    }\n",
       "\n",
       "    .dataframe thead th {\n",
       "        text-align: right;\n",
       "    }\n",
       "</style>\n",
       "<table border=\"1\" class=\"dataframe\">\n",
       "  <thead>\n",
       "    <tr style=\"text-align: right;\">\n",
       "      <th></th>\n",
       "      <th>1C_salary</th>\n",
       "      <th>1C</th>\n",
       "      <th>average</th>\n",
       "      <th>count</th>\n",
       "    </tr>\n",
       "  </thead>\n",
       "  <tbody>\n",
       "    <tr>\n",
       "      <th>0</th>\n",
       "      <td>0</td>\n",
       "      <td>1</td>\n",
       "      <td>161061</td>\n",
       "      <td>49</td>\n",
       "    </tr>\n",
       "    <tr>\n",
       "      <th>1</th>\n",
       "      <td>1</td>\n",
       "      <td>0</td>\n",
       "      <td>227000</td>\n",
       "      <td>2</td>\n",
       "    </tr>\n",
       "    <tr>\n",
       "      <th>2</th>\n",
       "      <td>1</td>\n",
       "      <td>1</td>\n",
       "      <td>162142</td>\n",
       "      <td>7</td>\n",
       "    </tr>\n",
       "  </tbody>\n",
       "</table>\n",
       "</div>"
      ],
      "text/plain": [
       "   1C_salary  1C  average  count\n",
       "0          0   1   161061     49\n",
       "1          1   0   227000      2\n",
       "2          1   1   162142      7"
      ]
     },
     "execution_count": 442,
     "metadata": {},
     "output_type": "execute_result"
    }
   ],
   "source": [
    "df_for_gpt_copy[(df_for_gpt_copy['1C_salary'] == 1) | (df_for_gpt_copy['1C'] == 1)][['1C_salary','1C','salary_middle']]\\\n",
    "    .groupby(['1C_salary','1C'], as_index=False)\\\n",
    "    .agg(\n",
    "        average=('salary_middle', np.mean),\n",
    "        count=('salary_middle', 'count'),\n",
    "    ).astype(int)"
   ]
  },
  {
   "cell_type": "code",
   "execution_count": 465,
   "metadata": {},
   "outputs": [
    {
     "data": {
      "text/markdown": [
       "Нашей компании в области продаж на маркетплейсах, а именно Wildberries (Вайлдберриз) необходим менеджер, специалист, имеющий опыт работы в этой области.\n",
       "У нас большая молодёжная команда: дизайнеры, контент-менеджеры и др. У всех есть желание развиваться и нацеленность на результат, будем рады видеть у себя в команде такого же единомышленника.\n",
       "Обязанности:\n",
       "работа с маркетплейсами Wildberries(Вайлдберриз);\n",
       "продвижение продукции, согласование действующих акций;\n",
       "подготовка предложений по корректировке цен;\n",
       "анализ ниши товаров;\n",
       "использование различных инструментов для продвижения товара;\n",
       "вывод товаров в ТОП;\n",
       "мониторинг изменений в работе маркетплейсов;\n",
       "подготовка прочей аналитической информации.\n",
       "Требования:\n",
       "наличие опыта работы с маркетплейсами на должности менеджера/аналитика;\n",
       "аналитический склад ума;\n",
       "уверенный пользователь Excel, Google-таблиц, MPstats.\n",
       "Условия:\n",
       "график работы 5/2, 09.00 -18.00 (работа в офисе);\n",
       "оформление по ТК РФ;\n",
       "оплачиваемые отпуска, больничные;\n",
       "чай/кофе, комфортный офис премиум класса;\n",
       "уровень зарплаты обсуждается индивидуально с каждым кандидатом;\n",
       "дружный коллектив, лояльное руководство.\n",
       "Адрес: Москва, Дмитровское шоссе, 71Б, Бизнес-центр \"7ONE\" у метро \"Верхние Лихоборы\", м./мцк Окружная\n",
       "Задайте вопрос работодателю\n",
       "Он получит его с откликом на вакансию\n",
       "Где располагается место работы?Какой график работы?Вакансия открыта?Какая оплата труда?Как с вами связаться?Другой вопрос\n",
       "Адрес\n",
       "Москва, Дмитровское шоссе, 71Б\n",
       "© Яндекс Условия использования\n",
       "Показать на большой карте"
      ],
      "text/plain": [
       "<IPython.core.display.Markdown object>"
      ]
     },
     "execution_count": 465,
     "metadata": {},
     "output_type": "execute_result"
    }
   ],
   "source": [
    "Markdown( df_for_gpt_copy[(df_for_gpt_copy['gpt_output_skills'].str.contains('MPstats') == 1 )].vacancy_description.values[0] )"
   ]
  },
  {
   "cell_type": "code",
   "execution_count": 466,
   "metadata": {},
   "outputs": [
    {
     "data": {
      "text/html": [
       "<div>\n",
       "<style scoped>\n",
       "    .dataframe tbody tr th:only-of-type {\n",
       "        vertical-align: middle;\n",
       "    }\n",
       "\n",
       "    .dataframe tbody tr th {\n",
       "        vertical-align: top;\n",
       "    }\n",
       "\n",
       "    .dataframe thead th {\n",
       "        text-align: right;\n",
       "    }\n",
       "</style>\n",
       "<table border=\"1\" class=\"dataframe\">\n",
       "  <thead>\n",
       "    <tr style=\"text-align: right;\">\n",
       "      <th></th>\n",
       "      <th>35</th>\n",
       "    </tr>\n",
       "  </thead>\n",
       "  <tbody>\n",
       "    <tr>\n",
       "      <th>Unnamed: 0</th>\n",
       "      <td>14663</td>\n",
       "    </tr>\n",
       "    <tr>\n",
       "      <th>vacancy_name</th>\n",
       "      <td>Менеджер маркетплейсов Wildberries (Вайлдберриз)</td>\n",
       "    </tr>\n",
       "    <tr>\n",
       "      <th>area_id</th>\n",
       "      <td>1</td>\n",
       "    </tr>\n",
       "    <tr>\n",
       "      <th>area_name</th>\n",
       "      <td>Москва</td>\n",
       "    </tr>\n",
       "    <tr>\n",
       "      <th>published_at</th>\n",
       "      <td>2024-01-23 16:47:08+03:00</td>\n",
       "    </tr>\n",
       "    <tr>\n",
       "      <th>created_at</th>\n",
       "      <td>2024-01-23 16:47:08+03:00</td>\n",
       "    </tr>\n",
       "    <tr>\n",
       "      <th>employer_id</th>\n",
       "      <td>9529825</td>\n",
       "    </tr>\n",
       "    <tr>\n",
       "      <th>employer_name</th>\n",
       "      <td>ВВТ Вектор</td>\n",
       "    </tr>\n",
       "    <tr>\n",
       "      <th>employer_link</th>\n",
       "      <td>https://hh.ru/employer/9529825</td>\n",
       "    </tr>\n",
       "    <tr>\n",
       "      <th>city</th>\n",
       "      <td>1</td>\n",
       "    </tr>\n",
       "    <tr>\n",
       "      <th>schedule</th>\n",
       "      <td>Полный день</td>\n",
       "    </tr>\n",
       "    <tr>\n",
       "      <th>experience</th>\n",
       "      <td>От 1 года до 3 лет</td>\n",
       "    </tr>\n",
       "    <tr>\n",
       "      <th>employment</th>\n",
       "      <td>Полная занятость</td>\n",
       "    </tr>\n",
       "    <tr>\n",
       "      <th>alternate_url</th>\n",
       "      <td>https://hh.ru/vacancy/91823262</td>\n",
       "    </tr>\n",
       "    <tr>\n",
       "      <th>description</th>\n",
       "      <td>NaN</td>\n",
       "    </tr>\n",
       "    <tr>\n",
       "      <th>index</th>\n",
       "      <td>5179</td>\n",
       "    </tr>\n",
       "    <tr>\n",
       "      <th>from</th>\n",
       "      <td>80000</td>\n",
       "    </tr>\n",
       "    <tr>\n",
       "      <th>to</th>\n",
       "      <td>250000</td>\n",
       "    </tr>\n",
       "    <tr>\n",
       "      <th>currency</th>\n",
       "      <td>RUR</td>\n",
       "    </tr>\n",
       "    <tr>\n",
       "      <th>gross</th>\n",
       "      <td>False</td>\n",
       "    </tr>\n",
       "    <tr>\n",
       "      <th>role_id</th>\n",
       "      <td>10</td>\n",
       "    </tr>\n",
       "    <tr>\n",
       "      <th>name</th>\n",
       "      <td>Аналитик</td>\n",
       "    </tr>\n",
       "    <tr>\n",
       "      <th>role_name</th>\n",
       "      <td>Аналитик</td>\n",
       "    </tr>\n",
       "    <tr>\n",
       "      <th>salary_middle</th>\n",
       "      <td>165000.0</td>\n",
       "    </tr>\n",
       "    <tr>\n",
       "      <th>url_description</th>\n",
       "      <td>Нашей компании в области продаж на маркетплейс...</td>\n",
       "    </tr>\n",
       "    <tr>\n",
       "      <th>vacancy_description</th>\n",
       "      <td>Нашей компании в области продаж на маркетплейс...</td>\n",
       "    </tr>\n",
       "    <tr>\n",
       "      <th>description_len</th>\n",
       "      <td>1508</td>\n",
       "    </tr>\n",
       "    <tr>\n",
       "      <th>gpt_output_skills</th>\n",
       "      <td>Excel; Google-таблиц; MPstats</td>\n",
       "    </tr>\n",
       "    <tr>\n",
       "      <th>language</th>\n",
       "      <td>0</td>\n",
       "    </tr>\n",
       "    <tr>\n",
       "      <th>office_program</th>\n",
       "      <td>1</td>\n",
       "    </tr>\n",
       "    <tr>\n",
       "      <th>coding</th>\n",
       "      <td>0</td>\n",
       "    </tr>\n",
       "    <tr>\n",
       "      <th>prompting</th>\n",
       "      <td>0</td>\n",
       "    </tr>\n",
       "    <tr>\n",
       "      <th>software</th>\n",
       "      <td>1</td>\n",
       "    </tr>\n",
       "    <tr>\n",
       "      <th>visualization</th>\n",
       "      <td>0</td>\n",
       "    </tr>\n",
       "    <tr>\n",
       "      <th>business_architecture</th>\n",
       "      <td>0</td>\n",
       "    </tr>\n",
       "    <tr>\n",
       "      <th>1C_salary</th>\n",
       "      <td>0</td>\n",
       "    </tr>\n",
       "    <tr>\n",
       "      <th>1C</th>\n",
       "      <td>0</td>\n",
       "    </tr>\n",
       "    <tr>\n",
       "      <th>other</th>\n",
       "      <td>0</td>\n",
       "    </tr>\n",
       "    <tr>\n",
       "      <th>domain_knowledge</th>\n",
       "      <td>0</td>\n",
       "    </tr>\n",
       "    <tr>\n",
       "      <th>experience_cat</th>\n",
       "      <td>2</td>\n",
       "    </tr>\n",
       "  </tbody>\n",
       "</table>\n",
       "</div>"
      ],
      "text/plain": [
       "                                                                      35\n",
       "Unnamed: 0                                                         14663\n",
       "vacancy_name            Менеджер маркетплейсов Wildberries (Вайлдберриз)\n",
       "area_id                                                                1\n",
       "area_name                                                         Москва\n",
       "published_at                                   2024-01-23 16:47:08+03:00\n",
       "created_at                                     2024-01-23 16:47:08+03:00\n",
       "employer_id                                                      9529825\n",
       "employer_name                                                 ВВТ Вектор\n",
       "employer_link                             https://hh.ru/employer/9529825\n",
       "city                                                                   1\n",
       "schedule                                                     Полный день\n",
       "experience                                            От 1 года до 3 лет\n",
       "employment                                              Полная занятость\n",
       "alternate_url                             https://hh.ru/vacancy/91823262\n",
       "description                                                          NaN\n",
       "index                                                               5179\n",
       "from                                                               80000\n",
       "to                                                                250000\n",
       "currency                                                             RUR\n",
       "gross                                                              False\n",
       "role_id                                                               10\n",
       "name                                                            Аналитик\n",
       "role_name                                                       Аналитик\n",
       "salary_middle                                                   165000.0\n",
       "url_description        Нашей компании в области продаж на маркетплейс...\n",
       "vacancy_description    Нашей компании в области продаж на маркетплейс...\n",
       "description_len                                                     1508\n",
       "gpt_output_skills                          Excel; Google-таблиц; MPstats\n",
       "language                                                               0\n",
       "office_program                                                         1\n",
       "coding                                                                 0\n",
       "prompting                                                              0\n",
       "software                                                               1\n",
       "visualization                                                          0\n",
       "business_architecture                                                  0\n",
       "1C_salary                                                              0\n",
       "1C                                                                     0\n",
       "other                                                                  0\n",
       "domain_knowledge                                                       0\n",
       "experience_cat                                                         2"
      ]
     },
     "execution_count": 466,
     "metadata": {},
     "output_type": "execute_result"
    }
   ],
   "source": [
    "df_for_gpt_copy[(df_for_gpt_copy['gpt_output_skills'].str.contains('MPstats') == 1 )].T"
   ]
  },
  {
   "cell_type": "code",
   "execution_count": 457,
   "metadata": {},
   "outputs": [
    {
     "data": {
      "text/markdown": [
       "Под новые проекты мы расширяем команду и ищем опытного эксперта\n",
       "Будет преимуществом опыт работы над ИТ проектами в роли бинес-аналитика в направлениях: финансы, бюджетирование\n",
       "Функционал:\n",
       "Сбор, анализ, формализация и согласование бизнес-требований\n",
       "Анализ текущего состояния бизнес-процессов и подготовка предложений по оптимизации, проектирование и моделирование новых бизнес-процессов, создание схем и описаний процессов\n",
       "Проработка требований до состояния, когда они понятны консультантам и разработчикам информационных систем, и по ним можно получить оценку трудозатрат на реализацию\n",
       "Декомпозиция требований на User Story и их приоритизация\n",
       "Оценка влияния изменений при их внедрении, вовлечение соответствующих экспертов в процессе согласования изменений\n",
       "Определение показателей оценки эффективности и критерием качества. Выявление и анализ рисков\n",
       "Координация команд разработки, тестирования и поддержки в ходе реализации задач\n",
       "Контроль сроков реализации задач и актуализация статусов по задачам\n",
       "Активное участие в приемке результатов выполненных работ\n",
       "Наши ожидания:\n",
       "Опыт работы в направлениях: бизнес-аналитик, системный аналитик от 3 лет\n",
       "Знание и опыт разработки: карт бизнес-процессов (нотации BPMN, EPC), артефактов (БТ, User Stories, Use Case и пр.), локальных регламентирующих документов\n",
       "Опыт работы с несколькими стекхолдерами, разного уровня влияния\n",
       "Опыт взаимодействия с ИТ-подразделениями в части постановки задач и приёмки результатов\n",
       "Опыт проведение презентаций для технических команд и бизнес подразделений\n",
       "Опыт проработки процессов от сбора требований до внедрения изменений\n",
       "Опыт в оценке сроков и трудоёмкости задач\n",
       "Понимание принципов управленческого и бухгалтерского учета, базовые знания налогового учета\n",
       "Мы предлагаем:\n",
       "Постоянный трудовой договор.\n",
       "Работа в штате Департамента информационных технологий\n",
       "Официальное оформление в соответствии с ТК РФ, статус официально аккредитованной ИТ компании (бронь и отсрочка, льготная ИТ ипотека)\n",
       "График работы 5/2, гибкое начало рабочего времени, гибридный график (офис+несколько дней удаленно)\n",
       "Комфортный офис в районе метро/мцк/мцд Окружная (пешая доступность), гибридный график работы, 2-3 дня в офисе еженедельно\n",
       "Расширенный полис ДМС\n",
       "Скидка на продукцию компании\n",
       "Внутреннее и внешнее обучение\n",
       "Заинтересованность компании в развитии сотрудников, система мотивации и KPI, годовые бонусы по итогам работы\n",
       "Спортивные и развлекательные мероприятия, участие в корпоративной жизни компании\n",
       "ООО «ДМ» представляет бренд ДМТЕХ\n",
       "Ключевые навыки\n",
       "BPMN\n",
       "Бизнес-анализ\n",
       "MS Visio\n",
       "Моделирование процессов\n",
       "IDEF0\n",
       "Задайте вопрос работодателю\n",
       "Он получит его с откликом на вакансию\n",
       "Где располагается место работы?Какой график работы?Вакансия открыта?Какая оплата труда?Как с вами связаться?Другой вопрос"
      ],
      "text/plain": [
       "<IPython.core.display.Markdown object>"
      ]
     },
     "execution_count": 457,
     "metadata": {},
     "output_type": "execute_result"
    }
   ],
   "source": [
    "Markdown( df_for_gpt_copy[(df_for_gpt_copy['alternate_url'] == 'https://hh.ru/vacancy/91946912' )].vacancy_description.values[0] )"
   ]
  },
  {
   "cell_type": "code",
   "execution_count": 469,
   "metadata": {},
   "outputs": [],
   "source": [
    "df_for_eda = df_for_gpt_copy [ ['language', 'office_program','coding', 'prompting', 'software', 'visualization',\n",
    "       'business_architecture', '1C_salary', '1C', 'other','domain_knowledge', 'experience_cat', 'salary_middle'] ].astype(int)"
   ]
  },
  {
   "cell_type": "code",
   "execution_count": 470,
   "metadata": {},
   "outputs": [
    {
     "data": {
      "application/vnd.plotly.v1+json": {
       "config": {
        "plotlyServerURL": "https://plot.ly"
       },
       "data": [
        {
         "alignmentgroup": "True",
         "bingroup": "x",
         "hovertemplate": "office_program=1<br>salary_middle=%{x}<br>count=%{y}<extra></extra>",
         "legendgroup": "1",
         "marker": {
          "color": "#636efa",
          "pattern": {
           "shape": ""
          }
         },
         "name": "1",
         "offsetgroup": "1",
         "orientation": "v",
         "showlegend": true,
         "type": "histogram",
         "x": [
          90000,
          54500,
          105000,
          70000,
          200000,
          82500,
          115000,
          170000,
          165000,
          180000,
          80000,
          50000,
          125000,
          300000,
          115000,
          60000,
          150000,
          80000,
          212500,
          100000,
          170000,
          100000,
          250000,
          75000,
          165000,
          350000,
          115000,
          43000,
          70000,
          91954,
          35000,
          75000,
          115000,
          95000,
          100000,
          65000,
          130000,
          100000,
          85000,
          93350,
          70000,
          95000,
          92000,
          125000,
          120000,
          80000,
          150000,
          135000,
          165000,
          120000,
          120000,
          175000,
          130000,
          95000,
          80000,
          70000,
          160000,
          110000,
          100000,
          150000,
          200000,
          180000,
          160000,
          160000,
          35000,
          75000,
          100000,
          100000,
          133313,
          250000,
          100000,
          125000,
          150000,
          55000,
          45000,
          135000,
          150000,
          105000,
          100000,
          150000,
          120000,
          105000,
          95000,
          60000,
          130000,
          80000,
          110000,
          70000,
          55000,
          80000,
          100000,
          67500,
          120000,
          110000,
          77500,
          100000,
          80000,
          75,
          122500,
          150000,
          70000,
          160000,
          150000,
          50000,
          75000,
          120000,
          60000,
          75000,
          55000,
          95000,
          150000,
          120000,
          80000,
          100000,
          135000,
          67000,
          250000,
          98374,
          70000,
          60000,
          75000,
          85000,
          300000,
          50000,
          60000,
          140000,
          150000,
          60000,
          80000
         ],
         "xaxis": "x",
         "yaxis": "y"
        },
        {
         "alignmentgroup": "True",
         "bingroup": "x",
         "hovertemplate": "office_program=0<br>salary_middle=%{x}<br>count=%{y}<extra></extra>",
         "legendgroup": "0",
         "marker": {
          "color": "#EF553B",
          "pattern": {
           "shape": ""
          }
         },
         "name": "0",
         "offsetgroup": "0",
         "orientation": "v",
         "showlegend": true,
         "type": "histogram",
         "x": [
          265000,
          95000,
          75000,
          80000,
          95000,
          250000,
          150000,
          80000,
          175000,
          150000,
          150000,
          400000,
          250000,
          120000,
          85000,
          225000,
          90000,
          150000,
          80000,
          245000,
          170000,
          270000,
          140000,
          325000,
          157000,
          240000,
          190000,
          250000,
          134000,
          180400,
          150000,
          150000,
          200000,
          180000,
          250000,
          145000,
          40000,
          210000,
          105000,
          130000,
          195000,
          200000,
          70000,
          150000,
          180000,
          310000,
          40000,
          250000,
          155000,
          200000,
          200000,
          140000,
          173000,
          250000,
          150000,
          35000,
          150000,
          42500,
          200000,
          150000,
          80000,
          65000,
          290000,
          140000,
          225000,
          300000,
          150000,
          215000,
          150000,
          250000,
          140000,
          290000,
          200000,
          60000,
          152500,
          215000,
          310000,
          300000,
          180000,
          102500,
          180000,
          130000,
          175000,
          160000,
          220000,
          180000,
          120000,
          67500,
          107000,
          150000,
          180000,
          150000,
          280000,
          150000,
          150000,
          174000,
          220000,
          245000,
          250000
         ],
         "xaxis": "x",
         "yaxis": "y"
        }
       ],
       "layout": {
        "barmode": "relative",
        "legend": {
         "title": {
          "text": "office_program"
         },
         "tracegroupgap": 0
        },
        "margin": {
         "t": 60
        },
        "template": {
         "data": {
          "bar": [
           {
            "error_x": {
             "color": "#2a3f5f"
            },
            "error_y": {
             "color": "#2a3f5f"
            },
            "marker": {
             "line": {
              "color": "#E5ECF6",
              "width": 0.5
             },
             "pattern": {
              "fillmode": "overlay",
              "size": 10,
              "solidity": 0.2
             }
            },
            "type": "bar"
           }
          ],
          "barpolar": [
           {
            "marker": {
             "line": {
              "color": "#E5ECF6",
              "width": 0.5
             },
             "pattern": {
              "fillmode": "overlay",
              "size": 10,
              "solidity": 0.2
             }
            },
            "type": "barpolar"
           }
          ],
          "carpet": [
           {
            "aaxis": {
             "endlinecolor": "#2a3f5f",
             "gridcolor": "white",
             "linecolor": "white",
             "minorgridcolor": "white",
             "startlinecolor": "#2a3f5f"
            },
            "baxis": {
             "endlinecolor": "#2a3f5f",
             "gridcolor": "white",
             "linecolor": "white",
             "minorgridcolor": "white",
             "startlinecolor": "#2a3f5f"
            },
            "type": "carpet"
           }
          ],
          "choropleth": [
           {
            "colorbar": {
             "outlinewidth": 0,
             "ticks": ""
            },
            "type": "choropleth"
           }
          ],
          "contour": [
           {
            "colorbar": {
             "outlinewidth": 0,
             "ticks": ""
            },
            "colorscale": [
             [
              0,
              "#0d0887"
             ],
             [
              0.1111111111111111,
              "#46039f"
             ],
             [
              0.2222222222222222,
              "#7201a8"
             ],
             [
              0.3333333333333333,
              "#9c179e"
             ],
             [
              0.4444444444444444,
              "#bd3786"
             ],
             [
              0.5555555555555556,
              "#d8576b"
             ],
             [
              0.6666666666666666,
              "#ed7953"
             ],
             [
              0.7777777777777778,
              "#fb9f3a"
             ],
             [
              0.8888888888888888,
              "#fdca26"
             ],
             [
              1,
              "#f0f921"
             ]
            ],
            "type": "contour"
           }
          ],
          "contourcarpet": [
           {
            "colorbar": {
             "outlinewidth": 0,
             "ticks": ""
            },
            "type": "contourcarpet"
           }
          ],
          "heatmap": [
           {
            "colorbar": {
             "outlinewidth": 0,
             "ticks": ""
            },
            "colorscale": [
             [
              0,
              "#0d0887"
             ],
             [
              0.1111111111111111,
              "#46039f"
             ],
             [
              0.2222222222222222,
              "#7201a8"
             ],
             [
              0.3333333333333333,
              "#9c179e"
             ],
             [
              0.4444444444444444,
              "#bd3786"
             ],
             [
              0.5555555555555556,
              "#d8576b"
             ],
             [
              0.6666666666666666,
              "#ed7953"
             ],
             [
              0.7777777777777778,
              "#fb9f3a"
             ],
             [
              0.8888888888888888,
              "#fdca26"
             ],
             [
              1,
              "#f0f921"
             ]
            ],
            "type": "heatmap"
           }
          ],
          "heatmapgl": [
           {
            "colorbar": {
             "outlinewidth": 0,
             "ticks": ""
            },
            "colorscale": [
             [
              0,
              "#0d0887"
             ],
             [
              0.1111111111111111,
              "#46039f"
             ],
             [
              0.2222222222222222,
              "#7201a8"
             ],
             [
              0.3333333333333333,
              "#9c179e"
             ],
             [
              0.4444444444444444,
              "#bd3786"
             ],
             [
              0.5555555555555556,
              "#d8576b"
             ],
             [
              0.6666666666666666,
              "#ed7953"
             ],
             [
              0.7777777777777778,
              "#fb9f3a"
             ],
             [
              0.8888888888888888,
              "#fdca26"
             ],
             [
              1,
              "#f0f921"
             ]
            ],
            "type": "heatmapgl"
           }
          ],
          "histogram": [
           {
            "marker": {
             "pattern": {
              "fillmode": "overlay",
              "size": 10,
              "solidity": 0.2
             }
            },
            "type": "histogram"
           }
          ],
          "histogram2d": [
           {
            "colorbar": {
             "outlinewidth": 0,
             "ticks": ""
            },
            "colorscale": [
             [
              0,
              "#0d0887"
             ],
             [
              0.1111111111111111,
              "#46039f"
             ],
             [
              0.2222222222222222,
              "#7201a8"
             ],
             [
              0.3333333333333333,
              "#9c179e"
             ],
             [
              0.4444444444444444,
              "#bd3786"
             ],
             [
              0.5555555555555556,
              "#d8576b"
             ],
             [
              0.6666666666666666,
              "#ed7953"
             ],
             [
              0.7777777777777778,
              "#fb9f3a"
             ],
             [
              0.8888888888888888,
              "#fdca26"
             ],
             [
              1,
              "#f0f921"
             ]
            ],
            "type": "histogram2d"
           }
          ],
          "histogram2dcontour": [
           {
            "colorbar": {
             "outlinewidth": 0,
             "ticks": ""
            },
            "colorscale": [
             [
              0,
              "#0d0887"
             ],
             [
              0.1111111111111111,
              "#46039f"
             ],
             [
              0.2222222222222222,
              "#7201a8"
             ],
             [
              0.3333333333333333,
              "#9c179e"
             ],
             [
              0.4444444444444444,
              "#bd3786"
             ],
             [
              0.5555555555555556,
              "#d8576b"
             ],
             [
              0.6666666666666666,
              "#ed7953"
             ],
             [
              0.7777777777777778,
              "#fb9f3a"
             ],
             [
              0.8888888888888888,
              "#fdca26"
             ],
             [
              1,
              "#f0f921"
             ]
            ],
            "type": "histogram2dcontour"
           }
          ],
          "mesh3d": [
           {
            "colorbar": {
             "outlinewidth": 0,
             "ticks": ""
            },
            "type": "mesh3d"
           }
          ],
          "parcoords": [
           {
            "line": {
             "colorbar": {
              "outlinewidth": 0,
              "ticks": ""
             }
            },
            "type": "parcoords"
           }
          ],
          "pie": [
           {
            "automargin": true,
            "type": "pie"
           }
          ],
          "scatter": [
           {
            "fillpattern": {
             "fillmode": "overlay",
             "size": 10,
             "solidity": 0.2
            },
            "type": "scatter"
           }
          ],
          "scatter3d": [
           {
            "line": {
             "colorbar": {
              "outlinewidth": 0,
              "ticks": ""
             }
            },
            "marker": {
             "colorbar": {
              "outlinewidth": 0,
              "ticks": ""
             }
            },
            "type": "scatter3d"
           }
          ],
          "scattercarpet": [
           {
            "marker": {
             "colorbar": {
              "outlinewidth": 0,
              "ticks": ""
             }
            },
            "type": "scattercarpet"
           }
          ],
          "scattergeo": [
           {
            "marker": {
             "colorbar": {
              "outlinewidth": 0,
              "ticks": ""
             }
            },
            "type": "scattergeo"
           }
          ],
          "scattergl": [
           {
            "marker": {
             "colorbar": {
              "outlinewidth": 0,
              "ticks": ""
             }
            },
            "type": "scattergl"
           }
          ],
          "scattermapbox": [
           {
            "marker": {
             "colorbar": {
              "outlinewidth": 0,
              "ticks": ""
             }
            },
            "type": "scattermapbox"
           }
          ],
          "scatterpolar": [
           {
            "marker": {
             "colorbar": {
              "outlinewidth": 0,
              "ticks": ""
             }
            },
            "type": "scatterpolar"
           }
          ],
          "scatterpolargl": [
           {
            "marker": {
             "colorbar": {
              "outlinewidth": 0,
              "ticks": ""
             }
            },
            "type": "scatterpolargl"
           }
          ],
          "scatterternary": [
           {
            "marker": {
             "colorbar": {
              "outlinewidth": 0,
              "ticks": ""
             }
            },
            "type": "scatterternary"
           }
          ],
          "surface": [
           {
            "colorbar": {
             "outlinewidth": 0,
             "ticks": ""
            },
            "colorscale": [
             [
              0,
              "#0d0887"
             ],
             [
              0.1111111111111111,
              "#46039f"
             ],
             [
              0.2222222222222222,
              "#7201a8"
             ],
             [
              0.3333333333333333,
              "#9c179e"
             ],
             [
              0.4444444444444444,
              "#bd3786"
             ],
             [
              0.5555555555555556,
              "#d8576b"
             ],
             [
              0.6666666666666666,
              "#ed7953"
             ],
             [
              0.7777777777777778,
              "#fb9f3a"
             ],
             [
              0.8888888888888888,
              "#fdca26"
             ],
             [
              1,
              "#f0f921"
             ]
            ],
            "type": "surface"
           }
          ],
          "table": [
           {
            "cells": {
             "fill": {
              "color": "#EBF0F8"
             },
             "line": {
              "color": "white"
             }
            },
            "header": {
             "fill": {
              "color": "#C8D4E3"
             },
             "line": {
              "color": "white"
             }
            },
            "type": "table"
           }
          ]
         },
         "layout": {
          "annotationdefaults": {
           "arrowcolor": "#2a3f5f",
           "arrowhead": 0,
           "arrowwidth": 1
          },
          "autotypenumbers": "strict",
          "coloraxis": {
           "colorbar": {
            "outlinewidth": 0,
            "ticks": ""
           }
          },
          "colorscale": {
           "diverging": [
            [
             0,
             "#8e0152"
            ],
            [
             0.1,
             "#c51b7d"
            ],
            [
             0.2,
             "#de77ae"
            ],
            [
             0.3,
             "#f1b6da"
            ],
            [
             0.4,
             "#fde0ef"
            ],
            [
             0.5,
             "#f7f7f7"
            ],
            [
             0.6,
             "#e6f5d0"
            ],
            [
             0.7,
             "#b8e186"
            ],
            [
             0.8,
             "#7fbc41"
            ],
            [
             0.9,
             "#4d9221"
            ],
            [
             1,
             "#276419"
            ]
           ],
           "sequential": [
            [
             0,
             "#0d0887"
            ],
            [
             0.1111111111111111,
             "#46039f"
            ],
            [
             0.2222222222222222,
             "#7201a8"
            ],
            [
             0.3333333333333333,
             "#9c179e"
            ],
            [
             0.4444444444444444,
             "#bd3786"
            ],
            [
             0.5555555555555556,
             "#d8576b"
            ],
            [
             0.6666666666666666,
             "#ed7953"
            ],
            [
             0.7777777777777778,
             "#fb9f3a"
            ],
            [
             0.8888888888888888,
             "#fdca26"
            ],
            [
             1,
             "#f0f921"
            ]
           ],
           "sequentialminus": [
            [
             0,
             "#0d0887"
            ],
            [
             0.1111111111111111,
             "#46039f"
            ],
            [
             0.2222222222222222,
             "#7201a8"
            ],
            [
             0.3333333333333333,
             "#9c179e"
            ],
            [
             0.4444444444444444,
             "#bd3786"
            ],
            [
             0.5555555555555556,
             "#d8576b"
            ],
            [
             0.6666666666666666,
             "#ed7953"
            ],
            [
             0.7777777777777778,
             "#fb9f3a"
            ],
            [
             0.8888888888888888,
             "#fdca26"
            ],
            [
             1,
             "#f0f921"
            ]
           ]
          },
          "colorway": [
           "#636efa",
           "#EF553B",
           "#00cc96",
           "#ab63fa",
           "#FFA15A",
           "#19d3f3",
           "#FF6692",
           "#B6E880",
           "#FF97FF",
           "#FECB52"
          ],
          "font": {
           "color": "#2a3f5f"
          },
          "geo": {
           "bgcolor": "white",
           "lakecolor": "white",
           "landcolor": "#E5ECF6",
           "showlakes": true,
           "showland": true,
           "subunitcolor": "white"
          },
          "hoverlabel": {
           "align": "left"
          },
          "hovermode": "closest",
          "mapbox": {
           "style": "light"
          },
          "paper_bgcolor": "white",
          "plot_bgcolor": "#E5ECF6",
          "polar": {
           "angularaxis": {
            "gridcolor": "white",
            "linecolor": "white",
            "ticks": ""
           },
           "bgcolor": "#E5ECF6",
           "radialaxis": {
            "gridcolor": "white",
            "linecolor": "white",
            "ticks": ""
           }
          },
          "scene": {
           "xaxis": {
            "backgroundcolor": "#E5ECF6",
            "gridcolor": "white",
            "gridwidth": 2,
            "linecolor": "white",
            "showbackground": true,
            "ticks": "",
            "zerolinecolor": "white"
           },
           "yaxis": {
            "backgroundcolor": "#E5ECF6",
            "gridcolor": "white",
            "gridwidth": 2,
            "linecolor": "white",
            "showbackground": true,
            "ticks": "",
            "zerolinecolor": "white"
           },
           "zaxis": {
            "backgroundcolor": "#E5ECF6",
            "gridcolor": "white",
            "gridwidth": 2,
            "linecolor": "white",
            "showbackground": true,
            "ticks": "",
            "zerolinecolor": "white"
           }
          },
          "shapedefaults": {
           "line": {
            "color": "#2a3f5f"
           }
          },
          "ternary": {
           "aaxis": {
            "gridcolor": "white",
            "linecolor": "white",
            "ticks": ""
           },
           "baxis": {
            "gridcolor": "white",
            "linecolor": "white",
            "ticks": ""
           },
           "bgcolor": "#E5ECF6",
           "caxis": {
            "gridcolor": "white",
            "linecolor": "white",
            "ticks": ""
           }
          },
          "title": {
           "x": 0.05
          },
          "xaxis": {
           "automargin": true,
           "gridcolor": "white",
           "linecolor": "white",
           "ticks": "",
           "title": {
            "standoff": 15
           },
           "zerolinecolor": "white",
           "zerolinewidth": 2
          },
          "yaxis": {
           "automargin": true,
           "gridcolor": "white",
           "linecolor": "white",
           "ticks": "",
           "title": {
            "standoff": 15
           },
           "zerolinecolor": "white",
           "zerolinewidth": 2
          }
         }
        },
        "xaxis": {
         "anchor": "y",
         "domain": [
          0,
          1
         ],
         "title": {
          "text": "salary_middle"
         }
        },
        "yaxis": {
         "anchor": "x",
         "domain": [
          0,
          1
         ],
         "title": {
          "text": "count"
         }
        }
       }
      }
     },
     "metadata": {},
     "output_type": "display_data"
    }
   ],
   "source": [
    "import plotly_express as px\n",
    "import seaborn as sns\n",
    "\n",
    "\n",
    "px.histogram(df_for_eda, x='salary_middle', color='office_program')"
   ]
  },
  {
   "cell_type": "code",
   "execution_count": 473,
   "metadata": {},
   "outputs": [
    {
     "data": {
      "text/plain": [
       "<Axes: xlabel='salary_middle', ylabel='experience_cat'>"
      ]
     },
     "execution_count": 473,
     "metadata": {},
     "output_type": "execute_result"
    },
    {
     "data": {
      "image/png": "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",
      "text/plain": [
       "<Figure size 640x480 with 1 Axes>"
      ]
     },
     "metadata": {},
     "output_type": "display_data"
    }
   ],
   "source": [
    "sns.scatterplot(data=df_for_eda, x='salary_middle', y='experience_cat')"
   ]
  },
  {
   "cell_type": "code",
   "execution_count": 476,
   "metadata": {},
   "outputs": [
    {
     "data": {
      "text/html": [
       "<div>\n",
       "<style scoped>\n",
       "    .dataframe tbody tr th:only-of-type {\n",
       "        vertical-align: middle;\n",
       "    }\n",
       "\n",
       "    .dataframe tbody tr th {\n",
       "        vertical-align: top;\n",
       "    }\n",
       "\n",
       "    .dataframe thead th {\n",
       "        text-align: right;\n",
       "    }\n",
       "</style>\n",
       "<table border=\"1\" class=\"dataframe\">\n",
       "  <thead>\n",
       "    <tr style=\"text-align: right;\">\n",
       "      <th></th>\n",
       "      <th>mean</th>\n",
       "    </tr>\n",
       "    <tr>\n",
       "      <th>language</th>\n",
       "      <th></th>\n",
       "    </tr>\n",
       "  </thead>\n",
       "  <tbody>\n",
       "    <tr>\n",
       "      <th>0</th>\n",
       "      <td>139112</td>\n",
       "    </tr>\n",
       "    <tr>\n",
       "      <th>1</th>\n",
       "      <td>139642</td>\n",
       "    </tr>\n",
       "  </tbody>\n",
       "</table>\n",
       "</div>"
      ],
      "text/plain": [
       "            mean\n",
       "language        \n",
       "0         139112\n",
       "1         139642"
      ]
     },
     "execution_count": 476,
     "metadata": {},
     "output_type": "execute_result"
    }
   ],
   "source": [
    "df_for_eda.groupby('language').agg(\n",
    "    mean=('salary_middle', 'mean')\n",
    ").astype(int)"
   ]
  },
  {
   "cell_type": "code",
   "execution_count": null,
   "metadata": {},
   "outputs": [],
   "source": [
    "df_for_eda[df_for_eda.skills ]"
   ]
  },
  {
   "cell_type": "code",
   "execution_count": 397,
   "metadata": {},
   "outputs": [
    {
     "data": {
      "text/html": [
       "<div>\n",
       "<style scoped>\n",
       "    .dataframe tbody tr th:only-of-type {\n",
       "        vertical-align: middle;\n",
       "    }\n",
       "\n",
       "    .dataframe tbody tr th {\n",
       "        vertical-align: top;\n",
       "    }\n",
       "\n",
       "    .dataframe thead th {\n",
       "        text-align: right;\n",
       "    }\n",
       "</style>\n",
       "<table border=\"1\" class=\"dataframe\">\n",
       "  <thead>\n",
       "    <tr style=\"text-align: right;\">\n",
       "      <th></th>\n",
       "      <th>0</th>\n",
       "      <th>1</th>\n",
       "      <th>2</th>\n",
       "      <th>3</th>\n",
       "      <th>4</th>\n",
       "    </tr>\n",
       "  </thead>\n",
       "  <tbody>\n",
       "    <tr>\n",
       "      <th>language</th>\n",
       "      <td>0</td>\n",
       "      <td>0</td>\n",
       "      <td>0</td>\n",
       "      <td>0</td>\n",
       "      <td>0</td>\n",
       "    </tr>\n",
       "    <tr>\n",
       "      <th>office_program</th>\n",
       "      <td>0</td>\n",
       "      <td>1</td>\n",
       "      <td>1</td>\n",
       "      <td>1</td>\n",
       "      <td>1</td>\n",
       "    </tr>\n",
       "    <tr>\n",
       "      <th>coding</th>\n",
       "      <td>0</td>\n",
       "      <td>1</td>\n",
       "      <td>0</td>\n",
       "      <td>0</td>\n",
       "      <td>0</td>\n",
       "    </tr>\n",
       "    <tr>\n",
       "      <th>prompting</th>\n",
       "      <td>0</td>\n",
       "      <td>0</td>\n",
       "      <td>0</td>\n",
       "      <td>0</td>\n",
       "      <td>0</td>\n",
       "    </tr>\n",
       "    <tr>\n",
       "      <th>software</th>\n",
       "      <td>0</td>\n",
       "      <td>0</td>\n",
       "      <td>0</td>\n",
       "      <td>0</td>\n",
       "      <td>0</td>\n",
       "    </tr>\n",
       "    <tr>\n",
       "      <th>visualization</th>\n",
       "      <td>0</td>\n",
       "      <td>0</td>\n",
       "      <td>0</td>\n",
       "      <td>0</td>\n",
       "      <td>0</td>\n",
       "    </tr>\n",
       "    <tr>\n",
       "      <th>business_architecture</th>\n",
       "      <td>0</td>\n",
       "      <td>0</td>\n",
       "      <td>0</td>\n",
       "      <td>0</td>\n",
       "      <td>0</td>\n",
       "    </tr>\n",
       "    <tr>\n",
       "      <th>1C_salary</th>\n",
       "      <td>0</td>\n",
       "      <td>0</td>\n",
       "      <td>0</td>\n",
       "      <td>0</td>\n",
       "      <td>0</td>\n",
       "    </tr>\n",
       "    <tr>\n",
       "      <th>1C</th>\n",
       "      <td>1</td>\n",
       "      <td>0</td>\n",
       "      <td>0</td>\n",
       "      <td>0</td>\n",
       "      <td>1</td>\n",
       "    </tr>\n",
       "    <tr>\n",
       "      <th>other</th>\n",
       "      <td>0</td>\n",
       "      <td>0</td>\n",
       "      <td>0</td>\n",
       "      <td>0</td>\n",
       "      <td>0</td>\n",
       "    </tr>\n",
       "    <tr>\n",
       "      <th>domain_knowledge</th>\n",
       "      <td>0</td>\n",
       "      <td>0</td>\n",
       "      <td>0</td>\n",
       "      <td>0</td>\n",
       "      <td>0</td>\n",
       "    </tr>\n",
       "    <tr>\n",
       "      <th>experience_cat</th>\n",
       "      <td>1</td>\n",
       "      <td>0</td>\n",
       "      <td>1</td>\n",
       "      <td>0</td>\n",
       "      <td>2</td>\n",
       "    </tr>\n",
       "    <tr>\n",
       "      <th>salary_middle</th>\n",
       "      <td>90000</td>\n",
       "      <td>54500</td>\n",
       "      <td>105000</td>\n",
       "      <td>70000</td>\n",
       "      <td>200000</td>\n",
       "    </tr>\n",
       "  </tbody>\n",
       "</table>\n",
       "</div>"
      ],
      "text/plain": [
       "                           0      1       2      3       4\n",
       "language                   0      0       0      0       0\n",
       "office_program             0      1       1      1       1\n",
       "coding                     0      1       0      0       0\n",
       "prompting                  0      0       0      0       0\n",
       "software                   0      0       0      0       0\n",
       "visualization              0      0       0      0       0\n",
       "business_architecture      0      0       0      0       0\n",
       "1C_salary                  0      0       0      0       0\n",
       "1C                         1      0       0      0       1\n",
       "other                      0      0       0      0       0\n",
       "domain_knowledge           0      0       0      0       0\n",
       "experience_cat             1      0       1      0       2\n",
       "salary_middle          90000  54500  105000  70000  200000"
      ]
     },
     "execution_count": 397,
     "metadata": {},
     "output_type": "execute_result"
    }
   ],
   "source": [
    "df_for_eda.astype(int).head().T"
   ]
  },
  {
   "cell_type": "code",
   "execution_count": 404,
   "metadata": {},
   "outputs": [
    {
     "data": {
      "text/html": [
       "<div>\n",
       "<style scoped>\n",
       "    .dataframe tbody tr th:only-of-type {\n",
       "        vertical-align: middle;\n",
       "    }\n",
       "\n",
       "    .dataframe tbody tr th {\n",
       "        vertical-align: top;\n",
       "    }\n",
       "\n",
       "    .dataframe thead th {\n",
       "        text-align: right;\n",
       "    }\n",
       "</style>\n",
       "<table border=\"1\" class=\"dataframe\">\n",
       "  <thead>\n",
       "    <tr style=\"text-align: right;\">\n",
       "      <th></th>\n",
       "      <th>25</th>\n",
       "      <th>75</th>\n",
       "      <th>168</th>\n",
       "    </tr>\n",
       "  </thead>\n",
       "  <tbody>\n",
       "    <tr>\n",
       "      <th>Unnamed: 0</th>\n",
       "      <td>14547</td>\n",
       "      <td>15191</td>\n",
       "      <td>16779</td>\n",
       "    </tr>\n",
       "    <tr>\n",
       "      <th>vacancy_name</th>\n",
       "      <td>Аналитик социальных медиа</td>\n",
       "      <td>Маркетолог-аналитик</td>\n",
       "      <td>Consultant/Marketing Analyst</td>\n",
       "    </tr>\n",
       "    <tr>\n",
       "      <th>area_id</th>\n",
       "      <td>1</td>\n",
       "      <td>1</td>\n",
       "      <td>1</td>\n",
       "    </tr>\n",
       "    <tr>\n",
       "      <th>area_name</th>\n",
       "      <td>Москва</td>\n",
       "      <td>Москва</td>\n",
       "      <td>Москва</td>\n",
       "    </tr>\n",
       "    <tr>\n",
       "      <th>published_at</th>\n",
       "      <td>2024-01-22 11:25:25+03:00</td>\n",
       "      <td>2024-01-21 10:28:11+03:00</td>\n",
       "      <td>2024-01-21 20:30:51+03:00</td>\n",
       "    </tr>\n",
       "    <tr>\n",
       "      <th>created_at</th>\n",
       "      <td>2024-01-22 11:25:25+03:00</td>\n",
       "      <td>2024-01-21 10:28:11+03:00</td>\n",
       "      <td>2024-01-21 20:30:51+03:00</td>\n",
       "    </tr>\n",
       "    <tr>\n",
       "      <th>employer_id</th>\n",
       "      <td>1491238</td>\n",
       "      <td>3271838</td>\n",
       "      <td>1825</td>\n",
       "    </tr>\n",
       "    <tr>\n",
       "      <th>employer_name</th>\n",
       "      <td>Сидорин Лаб</td>\n",
       "      <td>Интелмед</td>\n",
       "      <td>GfK Rus</td>\n",
       "    </tr>\n",
       "    <tr>\n",
       "      <th>employer_link</th>\n",
       "      <td>https://hh.ru/employer/1491238</td>\n",
       "      <td>https://hh.ru/employer/3271838</td>\n",
       "      <td>https://hh.ru/employer/1825</td>\n",
       "    </tr>\n",
       "    <tr>\n",
       "      <th>city</th>\n",
       "      <td>1</td>\n",
       "      <td>1</td>\n",
       "      <td>1</td>\n",
       "    </tr>\n",
       "    <tr>\n",
       "      <th>schedule</th>\n",
       "      <td>Полный день</td>\n",
       "      <td>Полный день</td>\n",
       "      <td>Полный день</td>\n",
       "    </tr>\n",
       "    <tr>\n",
       "      <th>experience</th>\n",
       "      <td>От 1 года до 3 лет</td>\n",
       "      <td>От 3 до 6 лет</td>\n",
       "      <td>От 3 до 6 лет</td>\n",
       "    </tr>\n",
       "    <tr>\n",
       "      <th>employment</th>\n",
       "      <td>Полная занятость</td>\n",
       "      <td>Полная занятость</td>\n",
       "      <td>Полная занятость</td>\n",
       "    </tr>\n",
       "    <tr>\n",
       "      <th>alternate_url</th>\n",
       "      <td>https://hh.ru/vacancy/92002919</td>\n",
       "      <td>https://hh.ru/vacancy/91619993</td>\n",
       "      <td>https://hh.ru/vacancy/90234969</td>\n",
       "    </tr>\n",
       "    <tr>\n",
       "      <th>description</th>\n",
       "      <td>NaN</td>\n",
       "      <td>NaN</td>\n",
       "      <td>NaN</td>\n",
       "    </tr>\n",
       "    <tr>\n",
       "      <th>index</th>\n",
       "      <td>5150</td>\n",
       "      <td>5311</td>\n",
       "      <td>5708</td>\n",
       "    </tr>\n",
       "    <tr>\n",
       "      <th>from</th>\n",
       "      <td>80000</td>\n",
       "      <td>150000</td>\n",
       "      <td>110000</td>\n",
       "    </tr>\n",
       "    <tr>\n",
       "      <th>to</th>\n",
       "      <td>0</td>\n",
       "      <td>180000</td>\n",
       "      <td>135000</td>\n",
       "    </tr>\n",
       "    <tr>\n",
       "      <th>currency</th>\n",
       "      <td>RUR</td>\n",
       "      <td>RUR</td>\n",
       "      <td>RUR</td>\n",
       "    </tr>\n",
       "    <tr>\n",
       "      <th>gross</th>\n",
       "      <td>False</td>\n",
       "      <td>False</td>\n",
       "      <td>True</td>\n",
       "    </tr>\n",
       "    <tr>\n",
       "      <th>role_id</th>\n",
       "      <td>10</td>\n",
       "      <td>10</td>\n",
       "      <td>10</td>\n",
       "    </tr>\n",
       "    <tr>\n",
       "      <th>name</th>\n",
       "      <td>Аналитик</td>\n",
       "      <td>Аналитик</td>\n",
       "      <td>Аналитик</td>\n",
       "    </tr>\n",
       "    <tr>\n",
       "      <th>role_name</th>\n",
       "      <td>Аналитик</td>\n",
       "      <td>Аналитик</td>\n",
       "      <td>Аналитик</td>\n",
       "    </tr>\n",
       "    <tr>\n",
       "      <th>salary_middle</th>\n",
       "      <td>80000.0</td>\n",
       "      <td>165000.0</td>\n",
       "      <td>122500.0</td>\n",
       "    </tr>\n",
       "    <tr>\n",
       "      <th>url_description</th>\n",
       "      <td>Привет!\\nМы Сидорин Лаб — агентство по управле...</td>\n",
       "      <td>Компания \"Интелмед\" ищет в свою команду Маркет...</td>\n",
       "      <td>About GfK\\nThe GfK Group is one of the largest...</td>\n",
       "    </tr>\n",
       "    <tr>\n",
       "      <th>vacancy_description</th>\n",
       "      <td>Привет!\\nМы Сидорин Лаб — агентство по управле...</td>\n",
       "      <td>Компания \"Интелмед\" ищет в свою команду Маркет...</td>\n",
       "      <td>About GfK\\nThe GfK Group is one of the largest...</td>\n",
       "    </tr>\n",
       "    <tr>\n",
       "      <th>description_len</th>\n",
       "      <td>2748</td>\n",
       "      <td>2490</td>\n",
       "      <td>1880</td>\n",
       "    </tr>\n",
       "    <tr>\n",
       "      <th>gpt_output_skills</th>\n",
       "      <td>MS PowerPoint; MS Excel; Social Media Marketin...</td>\n",
       "      <td>Microsoft Office; Word; Excel; B2B marketing r...</td>\n",
       "      <td>Excel; SQL; market research; analytics; data q...</td>\n",
       "    </tr>\n",
       "    <tr>\n",
       "      <th>language</th>\n",
       "      <td>0</td>\n",
       "      <td>0</td>\n",
       "      <td>0</td>\n",
       "    </tr>\n",
       "    <tr>\n",
       "      <th>office_program</th>\n",
       "      <td>0</td>\n",
       "      <td>1</td>\n",
       "      <td>1</td>\n",
       "    </tr>\n",
       "    <tr>\n",
       "      <th>coding</th>\n",
       "      <td>0</td>\n",
       "      <td>0</td>\n",
       "      <td>0</td>\n",
       "    </tr>\n",
       "    <tr>\n",
       "      <th>prompting</th>\n",
       "      <td>0</td>\n",
       "      <td>0</td>\n",
       "      <td>0</td>\n",
       "    </tr>\n",
       "    <tr>\n",
       "      <th>software</th>\n",
       "      <td>0</td>\n",
       "      <td>0</td>\n",
       "      <td>0</td>\n",
       "    </tr>\n",
       "    <tr>\n",
       "      <th>visualization</th>\n",
       "      <td>1</td>\n",
       "      <td>0</td>\n",
       "      <td>0</td>\n",
       "    </tr>\n",
       "    <tr>\n",
       "      <th>business_architecture</th>\n",
       "      <td>0</td>\n",
       "      <td>0</td>\n",
       "      <td>0</td>\n",
       "    </tr>\n",
       "    <tr>\n",
       "      <th>1C_salary</th>\n",
       "      <td>0</td>\n",
       "      <td>0</td>\n",
       "      <td>0</td>\n",
       "    </tr>\n",
       "    <tr>\n",
       "      <th>1C</th>\n",
       "      <td>0</td>\n",
       "      <td>0</td>\n",
       "      <td>0</td>\n",
       "    </tr>\n",
       "    <tr>\n",
       "      <th>other</th>\n",
       "      <td>0</td>\n",
       "      <td>0</td>\n",
       "      <td>0</td>\n",
       "    </tr>\n",
       "    <tr>\n",
       "      <th>domain_knowledge</th>\n",
       "      <td>0</td>\n",
       "      <td>0</td>\n",
       "      <td>0</td>\n",
       "    </tr>\n",
       "    <tr>\n",
       "      <th>experience_cat</th>\n",
       "      <td>1</td>\n",
       "      <td>2</td>\n",
       "      <td>2</td>\n",
       "    </tr>\n",
       "  </tbody>\n",
       "</table>\n",
       "</div>"
      ],
      "text/plain": [
       "                                                                     25   \\\n",
       "Unnamed: 0                                                         14547   \n",
       "vacancy_name                                   Аналитик социальных медиа   \n",
       "area_id                                                                1   \n",
       "area_name                                                         Москва   \n",
       "published_at                                   2024-01-22 11:25:25+03:00   \n",
       "created_at                                     2024-01-22 11:25:25+03:00   \n",
       "employer_id                                                      1491238   \n",
       "employer_name                                                Сидорин Лаб   \n",
       "employer_link                             https://hh.ru/employer/1491238   \n",
       "city                                                                   1   \n",
       "schedule                                                     Полный день   \n",
       "experience                                            От 1 года до 3 лет   \n",
       "employment                                              Полная занятость   \n",
       "alternate_url                             https://hh.ru/vacancy/92002919   \n",
       "description                                                          NaN   \n",
       "index                                                               5150   \n",
       "from                                                               80000   \n",
       "to                                                                     0   \n",
       "currency                                                             RUR   \n",
       "gross                                                              False   \n",
       "role_id                                                               10   \n",
       "name                                                            Аналитик   \n",
       "role_name                                                       Аналитик   \n",
       "salary_middle                                                    80000.0   \n",
       "url_description        Привет!\\nМы Сидорин Лаб — агентство по управле...   \n",
       "vacancy_description    Привет!\\nМы Сидорин Лаб — агентство по управле...   \n",
       "description_len                                                     2748   \n",
       "gpt_output_skills      MS PowerPoint; MS Excel; Social Media Marketin...   \n",
       "language                                                               0   \n",
       "office_program                                                         0   \n",
       "coding                                                                 0   \n",
       "prompting                                                              0   \n",
       "software                                                               0   \n",
       "visualization                                                          1   \n",
       "business_architecture                                                  0   \n",
       "1C_salary                                                              0   \n",
       "1C                                                                     0   \n",
       "other                                                                  0   \n",
       "domain_knowledge                                                       0   \n",
       "experience_cat                                                         1   \n",
       "\n",
       "                                                                     75   \\\n",
       "Unnamed: 0                                                         15191   \n",
       "vacancy_name                                         Маркетолог-аналитик   \n",
       "area_id                                                                1   \n",
       "area_name                                                         Москва   \n",
       "published_at                                   2024-01-21 10:28:11+03:00   \n",
       "created_at                                     2024-01-21 10:28:11+03:00   \n",
       "employer_id                                                      3271838   \n",
       "employer_name                                                   Интелмед   \n",
       "employer_link                             https://hh.ru/employer/3271838   \n",
       "city                                                                   1   \n",
       "schedule                                                     Полный день   \n",
       "experience                                                 От 3 до 6 лет   \n",
       "employment                                              Полная занятость   \n",
       "alternate_url                             https://hh.ru/vacancy/91619993   \n",
       "description                                                          NaN   \n",
       "index                                                               5311   \n",
       "from                                                              150000   \n",
       "to                                                                180000   \n",
       "currency                                                             RUR   \n",
       "gross                                                              False   \n",
       "role_id                                                               10   \n",
       "name                                                            Аналитик   \n",
       "role_name                                                       Аналитик   \n",
       "salary_middle                                                   165000.0   \n",
       "url_description        Компания \"Интелмед\" ищет в свою команду Маркет...   \n",
       "vacancy_description    Компания \"Интелмед\" ищет в свою команду Маркет...   \n",
       "description_len                                                     2490   \n",
       "gpt_output_skills      Microsoft Office; Word; Excel; B2B marketing r...   \n",
       "language                                                               0   \n",
       "office_program                                                         1   \n",
       "coding                                                                 0   \n",
       "prompting                                                              0   \n",
       "software                                                               0   \n",
       "visualization                                                          0   \n",
       "business_architecture                                                  0   \n",
       "1C_salary                                                              0   \n",
       "1C                                                                     0   \n",
       "other                                                                  0   \n",
       "domain_knowledge                                                       0   \n",
       "experience_cat                                                         2   \n",
       "\n",
       "                                                                     168  \n",
       "Unnamed: 0                                                         16779  \n",
       "vacancy_name                                Consultant/Marketing Analyst  \n",
       "area_id                                                                1  \n",
       "area_name                                                         Москва  \n",
       "published_at                                   2024-01-21 20:30:51+03:00  \n",
       "created_at                                     2024-01-21 20:30:51+03:00  \n",
       "employer_id                                                         1825  \n",
       "employer_name                                                    GfK Rus  \n",
       "employer_link                                https://hh.ru/employer/1825  \n",
       "city                                                                   1  \n",
       "schedule                                                     Полный день  \n",
       "experience                                                 От 3 до 6 лет  \n",
       "employment                                              Полная занятость  \n",
       "alternate_url                             https://hh.ru/vacancy/90234969  \n",
       "description                                                          NaN  \n",
       "index                                                               5708  \n",
       "from                                                              110000  \n",
       "to                                                                135000  \n",
       "currency                                                             RUR  \n",
       "gross                                                               True  \n",
       "role_id                                                               10  \n",
       "name                                                            Аналитик  \n",
       "role_name                                                       Аналитик  \n",
       "salary_middle                                                   122500.0  \n",
       "url_description        About GfK\\nThe GfK Group is one of the largest...  \n",
       "vacancy_description    About GfK\\nThe GfK Group is one of the largest...  \n",
       "description_len                                                     1880  \n",
       "gpt_output_skills      Excel; SQL; market research; analytics; data q...  \n",
       "language                                                               0  \n",
       "office_program                                                         1  \n",
       "coding                                                                 0  \n",
       "prompting                                                              0  \n",
       "software                                                               0  \n",
       "visualization                                                          0  \n",
       "business_architecture                                                  0  \n",
       "1C_salary                                                              0  \n",
       "1C                                                                     0  \n",
       "other                                                                  0  \n",
       "domain_knowledge                                                       0  \n",
       "experience_cat                                                         2  "
      ]
     },
     "execution_count": 404,
     "metadata": {},
     "output_type": "execute_result"
    }
   ],
   "source": [
    "df_for_gpt_copy[df_for_gpt_copy.gpt_output_skills.str.contains('nglish') == 1].T"
=======
   "execution_count": 404,
   "metadata": {},
   "outputs": [],
   "source": [
    "test_df = df_for_gpt[['vacancy_name', 'vacancy_description']].head(10)"
>>>>>>> c779717f6ef5a36e542c605b60de5c668c241dd0
   ]
  },
  {
   "cell_type": "code",
<<<<<<< HEAD
   "execution_count": 409,
=======
   "execution_count": 406,
   "metadata": {},
   "outputs": [
    {
     "name": "stderr",
     "output_type": "stream",
     "text": [
      "Processing: 100%|██████████| 10/10 [00:15<00:00,  1.53s/it]\n"
     ]
    }
   ],
   "source": [
    "test_df['output'] = test_df['vacancy_description'].progress_apply(lambda x: extract_key_skills_requirements(x, prompt) )"
   ]
  },
  {
   "cell_type": "code",
   "execution_count": 407,
>>>>>>> c779717f6ef5a36e542c605b60de5c668c241dd0
   "metadata": {},
   "outputs": [
    {
     "data": {
      "text/plain": [
<<<<<<< HEAD
       "'MS PowerPoint; MS Excel; Social Media Marketing; Digital Marketing; Marketing Analysis; English language'"
      ]
     },
     "execution_count": 409,
=======
       "0    1C reporting;Excel reporting;Report and presen...\n",
       "1    Data processing;Econometric modeling;SQL query...\n",
       "2    data analysis;MS Excel;analytical skills;sales...\n",
       "3    Data analysis;Excel;Presentation preparation;P...\n",
       "4    Товарная матрица;Анализ продаж и остатков;Рота...\n",
       "5    Data analysis;Data visualization;Presentation ...\n",
       "6    Control of applications, invoices; work with p...\n",
       "7          Excel;Word;Outlook;Powerpoint;R-Тариф;ЭТРАН\n",
       "8    Data Analyst;Data analysis;Data visualization;...\n",
       "9    Data/text mining;Linguistic analysis;Data coll...\n",
       "Name: output, dtype: object"
      ]
     },
     "execution_count": 407,
>>>>>>> c779717f6ef5a36e542c605b60de5c668c241dd0
     "metadata": {},
     "output_type": "execute_result"
    }
   ],
   "source": [
<<<<<<< HEAD
    "df_for_gpt_copy[df_for_gpt_copy.gpt_output_skills.str.contains('nglish') == 1].gpt_output_skills[25]"
=======
    "test_df['output']"
>>>>>>> c779717f6ef5a36e542c605b60de5c668c241dd0
   ]
  },
  {
   "cell_type": "code",
<<<<<<< HEAD
   "execution_count": null,
   "metadata": {},
   "outputs": [],
   "source": []
  },
  {
   "cell_type": "code",
   "execution_count": 478,
   "metadata": {},
   "outputs": [],
   "source": [
    "\n",
    "df_for_gpt_copy[ ['url_description', 'gpt_output_skills','language', 'office_program','coding', 'prompting', 'software', 'visualization',\n",
    "       'business_architecture', '1C_salary', '1C', 'other','domain_knowledge', 'experience_cat','salary_middle'] ].to_csv(('/Users/igorrudakov/Desktop/params.csv'))\n"
=======
   "execution_count": 412,
   "metadata": {},
   "outputs": [
    {
     "data": {
      "text/plain": [
       "['Control of applications, invoices',\n",
       " ' work with primary accounting documentation',\n",
       " ' contract management',\n",
       " ' accounting of completed work',\n",
       " ' 1C ERP',\n",
       " ' 1C UPP',\n",
       " ' payment account management',\n",
       " ' documentation management',\n",
       " ' database work',\n",
       " ' report preparation skills.']"
      ]
     },
     "execution_count": 412,
     "metadata": {},
     "output_type": "execute_result"
    }
   ],
   "source": [
    "test_df['output'][6].split(';')"
   ]
  },
  {
   "cell_type": "code",
   "execution_count": 312,
   "metadata": {},
   "outputs": [
    {
     "data": {
      "text/plain": [
       "'{\"1C\": \"software\", \"Excel\": \"software\", \"PowerPoint\": \"software\", \"Power BI\": \"software\", \"MS Office\": \"software\", \"communication skills\": \"communication\", \"multitasking\": \"general\", \"analytical thinking\": \"general\", \"English\": \"language\", \"Russian\": \"language\"}'"
      ]
     },
     "execution_count": 312,
     "metadata": {},
     "output_type": "execute_result"
    }
   ],
   "source": [
    "test_df['output'][0].replace(\"'\",'\"')"
   ]
  },
  {
   "cell_type": "code",
   "execution_count": 313,
   "metadata": {},
   "outputs": [],
   "source": [
    "import json\n",
    "\n",
    "# Your string\n",
    "input_string = test_df['output'][0].replace(\"'\",'\"')\n",
    "# input_string\n",
    "# Parse the string into a dictionary\n",
    "parsed_dict = json.loads(input_string)\n",
    "\n",
    "# Now 'parsed_dict' is a Python dictionary\n",
    "parsed_dict\n"
   ]
  },
  {
   "cell_type": "code",
   "execution_count": 314,
   "metadata": {},
   "outputs": [
    {
     "data": {
      "text/plain": [
       "{'1C': 'software',\n",
       " 'Excel': 'software',\n",
       " 'PowerPoint': 'software',\n",
       " 'Power BI': 'software',\n",
       " 'MS Office': 'software',\n",
       " 'communication skills': 'communication',\n",
       " 'multitasking': 'general',\n",
       " 'analytical thinking': 'general',\n",
       " 'English': 'language',\n",
       " 'Russian': 'language'}"
      ]
     },
     "execution_count": 314,
     "metadata": {},
     "output_type": "execute_result"
    }
   ],
   "source": [
    "parsed_dict"
   ]
  },
  {
   "cell_type": "code",
   "execution_count": 316,
   "metadata": {},
   "outputs": [
    {
     "ename": "JSONDecodeError",
     "evalue": "Extra data: line 1 column 79 (char 78)",
     "output_type": "error",
     "traceback": [
      "\u001b[0;31m---------------------------------------------------------------------------\u001b[0m",
      "\u001b[0;31mJSONDecodeError\u001b[0m                           Traceback (most recent call last)",
      "Cell \u001b[0;32mIn[316], line 2\u001b[0m\n\u001b[1;32m      1\u001b[0m \u001b[38;5;66;03m# test_df['output'] = test_df['output'].apply(lambda x: x.replace(\"'\",'\"') )\u001b[39;00m\n\u001b[0;32m----> 2\u001b[0m test_df[\u001b[38;5;124m'\u001b[39m\u001b[38;5;124moutput\u001b[39m\u001b[38;5;124m'\u001b[39m] \u001b[38;5;241m=\u001b[39m \u001b[43mtest_df\u001b[49m\u001b[43m[\u001b[49m\u001b[38;5;124;43m'\u001b[39;49m\u001b[38;5;124;43moutput\u001b[39;49m\u001b[38;5;124;43m'\u001b[39;49m\u001b[43m]\u001b[49m\u001b[38;5;241;43m.\u001b[39;49m\u001b[43mapply\u001b[49m\u001b[43m(\u001b[49m\u001b[38;5;28;43;01mlambda\u001b[39;49;00m\u001b[43m \u001b[49m\u001b[43mx\u001b[49m\u001b[43m:\u001b[49m\u001b[43m \u001b[49m\u001b[43mjson\u001b[49m\u001b[38;5;241;43m.\u001b[39;49m\u001b[43mloads\u001b[49m\u001b[43m(\u001b[49m\u001b[43mx\u001b[49m\u001b[43m)\u001b[49m\u001b[43m \u001b[49m\u001b[43m)\u001b[49m\n\u001b[1;32m      3\u001b[0m test_df[\u001b[38;5;124m'\u001b[39m\u001b[38;5;124moutput\u001b[39m\u001b[38;5;124m'\u001b[39m]\n",
      "File \u001b[0;32m~/.pyenv/versions/3.10.0/envs/ds_course/lib/python3.10/site-packages/pandas/core/series.py:4771\u001b[0m, in \u001b[0;36mSeries.apply\u001b[0;34m(self, func, convert_dtype, args, **kwargs)\u001b[0m\n\u001b[1;32m   4661\u001b[0m \u001b[38;5;28;01mdef\u001b[39;00m \u001b[38;5;21mapply\u001b[39m(\n\u001b[1;32m   4662\u001b[0m     \u001b[38;5;28mself\u001b[39m,\n\u001b[1;32m   4663\u001b[0m     func: AggFuncType,\n\u001b[0;32m   (...)\u001b[0m\n\u001b[1;32m   4666\u001b[0m     \u001b[38;5;241m*\u001b[39m\u001b[38;5;241m*\u001b[39mkwargs,\n\u001b[1;32m   4667\u001b[0m ) \u001b[38;5;241m-\u001b[39m\u001b[38;5;241m>\u001b[39m DataFrame \u001b[38;5;241m|\u001b[39m Series:\n\u001b[1;32m   4668\u001b[0m \u001b[38;5;250m    \u001b[39m\u001b[38;5;124;03m\"\"\"\u001b[39;00m\n\u001b[1;32m   4669\u001b[0m \u001b[38;5;124;03m    Invoke function on values of Series.\u001b[39;00m\n\u001b[1;32m   4670\u001b[0m \n\u001b[0;32m   (...)\u001b[0m\n\u001b[1;32m   4769\u001b[0m \u001b[38;5;124;03m    dtype: float64\u001b[39;00m\n\u001b[1;32m   4770\u001b[0m \u001b[38;5;124;03m    \"\"\"\u001b[39;00m\n\u001b[0;32m-> 4771\u001b[0m     \u001b[38;5;28;01mreturn\u001b[39;00m \u001b[43mSeriesApply\u001b[49m\u001b[43m(\u001b[49m\u001b[38;5;28;43mself\u001b[39;49m\u001b[43m,\u001b[49m\u001b[43m \u001b[49m\u001b[43mfunc\u001b[49m\u001b[43m,\u001b[49m\u001b[43m \u001b[49m\u001b[43mconvert_dtype\u001b[49m\u001b[43m,\u001b[49m\u001b[43m \u001b[49m\u001b[43margs\u001b[49m\u001b[43m,\u001b[49m\u001b[43m \u001b[49m\u001b[43mkwargs\u001b[49m\u001b[43m)\u001b[49m\u001b[38;5;241;43m.\u001b[39;49m\u001b[43mapply\u001b[49m\u001b[43m(\u001b[49m\u001b[43m)\u001b[49m\n",
      "File \u001b[0;32m~/.pyenv/versions/3.10.0/envs/ds_course/lib/python3.10/site-packages/pandas/core/apply.py:1123\u001b[0m, in \u001b[0;36mSeriesApply.apply\u001b[0;34m(self)\u001b[0m\n\u001b[1;32m   1120\u001b[0m     \u001b[38;5;28;01mreturn\u001b[39;00m \u001b[38;5;28mself\u001b[39m\u001b[38;5;241m.\u001b[39mapply_str()\n\u001b[1;32m   1122\u001b[0m \u001b[38;5;66;03m# self.f is Callable\u001b[39;00m\n\u001b[0;32m-> 1123\u001b[0m \u001b[38;5;28;01mreturn\u001b[39;00m \u001b[38;5;28;43mself\u001b[39;49m\u001b[38;5;241;43m.\u001b[39;49m\u001b[43mapply_standard\u001b[49m\u001b[43m(\u001b[49m\u001b[43m)\u001b[49m\n",
      "File \u001b[0;32m~/.pyenv/versions/3.10.0/envs/ds_course/lib/python3.10/site-packages/pandas/core/apply.py:1174\u001b[0m, in \u001b[0;36mSeriesApply.apply_standard\u001b[0;34m(self)\u001b[0m\n\u001b[1;32m   1172\u001b[0m     \u001b[38;5;28;01melse\u001b[39;00m:\n\u001b[1;32m   1173\u001b[0m         values \u001b[38;5;241m=\u001b[39m obj\u001b[38;5;241m.\u001b[39mastype(\u001b[38;5;28mobject\u001b[39m)\u001b[38;5;241m.\u001b[39m_values\n\u001b[0;32m-> 1174\u001b[0m         mapped \u001b[38;5;241m=\u001b[39m \u001b[43mlib\u001b[49m\u001b[38;5;241;43m.\u001b[39;49m\u001b[43mmap_infer\u001b[49m\u001b[43m(\u001b[49m\n\u001b[1;32m   1175\u001b[0m \u001b[43m            \u001b[49m\u001b[43mvalues\u001b[49m\u001b[43m,\u001b[49m\n\u001b[1;32m   1176\u001b[0m \u001b[43m            \u001b[49m\u001b[43mf\u001b[49m\u001b[43m,\u001b[49m\n\u001b[1;32m   1177\u001b[0m \u001b[43m            \u001b[49m\u001b[43mconvert\u001b[49m\u001b[38;5;241;43m=\u001b[39;49m\u001b[38;5;28;43mself\u001b[39;49m\u001b[38;5;241;43m.\u001b[39;49m\u001b[43mconvert_dtype\u001b[49m\u001b[43m,\u001b[49m\n\u001b[1;32m   1178\u001b[0m \u001b[43m        \u001b[49m\u001b[43m)\u001b[49m\n\u001b[1;32m   1180\u001b[0m \u001b[38;5;28;01mif\u001b[39;00m \u001b[38;5;28mlen\u001b[39m(mapped) \u001b[38;5;129;01mand\u001b[39;00m \u001b[38;5;28misinstance\u001b[39m(mapped[\u001b[38;5;241m0\u001b[39m], ABCSeries):\n\u001b[1;32m   1181\u001b[0m     \u001b[38;5;66;03m# GH#43986 Need to do list(mapped) in order to get treated as nested\u001b[39;00m\n\u001b[1;32m   1182\u001b[0m     \u001b[38;5;66;03m#  See also GH#25959 regarding EA support\u001b[39;00m\n\u001b[1;32m   1183\u001b[0m     \u001b[38;5;28;01mreturn\u001b[39;00m obj\u001b[38;5;241m.\u001b[39m_constructor_expanddim(\u001b[38;5;28mlist\u001b[39m(mapped), index\u001b[38;5;241m=\u001b[39mobj\u001b[38;5;241m.\u001b[39mindex)\n",
      "File \u001b[0;32m~/.pyenv/versions/3.10.0/envs/ds_course/lib/python3.10/site-packages/pandas/_libs/lib.pyx:2924\u001b[0m, in \u001b[0;36mpandas._libs.lib.map_infer\u001b[0;34m()\u001b[0m\n",
      "Cell \u001b[0;32mIn[316], line 2\u001b[0m, in \u001b[0;36m<lambda>\u001b[0;34m(x)\u001b[0m\n\u001b[1;32m      1\u001b[0m \u001b[38;5;66;03m# test_df['output'] = test_df['output'].apply(lambda x: x.replace(\"'\",'\"') )\u001b[39;00m\n\u001b[0;32m----> 2\u001b[0m test_df[\u001b[38;5;124m'\u001b[39m\u001b[38;5;124moutput\u001b[39m\u001b[38;5;124m'\u001b[39m] \u001b[38;5;241m=\u001b[39m test_df[\u001b[38;5;124m'\u001b[39m\u001b[38;5;124moutput\u001b[39m\u001b[38;5;124m'\u001b[39m]\u001b[38;5;241m.\u001b[39mapply(\u001b[38;5;28;01mlambda\u001b[39;00m x: \u001b[43mjson\u001b[49m\u001b[38;5;241;43m.\u001b[39;49m\u001b[43mloads\u001b[49m\u001b[43m(\u001b[49m\u001b[43mx\u001b[49m\u001b[43m)\u001b[49m )\n\u001b[1;32m      3\u001b[0m test_df[\u001b[38;5;124m'\u001b[39m\u001b[38;5;124moutput\u001b[39m\u001b[38;5;124m'\u001b[39m]\n",
      "File \u001b[0;32m~/.pyenv/versions/3.10.0/lib/python3.10/json/__init__.py:346\u001b[0m, in \u001b[0;36mloads\u001b[0;34m(s, cls, object_hook, parse_float, parse_int, parse_constant, object_pairs_hook, **kw)\u001b[0m\n\u001b[1;32m    341\u001b[0m     s \u001b[38;5;241m=\u001b[39m s\u001b[38;5;241m.\u001b[39mdecode(detect_encoding(s), \u001b[38;5;124m'\u001b[39m\u001b[38;5;124msurrogatepass\u001b[39m\u001b[38;5;124m'\u001b[39m)\n\u001b[1;32m    343\u001b[0m \u001b[38;5;28;01mif\u001b[39;00m (\u001b[38;5;28mcls\u001b[39m \u001b[38;5;129;01mis\u001b[39;00m \u001b[38;5;28;01mNone\u001b[39;00m \u001b[38;5;129;01mand\u001b[39;00m object_hook \u001b[38;5;129;01mis\u001b[39;00m \u001b[38;5;28;01mNone\u001b[39;00m \u001b[38;5;129;01mand\u001b[39;00m\n\u001b[1;32m    344\u001b[0m         parse_int \u001b[38;5;129;01mis\u001b[39;00m \u001b[38;5;28;01mNone\u001b[39;00m \u001b[38;5;129;01mand\u001b[39;00m parse_float \u001b[38;5;129;01mis\u001b[39;00m \u001b[38;5;28;01mNone\u001b[39;00m \u001b[38;5;129;01mand\u001b[39;00m\n\u001b[1;32m    345\u001b[0m         parse_constant \u001b[38;5;129;01mis\u001b[39;00m \u001b[38;5;28;01mNone\u001b[39;00m \u001b[38;5;129;01mand\u001b[39;00m object_pairs_hook \u001b[38;5;129;01mis\u001b[39;00m \u001b[38;5;28;01mNone\u001b[39;00m \u001b[38;5;129;01mand\u001b[39;00m \u001b[38;5;129;01mnot\u001b[39;00m kw):\n\u001b[0;32m--> 346\u001b[0m     \u001b[38;5;28;01mreturn\u001b[39;00m \u001b[43m_default_decoder\u001b[49m\u001b[38;5;241;43m.\u001b[39;49m\u001b[43mdecode\u001b[49m\u001b[43m(\u001b[49m\u001b[43ms\u001b[49m\u001b[43m)\u001b[49m\n\u001b[1;32m    347\u001b[0m \u001b[38;5;28;01mif\u001b[39;00m \u001b[38;5;28mcls\u001b[39m \u001b[38;5;129;01mis\u001b[39;00m \u001b[38;5;28;01mNone\u001b[39;00m:\n\u001b[1;32m    348\u001b[0m     \u001b[38;5;28mcls\u001b[39m \u001b[38;5;241m=\u001b[39m JSONDecoder\n",
      "File \u001b[0;32m~/.pyenv/versions/3.10.0/lib/python3.10/json/decoder.py:340\u001b[0m, in \u001b[0;36mJSONDecoder.decode\u001b[0;34m(self, s, _w)\u001b[0m\n\u001b[1;32m    338\u001b[0m end \u001b[38;5;241m=\u001b[39m _w(s, end)\u001b[38;5;241m.\u001b[39mend()\n\u001b[1;32m    339\u001b[0m \u001b[38;5;28;01mif\u001b[39;00m end \u001b[38;5;241m!=\u001b[39m \u001b[38;5;28mlen\u001b[39m(s):\n\u001b[0;32m--> 340\u001b[0m     \u001b[38;5;28;01mraise\u001b[39;00m JSONDecodeError(\u001b[38;5;124m\"\u001b[39m\u001b[38;5;124mExtra data\u001b[39m\u001b[38;5;124m\"\u001b[39m, s, end)\n\u001b[1;32m    341\u001b[0m \u001b[38;5;28;01mreturn\u001b[39;00m obj\n",
      "\u001b[0;31mJSONDecodeError\u001b[0m: Extra data: line 1 column 79 (char 78)"
     ]
    }
   ],
   "source": [
    "# test_df['output'] = test_df['output'].apply(lambda x: x.replace(\"'\",'\"') )\n",
    "test_df['output'] = test_df['output'].apply(lambda x: json.loads(x) )\n",
    "# test_df['output']"
   ]
  },
  {
   "cell_type": "code",
   "execution_count": 321,
   "metadata": {},
   "outputs": [
    {
     "ename": "JSONDecodeError",
     "evalue": "Extra data: line 1 column 79 (char 78)",
     "output_type": "error",
     "traceback": [
      "\u001b[0;31m---------------------------------------------------------------------------\u001b[0m",
      "\u001b[0;31mJSONDecodeError\u001b[0m                           Traceback (most recent call last)",
      "Cell \u001b[0;32mIn[321], line 1\u001b[0m\n\u001b[0;32m----> 1\u001b[0m \u001b[43mjson\u001b[49m\u001b[38;5;241;43m.\u001b[39;49m\u001b[43mloads\u001b[49m\u001b[43m(\u001b[49m\u001b[43m \u001b[49m\u001b[43mtest_df\u001b[49m\u001b[43m[\u001b[49m\u001b[38;5;124;43m'\u001b[39;49m\u001b[38;5;124;43moutput\u001b[39;49m\u001b[38;5;124;43m'\u001b[39;49m\u001b[43m]\u001b[49m\u001b[43m[\u001b[49m\u001b[38;5;241;43m2\u001b[39;49m\u001b[43m]\u001b[49m\u001b[43m \u001b[49m\u001b[43m)\u001b[49m\n",
      "File \u001b[0;32m~/.pyenv/versions/3.10.0/lib/python3.10/json/__init__.py:346\u001b[0m, in \u001b[0;36mloads\u001b[0;34m(s, cls, object_hook, parse_float, parse_int, parse_constant, object_pairs_hook, **kw)\u001b[0m\n\u001b[1;32m    341\u001b[0m     s \u001b[38;5;241m=\u001b[39m s\u001b[38;5;241m.\u001b[39mdecode(detect_encoding(s), \u001b[38;5;124m'\u001b[39m\u001b[38;5;124msurrogatepass\u001b[39m\u001b[38;5;124m'\u001b[39m)\n\u001b[1;32m    343\u001b[0m \u001b[38;5;28;01mif\u001b[39;00m (\u001b[38;5;28mcls\u001b[39m \u001b[38;5;129;01mis\u001b[39;00m \u001b[38;5;28;01mNone\u001b[39;00m \u001b[38;5;129;01mand\u001b[39;00m object_hook \u001b[38;5;129;01mis\u001b[39;00m \u001b[38;5;28;01mNone\u001b[39;00m \u001b[38;5;129;01mand\u001b[39;00m\n\u001b[1;32m    344\u001b[0m         parse_int \u001b[38;5;129;01mis\u001b[39;00m \u001b[38;5;28;01mNone\u001b[39;00m \u001b[38;5;129;01mand\u001b[39;00m parse_float \u001b[38;5;129;01mis\u001b[39;00m \u001b[38;5;28;01mNone\u001b[39;00m \u001b[38;5;129;01mand\u001b[39;00m\n\u001b[1;32m    345\u001b[0m         parse_constant \u001b[38;5;129;01mis\u001b[39;00m \u001b[38;5;28;01mNone\u001b[39;00m \u001b[38;5;129;01mand\u001b[39;00m object_pairs_hook \u001b[38;5;129;01mis\u001b[39;00m \u001b[38;5;28;01mNone\u001b[39;00m \u001b[38;5;129;01mand\u001b[39;00m \u001b[38;5;129;01mnot\u001b[39;00m kw):\n\u001b[0;32m--> 346\u001b[0m     \u001b[38;5;28;01mreturn\u001b[39;00m \u001b[43m_default_decoder\u001b[49m\u001b[38;5;241;43m.\u001b[39;49m\u001b[43mdecode\u001b[49m\u001b[43m(\u001b[49m\u001b[43ms\u001b[49m\u001b[43m)\u001b[49m\n\u001b[1;32m    347\u001b[0m \u001b[38;5;28;01mif\u001b[39;00m \u001b[38;5;28mcls\u001b[39m \u001b[38;5;129;01mis\u001b[39;00m \u001b[38;5;28;01mNone\u001b[39;00m:\n\u001b[1;32m    348\u001b[0m     \u001b[38;5;28mcls\u001b[39m \u001b[38;5;241m=\u001b[39m JSONDecoder\n",
      "File \u001b[0;32m~/.pyenv/versions/3.10.0/lib/python3.10/json/decoder.py:340\u001b[0m, in \u001b[0;36mJSONDecoder.decode\u001b[0;34m(self, s, _w)\u001b[0m\n\u001b[1;32m    338\u001b[0m end \u001b[38;5;241m=\u001b[39m _w(s, end)\u001b[38;5;241m.\u001b[39mend()\n\u001b[1;32m    339\u001b[0m \u001b[38;5;28;01mif\u001b[39;00m end \u001b[38;5;241m!=\u001b[39m \u001b[38;5;28mlen\u001b[39m(s):\n\u001b[0;32m--> 340\u001b[0m     \u001b[38;5;28;01mraise\u001b[39;00m JSONDecodeError(\u001b[38;5;124m\"\u001b[39m\u001b[38;5;124mExtra data\u001b[39m\u001b[38;5;124m\"\u001b[39m, s, end)\n\u001b[1;32m    341\u001b[0m \u001b[38;5;28;01mreturn\u001b[39;00m obj\n",
      "\u001b[0;31mJSONDecodeError\u001b[0m: Extra data: line 1 column 79 (char 78)"
     ]
    }
   ],
   "source": [
    "json.loads( test_df['output'][2] )"
   ]
  },
  {
   "cell_type": "code",
   "execution_count": 336,
   "metadata": {},
   "outputs": [
    {
     "data": {
      "text/plain": [
       "'{\"аналитическая поддержка продаж коммерческой дирекции\": \"analytical support\"},{\"обработка источников и анализ полученной информации\": \"data analysis\"},{\"помощь в подготовке материалов на совещания Коммерческих директоров\": \"meeting preparation\"},{\"выполнение оперативных запросов от Коммерческих директоров, связанных с аналитикой продаж\": \"sales analytics\"},{\"оконченное высшее образование\": \"education\"},{\"уверенный пользователь MS Excel\": \"MS Excel\"},{\"аналитические навыки, умение делать выводы из больших массивов данных\": \"data analysis\"},{\"офис в центре Москвы\": \"location\"},{\"работа в крупном развивающемся Холдинге с перспективами профессионального развития\": \"company development\"},{\"официальное оформление с первого дня\": \"employment\"},{\"график работы 5/2\": \"work schedule\"}'"
      ]
     },
     "execution_count": 336,
     "metadata": {},
     "output_type": "execute_result"
    }
   ],
   "source": [
    "test_df.iloc[2,:].output.strip().replace('\\n','') "
   ]
  },
  {
   "cell_type": "code",
   "execution_count": 334,
   "metadata": {},
   "outputs": [
    {
     "ename": "JSONDecodeError",
     "evalue": "Extra data: line 1 column 79 (char 78)",
     "output_type": "error",
     "traceback": [
      "\u001b[0;31m---------------------------------------------------------------------------\u001b[0m",
      "\u001b[0;31mJSONDecodeError\u001b[0m                           Traceback (most recent call last)",
      "Cell \u001b[0;32mIn[334], line 1\u001b[0m\n\u001b[0;32m----> 1\u001b[0m \u001b[43mjson\u001b[49m\u001b[38;5;241;43m.\u001b[39;49m\u001b[43mloads\u001b[49m\u001b[43m(\u001b[49m\u001b[38;5;124;43m'\u001b[39;49m\u001b[38;5;124;43m{\u001b[39;49m\u001b[38;5;124;43m\"\u001b[39;49m\u001b[38;5;124;43mаналитическая поддержка продаж коммерческой дирекции\u001b[39;49m\u001b[38;5;124;43m\"\u001b[39;49m\u001b[38;5;124;43m: \u001b[39;49m\u001b[38;5;124;43m\"\u001b[39;49m\u001b[38;5;124;43manalytical support\u001b[39;49m\u001b[38;5;124;43m\"\u001b[39;49m\u001b[38;5;124;43m},\u001b[39;49m\u001b[38;5;124;43m{\u001b[39;49m\u001b[38;5;124;43m\"\u001b[39;49m\u001b[38;5;124;43mобработка источников и анализ полученной информации\u001b[39;49m\u001b[38;5;124;43m\"\u001b[39;49m\u001b[38;5;124;43m: \u001b[39;49m\u001b[38;5;124;43m\"\u001b[39;49m\u001b[38;5;124;43mdata analysis\u001b[39;49m\u001b[38;5;124;43m\"\u001b[39;49m\u001b[38;5;124;43m},\u001b[39;49m\u001b[38;5;124;43m{\u001b[39;49m\u001b[38;5;124;43m\"\u001b[39;49m\u001b[38;5;124;43mпомощь в подготовке материалов на совещания Коммерческих директоров\u001b[39;49m\u001b[38;5;124;43m\"\u001b[39;49m\u001b[38;5;124;43m: \u001b[39;49m\u001b[38;5;124;43m\"\u001b[39;49m\u001b[38;5;124;43mmeeting preparation\u001b[39;49m\u001b[38;5;124;43m\"\u001b[39;49m\u001b[38;5;124;43m},\u001b[39;49m\u001b[38;5;124;43m{\u001b[39;49m\u001b[38;5;124;43m\"\u001b[39;49m\u001b[38;5;124;43mвыполнение оперативных запросов от Коммерческих директоров, связанных с аналитикой продаж\u001b[39;49m\u001b[38;5;124;43m\"\u001b[39;49m\u001b[38;5;124;43m: \u001b[39;49m\u001b[38;5;124;43m\"\u001b[39;49m\u001b[38;5;124;43msales analytics\u001b[39;49m\u001b[38;5;124;43m\"\u001b[39;49m\u001b[38;5;124;43m},\u001b[39;49m\u001b[38;5;124;43m{\u001b[39;49m\u001b[38;5;124;43m\"\u001b[39;49m\u001b[38;5;124;43mоконченное высшее образование\u001b[39;49m\u001b[38;5;124;43m\"\u001b[39;49m\u001b[38;5;124;43m: \u001b[39;49m\u001b[38;5;124;43m\"\u001b[39;49m\u001b[38;5;124;43meducation\u001b[39;49m\u001b[38;5;124;43m\"\u001b[39;49m\u001b[38;5;124;43m},\u001b[39;49m\u001b[38;5;124;43m{\u001b[39;49m\u001b[38;5;124;43m\"\u001b[39;49m\u001b[38;5;124;43mуверенный пользователь MS Excel\u001b[39;49m\u001b[38;5;124;43m\"\u001b[39;49m\u001b[38;5;124;43m: \u001b[39;49m\u001b[38;5;124;43m\"\u001b[39;49m\u001b[38;5;124;43mMS Excel\u001b[39;49m\u001b[38;5;124;43m\"\u001b[39;49m\u001b[38;5;124;43m},\u001b[39;49m\u001b[38;5;124;43m{\u001b[39;49m\u001b[38;5;124;43m\"\u001b[39;49m\u001b[38;5;124;43mаналитические навыки, умение делать выводы из больших массивов данных\u001b[39;49m\u001b[38;5;124;43m\"\u001b[39;49m\u001b[38;5;124;43m: \u001b[39;49m\u001b[38;5;124;43m\"\u001b[39;49m\u001b[38;5;124;43mdata analysis\u001b[39;49m\u001b[38;5;124;43m\"\u001b[39;49m\u001b[38;5;124;43m},\u001b[39;49m\u001b[38;5;124;43m{\u001b[39;49m\u001b[38;5;124;43m\"\u001b[39;49m\u001b[38;5;124;43mофис в центре Москвы\u001b[39;49m\u001b[38;5;124;43m\"\u001b[39;49m\u001b[38;5;124;43m: \u001b[39;49m\u001b[38;5;124;43m\"\u001b[39;49m\u001b[38;5;124;43mlocation\u001b[39;49m\u001b[38;5;124;43m\"\u001b[39;49m\u001b[38;5;124;43m},\u001b[39;49m\u001b[38;5;124;43m{\u001b[39;49m\u001b[38;5;124;43m\"\u001b[39;49m\u001b[38;5;124;43mработа в крупном развивающемся Холдинге с перспективами профессионального развития\u001b[39;49m\u001b[38;5;124;43m\"\u001b[39;49m\u001b[38;5;124;43m: \u001b[39;49m\u001b[38;5;124;43m\"\u001b[39;49m\u001b[38;5;124;43mcompany development\u001b[39;49m\u001b[38;5;124;43m\"\u001b[39;49m\u001b[38;5;124;43m},\u001b[39;49m\u001b[38;5;124;43m{\u001b[39;49m\u001b[38;5;124;43m\"\u001b[39;49m\u001b[38;5;124;43mофициальное оформление с первого дня\u001b[39;49m\u001b[38;5;124;43m\"\u001b[39;49m\u001b[38;5;124;43m: \u001b[39;49m\u001b[38;5;124;43m\"\u001b[39;49m\u001b[38;5;124;43memployment\u001b[39;49m\u001b[38;5;124;43m\"\u001b[39;49m\u001b[38;5;124;43m},\u001b[39;49m\u001b[38;5;124;43m{\u001b[39;49m\u001b[38;5;124;43m\"\u001b[39;49m\u001b[38;5;124;43mграфик работы 5/2\u001b[39;49m\u001b[38;5;124;43m\"\u001b[39;49m\u001b[38;5;124;43m: \u001b[39;49m\u001b[38;5;124;43m\"\u001b[39;49m\u001b[38;5;124;43mwork schedule\u001b[39;49m\u001b[38;5;124;43m\"\u001b[39;49m\u001b[38;5;124;43m}\u001b[39;49m\u001b[38;5;124;43m'\u001b[39;49m\u001b[43m)\u001b[49m\n",
      "File \u001b[0;32m~/.pyenv/versions/3.10.0/lib/python3.10/json/__init__.py:346\u001b[0m, in \u001b[0;36mloads\u001b[0;34m(s, cls, object_hook, parse_float, parse_int, parse_constant, object_pairs_hook, **kw)\u001b[0m\n\u001b[1;32m    341\u001b[0m     s \u001b[38;5;241m=\u001b[39m s\u001b[38;5;241m.\u001b[39mdecode(detect_encoding(s), \u001b[38;5;124m'\u001b[39m\u001b[38;5;124msurrogatepass\u001b[39m\u001b[38;5;124m'\u001b[39m)\n\u001b[1;32m    343\u001b[0m \u001b[38;5;28;01mif\u001b[39;00m (\u001b[38;5;28mcls\u001b[39m \u001b[38;5;129;01mis\u001b[39;00m \u001b[38;5;28;01mNone\u001b[39;00m \u001b[38;5;129;01mand\u001b[39;00m object_hook \u001b[38;5;129;01mis\u001b[39;00m \u001b[38;5;28;01mNone\u001b[39;00m \u001b[38;5;129;01mand\u001b[39;00m\n\u001b[1;32m    344\u001b[0m         parse_int \u001b[38;5;129;01mis\u001b[39;00m \u001b[38;5;28;01mNone\u001b[39;00m \u001b[38;5;129;01mand\u001b[39;00m parse_float \u001b[38;5;129;01mis\u001b[39;00m \u001b[38;5;28;01mNone\u001b[39;00m \u001b[38;5;129;01mand\u001b[39;00m\n\u001b[1;32m    345\u001b[0m         parse_constant \u001b[38;5;129;01mis\u001b[39;00m \u001b[38;5;28;01mNone\u001b[39;00m \u001b[38;5;129;01mand\u001b[39;00m object_pairs_hook \u001b[38;5;129;01mis\u001b[39;00m \u001b[38;5;28;01mNone\u001b[39;00m \u001b[38;5;129;01mand\u001b[39;00m \u001b[38;5;129;01mnot\u001b[39;00m kw):\n\u001b[0;32m--> 346\u001b[0m     \u001b[38;5;28;01mreturn\u001b[39;00m \u001b[43m_default_decoder\u001b[49m\u001b[38;5;241;43m.\u001b[39;49m\u001b[43mdecode\u001b[49m\u001b[43m(\u001b[49m\u001b[43ms\u001b[49m\u001b[43m)\u001b[49m\n\u001b[1;32m    347\u001b[0m \u001b[38;5;28;01mif\u001b[39;00m \u001b[38;5;28mcls\u001b[39m \u001b[38;5;129;01mis\u001b[39;00m \u001b[38;5;28;01mNone\u001b[39;00m:\n\u001b[1;32m    348\u001b[0m     \u001b[38;5;28mcls\u001b[39m \u001b[38;5;241m=\u001b[39m JSONDecoder\n",
      "File \u001b[0;32m~/.pyenv/versions/3.10.0/lib/python3.10/json/decoder.py:340\u001b[0m, in \u001b[0;36mJSONDecoder.decode\u001b[0;34m(self, s, _w)\u001b[0m\n\u001b[1;32m    338\u001b[0m end \u001b[38;5;241m=\u001b[39m _w(s, end)\u001b[38;5;241m.\u001b[39mend()\n\u001b[1;32m    339\u001b[0m \u001b[38;5;28;01mif\u001b[39;00m end \u001b[38;5;241m!=\u001b[39m \u001b[38;5;28mlen\u001b[39m(s):\n\u001b[0;32m--> 340\u001b[0m     \u001b[38;5;28;01mraise\u001b[39;00m JSONDecodeError(\u001b[38;5;124m\"\u001b[39m\u001b[38;5;124mExtra data\u001b[39m\u001b[38;5;124m\"\u001b[39m, s, end)\n\u001b[1;32m    341\u001b[0m \u001b[38;5;28;01mreturn\u001b[39;00m obj\n",
      "\u001b[0;31mJSONDecodeError\u001b[0m: Extra data: line 1 column 79 (char 78)"
     ]
    }
   ],
   "source": [
    "json.loads('{\"аналитическая поддержка продаж коммерческой дирекции\": \"analytical support\"},{\"обработка источников и анализ полученной информации\": \"data analysis\"},{\"помощь в подготовке материалов на совещания Коммерческих директоров\": \"meeting preparation\"},{\"выполнение оперативных запросов от Коммерческих директоров, связанных с аналитикой продаж\": \"sales analytics\"},{\"оконченное высшее образование\": \"education\"},{\"уверенный пользователь MS Excel\": \"MS Excel\"},{\"аналитические навыки, умение делать выводы из больших массивов данных\": \"data analysis\"},{\"офис в центре Москвы\": \"location\"},{\"работа в крупном развивающемся Холдинге с перспективами профессионального развития\": \"company development\"},{\"официальное оформление с первого дня\": \"employment\"},{\"график работы 5/2\": \"work schedule\"}')"
>>>>>>> c779717f6ef5a36e542c605b60de5c668c241dd0
   ]
  },
  {
   "cell_type": "code",
   "execution_count": null,
   "metadata": {},
   "outputs": [],
   "source": []
  }
 ],
 "metadata": {
  "kernelspec": {
   "display_name": "ds_course",
   "language": "python",
   "name": "python3"
  },
  "language_info": {
   "codemirror_mode": {
    "name": "ipython",
    "version": 3
   },
   "file_extension": ".py",
   "mimetype": "text/x-python",
   "name": "python",
   "nbconvert_exporter": "python",
   "pygments_lexer": "ipython3",
   "version": "3.10.0"
  },
  "orig_nbformat": 4
 },
 "nbformat": 4,
 "nbformat_minor": 2
}
